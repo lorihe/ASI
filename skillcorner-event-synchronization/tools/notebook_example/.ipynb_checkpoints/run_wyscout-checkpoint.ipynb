{
  "cells": [
    {
      "cell_type": "code",
      "execution_count": 2,
      "metadata": {},
      "outputs": [],
      "source": [
        "import json\n",
        "# import os\n",
        "\n",
        "# go at root of the project\n",
        "# os.chdir('/path/to/skillcorner-event-synchronization')\n",
        "\n",
        "from event_synchronization.event_synchro_manager import EventSynchronizationManager\n",
        "from event_synchronization.events.wyscout import WyscoutEvents\n",
        "from skillcorner.client import SkillcornerClient\n",
        "\n",
        "\n",
        "skc_client = SkillcornerClient(\n",
        "    username='USERNAME',\n",
        "    password='PASSWORD'\n",
        ")"
      ]
    },
    {
      "cell_type": "markdown",
      "metadata": {},
      "source": [
        "# Load data"
      ]
    },
    {
      "cell_type": "code",
      "execution_count": 3,
      "metadata": {},
      "outputs": [],
      "source": [
        "MATCH_ID = 127443\n",
        "\n",
        "# load Skillcorner match_data\n",
        "match_data = skc_client.get_match(MATCH_ID, params={'matching': 'wyscout'})\n",
        "\n",
        "# load Skillcorner tracking_data\n",
        "tracking_data = skc_client.get_match_tracking_data(MATCH_ID, params={'data_version':'3'})\n",
        "\n",
        "# load wyscout_events\n",
        "with open('/path/to/wyscout_events.json', 'r') as f:\n",
        "    raw_wyscout_events = json.load(f)"
      ]
    },
    {
      "cell_type": "markdown",
      "metadata": {},
      "source": [
        "# Run Event Synchronization Process"
      ]
    },
    {
      "cell_type": "code",
      "execution_count": 4,
      "metadata": {},
      "outputs": [],
      "source": [
        "# standardize events\n",
        "wyscout_events = WyscoutEvents(raw_wyscout_events, match_data)\n",
        "\n",
        "# apply the whole event synchronization process\n",
        "report_by_event, report_by_event_type, freeze_frame_format = EventSynchronizationManager(\n",
        "    tracking_data, match_data, wyscout_events\n",
        ").apply_synchronization_process()"
      ]
    }
  ],
  "metadata": {
    "kernelspec": {
      "display_name": "venv",
      "language": "python",
      "name": "python3"
    },
    "language_info": {
      "codemirror_mode": {
        "name": "ipython",
        "version": 3
      },
      "file_extension": ".py",
      "mimetype": "text/x-python",
      "name": "python",
      "nbconvert_exporter": "python",
      "pygments_lexer": "ipython3",
      "version": "3.11.5"
    }
  },
  "nbformat": 4,
  "nbformat_minor": 2
}
