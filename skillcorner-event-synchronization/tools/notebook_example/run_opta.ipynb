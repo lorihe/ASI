{
  "cells": [
    {
      "cell_type": "code",
      "execution_count": 5,
      "metadata": {},
      "outputs": [],
      "source": [
        "import json\n",
        "# import os\n",
        "import xml.etree.ElementTree as ET\n",
        "\n",
        "# go at root of the project\n",
        "# os.chdir('/path/to/skillcorner-event-synchronization')\n",
        "\n",
        "from event_synchronization.event_synchro_manager import EventSynchronizationManager\n",
        "from event_synchronization.events.opta import OptaEvents\n",
        "from tools.run_opta import get_event_format\n",
        "from skillcorner.client import SkillcornerClient\n",
        "\n",
        "\n",
        "skc_client = SkillcornerClient(\n",
        "    username='USERNAME',\n",
        "    password='PASSWORD'\n",
        ")"
      ]
    },
    {
      "cell_type": "markdown",
      "metadata": {},
      "source": [
        "# Load data"
      ]
    },
    {
      "cell_type": "code",
      "execution_count": 2,
      "metadata": {},
      "outputs": [],
      "source": [
        "MATCH_ID = 45623\n",
        "\n",
        "# load Skillcorner match_data\n",
        "match_data = skc_client.get_match(MATCH_ID)\n",
        "\n",
        "# load Skillcorner tracking_data\n",
        "tracking_data = skc_client.get_match_tracking_data(MATCH_ID, params={'data_version':'3'})\n",
        "\n",
        "# load Opta data\n",
        "opta_events_path = '/path/to/opta_events.xml'\n",
        "opta_match_data_path = '/path/to/opta_match_data.xml'\n",
        "event_format = get_event_format(opta_events_path)\n",
        "\n",
        "if event_format == 'json':\n",
        "    # load raw_opta_events\n",
        "    with open(opta_events_path) as f:\n",
        "        raw_opta_events = json.load(f)\n",
        "\n",
        "    # load opta_match_data\n",
        "    with open(opta_match_data_path) as f:\n",
        "        opta_match_data = json.load(f)\n",
        "else:\n",
        "    raw_opta_events = ET.parse(opta_events_path)\n",
        "    opta_match_data = ET.parse(opta_match_data_path)"
      ]
    },
    {
      "cell_type": "markdown",
      "metadata": {},
      "source": [
        "# Run Event Synchronization Process"
      ]
    },
    {
      "cell_type": "code",
      "execution_count": 3,
      "metadata": {},
      "outputs": [],
      "source": [
        "# standardize events\n",
        "opta_events = OptaEvents(raw_opta_events, opta_match_data, match_data, format=event_format)\n",
        "\n",
        "# apply the whole event synchronization process\n",
        "report_by_event, report_by_event_type, freeze_frame_format = EventSynchronizationManager(\n",
        "    tracking_data, match_data, opta_events\n",
        ").apply_synchronization_process()"
      ]
    }
  ],
  "metadata": {
    "kernelspec": {
      "display_name": "venv",
      "language": "python",
      "name": "python3"
    },
    "language_info": {
      "codemirror_mode": {
        "name": "ipython",
        "version": 3
      },
      "file_extension": ".py",
      "mimetype": "text/x-python",
      "name": "python",
      "nbconvert_exporter": "python",
      "pygments_lexer": "ipython3",
      "version": "3.8.10"
    }
  },
  "nbformat": 4,
  "nbformat_minor": 2
}
