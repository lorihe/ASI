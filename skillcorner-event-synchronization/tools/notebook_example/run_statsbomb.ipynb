{
  "cells": [
    {
      "cell_type": "code",
      "execution_count": 1,
      "metadata": {},
      "outputs": [],
      "source": [
        "import json\n",
        "# import os\n",
        "\n",
        "# go at root of the project\n",
        "# os.chdir('/path/to/skillcorner-event-synchronization')\n",
        "\n",
        "from event_synchronization.event_synchro_manager import EventSynchronizationManager\n",
        "from event_synchronization.events.statsbomb import StatsbombEvents\n",
        "from skillcorner.client import SkillcornerClient\n",
        "\n",
        "\n",
        "skc_client = SkillcornerClient(\n",
        "    username='USERNAME',\n",
        "    password='PASSWORD'\n",
        ")"
      ]
    },
    {
      "cell_type": "markdown",
      "metadata": {},
      "source": [
        "# Load data"
      ]
    },
    {
      "cell_type": "code",
      "execution_count": 2,
      "metadata": {},
      "outputs": [],
      "source": [
        "MATCH_ID = 1612091\n",
        "\n",
        "# load Skillcorner match_data\n",
        "match_data = skc_client.get_match(MATCH_ID)\n",
        "\n",
        "# load Skillcorner tracking_data\n",
        "tracking_data = skc_client.get_match_tracking_data(MATCH_ID, params={'data_version':'3'})\n",
        "\n",
        "# load raw_statsbomb_events\n",
        "with open('/path/to/3943043_events.json') as f:\n",
        "    raw_statsbomb_events = json.load(f)\n",
        "\n",
        "# load statsbomb_match_data\n",
        "with open('/path/to/3943043_lineup.json') as f:\n",
        "    statsbomb_lineup = json.load(f)\n",
        "\n",
        "statsbomb_home_team_id = 136"
      ]
    },
    {
      "cell_type": "markdown",
      "metadata": {},
      "source": [
        "# Run Event Synchronization Process"
      ]
    },
    {
      "cell_type": "code",
      "execution_count": 3,
      "metadata": {},
      "outputs": [],
      "source": [
        "# standardize events\n",
        "statsbomb_events = StatsbombEvents(\n",
        "    raw_statsbomb_events, statsbomb_lineup, statsbomb_home_team_id, match_data\n",
        ")\n",
        "\n",
        "# apply the whole event synchronization process\n",
        "report_by_event, report_by_event_type, freeze_frame_format = EventSynchronizationManager(\n",
        "    tracking_data, match_data, statsbomb_events\n",
        ").apply_synchronization_process()"
      ]
    }
  ],
  "metadata": {
    "kernelspec": {
      "display_name": "venv",
      "language": "python",
      "name": "python3"
    },
    "language_info": {
      "codemirror_mode": {
        "name": "ipython",
        "version": 3
      },
      "file_extension": ".py",
      "mimetype": "text/x-python",
      "name": "python",
      "nbconvert_exporter": "python",
      "pygments_lexer": "ipython3",
      "version": "3.11.5"
    }
  },
  "nbformat": 4,
  "nbformat_minor": 2
}
