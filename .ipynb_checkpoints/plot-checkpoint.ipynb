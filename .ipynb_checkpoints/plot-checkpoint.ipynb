{
 "cells": [
  {
   "cell_type": "code",
   "execution_count": 1,
   "id": "23027f3b-e068-486a-9abe-bda90a532fe0",
   "metadata": {},
   "outputs": [],
   "source": [
    "import pandas as pd\n",
    "import numpy as np\n",
    "import os\n",
    "import json\n",
    "import jsonlines\n",
    "import plotly.graph_objects as go\n",
    "import soccerfield\n",
    "%load_ext autoreload\n",
    "%autoreload 2"
   ]
  },
  {
   "cell_type": "code",
   "execution_count": 2,
   "id": "0d8449df-7122-4bc4-8d57-9daee14b603e",
   "metadata": {},
   "outputs": [],
   "source": [
    "def load_json_file(file_path):\n",
    "    with open(file_path, 'r') as file:\n",
    "        data = json.load(file)\n",
    "    return data"
   ]
  },
  {
   "cell_type": "code",
   "execution_count": 3,
   "id": "3cb2cb64-f709-4660-9f07-0d601b698192",
   "metadata": {},
   "outputs": [],
   "source": [
    "def load_jsonl_file(file_path):\n",
    "    with jsonlines.open(file_path, 'r') as file:\n",
    "        data = [line for line in file if line['timestamp'] is not None]\n",
    "    return data"
   ]
  },
  {
   "cell_type": "code",
   "execution_count": 4,
   "id": "e8f1ab53-35d7-4e7d-a9a9-70698903c2de",
   "metadata": {},
   "outputs": [],
   "source": [
    "match_id = 1133203"
   ]
  },
  {
   "cell_type": "code",
   "execution_count": 5,
   "id": "7f1a14bf-2c06-44c2-b57b-7096381d3376",
   "metadata": {},
   "outputs": [],
   "source": [
    "file_path = f'data/FA/tracking/{match_id}.jsonl'"
   ]
  },
  {
   "cell_type": "code",
   "execution_count": 6,
   "id": "e2b086dd-a216-4620-8853-130b174e7bbd",
   "metadata": {},
   "outputs": [],
   "source": [
    "data = load_jsonl_file(file_path)"
   ]
  },
  {
   "cell_type": "code",
   "execution_count": 7,
   "id": "654787fa-9738-4a65-b1ba-cf938e0cb49b",
   "metadata": {},
   "outputs": [],
   "source": [
    "file_path = f'data/FA/match/{match_id}.json'"
   ]
  },
  {
   "cell_type": "code",
   "execution_count": 8,
   "id": "6e0db712-19ba-43ca-90a5-6fd1741051d1",
   "metadata": {},
   "outputs": [],
   "source": [
    "match_data = load_json_file(file_path)"
   ]
  },
  {
   "cell_type": "code",
   "execution_count": 9,
   "id": "23201cfa-4493-4f70-b849-896fc36625a0",
   "metadata": {
    "tags": []
   },
   "outputs": [],
   "source": [
    "player_map = {player['id']: f\"{player['first_name']} {player['last_name']}\" for player in match_data['players']}"
   ]
  },
  {
   "cell_type": "code",
   "execution_count": 10,
   "id": "5fbb2190-4d36-411d-9151-1fbcd344bb5f",
   "metadata": {
    "collapsed": true,
    "jupyter": {
     "outputs_hidden": true
    },
    "tags": []
   },
   "outputs": [
    {
     "data": {
      "text/plain": [
       "{68743: 'Katie Zelem',\n",
       " 68680: 'Danielle Turner',\n",
       " 68719: 'Anna Patten',\n",
       " 68661: 'Lucy Parker',\n",
       " 62646: 'Ebony Salmon',\n",
       " 22608: 'Nikita Parris',\n",
       " 68697: 'Maya Le Tissier',\n",
       " 62411: 'Ella Toone',\n",
       " 63767: 'Millie Turner',\n",
       " 64066: 'Kirsty Hanson',\n",
       " 22735: 'Adriana Leon',\n",
       " 62505: 'Hinata Miyazawa',\n",
       " 22624: 'Lucy Staniforth',\n",
       " 63765: 'Jordan Nobbs',\n",
       " 68681: 'Gabrielle George',\n",
       " 68672: 'Sarah Emma Mayling',\n",
       " 22618: 'Rachel Daly',\n",
       " 22628: 'Rachel Corsie',\n",
       " 68734: 'Rachel Williams',\n",
       " 68744: 'Leah Galton',\n",
       " 57096: 'Hannah Blundell',\n",
       " 151604: 'Phallon Tullis-Joyce',\n",
       " 63932: 'Lisa Fjeldstad Naalsund',\n",
       " 22724: 'Jayde Yuk Fun Riviere',\n",
       " 68199: 'Irene  Guerrero Sanmartín',\n",
       " 64156: 'Gemma Jayne Evans',\n",
       " 153392: 'Evie Rabjohn',\n",
       " 22622: 'Mary Earps',\n",
       " 22457: 'Lucía García Córdoba',\n",
       " 64166: 'Hayley Ladd',\n",
       " 22555: ' Geyse',\n",
       " 62772: 'Simone Magill',\n",
       " 68749: 'Olivia McLoughlin',\n",
       " 68670: 'Mayumi Pacheco',\n",
       " 424697: 'Georgia Mullett',\n",
       " 59723: 'Anna Jessica Leat',\n",
       " 63552: 'Daphne van Domselaar',\n",
       " 64130: 'Alisha Lehmann',\n",
       " 68675: 'Laura Madison Blindkilde Brown'}"
      ]
     },
     "execution_count": 10,
     "metadata": {},
     "output_type": "execute_result"
    }
   ],
   "source": [
    "player_map"
   ]
  },
  {
   "cell_type": "code",
   "execution_count": 11,
   "id": "0d1bc07e-5a24-465b-8404-fd279c0ce2af",
   "metadata": {
    "scrolled": true
   },
   "outputs": [],
   "source": [
    "home_id = match_data['home_team']['id']\n",
    "away_id = match_data['away_team']['id']"
   ]
  },
  {
   "cell_type": "code",
   "execution_count": 12,
   "id": "58967904-3139-4bbf-a032-b6c0712336fe",
   "metadata": {
    "scrolled": true
   },
   "outputs": [],
   "source": [
    "home_p_ids = [p['id'] for p in match_data['players'] if p['team_id'] == home_id]\n",
    "away_p_ids = [p['id'] for p in match_data['players'] if p['team_id'] == away_id]"
   ]
  },
  {
   "cell_type": "code",
   "execution_count": 13,
   "id": "4d34613c-6c3b-4375-aa00-437cbd84a0c7",
   "metadata": {},
   "outputs": [],
   "source": [
    "def map_player_ids(player_list, home_p_ids, away_p_ids):\n",
    "    return ['H' if player['player_id'] in home_p_ids else 'A' if player['player_id'] in away_p_ids else None for player in player_list]"
   ]
  },
  {
   "cell_type": "code",
   "execution_count": 14,
   "id": "beca11d9-8585-451c-9b35-f2461d6ebae7",
   "metadata": {
    "tags": []
   },
   "outputs": [],
   "source": [
    "def map_player_names(player_list):\n",
    "    return [player_map[player['player_id']] for player in player_list]"
   ]
  },
  {
   "cell_type": "code",
   "execution_count": 26,
   "id": "809df97d-479b-4bca-8abc-b0577630dfa6",
   "metadata": {},
   "outputs": [],
   "source": [
    "event_frame = 295"
   ]
  },
  {
   "cell_type": "code",
   "execution_count": 27,
   "id": "bece2522-9622-4c6b-807e-4de9ee4a0587",
   "metadata": {},
   "outputs": [],
   "source": [
    "frames = [f for f in data if f['frame']>= event_frame-2 and f['frame']<=event_frame+25]\n",
    "frames_df = pd.DataFrame(frames)"
   ]
  },
  {
   "cell_type": "code",
   "execution_count": 28,
   "id": "05c429ef-6200-4d0a-bd13-899856698abb",
   "metadata": {
    "scrolled": true
   },
   "outputs": [],
   "source": [
    "frames_df['ball_x'] = frames_df['ball_data'].apply(lambda x: x['x'])\n",
    "frames_df['ball_y'] = frames_df['ball_data'].apply(lambda x: x['y'])\n",
    "frames_df['p_x'] = frames_df['player_data'].apply(lambda x: [p['x'] for p in x])\n",
    "frames_df['p_y'] = frames_df['player_data'].apply(lambda x: [p['y'] for p in x])\n",
    "frames_df['team'] = frames_df['player_data'].apply(lambda players: map_player_ids(players, home_p_ids, away_p_ids))\n",
    "frames_df['name'] = frames_df['player_data'].apply(lambda players: map_player_names(players))"
   ]
  },
  {
   "cell_type": "code",
   "execution_count": 29,
   "id": "210500e6-9101-4074-a12e-30b5cc11dc5d",
   "metadata": {},
   "outputs": [
    {
     "data": {
      "application/vnd.plotly.v1+json": {
       "config": {
        "plotlyServerURL": "https://plot.ly"
       },
       "data": [
        {
         "hovertext": [
          "Daphne van Domselaar",
          "Anna Patten",
          "Rachel Corsie",
          "Sarah Emma Mayling",
          "Danielle Turner",
          "Lucy Staniforth",
          "Lucy Parker",
          "Laura Madison Blindkilde Brown",
          "Alisha Lehmann",
          "Kirsty Hanson",
          "Rachel Daly",
          "Mary Earps",
          "Maya Le Tissier",
          "Millie Turner",
          "Hannah Blundell",
          "Gabrielle George",
          "Katie Zelem",
          "Ella Toone",
          "Hayley Ladd",
          "Lucía García Córdoba",
          "Leah Galton",
          " Geyse"
         ],
         "marker": {
          "color": [
           "steelblue",
           "steelblue",
           "steelblue",
           "steelblue",
           "steelblue",
           "steelblue",
           "steelblue",
           "steelblue",
           "steelblue",
           "steelblue",
           "steelblue",
           "tan",
           "tan",
           "tan",
           "tan",
           "tan",
           "tan",
           "tan",
           "tan",
           "tan",
           "tan",
           "tan"
          ]
         },
         "mode": "markers",
         "showlegend": false,
         "type": "scatter",
         "visible": false,
         "x": [
          -36.46,
          -7.99,
          -8.99,
          -7.5,
          -8.76,
          0.42,
          2.45,
          7.25,
          3.6,
          0.05,
          15.21,
          38.48,
          18.42,
          21.09,
          -1.79,
          10.85,
          7.54,
          -4,
          1.94,
          -4.79,
          -7.4,
          -4.81
         ],
         "y": [
          1.34,
          -1.5,
          6.99,
          -10.12,
          14.98,
          10.52,
          -3.44,
          1.27,
          -10.58,
          20.88,
          11.77,
          1.73,
          13.97,
          -5.51,
          33.19,
          -25.02,
          -0.83,
          -7.06,
          10.72,
          13.92,
          -13.43,
          1.11
         ]
        },
        {
         "marker": {
          "color": "black"
         },
         "mode": "markers",
         "showlegend": false,
         "type": "scatter",
         "visible": false,
         "x": [
          17.99
         ],
         "y": [
          14.4
         ]
        },
        {
         "hovertext": [
          "Daphne van Domselaar",
          "Anna Patten",
          "Rachel Corsie",
          "Sarah Emma Mayling",
          "Danielle Turner",
          "Lucy Staniforth",
          "Lucy Parker",
          "Laura Madison Blindkilde Brown",
          "Alisha Lehmann",
          "Kirsty Hanson",
          "Rachel Daly",
          "Mary Earps",
          "Maya Le Tissier",
          "Millie Turner",
          "Hannah Blundell",
          "Gabrielle George",
          "Katie Zelem",
          "Ella Toone",
          "Hayley Ladd",
          "Lucía García Córdoba",
          "Leah Galton",
          " Geyse"
         ],
         "marker": {
          "color": [
           "steelblue",
           "steelblue",
           "steelblue",
           "steelblue",
           "steelblue",
           "steelblue",
           "steelblue",
           "steelblue",
           "steelblue",
           "steelblue",
           "steelblue",
           "tan",
           "tan",
           "tan",
           "tan",
           "tan",
           "tan",
           "tan",
           "tan",
           "tan",
           "tan",
           "tan"
          ]
         },
         "mode": "markers",
         "showlegend": false,
         "type": "scatter",
         "visible": false,
         "x": [
          -36.56,
          -8.13,
          -9.16,
          -7.63,
          -8.87,
          0.2,
          2.27,
          6.99,
          3.36,
          -0.17,
          15.4,
          38.43,
          18.11,
          21,
          -1.78,
          10.67,
          7.47,
          -4.09,
          1.74,
          -4.81,
          -7.54,
          -4.78
         ],
         "y": [
          1.43,
          -1.25,
          7.23,
          -9.84,
          15.26,
          10.84,
          -3.15,
          1.55,
          -10.31,
          21.29,
          12.29,
          1.82,
          14.11,
          -5.39,
          33.22,
          -24.85,
          -0.59,
          -6.78,
          10.92,
          13.96,
          -13.23,
          1.37
         ]
        },
        {
         "marker": {
          "color": "black"
         },
         "mode": "markers",
         "showlegend": false,
         "type": "scatter",
         "visible": false,
         "x": [
          17.67
         ],
         "y": [
          14.51
         ]
        },
        {
         "hovertext": [
          "Daphne van Domselaar",
          "Anna Patten",
          "Rachel Corsie",
          "Sarah Emma Mayling",
          "Danielle Turner",
          "Lucy Staniforth",
          "Lucy Parker",
          "Laura Madison Blindkilde Brown",
          "Alisha Lehmann",
          "Kirsty Hanson",
          "Rachel Daly",
          "Mary Earps",
          "Maya Le Tissier",
          "Millie Turner",
          "Hannah Blundell",
          "Gabrielle George",
          "Katie Zelem",
          "Ella Toone",
          "Hayley Ladd",
          "Lucía García Córdoba",
          "Leah Galton",
          " Geyse"
         ],
         "marker": {
          "color": [
           "steelblue",
           "steelblue",
           "steelblue",
           "steelblue",
           "steelblue",
           "steelblue",
           "steelblue",
           "steelblue",
           "steelblue",
           "steelblue",
           "steelblue",
           "tan",
           "tan",
           "tan",
           "tan",
           "tan",
           "tan",
           "tan",
           "tan",
           "tan",
           "tan",
           "tan"
          ]
         },
         "mode": "markers",
         "showlegend": false,
         "type": "scatter",
         "visible": false,
         "x": [
          -36.66,
          -8.29,
          -9.35,
          -7.78,
          -8.99,
          -0.03,
          2.07,
          6.73,
          3.1,
          -0.41,
          15.55,
          38.38,
          17.81,
          20.91,
          -1.77,
          10.5,
          7.4,
          -4.19,
          1.53,
          -4.84,
          -7.69,
          -4.75
         ],
         "y": [
          1.51,
          -1.01,
          7.47,
          -9.56,
          15.56,
          11.15,
          -2.87,
          1.81,
          -10.06,
          21.68,
          12.79,
          1.91,
          14.22,
          -5.28,
          33.25,
          -24.68,
          -0.34,
          -6.5,
          11.12,
          14.01,
          -13.05,
          1.64
         ]
        },
        {
         "marker": {
          "color": "black"
         },
         "mode": "markers",
         "showlegend": false,
         "type": "scatter",
         "visible": false,
         "x": [
          17.2
         ],
         "y": [
          14.89
         ]
        },
        {
         "hovertext": [
          "Daphne van Domselaar",
          "Anna Patten",
          "Rachel Corsie",
          "Sarah Emma Mayling",
          "Danielle Turner",
          "Lucy Staniforth",
          "Lucy Parker",
          "Laura Madison Blindkilde Brown",
          "Alisha Lehmann",
          "Kirsty Hanson",
          "Rachel Daly",
          "Mary Earps",
          "Maya Le Tissier",
          "Millie Turner",
          "Hannah Blundell",
          "Gabrielle George",
          "Katie Zelem",
          "Ella Toone",
          "Hayley Ladd",
          "Lucía García Córdoba",
          "Leah Galton",
          " Geyse"
         ],
         "marker": {
          "color": [
           "steelblue",
           "steelblue",
           "steelblue",
           "steelblue",
           "steelblue",
           "steelblue",
           "steelblue",
           "steelblue",
           "steelblue",
           "steelblue",
           "steelblue",
           "tan",
           "tan",
           "tan",
           "tan",
           "tan",
           "tan",
           "tan",
           "tan",
           "tan",
           "tan",
           "tan"
          ]
         },
         "mode": "markers",
         "showlegend": false,
         "type": "scatter",
         "visible": false,
         "x": [
          -36.77,
          -8.46,
          -9.56,
          -7.94,
          -9.11,
          -0.26,
          1.86,
          6.47,
          2.83,
          -0.66,
          15.64,
          38.33,
          17.52,
          20.81,
          -1.75,
          10.32,
          7.34,
          -4.32,
          1.31,
          -4.88,
          -7.86,
          -4.74
         ],
         "y": [
          1.59,
          -0.77,
          7.69,
          -9.29,
          15.86,
          11.45,
          -2.59,
          2.07,
          -9.82,
          22.07,
          13.29,
          1.98,
          14.31,
          -5.14,
          33.27,
          -24.52,
          -0.1,
          -6.22,
          11.33,
          14.08,
          -12.88,
          1.89
         ]
        },
        {
         "marker": {
          "color": "black"
         },
         "mode": "markers",
         "showlegend": false,
         "type": "scatter",
         "visible": false,
         "x": [
          16.27
         ],
         "y": [
          15.6
         ]
        },
        {
         "hovertext": [
          "Daphne van Domselaar",
          "Anna Patten",
          "Rachel Corsie",
          "Sarah Emma Mayling",
          "Danielle Turner",
          "Lucy Staniforth",
          "Lucy Parker",
          "Laura Madison Blindkilde Brown",
          "Alisha Lehmann",
          "Kirsty Hanson",
          "Rachel Daly",
          "Mary Earps",
          "Maya Le Tissier",
          "Millie Turner",
          "Hannah Blundell",
          "Gabrielle George",
          "Katie Zelem",
          "Ella Toone",
          "Hayley Ladd",
          "Lucía García Córdoba",
          "Leah Galton",
          " Geyse"
         ],
         "marker": {
          "color": [
           "steelblue",
           "steelblue",
           "steelblue",
           "steelblue",
           "steelblue",
           "steelblue",
           "steelblue",
           "steelblue",
           "steelblue",
           "steelblue",
           "steelblue",
           "tan",
           "tan",
           "tan",
           "tan",
           "tan",
           "tan",
           "tan",
           "tan",
           "tan",
           "tan",
           "tan"
          ]
         },
         "mode": "markers",
         "showlegend": false,
         "type": "scatter",
         "visible": false,
         "x": [
          -36.89,
          -8.65,
          -9.78,
          -8.11,
          -9.25,
          -0.49,
          1.64,
          6.21,
          2.57,
          -0.93,
          15.7,
          38.28,
          17.25,
          20.71,
          -1.75,
          10.15,
          7.28,
          -4.46,
          1.09,
          -4.92,
          -8.04,
          -4.74
         ],
         "y": [
          1.67,
          -0.53,
          7.92,
          -9.01,
          16.15,
          11.75,
          -2.31,
          2.32,
          -9.58,
          22.45,
          13.78,
          2.05,
          14.37,
          -5,
          33.27,
          -24.37,
          0.14,
          -5.94,
          11.53,
          14.17,
          -12.71,
          2.14
         ]
        },
        {
         "marker": {
          "color": "black"
         },
         "mode": "markers",
         "showlegend": false,
         "type": "scatter",
         "visible": false,
         "x": [
          14.68
         ],
         "y": [
          16.4
         ]
        },
        {
         "hovertext": [
          "Daphne van Domselaar",
          "Anna Patten",
          "Rachel Corsie",
          "Sarah Emma Mayling",
          "Danielle Turner",
          "Lucy Staniforth",
          "Lucy Parker",
          "Laura Madison Blindkilde Brown",
          "Alisha Lehmann",
          "Kirsty Hanson",
          "Rachel Daly",
          "Mary Earps",
          "Maya Le Tissier",
          "Millie Turner",
          "Hannah Blundell",
          "Gabrielle George",
          "Katie Zelem",
          "Ella Toone",
          "Hayley Ladd",
          "Lucía García Córdoba",
          "Leah Galton",
          " Geyse"
         ],
         "marker": {
          "color": [
           "steelblue",
           "steelblue",
           "steelblue",
           "steelblue",
           "steelblue",
           "steelblue",
           "steelblue",
           "steelblue",
           "steelblue",
           "steelblue",
           "steelblue",
           "tan",
           "tan",
           "tan",
           "tan",
           "tan",
           "tan",
           "tan",
           "tan",
           "tan",
           "tan",
           "tan"
          ]
         },
         "mode": "markers",
         "showlegend": false,
         "type": "scatter",
         "visible": false,
         "x": [
          -37.01,
          -8.85,
          -10.02,
          -8.28,
          -9.42,
          -0.72,
          1.41,
          5.96,
          2.31,
          -1.2,
          15.73,
          38.23,
          16.98,
          20.61,
          -1.77,
          9.97,
          7.22,
          -4.63,
          0.86,
          -4.96,
          -8.24,
          -4.76
         ],
         "y": [
          1.75,
          -0.3,
          8.13,
          -8.73,
          16.46,
          12.04,
          -2.04,
          2.57,
          -9.35,
          22.82,
          14.26,
          2.11,
          14.4,
          -4.85,
          33.27,
          -24.22,
          0.38,
          -5.66,
          11.74,
          14.3,
          -12.56,
          2.38
         ]
        },
        {
         "marker": {
          "color": "black"
         },
         "mode": "markers",
         "showlegend": false,
         "type": "scatter",
         "visible": false,
         "x": [
          12.96
         ],
         "y": [
          17.23
         ]
        },
        {
         "hovertext": [
          "Daphne van Domselaar",
          "Anna Patten",
          "Rachel Corsie",
          "Sarah Emma Mayling",
          "Danielle Turner",
          "Lucy Staniforth",
          "Lucy Parker",
          "Laura Madison Blindkilde Brown",
          "Alisha Lehmann",
          "Kirsty Hanson",
          "Rachel Daly",
          "Mary Earps",
          "Maya Le Tissier",
          "Millie Turner",
          "Hannah Blundell",
          "Gabrielle George",
          "Katie Zelem",
          "Ella Toone",
          "Hayley Ladd",
          "Lucía García Córdoba",
          "Leah Galton",
          " Geyse"
         ],
         "marker": {
          "color": [
           "steelblue",
           "steelblue",
           "steelblue",
           "steelblue",
           "steelblue",
           "steelblue",
           "steelblue",
           "steelblue",
           "steelblue",
           "steelblue",
           "steelblue",
           "tan",
           "tan",
           "tan",
           "tan",
           "tan",
           "tan",
           "tan",
           "tan",
           "tan",
           "tan",
           "tan"
          ]
         },
         "mode": "markers",
         "showlegend": false,
         "type": "scatter",
         "visible": false,
         "x": [
          -37.15,
          -9.05,
          -10.28,
          -8.45,
          -9.6,
          -0.96,
          1.18,
          5.71,
          2.05,
          -1.48,
          15.72,
          38.17,
          16.72,
          20.51,
          -1.84,
          9.8,
          7.17,
          -4.81,
          0.63,
          -5.01,
          -8.45,
          -4.8
         ],
         "y": [
          1.83,
          -0.07,
          8.35,
          -8.45,
          16.78,
          12.33,
          -1.78,
          2.81,
          -9.12,
          23.19,
          14.73,
          2.16,
          14.42,
          -4.69,
          33.27,
          -24.07,
          0.62,
          -5.39,
          11.95,
          14.48,
          -12.42,
          2.61
         ]
        },
        {
         "marker": {
          "color": "black"
         },
         "mode": "markers",
         "showlegend": false,
         "type": "scatter",
         "visible": false,
         "x": [
          11.1
         ],
         "y": [
          17.93
         ]
        },
        {
         "hovertext": [
          "Daphne van Domselaar",
          "Anna Patten",
          "Rachel Corsie",
          "Sarah Emma Mayling",
          "Danielle Turner",
          "Lucy Staniforth",
          "Lucy Parker",
          "Laura Madison Blindkilde Brown",
          "Alisha Lehmann",
          "Kirsty Hanson",
          "Rachel Daly",
          "Mary Earps",
          "Maya Le Tissier",
          "Millie Turner",
          "Hannah Blundell",
          "Gabrielle George",
          "Katie Zelem",
          "Ella Toone",
          "Hayley Ladd",
          "Lucía García Córdoba",
          "Leah Galton",
          " Geyse"
         ],
         "marker": {
          "color": [
           "steelblue",
           "steelblue",
           "steelblue",
           "steelblue",
           "steelblue",
           "steelblue",
           "steelblue",
           "steelblue",
           "steelblue",
           "steelblue",
           "steelblue",
           "tan",
           "tan",
           "tan",
           "tan",
           "tan",
           "tan",
           "tan",
           "tan",
           "tan",
           "tan",
           "tan"
          ]
         },
         "mode": "markers",
         "showlegend": false,
         "type": "scatter",
         "visible": false,
         "x": [
          -37.3,
          -9.27,
          -10.55,
          -8.63,
          -9.78,
          -1.2,
          0.94,
          5.47,
          1.81,
          -1.77,
          15.7,
          38.12,
          16.47,
          20.39,
          -1.94,
          9.63,
          7.12,
          -5.02,
          0.4,
          -5.05,
          -8.67,
          -4.86
         ],
         "y": [
          1.91,
          0.15,
          8.57,
          -8.18,
          17.11,
          12.61,
          -1.52,
          3.05,
          -8.88,
          23.55,
          15.18,
          2.21,
          14.42,
          -4.51,
          33.27,
          -23.91,
          0.86,
          -5.11,
          12.17,
          14.71,
          -12.27,
          2.83
         ]
        },
        {
         "marker": {
          "color": "black"
         },
         "mode": "markers",
         "showlegend": false,
         "type": "scatter",
         "visible": false,
         "x": [
          9.39
         ],
         "y": [
          18.76
         ]
        },
        {
         "hovertext": [
          "Daphne van Domselaar",
          "Anna Patten",
          "Rachel Corsie",
          "Sarah Emma Mayling",
          "Danielle Turner",
          "Lucy Staniforth",
          "Lucy Parker",
          "Laura Madison Blindkilde Brown",
          "Alisha Lehmann",
          "Kirsty Hanson",
          "Rachel Daly",
          "Mary Earps",
          "Maya Le Tissier",
          "Millie Turner",
          "Hannah Blundell",
          "Gabrielle George",
          "Katie Zelem",
          "Ella Toone",
          "Hayley Ladd",
          "Lucía García Córdoba",
          "Leah Galton",
          " Geyse"
         ],
         "marker": {
          "color": [
           "steelblue",
           "steelblue",
           "steelblue",
           "steelblue",
           "steelblue",
           "steelblue",
           "steelblue",
           "steelblue",
           "steelblue",
           "steelblue",
           "steelblue",
           "tan",
           "tan",
           "tan",
           "tan",
           "tan",
           "tan",
           "tan",
           "tan",
           "tan",
           "tan",
           "tan"
          ]
         },
         "mode": "markers",
         "showlegend": false,
         "type": "scatter",
         "visible": false,
         "x": [
          -37.46,
          -9.49,
          -10.83,
          -8.81,
          -9.96,
          -1.44,
          0.7,
          5.25,
          1.57,
          -2.05,
          15.65,
          38.06,
          16.22,
          20.26,
          -2.08,
          9.45,
          7.08,
          -5.24,
          0.17,
          -5.09,
          -8.91,
          -4.95
         ],
         "y": [
          1.99,
          0.38,
          8.78,
          -7.9,
          17.45,
          12.9,
          -1.26,
          3.29,
          -8.65,
          23.91,
          15.6,
          2.26,
          14.41,
          -4.33,
          33.26,
          -23.75,
          1.11,
          -4.85,
          12.4,
          15,
          -12.13,
          3.05
         ]
        },
        {
         "marker": {
          "color": "black"
         },
         "mode": "markers",
         "showlegend": false,
         "type": "scatter",
         "visible": false,
         "x": [
          7.81
         ],
         "y": [
          19.72
         ]
        },
        {
         "hovertext": [
          "Daphne van Domselaar",
          "Anna Patten",
          "Rachel Corsie",
          "Sarah Emma Mayling",
          "Danielle Turner",
          "Lucy Staniforth",
          "Lucy Parker",
          "Laura Madison Blindkilde Brown",
          "Alisha Lehmann",
          "Kirsty Hanson",
          "Rachel Daly",
          "Mary Earps",
          "Maya Le Tissier",
          "Millie Turner",
          "Hannah Blundell",
          "Gabrielle George",
          "Katie Zelem",
          "Ella Toone",
          "Hayley Ladd",
          "Lucía García Córdoba",
          "Leah Galton",
          " Geyse"
         ],
         "marker": {
          "color": [
           "steelblue",
           "steelblue",
           "steelblue",
           "steelblue",
           "steelblue",
           "steelblue",
           "steelblue",
           "steelblue",
           "steelblue",
           "steelblue",
           "steelblue",
           "tan",
           "tan",
           "tan",
           "tan",
           "tan",
           "tan",
           "tan",
           "tan",
           "tan",
           "tan",
           "tan"
          ]
         },
         "mode": "markers",
         "showlegend": false,
         "type": "scatter",
         "visible": false,
         "x": [
          -37.63,
          -9.71,
          -11.13,
          -9,
          -10.16,
          -1.68,
          0.46,
          5.02,
          1.36,
          -2.34,
          15.58,
          38.01,
          15.99,
          20.12,
          -2.26,
          9.28,
          7.03,
          -5.48,
          -0.07,
          -5.14,
          -9.15,
          -5.06
         ],
         "y": [
          2.06,
          0.61,
          8.99,
          -7.63,
          17.81,
          13.17,
          -1.01,
          3.53,
          -8.41,
          24.26,
          15.99,
          2.31,
          14.4,
          -4.14,
          33.24,
          -23.57,
          1.37,
          -4.58,
          12.65,
          15.34,
          -11.98,
          3.28
         ]
        },
        {
         "marker": {
          "color": "black"
         },
         "mode": "markers",
         "showlegend": false,
         "type": "scatter",
         "visible": false,
         "x": [
          6.31
         ],
         "y": [
          20.64
         ]
        },
        {
         "hovertext": [
          "Daphne van Domselaar",
          "Anna Patten",
          "Rachel Corsie",
          "Sarah Emma Mayling",
          "Danielle Turner",
          "Lucy Staniforth",
          "Lucy Parker",
          "Laura Madison Blindkilde Brown",
          "Alisha Lehmann",
          "Kirsty Hanson",
          "Rachel Daly",
          "Mary Earps",
          "Maya Le Tissier",
          "Millie Turner",
          "Hannah Blundell",
          "Gabrielle George",
          "Katie Zelem",
          "Ella Toone",
          "Hayley Ladd",
          "Lucía García Córdoba",
          "Leah Galton",
          " Geyse"
         ],
         "marker": {
          "color": [
           "steelblue",
           "steelblue",
           "steelblue",
           "steelblue",
           "steelblue",
           "steelblue",
           "steelblue",
           "steelblue",
           "steelblue",
           "steelblue",
           "steelblue",
           "tan",
           "tan",
           "tan",
           "tan",
           "tan",
           "tan",
           "tan",
           "tan",
           "tan",
           "tan",
           "tan"
          ]
         },
         "mode": "markers",
         "showlegend": false,
         "type": "scatter",
         "visible": false,
         "x": [
          -37.79,
          -9.94,
          -11.44,
          -9.21,
          -10.37,
          -1.92,
          0.22,
          4.81,
          1.16,
          -2.63,
          15.49,
          37.97,
          15.78,
          19.96,
          -2.49,
          9.11,
          6.98,
          -5.74,
          -0.3,
          -5.21,
          -9.4,
          -5.21
         ],
         "y": [
          2.14,
          0.84,
          9.2,
          -7.36,
          18.18,
          13.45,
          -0.77,
          3.77,
          -8.18,
          24.6,
          16.35,
          2.35,
          14.39,
          -3.95,
          33.22,
          -23.39,
          1.63,
          -4.32,
          12.91,
          15.72,
          -11.83,
          3.5
         ]
        },
        {
         "marker": {
          "color": "black"
         },
         "mode": "markers",
         "showlegend": false,
         "type": "scatter",
         "visible": false,
         "x": [
          4.81
         ],
         "y": [
          21.54
         ]
        },
        {
         "hovertext": [
          "Daphne van Domselaar",
          "Anna Patten",
          "Rachel Corsie",
          "Sarah Emma Mayling",
          "Danielle Turner",
          "Lucy Staniforth",
          "Lucy Parker",
          "Laura Madison Blindkilde Brown",
          "Alisha Lehmann",
          "Kirsty Hanson",
          "Rachel Daly",
          "Mary Earps",
          "Maya Le Tissier",
          "Millie Turner",
          "Hannah Blundell",
          "Gabrielle George",
          "Katie Zelem",
          "Ella Toone",
          "Hayley Ladd",
          "Lucía García Córdoba",
          "Leah Galton",
          " Geyse"
         ],
         "marker": {
          "color": [
           "steelblue",
           "steelblue",
           "steelblue",
           "steelblue",
           "steelblue",
           "steelblue",
           "steelblue",
           "steelblue",
           "steelblue",
           "steelblue",
           "steelblue",
           "tan",
           "tan",
           "tan",
           "tan",
           "tan",
           "tan",
           "tan",
           "tan",
           "tan",
           "tan",
           "tan"
          ]
         },
         "mode": "markers",
         "showlegend": false,
         "type": "scatter",
         "visible": false,
         "x": [
          -37.96,
          -10.18,
          -11.75,
          -9.42,
          -10.59,
          -2.17,
          -0.03,
          4.59,
          0.98,
          -2.92,
          15.39,
          37.93,
          15.57,
          19.79,
          -2.77,
          8.95,
          6.92,
          -6,
          -0.54,
          -5.29,
          -9.64,
          -5.36
         ],
         "y": [
          2.22,
          1.06,
          9.4,
          -7.1,
          18.57,
          13.74,
          -0.53,
          4.01,
          -7.94,
          24.94,
          16.68,
          2.4,
          14.39,
          -3.76,
          33.2,
          -23.21,
          1.9,
          -4.08,
          13.17,
          16.12,
          -11.69,
          3.72
         ]
        },
        {
         "marker": {
          "color": "black"
         },
         "mode": "markers",
         "showlegend": false,
         "type": "scatter",
         "visible": false,
         "x": [
          3.35
         ],
         "y": [
          22.45
         ]
        },
        {
         "hovertext": [
          "Daphne van Domselaar",
          "Anna Patten",
          "Rachel Corsie",
          "Sarah Emma Mayling",
          "Danielle Turner",
          "Lucy Staniforth",
          "Lucy Parker",
          "Laura Madison Blindkilde Brown",
          "Alisha Lehmann",
          "Kirsty Hanson",
          "Rachel Daly",
          "Mary Earps",
          "Maya Le Tissier",
          "Millie Turner",
          "Hannah Blundell",
          "Gabrielle George",
          "Katie Zelem",
          "Ella Toone",
          "Hayley Ladd",
          "Lucía García Córdoba",
          "Leah Galton",
          " Geyse"
         ],
         "marker": {
          "color": [
           "steelblue",
           "steelblue",
           "steelblue",
           "steelblue",
           "steelblue",
           "steelblue",
           "steelblue",
           "steelblue",
           "steelblue",
           "steelblue",
           "steelblue",
           "tan",
           "tan",
           "tan",
           "tan",
           "tan",
           "tan",
           "tan",
           "tan",
           "tan",
           "tan",
           "tan"
          ]
         },
         "mode": "markers",
         "showlegend": false,
         "type": "scatter",
         "visible": false,
         "x": [
          -38.13,
          -10.42,
          -12.07,
          -9.65,
          -10.83,
          -2.43,
          -0.29,
          4.37,
          0.8,
          -3.21,
          15.28,
          37.89,
          15.38,
          19.61,
          -3.08,
          8.79,
          6.84,
          -6.27,
          -0.78,
          -5.4,
          -9.9,
          -5.52
         ],
         "y": [
          2.29,
          1.28,
          9.59,
          -6.84,
          19,
          14.03,
          -0.3,
          4.25,
          -7.72,
          25.28,
          16.99,
          2.45,
          14.42,
          -3.56,
          33.16,
          -23,
          2.18,
          -3.83,
          13.45,
          16.5,
          -11.53,
          3.94
         ]
        },
        {
         "marker": {
          "color": "black"
         },
         "mode": "markers",
         "showlegend": false,
         "type": "scatter",
         "visible": false,
         "x": [
          1.97
         ],
         "y": [
          23.31
         ]
        },
        {
         "hovertext": [
          "Daphne van Domselaar",
          "Anna Patten",
          "Rachel Corsie",
          "Sarah Emma Mayling",
          "Danielle Turner",
          "Lucy Staniforth",
          "Lucy Parker",
          "Laura Madison Blindkilde Brown",
          "Alisha Lehmann",
          "Kirsty Hanson",
          "Rachel Daly",
          "Mary Earps",
          "Maya Le Tissier",
          "Millie Turner",
          "Hannah Blundell",
          "Gabrielle George",
          "Katie Zelem",
          "Ella Toone",
          "Hayley Ladd",
          "Lucía García Córdoba",
          "Leah Galton",
          " Geyse"
         ],
         "marker": {
          "color": [
           "steelblue",
           "steelblue",
           "steelblue",
           "steelblue",
           "steelblue",
           "steelblue",
           "steelblue",
           "steelblue",
           "steelblue",
           "steelblue",
           "steelblue",
           "tan",
           "tan",
           "tan",
           "tan",
           "tan",
           "tan",
           "tan",
           "tan",
           "tan",
           "tan",
           "tan"
          ]
         },
         "mode": "markers",
         "showlegend": false,
         "type": "scatter",
         "visible": false,
         "x": [
          -38.31,
          -10.67,
          -12.41,
          -9.91,
          -11.07,
          -2.7,
          -0.56,
          4.14,
          0.62,
          -3.51,
          15.17,
          37.86,
          15.18,
          19.42,
          -3.44,
          8.63,
          6.74,
          -6.53,
          -1.01,
          -5.54,
          -10.16,
          -5.69
         ],
         "y": [
          2.37,
          1.5,
          9.78,
          -6.59,
          19.44,
          14.32,
          -0.08,
          4.48,
          -7.49,
          25.62,
          17.26,
          2.5,
          14.46,
          -3.36,
          33.13,
          -22.78,
          2.47,
          -3.6,
          13.73,
          16.84,
          -11.38,
          4.16
         ]
        },
        {
         "marker": {
          "color": "black"
         },
         "mode": "markers",
         "showlegend": false,
         "type": "scatter",
         "visible": false,
         "x": [
          0.71
         ],
         "y": [
          24.18
         ]
        },
        {
         "hovertext": [
          "Daphne van Domselaar",
          "Anna Patten",
          "Rachel Corsie",
          "Sarah Emma Mayling",
          "Danielle Turner",
          "Lucy Staniforth",
          "Lucy Parker",
          "Laura Madison Blindkilde Brown",
          "Alisha Lehmann",
          "Kirsty Hanson",
          "Rachel Daly",
          "Mary Earps",
          "Maya Le Tissier",
          "Millie Turner",
          "Hannah Blundell",
          "Gabrielle George",
          "Katie Zelem",
          "Ella Toone",
          "Hayley Ladd",
          "Lucía García Córdoba",
          "Leah Galton",
          " Geyse"
         ],
         "marker": {
          "color": [
           "steelblue",
           "steelblue",
           "steelblue",
           "steelblue",
           "steelblue",
           "steelblue",
           "steelblue",
           "steelblue",
           "steelblue",
           "steelblue",
           "steelblue",
           "tan",
           "tan",
           "tan",
           "tan",
           "tan",
           "tan",
           "tan",
           "tan",
           "tan",
           "tan",
           "tan"
          ]
         },
         "mode": "markers",
         "showlegend": false,
         "type": "scatter",
         "visible": false,
         "x": [
          -38.48,
          -10.94,
          -12.74,
          -10.19,
          -11.34,
          -2.97,
          -0.84,
          3.91,
          0.44,
          -3.82,
          15.05,
          37.82,
          14.98,
          19.23,
          -3.84,
          8.47,
          6.62,
          -6.8,
          -1.25,
          -5.71,
          -10.42,
          -5.86
         ],
         "y": [
          2.45,
          1.71,
          9.96,
          -6.34,
          19.9,
          14.61,
          0.13,
          4.71,
          -7.28,
          25.94,
          17.5,
          2.54,
          14.53,
          -3.16,
          33.1,
          -22.54,
          2.77,
          -3.37,
          14.02,
          17.17,
          -11.22,
          4.4
         ]
        },
        {
         "marker": {
          "color": "black"
         },
         "mode": "markers",
         "showlegend": false,
         "type": "scatter",
         "visible": false,
         "x": [
          -0.59
         ],
         "y": [
          24.94
         ]
        },
        {
         "hovertext": [
          "Daphne van Domselaar",
          "Anna Patten",
          "Rachel Corsie",
          "Sarah Emma Mayling",
          "Danielle Turner",
          "Lucy Staniforth",
          "Lucy Parker",
          "Laura Madison Blindkilde Brown",
          "Alisha Lehmann",
          "Kirsty Hanson",
          "Rachel Daly",
          "Mary Earps",
          "Maya Le Tissier",
          "Millie Turner",
          "Hannah Blundell",
          "Gabrielle George",
          "Katie Zelem",
          "Ella Toone",
          "Hayley Ladd",
          "Lucía García Córdoba",
          "Leah Galton",
          " Geyse"
         ],
         "marker": {
          "color": [
           "steelblue",
           "steelblue",
           "steelblue",
           "steelblue",
           "steelblue",
           "steelblue",
           "steelblue",
           "steelblue",
           "steelblue",
           "steelblue",
           "steelblue",
           "tan",
           "tan",
           "tan",
           "tan",
           "tan",
           "tan",
           "tan",
           "tan",
           "tan",
           "tan",
           "tan"
          ]
         },
         "mode": "markers",
         "showlegend": false,
         "type": "scatter",
         "visible": false,
         "x": [
          -38.66,
          -11.22,
          -13.09,
          -10.49,
          -11.63,
          -3.24,
          -1.13,
          3.67,
          0.24,
          -4.16,
          14.92,
          37.78,
          14.78,
          19.02,
          -4.29,
          8.32,
          6.49,
          -7.07,
          -1.48,
          -5.92,
          -10.7,
          -6.04
         ],
         "y": [
          2.53,
          1.91,
          10.11,
          -6.09,
          20.36,
          14.9,
          0.33,
          4.93,
          -7.08,
          26.26,
          17.71,
          2.58,
          14.6,
          -2.97,
          33.09,
          -22.28,
          3.07,
          -3.15,
          14.31,
          17.47,
          -11.06,
          4.63
         ]
        },
        {
         "marker": {
          "color": "black"
         },
         "mode": "markers",
         "showlegend": false,
         "type": "scatter",
         "visible": false,
         "x": [
          -1.87
         ],
         "y": [
          25.61
         ]
        },
        {
         "hovertext": [
          "Daphne van Domselaar",
          "Anna Patten",
          "Rachel Corsie",
          "Sarah Emma Mayling",
          "Danielle Turner",
          "Lucy Staniforth",
          "Lucy Parker",
          "Laura Madison Blindkilde Brown",
          "Alisha Lehmann",
          "Kirsty Hanson",
          "Rachel Daly",
          "Mary Earps",
          "Maya Le Tissier",
          "Millie Turner",
          "Hannah Blundell",
          "Gabrielle George",
          "Katie Zelem",
          "Ella Toone",
          "Hayley Ladd",
          "Lucía García Córdoba",
          "Leah Galton",
          " Geyse"
         ],
         "marker": {
          "color": [
           "steelblue",
           "steelblue",
           "steelblue",
           "steelblue",
           "steelblue",
           "steelblue",
           "steelblue",
           "steelblue",
           "steelblue",
           "steelblue",
           "steelblue",
           "tan",
           "tan",
           "tan",
           "tan",
           "tan",
           "tan",
           "tan",
           "tan",
           "tan",
           "tan",
           "tan"
          ]
         },
         "mode": "markers",
         "showlegend": false,
         "type": "scatter",
         "visible": false,
         "x": [
          -38.84,
          -11.52,
          -13.43,
          -10.82,
          -11.94,
          -3.51,
          -1.43,
          3.42,
          0.04,
          -4.51,
          14.77,
          37.75,
          14.59,
          18.8,
          -4.79,
          8.16,
          6.33,
          -7.36,
          -1.71,
          -6.16,
          -10.99,
          -6.22
         ],
         "y": [
          2.6,
          2.1,
          10.25,
          -5.84,
          20.84,
          15.19,
          0.52,
          5.14,
          -6.9,
          26.56,
          17.91,
          2.61,
          14.68,
          -2.78,
          33.08,
          -22.03,
          3.37,
          -2.94,
          14.6,
          17.74,
          -10.9,
          4.86
         ]
        },
        {
         "marker": {
          "color": "black"
         },
         "mode": "markers",
         "showlegend": false,
         "type": "scatter",
         "visible": false,
         "x": [
          -3.15
         ],
         "y": [
          26.33
         ]
        },
        {
         "hovertext": [
          "Daphne van Domselaar",
          "Anna Patten",
          "Rachel Corsie",
          "Sarah Emma Mayling",
          "Danielle Turner",
          "Lucy Staniforth",
          "Lucy Parker",
          "Laura Madison Blindkilde Brown",
          "Alisha Lehmann",
          "Kirsty Hanson",
          "Rachel Daly",
          "Mary Earps",
          "Maya Le Tissier",
          "Millie Turner",
          "Hannah Blundell",
          "Gabrielle George",
          "Katie Zelem",
          "Ella Toone",
          "Hayley Ladd",
          "Lucía García Córdoba",
          "Leah Galton",
          " Geyse"
         ],
         "marker": {
          "color": [
           "steelblue",
           "steelblue",
           "steelblue",
           "steelblue",
           "steelblue",
           "steelblue",
           "steelblue",
           "steelblue",
           "steelblue",
           "steelblue",
           "steelblue",
           "tan",
           "tan",
           "tan",
           "tan",
           "tan",
           "tan",
           "tan",
           "tan",
           "tan",
           "tan",
           "tan"
          ]
         },
         "mode": "markers",
         "showlegend": false,
         "type": "scatter",
         "visible": false,
         "x": [
          -39.02,
          -11.84,
          -13.78,
          -11.16,
          -12.27,
          -3.79,
          -1.74,
          3.17,
          -0.18,
          -4.89,
          14.61,
          37.7,
          14.39,
          18.57,
          -5.32,
          8,
          6.17,
          -7.64,
          -1.93,
          -6.44,
          -11.28,
          -6.4
         ],
         "y": [
          2.68,
          2.27,
          10.37,
          -5.61,
          21.31,
          15.48,
          0.69,
          5.34,
          -6.72,
          26.86,
          18.1,
          2.64,
          14.77,
          -2.58,
          33.08,
          -21.78,
          3.67,
          -2.74,
          14.89,
          17.98,
          -10.73,
          5.08
         ]
        },
        {
         "marker": {
          "color": "black"
         },
         "mode": "markers",
         "showlegend": false,
         "type": "scatter",
         "visible": false,
         "x": [
          -4.39
         ],
         "y": [
          27.03
         ]
        },
        {
         "hovertext": [
          "Daphne van Domselaar",
          "Anna Patten",
          "Rachel Corsie",
          "Sarah Emma Mayling",
          "Danielle Turner",
          "Lucy Staniforth",
          "Lucy Parker",
          "Laura Madison Blindkilde Brown",
          "Alisha Lehmann",
          "Kirsty Hanson",
          "Rachel Daly",
          "Mary Earps",
          "Maya Le Tissier",
          "Millie Turner",
          "Hannah Blundell",
          "Gabrielle George",
          "Katie Zelem",
          "Ella Toone",
          "Hayley Ladd",
          "Lucía García Córdoba",
          "Leah Galton",
          " Geyse"
         ],
         "marker": {
          "color": [
           "steelblue",
           "steelblue",
           "steelblue",
           "steelblue",
           "steelblue",
           "steelblue",
           "steelblue",
           "steelblue",
           "steelblue",
           "steelblue",
           "steelblue",
           "tan",
           "tan",
           "tan",
           "tan",
           "tan",
           "tan",
           "tan",
           "tan",
           "tan",
           "tan",
           "tan"
          ]
         },
         "mode": "markers",
         "showlegend": false,
         "type": "scatter",
         "visible": false,
         "x": [
          -39.21,
          -12.16,
          -14.13,
          -11.51,
          -12.63,
          -4.06,
          -2.05,
          2.91,
          -0.39,
          -5.28,
          14.45,
          37.65,
          14.2,
          18.33,
          -5.88,
          7.84,
          6,
          -7.93,
          -2.14,
          -6.73,
          -11.59,
          -6.59
         ],
         "y": [
          2.77,
          2.43,
          10.47,
          -5.38,
          21.78,
          15.77,
          0.86,
          5.53,
          -6.56,
          27.15,
          18.29,
          2.67,
          14.86,
          -2.38,
          33.08,
          -21.52,
          3.96,
          -2.53,
          15.18,
          18.18,
          -10.56,
          5.29
         ]
        },
        {
         "marker": {
          "color": "black"
         },
         "mode": "markers",
         "showlegend": false,
         "type": "scatter",
         "visible": false,
         "x": [
          -5.62
         ],
         "y": [
          27.7
         ]
        },
        {
         "hovertext": [
          "Daphne van Domselaar",
          "Anna Patten",
          "Rachel Corsie",
          "Sarah Emma Mayling",
          "Danielle Turner",
          "Lucy Staniforth",
          "Lucy Parker",
          "Laura Madison Blindkilde Brown",
          "Alisha Lehmann",
          "Kirsty Hanson",
          "Rachel Daly",
          "Mary Earps",
          "Maya Le Tissier",
          "Millie Turner",
          "Hannah Blundell",
          "Gabrielle George",
          "Katie Zelem",
          "Ella Toone",
          "Hayley Ladd",
          "Lucía García Córdoba",
          "Leah Galton",
          " Geyse"
         ],
         "marker": {
          "color": [
           "steelblue",
           "steelblue",
           "steelblue",
           "steelblue",
           "steelblue",
           "steelblue",
           "steelblue",
           "steelblue",
           "steelblue",
           "steelblue",
           "steelblue",
           "tan",
           "tan",
           "tan",
           "tan",
           "tan",
           "tan",
           "tan",
           "tan",
           "tan",
           "tan",
           "tan"
          ]
         },
         "mode": "markers",
         "showlegend": false,
         "type": "scatter",
         "visible": false,
         "x": [
          -39.4,
          -12.49,
          -14.49,
          -11.87,
          -13,
          -4.33,
          -2.37,
          2.65,
          -0.61,
          -5.68,
          14.28,
          37.6,
          13.99,
          18.09,
          -6.47,
          7.68,
          5.82,
          -8.21,
          -2.35,
          -7.05,
          -11.89,
          -6.77
         ],
         "y": [
          2.85,
          2.58,
          10.57,
          -5.16,
          22.26,
          16.06,
          1.03,
          5.7,
          -6.39,
          27.43,
          18.47,
          2.71,
          14.96,
          -2.19,
          33.09,
          -21.24,
          4.26,
          -2.33,
          15.48,
          18.37,
          -10.4,
          5.51
         ]
        },
        {
         "marker": {
          "color": "black"
         },
         "mode": "markers",
         "showlegend": false,
         "type": "scatter",
         "visible": false,
         "x": [
          -6.81
         ],
         "y": [
          28.33
         ]
        },
        {
         "hovertext": [
          "Daphne van Domselaar",
          "Anna Patten",
          "Rachel Corsie",
          "Sarah Emma Mayling",
          "Danielle Turner",
          "Lucy Staniforth",
          "Lucy Parker",
          "Laura Madison Blindkilde Brown",
          "Alisha Lehmann",
          "Kirsty Hanson",
          "Rachel Daly",
          "Mary Earps",
          "Maya Le Tissier",
          "Millie Turner",
          "Hannah Blundell",
          "Gabrielle George",
          "Katie Zelem",
          "Ella Toone",
          "Hayley Ladd",
          "Lucía García Córdoba",
          "Leah Galton",
          " Geyse"
         ],
         "marker": {
          "color": [
           "steelblue",
           "steelblue",
           "steelblue",
           "steelblue",
           "steelblue",
           "steelblue",
           "steelblue",
           "steelblue",
           "steelblue",
           "steelblue",
           "steelblue",
           "tan",
           "tan",
           "tan",
           "tan",
           "tan",
           "tan",
           "tan",
           "tan",
           "tan",
           "tan",
           "tan"
          ]
         },
         "mode": "markers",
         "showlegend": false,
         "type": "scatter",
         "visible": false,
         "x": [
          -39.6,
          -12.82,
          -14.84,
          -12.23,
          -13.37,
          -4.6,
          -2.69,
          2.39,
          -0.82,
          -6.09,
          14.11,
          37.53,
          13.77,
          17.83,
          -7.07,
          7.51,
          5.64,
          -8.48,
          -2.56,
          -7.39,
          -12.21,
          -6.95
         ],
         "y": [
          2.93,
          2.72,
          10.65,
          -4.95,
          22.74,
          16.34,
          1.19,
          5.86,
          -6.24,
          27.71,
          18.64,
          2.74,
          15.05,
          -2,
          33.11,
          -20.95,
          4.55,
          -2.13,
          15.77,
          18.54,
          -10.22,
          5.73
         ]
        },
        {
         "marker": {
          "color": "black"
         },
         "mode": "markers",
         "showlegend": false,
         "type": "scatter",
         "visible": false,
         "x": [
          -7.98
         ],
         "y": [
          29.04
         ]
        },
        {
         "hovertext": [
          "Daphne van Domselaar",
          "Anna Patten",
          "Rachel Corsie",
          "Sarah Emma Mayling",
          "Danielle Turner",
          "Lucy Staniforth",
          "Lucy Parker",
          "Laura Madison Blindkilde Brown",
          "Alisha Lehmann",
          "Kirsty Hanson",
          "Rachel Daly",
          "Mary Earps",
          "Maya Le Tissier",
          "Millie Turner",
          "Hannah Blundell",
          "Gabrielle George",
          "Katie Zelem",
          "Ella Toone",
          "Hayley Ladd",
          "Lucía García Córdoba",
          "Leah Galton",
          " Geyse"
         ],
         "marker": {
          "color": [
           "steelblue",
           "steelblue",
           "steelblue",
           "steelblue",
           "steelblue",
           "steelblue",
           "steelblue",
           "steelblue",
           "steelblue",
           "steelblue",
           "steelblue",
           "tan",
           "tan",
           "tan",
           "tan",
           "tan",
           "tan",
           "tan",
           "tan",
           "tan",
           "tan",
           "tan"
          ]
         },
         "mode": "markers",
         "showlegend": false,
         "type": "scatter",
         "visible": false,
         "x": [
          -39.8,
          -13.17,
          -15.21,
          -12.61,
          -13.73,
          -4.86,
          -3.01,
          2.14,
          -1.03,
          -6.52,
          13.95,
          37.45,
          13.54,
          17.58,
          -7.67,
          7.35,
          5.45,
          -8.75,
          -2.77,
          -7.74,
          -12.53,
          -7.15
         ],
         "y": [
          3.01,
          2.86,
          10.74,
          -4.75,
          23.23,
          16.63,
          1.35,
          6.01,
          -6.09,
          27.98,
          18.81,
          2.78,
          15.14,
          -1.82,
          33.15,
          -20.66,
          4.84,
          -1.93,
          16.06,
          18.7,
          -10.05,
          5.96
         ]
        },
        {
         "marker": {
          "color": "black"
         },
         "mode": "markers",
         "showlegend": false,
         "type": "scatter",
         "visible": false,
         "x": [
          -9.12
         ],
         "y": [
          29.68
         ]
        },
        {
         "hovertext": [
          "Daphne van Domselaar",
          "Anna Patten",
          "Rachel Corsie",
          "Sarah Emma Mayling",
          "Danielle Turner",
          "Lucy Staniforth",
          "Lucy Parker",
          "Laura Madison Blindkilde Brown",
          "Alisha Lehmann",
          "Kirsty Hanson",
          "Rachel Daly",
          "Mary Earps",
          "Maya Le Tissier",
          "Millie Turner",
          "Hannah Blundell",
          "Gabrielle George",
          "Katie Zelem",
          "Ella Toone",
          "Hayley Ladd",
          "Lucía García Córdoba",
          "Leah Galton",
          " Geyse"
         ],
         "marker": {
          "color": [
           "steelblue",
           "steelblue",
           "steelblue",
           "steelblue",
           "steelblue",
           "steelblue",
           "steelblue",
           "steelblue",
           "steelblue",
           "steelblue",
           "steelblue",
           "tan",
           "tan",
           "tan",
           "tan",
           "tan",
           "tan",
           "tan",
           "tan",
           "tan",
           "tan",
           "tan"
          ]
         },
         "mode": "markers",
         "showlegend": false,
         "type": "scatter",
         "visible": false,
         "x": [
          -40,
          -13.52,
          -15.58,
          -12.98,
          -14.09,
          -5.13,
          -3.33,
          1.89,
          -1.22,
          -6.95,
          13.79,
          37.37,
          13.31,
          17.32,
          -8.27,
          7.18,
          5.26,
          -9.01,
          -2.99,
          -8.1,
          -12.85,
          -7.35
         ],
         "y": [
          3.08,
          2.99,
          10.81,
          -4.56,
          23.73,
          16.9,
          1.5,
          6.14,
          -5.95,
          28.24,
          18.97,
          2.82,
          15.24,
          -1.64,
          33.18,
          -20.37,
          5.13,
          -1.73,
          16.35,
          18.85,
          -9.87,
          6.18
         ]
        },
        {
         "marker": {
          "color": "black"
         },
         "mode": "markers",
         "showlegend": false,
         "type": "scatter",
         "visible": false,
         "x": [
          -10.11
         ],
         "y": [
          30.33
         ]
        },
        {
         "hovertext": [
          "Daphne van Domselaar",
          "Anna Patten",
          "Rachel Corsie",
          "Sarah Emma Mayling",
          "Danielle Turner",
          "Lucy Staniforth",
          "Lucy Parker",
          "Laura Madison Blindkilde Brown",
          "Alisha Lehmann",
          "Kirsty Hanson",
          "Rachel Daly",
          "Mary Earps",
          "Maya Le Tissier",
          "Millie Turner",
          "Hannah Blundell",
          "Gabrielle George",
          "Katie Zelem",
          "Ella Toone",
          "Hayley Ladd",
          "Lucía García Córdoba",
          "Leah Galton",
          " Geyse"
         ],
         "marker": {
          "color": [
           "steelblue",
           "steelblue",
           "steelblue",
           "steelblue",
           "steelblue",
           "steelblue",
           "steelblue",
           "steelblue",
           "steelblue",
           "steelblue",
           "steelblue",
           "tan",
           "tan",
           "tan",
           "tan",
           "tan",
           "tan",
           "tan",
           "tan",
           "tan",
           "tan",
           "tan"
          ]
         },
         "mode": "markers",
         "showlegend": false,
         "type": "scatter",
         "visible": false,
         "x": [
          -40.19,
          -13.87,
          -15.96,
          -13.35,
          -14.45,
          -5.39,
          -3.65,
          1.64,
          -1.39,
          -7.38,
          13.62,
          37.27,
          13.07,
          17.05,
          -8.86,
          7.01,
          5.07,
          -9.26,
          -3.2,
          -8.48,
          -13.16,
          -7.55
         ],
         "y": [
          3.15,
          3.11,
          10.88,
          -4.38,
          24.22,
          17.17,
          1.65,
          6.26,
          -5.81,
          28.49,
          19.11,
          2.85,
          15.33,
          -1.46,
          33.22,
          -20.07,
          5.41,
          -1.52,
          16.64,
          18.99,
          -9.7,
          6.41
         ]
        },
        {
         "marker": {
          "color": "black"
         },
         "mode": "markers",
         "showlegend": false,
         "type": "scatter",
         "visible": false,
         "x": [
          -11.01
         ],
         "y": [
          31.03
         ]
        },
        {
         "hovertext": [
          "Daphne van Domselaar",
          "Anna Patten",
          "Rachel Corsie",
          "Sarah Emma Mayling",
          "Danielle Turner",
          "Lucy Staniforth",
          "Lucy Parker",
          "Laura Madison Blindkilde Brown",
          "Alisha Lehmann",
          "Kirsty Hanson",
          "Rachel Daly",
          "Mary Earps",
          "Maya Le Tissier",
          "Millie Turner",
          "Hannah Blundell",
          "Gabrielle George",
          "Katie Zelem",
          "Ella Toone",
          "Hayley Ladd",
          "Lucía García Córdoba",
          "Leah Galton",
          " Geyse"
         ],
         "marker": {
          "color": [
           "steelblue",
           "steelblue",
           "steelblue",
           "steelblue",
           "steelblue",
           "steelblue",
           "steelblue",
           "steelblue",
           "steelblue",
           "steelblue",
           "steelblue",
           "tan",
           "tan",
           "tan",
           "tan",
           "tan",
           "tan",
           "tan",
           "tan",
           "tan",
           "tan",
           "tan"
          ]
         },
         "mode": "markers",
         "showlegend": false,
         "type": "scatter",
         "visible": false,
         "x": [
          -40.38,
          -14.23,
          -16.34,
          -13.71,
          -14.8,
          -5.65,
          -3.98,
          1.4,
          -1.55,
          -7.81,
          13.45,
          37.17,
          12.83,
          16.78,
          -9.42,
          6.85,
          4.88,
          -9.51,
          -3.43,
          -8.86,
          -13.48,
          -7.76
         ],
         "y": [
          3.22,
          3.22,
          10.95,
          -4.21,
          24.72,
          17.44,
          1.8,
          6.38,
          -5.69,
          28.73,
          19.25,
          2.88,
          15.42,
          -1.28,
          33.25,
          -19.78,
          5.68,
          -1.32,
          16.92,
          19.12,
          -9.52,
          6.64
         ]
        },
        {
         "marker": {
          "color": "black"
         },
         "mode": "markers",
         "showlegend": false,
         "type": "scatter",
         "visible": false,
         "x": [
          -11.89
         ],
         "y": [
          31.76
         ]
        },
        {
         "hovertext": [
          "Daphne van Domselaar",
          "Anna Patten",
          "Rachel Corsie",
          "Sarah Emma Mayling",
          "Danielle Turner",
          "Lucy Staniforth",
          "Lucy Parker",
          "Laura Madison Blindkilde Brown",
          "Alisha Lehmann",
          "Kirsty Hanson",
          "Rachel Daly",
          "Mary Earps",
          "Maya Le Tissier",
          "Millie Turner",
          "Hannah Blundell",
          "Gabrielle George",
          "Katie Zelem",
          "Ella Toone",
          "Hayley Ladd",
          "Lucía García Córdoba",
          "Leah Galton",
          " Geyse"
         ],
         "marker": {
          "color": [
           "steelblue",
           "steelblue",
           "steelblue",
           "steelblue",
           "steelblue",
           "steelblue",
           "steelblue",
           "steelblue",
           "steelblue",
           "steelblue",
           "steelblue",
           "tan",
           "tan",
           "tan",
           "tan",
           "tan",
           "tan",
           "tan",
           "tan",
           "tan",
           "tan",
           "tan"
          ]
         },
         "mode": "markers",
         "showlegend": false,
         "type": "scatter",
         "visible": false,
         "x": [
          -40.55,
          -14.59,
          -16.73,
          -14.07,
          -15.15,
          -5.92,
          -4.32,
          1.16,
          -1.69,
          -8.23,
          13.28,
          37.06,
          12.6,
          16.5,
          -9.96,
          6.7,
          4.68,
          -9.75,
          -3.66,
          -9.24,
          -13.79,
          -7.98
         ],
         "y": [
          3.29,
          3.32,
          11.02,
          -4.04,
          25.23,
          17.7,
          1.94,
          6.49,
          -5.58,
          28.97,
          19.39,
          2.9,
          15.51,
          -1.1,
          33.29,
          -19.49,
          5.95,
          -1.12,
          17.19,
          19.25,
          -9.33,
          6.87
         ]
        },
        {
         "marker": {
          "color": "black"
         },
         "mode": "markers",
         "showlegend": false,
         "type": "scatter",
         "visible": false,
         "x": [
          -12.71
         ],
         "y": [
          32.32
         ]
        },
        {
         "hovertext": [
          "Daphne van Domselaar",
          "Anna Patten",
          "Rachel Corsie",
          "Sarah Emma Mayling",
          "Danielle Turner",
          "Lucy Staniforth",
          "Lucy Parker",
          "Laura Madison Blindkilde Brown",
          "Alisha Lehmann",
          "Kirsty Hanson",
          "Rachel Daly",
          "Mary Earps",
          "Maya Le Tissier",
          "Millie Turner",
          "Hannah Blundell",
          "Gabrielle George",
          "Katie Zelem",
          "Ella Toone",
          "Hayley Ladd",
          "Lucía García Córdoba",
          "Leah Galton",
          " Geyse"
         ],
         "marker": {
          "color": [
           "steelblue",
           "steelblue",
           "steelblue",
           "steelblue",
           "steelblue",
           "steelblue",
           "steelblue",
           "steelblue",
           "steelblue",
           "steelblue",
           "steelblue",
           "tan",
           "tan",
           "tan",
           "tan",
           "tan",
           "tan",
           "tan",
           "tan",
           "tan",
           "tan",
           "tan"
          ]
         },
         "mode": "markers",
         "showlegend": false,
         "type": "scatter",
         "visible": false,
         "x": [
          -40.72,
          -14.94,
          -17.13,
          -14.43,
          -15.5,
          -6.18,
          -4.65,
          0.93,
          -1.81,
          -8.64,
          13.11,
          36.94,
          12.35,
          16.22,
          -10.47,
          6.54,
          4.48,
          -9.98,
          -3.9,
          -9.62,
          -14.09,
          -8.21
         ],
         "y": [
          3.35,
          3.41,
          11.08,
          -3.89,
          25.73,
          17.95,
          2.08,
          6.59,
          -5.48,
          29.19,
          19.52,
          2.93,
          15.61,
          -0.91,
          33.32,
          -19.19,
          6.21,
          -0.91,
          17.46,
          19.37,
          -9.14,
          7.1
         ]
        },
        {
         "marker": {
          "color": "black"
         },
         "mode": "markers",
         "showlegend": false,
         "type": "scatter",
         "visible": false,
         "x": [
          -13.45
         ],
         "y": [
          32.85
         ]
        },
        {
         "hovertext": [
          "Daphne van Domselaar",
          "Anna Patten",
          "Rachel Corsie",
          "Sarah Emma Mayling",
          "Danielle Turner",
          "Lucy Staniforth",
          "Lucy Parker",
          "Laura Madison Blindkilde Brown",
          "Alisha Lehmann",
          "Kirsty Hanson",
          "Rachel Daly",
          "Mary Earps",
          "Maya Le Tissier",
          "Millie Turner",
          "Hannah Blundell",
          "Gabrielle George",
          "Katie Zelem",
          "Ella Toone",
          "Hayley Ladd",
          "Lucía García Córdoba",
          "Leah Galton",
          " Geyse"
         ],
         "marker": {
          "color": [
           "steelblue",
           "steelblue",
           "steelblue",
           "steelblue",
           "steelblue",
           "steelblue",
           "steelblue",
           "steelblue",
           "steelblue",
           "steelblue",
           "steelblue",
           "tan",
           "tan",
           "tan",
           "tan",
           "tan",
           "tan",
           "tan",
           "tan",
           "tan",
           "tan",
           "tan"
          ]
         },
         "mode": "markers",
         "showlegend": false,
         "type": "scatter",
         "visible": true,
         "x": [
          -40.87,
          -15.3,
          -17.54,
          -14.79,
          -15.84,
          -6.46,
          -4.99,
          0.7,
          -1.92,
          -9.04,
          12.93,
          36.82,
          12.11,
          15.93,
          -10.95,
          6.38,
          4.28,
          -10.19,
          -4.14,
          -9.99,
          -14.4,
          -8.45
         ],
         "y": [
          3.4,
          3.49,
          11.14,
          -3.74,
          26.24,
          18.18,
          2.22,
          6.7,
          -5.4,
          29.41,
          19.65,
          2.96,
          15.71,
          -0.73,
          33.35,
          -18.89,
          6.47,
          -0.7,
          17.73,
          19.49,
          -8.95,
          7.32
         ]
        },
        {
         "marker": {
          "color": "black"
         },
         "mode": "markers",
         "showlegend": false,
         "type": "scatter",
         "visible": true,
         "x": [
          -14.24
         ],
         "y": [
          33.41
         ]
        }
       ],
       "layout": {
        "dragmode": false,
        "height": 600,
        "legend": {
         "font": {
          "family": "Roboto, sans-serif",
          "size": 14
         },
         "x": 1,
         "xanchor": "left",
         "y": 0.85
        },
        "margin": {
         "b": 0,
         "l": 0,
         "r": 100,
         "t": 0
        },
        "paper_bgcolor": "rgba(0, 0, 0, 0)",
        "plot_bgcolor": "rgba(0, 0, 0, 0)",
        "shapes": [
         {
          "fillcolor": "rgba(0, 0, 0, 0)",
          "line": {
           "color": "darkgrey",
           "dash": "solid",
           "width": 1
          },
          "type": "rect",
          "x0": -52.5,
          "x1": 52.5,
          "y0": -34,
          "y1": 34
         },
         {
          "line": {
           "color": "darkgrey",
           "dash": "solid",
           "width": 0.5
          },
          "type": "line",
          "x0": 0,
          "x1": 0,
          "y0": -34,
          "y1": 34
         },
         {
          "fillcolor": "rgba(0, 0, 0, 0)",
          "line": {
           "color": "darkgrey",
           "dash": "solid",
           "width": 0.6
          },
          "type": "rect",
          "x0": -52.5,
          "x1": -36,
          "y0": -20.16,
          "y1": 20.16
         },
         {
          "fillcolor": "rgba(0, 0, 0, 0)",
          "line": {
           "color": "darkgrey",
           "dash": "solid",
           "width": 0.6
          },
          "type": "rect",
          "x0": 36,
          "x1": 52.5,
          "y0": -20.16,
          "y1": 20.16
         },
         {
          "fillcolor": "rgba(0, 0, 0, 0)",
          "line": {
           "color": "darkgrey",
           "dash": "solid",
           "width": 0.5
          },
          "type": "rect",
          "x0": -52.5,
          "x1": -47,
          "y0": -9.16,
          "y1": 9.16
         },
         {
          "fillcolor": "rgba(0, 0, 0, 0)",
          "line": {
           "color": "darkgrey",
           "dash": "solid",
           "width": 0.5
          },
          "type": "rect",
          "x0": 47,
          "x1": 52.5,
          "y0": -9.16,
          "y1": 9.16
         },
         {
          "fillcolor": "rgba(0, 0, 0, 0)",
          "line": {
           "color": "darkgrey",
           "dash": "solid",
           "width": 0.5
          },
          "type": "circle",
          "x0": -9.15,
          "x1": 9.15,
          "y0": -9.15,
          "y1": 9.15
         },
         {
          "fillcolor": "rgba(0, 0, 0, 0)",
          "line": {
           "color": "darkgrey",
           "dash": "solid",
           "width": 0.5
          },
          "path": "M -36.0,7.312489316231511 L-36.0,7.312489316231511 L-35.8641854977216,7.208335098752586 L-35.730342911557,7.101658755655575 L-35.59851907171191,6.992497611944673 L-35.46876010205251,6.880889862031386 L-35.34111140396719,6.76687455637069 L-35.215617640481085,6.650491587797662 L-35.09232272062886,6.531781677569364 L-34.971269784091405,6.410786361116876 L-34.8525011861017,6.287547973512462 L-34.736058482625076,6.162109634656936 L-34.62198241581927,6.034515234192441 L-34.51031289977907,5.904809416145888 L-34.40108900657082,5.773037563308453 L-34.29434895256147,5.63924578135658 L-34.19013008504702,5.503480882720067 L-34.0884688691851,5.365790370202848 L-33.98940087523617,5.226222420362231 L-33.892960766117824,5.084825866652396 L-33.79918228527656,4.941650182338049 L-33.70809824488131,4.796745463184206 L-33.619740514342766,4.650162409928193 L-33.53414000916259,4.501952310539936 L-33.451326680116395,4.352167022276822 L-33.371329502774245,4.200858953539342 L-33.2941764673624,4.048081045533913 L-33.21989456896979,3.8938867537492694 L-33.14850979810274,3.7383300292529107 L-33.08004713159111,3.5814652998141527 L-33.01453052384916,3.4233474508603905 L-32.95198289849414,3.2640318062732225 L-32.89242614032552,3.1035741090311677 L-32.83588108766777,2.942030501705747 L-32.78236752507916,2.7794575068177507 L-32.73190417642939,2.6159120070605604 L-32.68450869834827,2.4514512253974563 L-32.64019767404785,2.286132705039859 L-32.598986607520104,2.1200142893135365 L-32.56088991811226,1.9531541014197809 L-32.525920935481565,1.7856105240986793 L-32.49409189493143,1.6174421792015639 L-32.46541393313038,1.4487079071798 L-32.439897084215424,1.2794667464970952 L-32.417550276281276,1.109777912972518 L-32.39838132825643,0.9397007790614653 L-32.38239694716743,0.7692948530818233 L-32.369602725792156,0.598619758392593 L-32.36000314070294,0.4277352125322592 L-32.35360155070029,0.2567010063242161 L-32.35040019563762,0.08557698295654208 L-32.35040019563762,-0.08557698295654309 L-32.35360155070029,-0.2567010063242161 L-32.36000314070294,-0.4277352125322592 L-32.369602725792156,-0.598619758392593 L-32.38239694716743,-0.7692948530818243 L-32.39838132825643,-0.9397007790614653 L-32.417550276281276,-1.1097779129725192 L-32.439897084215424,-1.2794667464970952 L-32.46541393313038,-1.448707907179801 L-32.49409189493143,-1.6174421792015639 L-32.525920935481565,-1.7856105240986793 L-32.56088991811226,-1.953154101419782 L-32.598986607520104,-2.1200142893135365 L-32.64019767404785,-2.2861327050398605 L-32.68450869834827,-2.4514512253974563 L-32.73190417642939,-2.6159120070605604 L-32.78236752507916,-2.7794575068177516 L-32.83588108766777,-2.942030501705747 L-32.892426140325526,-3.1035741090311686 L-32.95198289849414,-3.2640318062732225 L-33.01453052384916,-3.4233474508603905 L-33.08004713159111,-3.5814652998141536 L-33.14850979810274,-3.7383300292529107 L-33.21989456896979,-3.8938867537492707 L-33.2941764673624,-4.048081045533913 L-33.371329502774245,-4.200858953539341 L-33.451326680116395,-4.352167022276822 L-33.53414000916259,-4.501952310539936 L-33.619740514342766,-4.6501624099281935 L-33.70809824488131,-4.796745463184206 L-33.79918228527656,-4.941650182338048 L-33.892960766117824,-5.084825866652397 L-33.98940087523617,-5.226222420362231 L-34.0884688691851,-5.365790370202849 L-34.19013008504702,-5.503480882720067 L-34.29434895256147,-5.639245781356581 L-34.40108900657082,-5.773037563308453 L-34.51031289977907,-5.904809416145888 L-34.62198241581927,-6.034515234192442 L-34.736058482625076,-6.162109634656936 L-34.8525011861017,-6.287547973512463 L-34.971269784091405,-6.410786361116877 L-35.09232272062886,-6.531781677569364 L-35.215617640481085,-6.650491587797662 L-35.34111140396719,-6.76687455637069 L-35.46876010205251,-6.8808898620313865 L-35.59851907171191,-6.992497611944673 L-35.730342911557,-7.101658755655575 L-35.8641854977216,-7.208335098752586 L-36.0,-7.312489316231511 L -36.0,-7.312489316231511",
          "type": "path"
         },
         {
          "fillcolor": "rgba(0, 0, 0, 0)",
          "line": {
           "color": "darkgrey",
           "dash": "solid",
           "width": 0.5
          },
          "path": "M 36.0,7.312489316231511 L36.0,7.312489316231511 L35.8641854977216,7.208335098752586 L35.730342911557,7.101658755655575 L35.59851907171191,6.992497611944673 L35.46876010205251,6.880889862031386 L35.34111140396719,6.76687455637069 L35.215617640481085,6.650491587797662 L35.09232272062886,6.531781677569364 L34.971269784091405,6.410786361116876 L34.8525011861017,6.287547973512462 L34.736058482625076,6.162109634656936 L34.62198241581927,6.034515234192441 L34.51031289977907,5.904809416145888 L34.40108900657082,5.773037563308453 L34.29434895256147,5.63924578135658 L34.19013008504702,5.503480882720067 L34.0884688691851,5.365790370202848 L33.98940087523617,5.226222420362231 L33.892960766117824,5.084825866652396 L33.79918228527656,4.941650182338049 L33.70809824488131,4.796745463184206 L33.619740514342766,4.650162409928193 L33.53414000916259,4.501952310539936 L33.451326680116395,4.352167022276822 L33.371329502774245,4.200858953539342 L33.2941764673624,4.048081045533913 L33.21989456896979,3.8938867537492694 L33.14850979810274,3.7383300292529107 L33.08004713159111,3.5814652998141527 L33.01453052384916,3.4233474508603905 L32.95198289849414,3.2640318062732225 L32.89242614032552,3.1035741090311677 L32.83588108766777,2.942030501705747 L32.78236752507916,2.7794575068177507 L32.73190417642939,2.6159120070605604 L32.68450869834827,2.4514512253974563 L32.64019767404785,2.286132705039859 L32.598986607520104,2.1200142893135365 L32.56088991811226,1.9531541014197809 L32.525920935481565,1.7856105240986793 L32.49409189493143,1.6174421792015639 L32.46541393313038,1.4487079071798 L32.439897084215424,1.2794667464970952 L32.417550276281276,1.109777912972518 L32.39838132825643,0.9397007790614653 L32.38239694716743,0.7692948530818233 L32.369602725792156,0.598619758392593 L32.36000314070294,0.4277352125322592 L32.35360155070029,0.2567010063242161 L32.35040019563762,0.08557698295654208 L32.35040019563762,-0.08557698295654309 L32.35360155070029,-0.2567010063242161 L32.36000314070294,-0.4277352125322592 L32.369602725792156,-0.598619758392593 L32.38239694716743,-0.7692948530818243 L32.39838132825643,-0.9397007790614653 L32.417550276281276,-1.1097779129725192 L32.439897084215424,-1.2794667464970952 L32.46541393313038,-1.448707907179801 L32.49409189493143,-1.6174421792015639 L32.525920935481565,-1.7856105240986793 L32.56088991811226,-1.953154101419782 L32.598986607520104,-2.1200142893135365 L32.64019767404785,-2.2861327050398605 L32.68450869834827,-2.4514512253974563 L32.73190417642939,-2.6159120070605604 L32.78236752507916,-2.7794575068177516 L32.83588108766777,-2.942030501705747 L32.892426140325526,-3.1035741090311686 L32.95198289849414,-3.2640318062732225 L33.01453052384916,-3.4233474508603905 L33.08004713159111,-3.5814652998141536 L33.14850979810274,-3.7383300292529107 L33.21989456896979,-3.8938867537492707 L33.2941764673624,-4.048081045533913 L33.371329502774245,-4.200858953539341 L33.451326680116395,-4.352167022276822 L33.53414000916259,-4.501952310539936 L33.619740514342766,-4.6501624099281935 L33.70809824488131,-4.796745463184206 L33.79918228527656,-4.941650182338048 L33.892960766117824,-5.084825866652397 L33.98940087523617,-5.226222420362231 L34.0884688691851,-5.365790370202849 L34.19013008504702,-5.503480882720067 L34.29434895256147,-5.639245781356581 L34.40108900657082,-5.773037563308453 L34.51031289977907,-5.904809416145888 L34.62198241581927,-6.034515234192442 L34.736058482625076,-6.162109634656936 L34.8525011861017,-6.287547973512463 L34.971269784091405,-6.410786361116877 L35.09232272062886,-6.531781677569364 L35.215617640481085,-6.650491587797662 L35.34111140396719,-6.76687455637069 L35.46876010205251,-6.8808898620313865 L35.59851907171191,-6.992497611944673 L35.730342911557,-7.101658755655575 L35.8641854977216,-7.208335098752586 L36.0,-7.312489316231511 L 36.0,-7.312489316231511",
          "type": "path"
         },
         {
          "fillcolor": "rgba(0, 0, 0, 0)",
          "line": {
           "color": "darkgrey",
           "dash": "solid",
           "width": 0.5
          },
          "type": "rect",
          "x0": -54.5,
          "x1": -52.5,
          "y0": -3.66,
          "y1": 3.66
         },
         {
          "fillcolor": "rgba(0, 0, 0, 0)",
          "line": {
           "color": "darkgrey",
           "dash": "solid",
           "width": 0.5
          },
          "type": "rect",
          "x0": 52.5,
          "x1": 54.5,
          "y0": -3.66,
          "y1": 3.66
         }
        ],
        "sliders": [
         {
          "active": 27,
          "font": {
           "size": 10
          },
          "steps": [
           {
            "args": [
             {
              "visible": [
               true,
               true,
               false,
               false,
               false,
               false,
               false,
               false,
               false,
               false,
               false,
               false,
               false,
               false,
               false,
               false,
               false,
               false,
               false,
               false,
               false,
               false,
               false,
               false,
               false,
               false,
               false,
               false,
               false,
               false,
               false,
               false,
               false,
               false,
               false,
               false,
               false,
               false,
               false,
               false,
               false,
               false,
               false,
               false,
               false,
               false,
               false,
               false,
               false,
               false,
               false,
               false,
               false,
               false,
               false,
               false
              ]
             }
            ],
            "label": "293",
            "method": "update"
           },
           {
            "args": [
             {
              "visible": [
               false,
               false,
               true,
               true,
               false,
               false,
               false,
               false,
               false,
               false,
               false,
               false,
               false,
               false,
               false,
               false,
               false,
               false,
               false,
               false,
               false,
               false,
               false,
               false,
               false,
               false,
               false,
               false,
               false,
               false,
               false,
               false,
               false,
               false,
               false,
               false,
               false,
               false,
               false,
               false,
               false,
               false,
               false,
               false,
               false,
               false,
               false,
               false,
               false,
               false,
               false,
               false,
               false,
               false,
               false,
               false
              ]
             }
            ],
            "label": "294",
            "method": "update"
           },
           {
            "args": [
             {
              "visible": [
               false,
               false,
               false,
               false,
               true,
               true,
               false,
               false,
               false,
               false,
               false,
               false,
               false,
               false,
               false,
               false,
               false,
               false,
               false,
               false,
               false,
               false,
               false,
               false,
               false,
               false,
               false,
               false,
               false,
               false,
               false,
               false,
               false,
               false,
               false,
               false,
               false,
               false,
               false,
               false,
               false,
               false,
               false,
               false,
               false,
               false,
               false,
               false,
               false,
               false,
               false,
               false,
               false,
               false,
               false,
               false
              ]
             }
            ],
            "label": "295",
            "method": "update"
           },
           {
            "args": [
             {
              "visible": [
               false,
               false,
               false,
               false,
               false,
               false,
               true,
               true,
               false,
               false,
               false,
               false,
               false,
               false,
               false,
               false,
               false,
               false,
               false,
               false,
               false,
               false,
               false,
               false,
               false,
               false,
               false,
               false,
               false,
               false,
               false,
               false,
               false,
               false,
               false,
               false,
               false,
               false,
               false,
               false,
               false,
               false,
               false,
               false,
               false,
               false,
               false,
               false,
               false,
               false,
               false,
               false,
               false,
               false,
               false,
               false
              ]
             }
            ],
            "label": "296",
            "method": "update"
           },
           {
            "args": [
             {
              "visible": [
               false,
               false,
               false,
               false,
               false,
               false,
               false,
               false,
               true,
               true,
               false,
               false,
               false,
               false,
               false,
               false,
               false,
               false,
               false,
               false,
               false,
               false,
               false,
               false,
               false,
               false,
               false,
               false,
               false,
               false,
               false,
               false,
               false,
               false,
               false,
               false,
               false,
               false,
               false,
               false,
               false,
               false,
               false,
               false,
               false,
               false,
               false,
               false,
               false,
               false,
               false,
               false,
               false,
               false,
               false,
               false
              ]
             }
            ],
            "label": "297",
            "method": "update"
           },
           {
            "args": [
             {
              "visible": [
               false,
               false,
               false,
               false,
               false,
               false,
               false,
               false,
               false,
               false,
               true,
               true,
               false,
               false,
               false,
               false,
               false,
               false,
               false,
               false,
               false,
               false,
               false,
               false,
               false,
               false,
               false,
               false,
               false,
               false,
               false,
               false,
               false,
               false,
               false,
               false,
               false,
               false,
               false,
               false,
               false,
               false,
               false,
               false,
               false,
               false,
               false,
               false,
               false,
               false,
               false,
               false,
               false,
               false,
               false,
               false
              ]
             }
            ],
            "label": "298",
            "method": "update"
           },
           {
            "args": [
             {
              "visible": [
               false,
               false,
               false,
               false,
               false,
               false,
               false,
               false,
               false,
               false,
               false,
               false,
               true,
               true,
               false,
               false,
               false,
               false,
               false,
               false,
               false,
               false,
               false,
               false,
               false,
               false,
               false,
               false,
               false,
               false,
               false,
               false,
               false,
               false,
               false,
               false,
               false,
               false,
               false,
               false,
               false,
               false,
               false,
               false,
               false,
               false,
               false,
               false,
               false,
               false,
               false,
               false,
               false,
               false,
               false,
               false
              ]
             }
            ],
            "label": "299",
            "method": "update"
           },
           {
            "args": [
             {
              "visible": [
               false,
               false,
               false,
               false,
               false,
               false,
               false,
               false,
               false,
               false,
               false,
               false,
               false,
               false,
               true,
               true,
               false,
               false,
               false,
               false,
               false,
               false,
               false,
               false,
               false,
               false,
               false,
               false,
               false,
               false,
               false,
               false,
               false,
               false,
               false,
               false,
               false,
               false,
               false,
               false,
               false,
               false,
               false,
               false,
               false,
               false,
               false,
               false,
               false,
               false,
               false,
               false,
               false,
               false,
               false,
               false
              ]
             }
            ],
            "label": "300",
            "method": "update"
           },
           {
            "args": [
             {
              "visible": [
               false,
               false,
               false,
               false,
               false,
               false,
               false,
               false,
               false,
               false,
               false,
               false,
               false,
               false,
               false,
               false,
               true,
               true,
               false,
               false,
               false,
               false,
               false,
               false,
               false,
               false,
               false,
               false,
               false,
               false,
               false,
               false,
               false,
               false,
               false,
               false,
               false,
               false,
               false,
               false,
               false,
               false,
               false,
               false,
               false,
               false,
               false,
               false,
               false,
               false,
               false,
               false,
               false,
               false,
               false,
               false
              ]
             }
            ],
            "label": "301",
            "method": "update"
           },
           {
            "args": [
             {
              "visible": [
               false,
               false,
               false,
               false,
               false,
               false,
               false,
               false,
               false,
               false,
               false,
               false,
               false,
               false,
               false,
               false,
               false,
               false,
               true,
               true,
               false,
               false,
               false,
               false,
               false,
               false,
               false,
               false,
               false,
               false,
               false,
               false,
               false,
               false,
               false,
               false,
               false,
               false,
               false,
               false,
               false,
               false,
               false,
               false,
               false,
               false,
               false,
               false,
               false,
               false,
               false,
               false,
               false,
               false,
               false,
               false
              ]
             }
            ],
            "label": "302",
            "method": "update"
           },
           {
            "args": [
             {
              "visible": [
               false,
               false,
               false,
               false,
               false,
               false,
               false,
               false,
               false,
               false,
               false,
               false,
               false,
               false,
               false,
               false,
               false,
               false,
               false,
               false,
               true,
               true,
               false,
               false,
               false,
               false,
               false,
               false,
               false,
               false,
               false,
               false,
               false,
               false,
               false,
               false,
               false,
               false,
               false,
               false,
               false,
               false,
               false,
               false,
               false,
               false,
               false,
               false,
               false,
               false,
               false,
               false,
               false,
               false,
               false,
               false
              ]
             }
            ],
            "label": "303",
            "method": "update"
           },
           {
            "args": [
             {
              "visible": [
               false,
               false,
               false,
               false,
               false,
               false,
               false,
               false,
               false,
               false,
               false,
               false,
               false,
               false,
               false,
               false,
               false,
               false,
               false,
               false,
               false,
               false,
               true,
               true,
               false,
               false,
               false,
               false,
               false,
               false,
               false,
               false,
               false,
               false,
               false,
               false,
               false,
               false,
               false,
               false,
               false,
               false,
               false,
               false,
               false,
               false,
               false,
               false,
               false,
               false,
               false,
               false,
               false,
               false,
               false,
               false
              ]
             }
            ],
            "label": "304",
            "method": "update"
           },
           {
            "args": [
             {
              "visible": [
               false,
               false,
               false,
               false,
               false,
               false,
               false,
               false,
               false,
               false,
               false,
               false,
               false,
               false,
               false,
               false,
               false,
               false,
               false,
               false,
               false,
               false,
               false,
               false,
               true,
               true,
               false,
               false,
               false,
               false,
               false,
               false,
               false,
               false,
               false,
               false,
               false,
               false,
               false,
               false,
               false,
               false,
               false,
               false,
               false,
               false,
               false,
               false,
               false,
               false,
               false,
               false,
               false,
               false,
               false,
               false
              ]
             }
            ],
            "label": "305",
            "method": "update"
           },
           {
            "args": [
             {
              "visible": [
               false,
               false,
               false,
               false,
               false,
               false,
               false,
               false,
               false,
               false,
               false,
               false,
               false,
               false,
               false,
               false,
               false,
               false,
               false,
               false,
               false,
               false,
               false,
               false,
               false,
               false,
               true,
               true,
               false,
               false,
               false,
               false,
               false,
               false,
               false,
               false,
               false,
               false,
               false,
               false,
               false,
               false,
               false,
               false,
               false,
               false,
               false,
               false,
               false,
               false,
               false,
               false,
               false,
               false,
               false,
               false
              ]
             }
            ],
            "label": "306",
            "method": "update"
           },
           {
            "args": [
             {
              "visible": [
               false,
               false,
               false,
               false,
               false,
               false,
               false,
               false,
               false,
               false,
               false,
               false,
               false,
               false,
               false,
               false,
               false,
               false,
               false,
               false,
               false,
               false,
               false,
               false,
               false,
               false,
               false,
               false,
               true,
               true,
               false,
               false,
               false,
               false,
               false,
               false,
               false,
               false,
               false,
               false,
               false,
               false,
               false,
               false,
               false,
               false,
               false,
               false,
               false,
               false,
               false,
               false,
               false,
               false,
               false,
               false
              ]
             }
            ],
            "label": "307",
            "method": "update"
           },
           {
            "args": [
             {
              "visible": [
               false,
               false,
               false,
               false,
               false,
               false,
               false,
               false,
               false,
               false,
               false,
               false,
               false,
               false,
               false,
               false,
               false,
               false,
               false,
               false,
               false,
               false,
               false,
               false,
               false,
               false,
               false,
               false,
               false,
               false,
               true,
               true,
               false,
               false,
               false,
               false,
               false,
               false,
               false,
               false,
               false,
               false,
               false,
               false,
               false,
               false,
               false,
               false,
               false,
               false,
               false,
               false,
               false,
               false,
               false,
               false
              ]
             }
            ],
            "label": "308",
            "method": "update"
           },
           {
            "args": [
             {
              "visible": [
               false,
               false,
               false,
               false,
               false,
               false,
               false,
               false,
               false,
               false,
               false,
               false,
               false,
               false,
               false,
               false,
               false,
               false,
               false,
               false,
               false,
               false,
               false,
               false,
               false,
               false,
               false,
               false,
               false,
               false,
               false,
               false,
               true,
               true,
               false,
               false,
               false,
               false,
               false,
               false,
               false,
               false,
               false,
               false,
               false,
               false,
               false,
               false,
               false,
               false,
               false,
               false,
               false,
               false,
               false,
               false
              ]
             }
            ],
            "label": "309",
            "method": "update"
           },
           {
            "args": [
             {
              "visible": [
               false,
               false,
               false,
               false,
               false,
               false,
               false,
               false,
               false,
               false,
               false,
               false,
               false,
               false,
               false,
               false,
               false,
               false,
               false,
               false,
               false,
               false,
               false,
               false,
               false,
               false,
               false,
               false,
               false,
               false,
               false,
               false,
               false,
               false,
               true,
               true,
               false,
               false,
               false,
               false,
               false,
               false,
               false,
               false,
               false,
               false,
               false,
               false,
               false,
               false,
               false,
               false,
               false,
               false,
               false,
               false
              ]
             }
            ],
            "label": "310",
            "method": "update"
           },
           {
            "args": [
             {
              "visible": [
               false,
               false,
               false,
               false,
               false,
               false,
               false,
               false,
               false,
               false,
               false,
               false,
               false,
               false,
               false,
               false,
               false,
               false,
               false,
               false,
               false,
               false,
               false,
               false,
               false,
               false,
               false,
               false,
               false,
               false,
               false,
               false,
               false,
               false,
               false,
               false,
               true,
               true,
               false,
               false,
               false,
               false,
               false,
               false,
               false,
               false,
               false,
               false,
               false,
               false,
               false,
               false,
               false,
               false,
               false,
               false
              ]
             }
            ],
            "label": "311",
            "method": "update"
           },
           {
            "args": [
             {
              "visible": [
               false,
               false,
               false,
               false,
               false,
               false,
               false,
               false,
               false,
               false,
               false,
               false,
               false,
               false,
               false,
               false,
               false,
               false,
               false,
               false,
               false,
               false,
               false,
               false,
               false,
               false,
               false,
               false,
               false,
               false,
               false,
               false,
               false,
               false,
               false,
               false,
               false,
               false,
               true,
               true,
               false,
               false,
               false,
               false,
               false,
               false,
               false,
               false,
               false,
               false,
               false,
               false,
               false,
               false,
               false,
               false
              ]
             }
            ],
            "label": "312",
            "method": "update"
           },
           {
            "args": [
             {
              "visible": [
               false,
               false,
               false,
               false,
               false,
               false,
               false,
               false,
               false,
               false,
               false,
               false,
               false,
               false,
               false,
               false,
               false,
               false,
               false,
               false,
               false,
               false,
               false,
               false,
               false,
               false,
               false,
               false,
               false,
               false,
               false,
               false,
               false,
               false,
               false,
               false,
               false,
               false,
               false,
               false,
               true,
               true,
               false,
               false,
               false,
               false,
               false,
               false,
               false,
               false,
               false,
               false,
               false,
               false,
               false,
               false
              ]
             }
            ],
            "label": "313",
            "method": "update"
           },
           {
            "args": [
             {
              "visible": [
               false,
               false,
               false,
               false,
               false,
               false,
               false,
               false,
               false,
               false,
               false,
               false,
               false,
               false,
               false,
               false,
               false,
               false,
               false,
               false,
               false,
               false,
               false,
               false,
               false,
               false,
               false,
               false,
               false,
               false,
               false,
               false,
               false,
               false,
               false,
               false,
               false,
               false,
               false,
               false,
               false,
               false,
               true,
               true,
               false,
               false,
               false,
               false,
               false,
               false,
               false,
               false,
               false,
               false,
               false,
               false
              ]
             }
            ],
            "label": "314",
            "method": "update"
           },
           {
            "args": [
             {
              "visible": [
               false,
               false,
               false,
               false,
               false,
               false,
               false,
               false,
               false,
               false,
               false,
               false,
               false,
               false,
               false,
               false,
               false,
               false,
               false,
               false,
               false,
               false,
               false,
               false,
               false,
               false,
               false,
               false,
               false,
               false,
               false,
               false,
               false,
               false,
               false,
               false,
               false,
               false,
               false,
               false,
               false,
               false,
               false,
               false,
               true,
               true,
               false,
               false,
               false,
               false,
               false,
               false,
               false,
               false,
               false,
               false
              ]
             }
            ],
            "label": "315",
            "method": "update"
           },
           {
            "args": [
             {
              "visible": [
               false,
               false,
               false,
               false,
               false,
               false,
               false,
               false,
               false,
               false,
               false,
               false,
               false,
               false,
               false,
               false,
               false,
               false,
               false,
               false,
               false,
               false,
               false,
               false,
               false,
               false,
               false,
               false,
               false,
               false,
               false,
               false,
               false,
               false,
               false,
               false,
               false,
               false,
               false,
               false,
               false,
               false,
               false,
               false,
               false,
               false,
               true,
               true,
               false,
               false,
               false,
               false,
               false,
               false,
               false,
               false
              ]
             }
            ],
            "label": "316",
            "method": "update"
           },
           {
            "args": [
             {
              "visible": [
               false,
               false,
               false,
               false,
               false,
               false,
               false,
               false,
               false,
               false,
               false,
               false,
               false,
               false,
               false,
               false,
               false,
               false,
               false,
               false,
               false,
               false,
               false,
               false,
               false,
               false,
               false,
               false,
               false,
               false,
               false,
               false,
               false,
               false,
               false,
               false,
               false,
               false,
               false,
               false,
               false,
               false,
               false,
               false,
               false,
               false,
               false,
               false,
               true,
               true,
               false,
               false,
               false,
               false,
               false,
               false
              ]
             }
            ],
            "label": "317",
            "method": "update"
           },
           {
            "args": [
             {
              "visible": [
               false,
               false,
               false,
               false,
               false,
               false,
               false,
               false,
               false,
               false,
               false,
               false,
               false,
               false,
               false,
               false,
               false,
               false,
               false,
               false,
               false,
               false,
               false,
               false,
               false,
               false,
               false,
               false,
               false,
               false,
               false,
               false,
               false,
               false,
               false,
               false,
               false,
               false,
               false,
               false,
               false,
               false,
               false,
               false,
               false,
               false,
               false,
               false,
               false,
               false,
               true,
               true,
               false,
               false,
               false,
               false
              ]
             }
            ],
            "label": "318",
            "method": "update"
           },
           {
            "args": [
             {
              "visible": [
               false,
               false,
               false,
               false,
               false,
               false,
               false,
               false,
               false,
               false,
               false,
               false,
               false,
               false,
               false,
               false,
               false,
               false,
               false,
               false,
               false,
               false,
               false,
               false,
               false,
               false,
               false,
               false,
               false,
               false,
               false,
               false,
               false,
               false,
               false,
               false,
               false,
               false,
               false,
               false,
               false,
               false,
               false,
               false,
               false,
               false,
               false,
               false,
               false,
               false,
               false,
               false,
               true,
               true,
               false,
               false
              ]
             }
            ],
            "label": "319",
            "method": "update"
           },
           {
            "args": [
             {
              "visible": [
               false,
               false,
               false,
               false,
               false,
               false,
               false,
               false,
               false,
               false,
               false,
               false,
               false,
               false,
               false,
               false,
               false,
               false,
               false,
               false,
               false,
               false,
               false,
               false,
               false,
               false,
               false,
               false,
               false,
               false,
               false,
               false,
               false,
               false,
               false,
               false,
               false,
               false,
               false,
               false,
               false,
               false,
               false,
               false,
               false,
               false,
               false,
               false,
               false,
               false,
               false,
               false,
               false,
               false,
               true,
               true
              ]
             }
            ],
            "label": "320",
            "method": "update"
           }
          ]
         }
        ],
        "template": {
         "data": {
          "bar": [
           {
            "error_x": {
             "color": "#2a3f5f"
            },
            "error_y": {
             "color": "#2a3f5f"
            },
            "marker": {
             "line": {
              "color": "#E5ECF6",
              "width": 0.5
             },
             "pattern": {
              "fillmode": "overlay",
              "size": 10,
              "solidity": 0.2
             }
            },
            "type": "bar"
           }
          ],
          "barpolar": [
           {
            "marker": {
             "line": {
              "color": "#E5ECF6",
              "width": 0.5
             },
             "pattern": {
              "fillmode": "overlay",
              "size": 10,
              "solidity": 0.2
             }
            },
            "type": "barpolar"
           }
          ],
          "carpet": [
           {
            "aaxis": {
             "endlinecolor": "#2a3f5f",
             "gridcolor": "white",
             "linecolor": "white",
             "minorgridcolor": "white",
             "startlinecolor": "#2a3f5f"
            },
            "baxis": {
             "endlinecolor": "#2a3f5f",
             "gridcolor": "white",
             "linecolor": "white",
             "minorgridcolor": "white",
             "startlinecolor": "#2a3f5f"
            },
            "type": "carpet"
           }
          ],
          "choropleth": [
           {
            "colorbar": {
             "outlinewidth": 0,
             "ticks": ""
            },
            "type": "choropleth"
           }
          ],
          "contour": [
           {
            "colorbar": {
             "outlinewidth": 0,
             "ticks": ""
            },
            "colorscale": [
             [
              0,
              "#0d0887"
             ],
             [
              0.1111111111111111,
              "#46039f"
             ],
             [
              0.2222222222222222,
              "#7201a8"
             ],
             [
              0.3333333333333333,
              "#9c179e"
             ],
             [
              0.4444444444444444,
              "#bd3786"
             ],
             [
              0.5555555555555556,
              "#d8576b"
             ],
             [
              0.6666666666666666,
              "#ed7953"
             ],
             [
              0.7777777777777778,
              "#fb9f3a"
             ],
             [
              0.8888888888888888,
              "#fdca26"
             ],
             [
              1,
              "#f0f921"
             ]
            ],
            "type": "contour"
           }
          ],
          "contourcarpet": [
           {
            "colorbar": {
             "outlinewidth": 0,
             "ticks": ""
            },
            "type": "contourcarpet"
           }
          ],
          "heatmap": [
           {
            "colorbar": {
             "outlinewidth": 0,
             "ticks": ""
            },
            "colorscale": [
             [
              0,
              "#0d0887"
             ],
             [
              0.1111111111111111,
              "#46039f"
             ],
             [
              0.2222222222222222,
              "#7201a8"
             ],
             [
              0.3333333333333333,
              "#9c179e"
             ],
             [
              0.4444444444444444,
              "#bd3786"
             ],
             [
              0.5555555555555556,
              "#d8576b"
             ],
             [
              0.6666666666666666,
              "#ed7953"
             ],
             [
              0.7777777777777778,
              "#fb9f3a"
             ],
             [
              0.8888888888888888,
              "#fdca26"
             ],
             [
              1,
              "#f0f921"
             ]
            ],
            "type": "heatmap"
           }
          ],
          "heatmapgl": [
           {
            "colorbar": {
             "outlinewidth": 0,
             "ticks": ""
            },
            "colorscale": [
             [
              0,
              "#0d0887"
             ],
             [
              0.1111111111111111,
              "#46039f"
             ],
             [
              0.2222222222222222,
              "#7201a8"
             ],
             [
              0.3333333333333333,
              "#9c179e"
             ],
             [
              0.4444444444444444,
              "#bd3786"
             ],
             [
              0.5555555555555556,
              "#d8576b"
             ],
             [
              0.6666666666666666,
              "#ed7953"
             ],
             [
              0.7777777777777778,
              "#fb9f3a"
             ],
             [
              0.8888888888888888,
              "#fdca26"
             ],
             [
              1,
              "#f0f921"
             ]
            ],
            "type": "heatmapgl"
           }
          ],
          "histogram": [
           {
            "marker": {
             "pattern": {
              "fillmode": "overlay",
              "size": 10,
              "solidity": 0.2
             }
            },
            "type": "histogram"
           }
          ],
          "histogram2d": [
           {
            "colorbar": {
             "outlinewidth": 0,
             "ticks": ""
            },
            "colorscale": [
             [
              0,
              "#0d0887"
             ],
             [
              0.1111111111111111,
              "#46039f"
             ],
             [
              0.2222222222222222,
              "#7201a8"
             ],
             [
              0.3333333333333333,
              "#9c179e"
             ],
             [
              0.4444444444444444,
              "#bd3786"
             ],
             [
              0.5555555555555556,
              "#d8576b"
             ],
             [
              0.6666666666666666,
              "#ed7953"
             ],
             [
              0.7777777777777778,
              "#fb9f3a"
             ],
             [
              0.8888888888888888,
              "#fdca26"
             ],
             [
              1,
              "#f0f921"
             ]
            ],
            "type": "histogram2d"
           }
          ],
          "histogram2dcontour": [
           {
            "colorbar": {
             "outlinewidth": 0,
             "ticks": ""
            },
            "colorscale": [
             [
              0,
              "#0d0887"
             ],
             [
              0.1111111111111111,
              "#46039f"
             ],
             [
              0.2222222222222222,
              "#7201a8"
             ],
             [
              0.3333333333333333,
              "#9c179e"
             ],
             [
              0.4444444444444444,
              "#bd3786"
             ],
             [
              0.5555555555555556,
              "#d8576b"
             ],
             [
              0.6666666666666666,
              "#ed7953"
             ],
             [
              0.7777777777777778,
              "#fb9f3a"
             ],
             [
              0.8888888888888888,
              "#fdca26"
             ],
             [
              1,
              "#f0f921"
             ]
            ],
            "type": "histogram2dcontour"
           }
          ],
          "mesh3d": [
           {
            "colorbar": {
             "outlinewidth": 0,
             "ticks": ""
            },
            "type": "mesh3d"
           }
          ],
          "parcoords": [
           {
            "line": {
             "colorbar": {
              "outlinewidth": 0,
              "ticks": ""
             }
            },
            "type": "parcoords"
           }
          ],
          "pie": [
           {
            "automargin": true,
            "type": "pie"
           }
          ],
          "scatter": [
           {
            "fillpattern": {
             "fillmode": "overlay",
             "size": 10,
             "solidity": 0.2
            },
            "type": "scatter"
           }
          ],
          "scatter3d": [
           {
            "line": {
             "colorbar": {
              "outlinewidth": 0,
              "ticks": ""
             }
            },
            "marker": {
             "colorbar": {
              "outlinewidth": 0,
              "ticks": ""
             }
            },
            "type": "scatter3d"
           }
          ],
          "scattercarpet": [
           {
            "marker": {
             "colorbar": {
              "outlinewidth": 0,
              "ticks": ""
             }
            },
            "type": "scattercarpet"
           }
          ],
          "scattergeo": [
           {
            "marker": {
             "colorbar": {
              "outlinewidth": 0,
              "ticks": ""
             }
            },
            "type": "scattergeo"
           }
          ],
          "scattergl": [
           {
            "marker": {
             "colorbar": {
              "outlinewidth": 0,
              "ticks": ""
             }
            },
            "type": "scattergl"
           }
          ],
          "scattermapbox": [
           {
            "marker": {
             "colorbar": {
              "outlinewidth": 0,
              "ticks": ""
             }
            },
            "type": "scattermapbox"
           }
          ],
          "scatterpolar": [
           {
            "marker": {
             "colorbar": {
              "outlinewidth": 0,
              "ticks": ""
             }
            },
            "type": "scatterpolar"
           }
          ],
          "scatterpolargl": [
           {
            "marker": {
             "colorbar": {
              "outlinewidth": 0,
              "ticks": ""
             }
            },
            "type": "scatterpolargl"
           }
          ],
          "scatterternary": [
           {
            "marker": {
             "colorbar": {
              "outlinewidth": 0,
              "ticks": ""
             }
            },
            "type": "scatterternary"
           }
          ],
          "surface": [
           {
            "colorbar": {
             "outlinewidth": 0,
             "ticks": ""
            },
            "colorscale": [
             [
              0,
              "#0d0887"
             ],
             [
              0.1111111111111111,
              "#46039f"
             ],
             [
              0.2222222222222222,
              "#7201a8"
             ],
             [
              0.3333333333333333,
              "#9c179e"
             ],
             [
              0.4444444444444444,
              "#bd3786"
             ],
             [
              0.5555555555555556,
              "#d8576b"
             ],
             [
              0.6666666666666666,
              "#ed7953"
             ],
             [
              0.7777777777777778,
              "#fb9f3a"
             ],
             [
              0.8888888888888888,
              "#fdca26"
             ],
             [
              1,
              "#f0f921"
             ]
            ],
            "type": "surface"
           }
          ],
          "table": [
           {
            "cells": {
             "fill": {
              "color": "#EBF0F8"
             },
             "line": {
              "color": "white"
             }
            },
            "header": {
             "fill": {
              "color": "#C8D4E3"
             },
             "line": {
              "color": "white"
             }
            },
            "type": "table"
           }
          ]
         },
         "layout": {
          "annotationdefaults": {
           "arrowcolor": "#2a3f5f",
           "arrowhead": 0,
           "arrowwidth": 1
          },
          "autotypenumbers": "strict",
          "coloraxis": {
           "colorbar": {
            "outlinewidth": 0,
            "ticks": ""
           }
          },
          "colorscale": {
           "diverging": [
            [
             0,
             "#8e0152"
            ],
            [
             0.1,
             "#c51b7d"
            ],
            [
             0.2,
             "#de77ae"
            ],
            [
             0.3,
             "#f1b6da"
            ],
            [
             0.4,
             "#fde0ef"
            ],
            [
             0.5,
             "#f7f7f7"
            ],
            [
             0.6,
             "#e6f5d0"
            ],
            [
             0.7,
             "#b8e186"
            ],
            [
             0.8,
             "#7fbc41"
            ],
            [
             0.9,
             "#4d9221"
            ],
            [
             1,
             "#276419"
            ]
           ],
           "sequential": [
            [
             0,
             "#0d0887"
            ],
            [
             0.1111111111111111,
             "#46039f"
            ],
            [
             0.2222222222222222,
             "#7201a8"
            ],
            [
             0.3333333333333333,
             "#9c179e"
            ],
            [
             0.4444444444444444,
             "#bd3786"
            ],
            [
             0.5555555555555556,
             "#d8576b"
            ],
            [
             0.6666666666666666,
             "#ed7953"
            ],
            [
             0.7777777777777778,
             "#fb9f3a"
            ],
            [
             0.8888888888888888,
             "#fdca26"
            ],
            [
             1,
             "#f0f921"
            ]
           ],
           "sequentialminus": [
            [
             0,
             "#0d0887"
            ],
            [
             0.1111111111111111,
             "#46039f"
            ],
            [
             0.2222222222222222,
             "#7201a8"
            ],
            [
             0.3333333333333333,
             "#9c179e"
            ],
            [
             0.4444444444444444,
             "#bd3786"
            ],
            [
             0.5555555555555556,
             "#d8576b"
            ],
            [
             0.6666666666666666,
             "#ed7953"
            ],
            [
             0.7777777777777778,
             "#fb9f3a"
            ],
            [
             0.8888888888888888,
             "#fdca26"
            ],
            [
             1,
             "#f0f921"
            ]
           ]
          },
          "colorway": [
           "#636efa",
           "#EF553B",
           "#00cc96",
           "#ab63fa",
           "#FFA15A",
           "#19d3f3",
           "#FF6692",
           "#B6E880",
           "#FF97FF",
           "#FECB52"
          ],
          "font": {
           "color": "#2a3f5f"
          },
          "geo": {
           "bgcolor": "white",
           "lakecolor": "white",
           "landcolor": "#E5ECF6",
           "showlakes": true,
           "showland": true,
           "subunitcolor": "white"
          },
          "hoverlabel": {
           "align": "left"
          },
          "hovermode": "closest",
          "mapbox": {
           "style": "light"
          },
          "paper_bgcolor": "white",
          "plot_bgcolor": "#E5ECF6",
          "polar": {
           "angularaxis": {
            "gridcolor": "white",
            "linecolor": "white",
            "ticks": ""
           },
           "bgcolor": "#E5ECF6",
           "radialaxis": {
            "gridcolor": "white",
            "linecolor": "white",
            "ticks": ""
           }
          },
          "scene": {
           "xaxis": {
            "backgroundcolor": "#E5ECF6",
            "gridcolor": "white",
            "gridwidth": 2,
            "linecolor": "white",
            "showbackground": true,
            "ticks": "",
            "zerolinecolor": "white"
           },
           "yaxis": {
            "backgroundcolor": "#E5ECF6",
            "gridcolor": "white",
            "gridwidth": 2,
            "linecolor": "white",
            "showbackground": true,
            "ticks": "",
            "zerolinecolor": "white"
           },
           "zaxis": {
            "backgroundcolor": "#E5ECF6",
            "gridcolor": "white",
            "gridwidth": 2,
            "linecolor": "white",
            "showbackground": true,
            "ticks": "",
            "zerolinecolor": "white"
           }
          },
          "shapedefaults": {
           "line": {
            "color": "#2a3f5f"
           }
          },
          "ternary": {
           "aaxis": {
            "gridcolor": "white",
            "linecolor": "white",
            "ticks": ""
           },
           "baxis": {
            "gridcolor": "white",
            "linecolor": "white",
            "ticks": ""
           },
           "bgcolor": "#E5ECF6",
           "caxis": {
            "gridcolor": "white",
            "linecolor": "white",
            "ticks": ""
           }
          },
          "title": {
           "x": 0.05
          },
          "xaxis": {
           "automargin": true,
           "gridcolor": "white",
           "linecolor": "white",
           "ticks": "",
           "title": {
            "standoff": 15
           },
           "zerolinecolor": "white",
           "zerolinewidth": 2
          },
          "yaxis": {
           "automargin": true,
           "gridcolor": "white",
           "linecolor": "white",
           "ticks": "",
           "title": {
            "standoff": 15
           },
           "zerolinecolor": "white",
           "zerolinewidth": 2
          }
         }
        },
        "width": 920,
        "xaxis": {
         "constrain": "domain",
         "domain": [
          0.031707317073170704,
          0.9682926829268292
         ],
         "range": [
          -55.5,
          55.5
         ],
         "showgrid": false,
         "showticklabels": false,
         "type": "linear",
         "zeroline": false
        },
        "yaxis": {
         "domain": [
          0,
          1
         ],
         "range": [
          -37,
          37
         ],
         "scaleanchor": "x",
         "scaleratio": 1,
         "showgrid": false,
         "showticklabels": false,
         "type": "linear",
         "zeroline": false
        }
       }
      },
      "image/png": "[encoded data removed]",
      "text/html": [
       "<div>                            <div id=\"2272589a-2790-42cf-bebc-52aa30b595a3\" class=\"plotly-graph-div\" style=\"height:600px; width:920px;\"></div>            <script type=\"text/javascript\">                require([\"plotly\"], function(Plotly) {                    window.PLOTLYENV=window.PLOTLYENV || {};                                    if (document.getElementById(\"2272589a-2790-42cf-bebc-52aa30b595a3\")) {                    Plotly.newPlot(                        \"2272589a-2790-42cf-bebc-52aa30b595a3\",                        [{\"hovertext\":[\"Daphne van Domselaar\",\"Anna Patten\",\"Rachel Corsie\",\"Sarah Emma Mayling\",\"Danielle Turner\",\"Lucy Staniforth\",\"Lucy Parker\",\"Laura Madison Blindkilde Brown\",\"Alisha Lehmann\",\"Kirsty Hanson\",\"Rachel Daly\",\"Mary Earps\",\"Maya Le Tissier\",\"Millie Turner\",\"Hannah Blundell\",\"Gabrielle George\",\"Katie Zelem\",\"Ella Toone\",\"Hayley Ladd\",\"Lucía García Córdoba\",\"Leah Galton\",\" Geyse\"],\"marker\":{\"color\":[\"steelblue\",\"steelblue\",\"steelblue\",\"steelblue\",\"steelblue\",\"steelblue\",\"steelblue\",\"steelblue\",\"steelblue\",\"steelblue\",\"steelblue\",\"tan\",\"tan\",\"tan\",\"tan\",\"tan\",\"tan\",\"tan\",\"tan\",\"tan\",\"tan\",\"tan\"]},\"mode\":\"markers\",\"showlegend\":false,\"visible\":true,\"x\":[-36.46,-7.99,-8.99,-7.5,-8.76,0.42,2.45,7.25,3.6,0.05,15.21,38.48,18.42,21.09,-1.79,10.85,7.54,-4.0,1.94,-4.79,-7.4,-4.81],\"y\":[1.34,-1.5,6.99,-10.12,14.98,10.52,-3.44,1.27,-10.58,20.88,11.77,1.73,13.97,-5.51,33.19,-25.02,-0.83,-7.06,10.72,13.92,-13.43,1.11],\"type\":\"scatter\"},{\"marker\":{\"color\":\"black\"},\"mode\":\"markers\",\"showlegend\":false,\"visible\":true,\"x\":[17.99],\"y\":[14.4],\"type\":\"scatter\"},{\"hovertext\":[\"Daphne van Domselaar\",\"Anna Patten\",\"Rachel Corsie\",\"Sarah Emma Mayling\",\"Danielle Turner\",\"Lucy Staniforth\",\"Lucy Parker\",\"Laura Madison Blindkilde Brown\",\"Alisha Lehmann\",\"Kirsty Hanson\",\"Rachel Daly\",\"Mary Earps\",\"Maya Le Tissier\",\"Millie Turner\",\"Hannah Blundell\",\"Gabrielle George\",\"Katie Zelem\",\"Ella Toone\",\"Hayley Ladd\",\"Lucía García Córdoba\",\"Leah Galton\",\" Geyse\"],\"marker\":{\"color\":[\"steelblue\",\"steelblue\",\"steelblue\",\"steelblue\",\"steelblue\",\"steelblue\",\"steelblue\",\"steelblue\",\"steelblue\",\"steelblue\",\"steelblue\",\"tan\",\"tan\",\"tan\",\"tan\",\"tan\",\"tan\",\"tan\",\"tan\",\"tan\",\"tan\",\"tan\"]},\"mode\":\"markers\",\"showlegend\":false,\"visible\":false,\"x\":[-36.56,-8.13,-9.16,-7.63,-8.87,0.2,2.27,6.99,3.36,-0.17,15.4,38.43,18.11,21.0,-1.78,10.67,7.47,-4.09,1.74,-4.81,-7.54,-4.78],\"y\":[1.43,-1.25,7.23,-9.84,15.26,10.84,-3.15,1.55,-10.31,21.29,12.29,1.82,14.11,-5.39,33.22,-24.85,-0.59,-6.78,10.92,13.96,-13.23,1.37],\"type\":\"scatter\"},{\"marker\":{\"color\":\"black\"},\"mode\":\"markers\",\"showlegend\":false,\"visible\":false,\"x\":[17.67],\"y\":[14.51],\"type\":\"scatter\"},{\"hovertext\":[\"Daphne van Domselaar\",\"Anna Patten\",\"Rachel Corsie\",\"Sarah Emma Mayling\",\"Danielle Turner\",\"Lucy Staniforth\",\"Lucy Parker\",\"Laura Madison Blindkilde Brown\",\"Alisha Lehmann\",\"Kirsty Hanson\",\"Rachel Daly\",\"Mary Earps\",\"Maya Le Tissier\",\"Millie Turner\",\"Hannah Blundell\",\"Gabrielle George\",\"Katie Zelem\",\"Ella Toone\",\"Hayley Ladd\",\"Lucía García Córdoba\",\"Leah Galton\",\" Geyse\"],\"marker\":{\"color\":[\"steelblue\",\"steelblue\",\"steelblue\",\"steelblue\",\"steelblue\",\"steelblue\",\"steelblue\",\"steelblue\",\"steelblue\",\"steelblue\",\"steelblue\",\"tan\",\"tan\",\"tan\",\"tan\",\"tan\",\"tan\",\"tan\",\"tan\",\"tan\",\"tan\",\"tan\"]},\"mode\":\"markers\",\"showlegend\":false,\"visible\":false,\"x\":[-36.66,-8.29,-9.35,-7.78,-8.99,-0.03,2.07,6.73,3.1,-0.41,15.55,38.38,17.81,20.91,-1.77,10.5,7.4,-4.19,1.53,-4.84,-7.69,-4.75],\"y\":[1.51,-1.01,7.47,-9.56,15.56,11.15,-2.87,1.81,-10.06,21.68,12.79,1.91,14.22,-5.28,33.25,-24.68,-0.34,-6.5,11.12,14.01,-13.05,1.64],\"type\":\"scatter\"},{\"marker\":{\"color\":\"black\"},\"mode\":\"markers\",\"showlegend\":false,\"visible\":false,\"x\":[17.2],\"y\":[14.89],\"type\":\"scatter\"},{\"hovertext\":[\"Daphne van Domselaar\",\"Anna Patten\",\"Rachel Corsie\",\"Sarah Emma Mayling\",\"Danielle Turner\",\"Lucy Staniforth\",\"Lucy Parker\",\"Laura Madison Blindkilde Brown\",\"Alisha Lehmann\",\"Kirsty Hanson\",\"Rachel Daly\",\"Mary Earps\",\"Maya Le Tissier\",\"Millie Turner\",\"Hannah Blundell\",\"Gabrielle George\",\"Katie Zelem\",\"Ella Toone\",\"Hayley Ladd\",\"Lucía García Córdoba\",\"Leah Galton\",\" Geyse\"],\"marker\":{\"color\":[\"steelblue\",\"steelblue\",\"steelblue\",\"steelblue\",\"steelblue\",\"steelblue\",\"steelblue\",\"steelblue\",\"steelblue\",\"steelblue\",\"steelblue\",\"tan\",\"tan\",\"tan\",\"tan\",\"tan\",\"tan\",\"tan\",\"tan\",\"tan\",\"tan\",\"tan\"]},\"mode\":\"markers\",\"showlegend\":false,\"visible\":false,\"x\":[-36.77,-8.46,-9.56,-7.94,-9.11,-0.26,1.86,6.47,2.83,-0.66,15.64,38.33,17.52,20.81,-1.75,10.32,7.34,-4.32,1.31,-4.88,-7.86,-4.74],\"y\":[1.59,-0.77,7.69,-9.29,15.86,11.45,-2.59,2.07,-9.82,22.07,13.29,1.98,14.31,-5.14,33.27,-24.52,-0.1,-6.22,11.33,14.08,-12.88,1.89],\"type\":\"scatter\"},{\"marker\":{\"color\":\"black\"},\"mode\":\"markers\",\"showlegend\":false,\"visible\":false,\"x\":[16.27],\"y\":[15.6],\"type\":\"scatter\"},{\"hovertext\":[\"Daphne van Domselaar\",\"Anna Patten\",\"Rachel Corsie\",\"Sarah Emma Mayling\",\"Danielle Turner\",\"Lucy Staniforth\",\"Lucy Parker\",\"Laura Madison Blindkilde Brown\",\"Alisha Lehmann\",\"Kirsty Hanson\",\"Rachel Daly\",\"Mary Earps\",\"Maya Le Tissier\",\"Millie Turner\",\"Hannah Blundell\",\"Gabrielle George\",\"Katie Zelem\",\"Ella Toone\",\"Hayley Ladd\",\"Lucía García Córdoba\",\"Leah Galton\",\" Geyse\"],\"marker\":{\"color\":[\"steelblue\",\"steelblue\",\"steelblue\",\"steelblue\",\"steelblue\",\"steelblue\",\"steelblue\",\"steelblue\",\"steelblue\",\"steelblue\",\"steelblue\",\"tan\",\"tan\",\"tan\",\"tan\",\"tan\",\"tan\",\"tan\",\"tan\",\"tan\",\"tan\",\"tan\"]},\"mode\":\"markers\",\"showlegend\":false,\"visible\":false,\"x\":[-36.89,-8.65,-9.78,-8.11,-9.25,-0.49,1.64,6.21,2.57,-0.93,15.7,38.28,17.25,20.71,-1.75,10.15,7.28,-4.46,1.09,-4.92,-8.04,-4.74],\"y\":[1.67,-0.53,7.92,-9.01,16.15,11.75,-2.31,2.32,-9.58,22.45,13.78,2.05,14.37,-5.0,33.27,-24.37,0.14,-5.94,11.53,14.17,-12.71,2.14],\"type\":\"scatter\"},{\"marker\":{\"color\":\"black\"},\"mode\":\"markers\",\"showlegend\":false,\"visible\":false,\"x\":[14.68],\"y\":[16.4],\"type\":\"scatter\"},{\"hovertext\":[\"Daphne van Domselaar\",\"Anna Patten\",\"Rachel Corsie\",\"Sarah Emma Mayling\",\"Danielle Turner\",\"Lucy Staniforth\",\"Lucy Parker\",\"Laura Madison Blindkilde Brown\",\"Alisha Lehmann\",\"Kirsty Hanson\",\"Rachel Daly\",\"Mary Earps\",\"Maya Le Tissier\",\"Millie Turner\",\"Hannah Blundell\",\"Gabrielle George\",\"Katie Zelem\",\"Ella Toone\",\"Hayley Ladd\",\"Lucía García Córdoba\",\"Leah Galton\",\" Geyse\"],\"marker\":{\"color\":[\"steelblue\",\"steelblue\",\"steelblue\",\"steelblue\",\"steelblue\",\"steelblue\",\"steelblue\",\"steelblue\",\"steelblue\",\"steelblue\",\"steelblue\",\"tan\",\"tan\",\"tan\",\"tan\",\"tan\",\"tan\",\"tan\",\"tan\",\"tan\",\"tan\",\"tan\"]},\"mode\":\"markers\",\"showlegend\":false,\"visible\":false,\"x\":[-37.01,-8.85,-10.02,-8.28,-9.42,-0.72,1.41,5.96,2.31,-1.2,15.73,38.23,16.98,20.61,-1.77,9.97,7.22,-4.63,0.86,-4.96,-8.24,-4.76],\"y\":[1.75,-0.3,8.13,-8.73,16.46,12.04,-2.04,2.57,-9.35,22.82,14.26,2.11,14.4,-4.85,33.27,-24.22,0.38,-5.66,11.74,14.3,-12.56,2.38],\"type\":\"scatter\"},{\"marker\":{\"color\":\"black\"},\"mode\":\"markers\",\"showlegend\":false,\"visible\":false,\"x\":[12.96],\"y\":[17.23],\"type\":\"scatter\"},{\"hovertext\":[\"Daphne van Domselaar\",\"Anna Patten\",\"Rachel Corsie\",\"Sarah Emma Mayling\",\"Danielle Turner\",\"Lucy Staniforth\",\"Lucy Parker\",\"Laura Madison Blindkilde Brown\",\"Alisha Lehmann\",\"Kirsty Hanson\",\"Rachel Daly\",\"Mary Earps\",\"Maya Le Tissier\",\"Millie Turner\",\"Hannah Blundell\",\"Gabrielle George\",\"Katie Zelem\",\"Ella Toone\",\"Hayley Ladd\",\"Lucía García Córdoba\",\"Leah Galton\",\" Geyse\"],\"marker\":{\"color\":[\"steelblue\",\"steelblue\",\"steelblue\",\"steelblue\",\"steelblue\",\"steelblue\",\"steelblue\",\"steelblue\",\"steelblue\",\"steelblue\",\"steelblue\",\"tan\",\"tan\",\"tan\",\"tan\",\"tan\",\"tan\",\"tan\",\"tan\",\"tan\",\"tan\",\"tan\"]},\"mode\":\"markers\",\"showlegend\":false,\"visible\":false,\"x\":[-37.15,-9.05,-10.28,-8.45,-9.6,-0.96,1.18,5.71,2.05,-1.48,15.72,38.17,16.72,20.51,-1.84,9.8,7.17,-4.81,0.63,-5.01,-8.45,-4.8],\"y\":[1.83,-0.07,8.35,-8.45,16.78,12.33,-1.78,2.81,-9.12,23.19,14.73,2.16,14.42,-4.69,33.27,-24.07,0.62,-5.39,11.95,14.48,-12.42,2.61],\"type\":\"scatter\"},{\"marker\":{\"color\":\"black\"},\"mode\":\"markers\",\"showlegend\":false,\"visible\":false,\"x\":[11.1],\"y\":[17.93],\"type\":\"scatter\"},{\"hovertext\":[\"Daphne van Domselaar\",\"Anna Patten\",\"Rachel Corsie\",\"Sarah Emma Mayling\",\"Danielle Turner\",\"Lucy Staniforth\",\"Lucy Parker\",\"Laura Madison Blindkilde Brown\",\"Alisha Lehmann\",\"Kirsty Hanson\",\"Rachel Daly\",\"Mary Earps\",\"Maya Le Tissier\",\"Millie Turner\",\"Hannah Blundell\",\"Gabrielle George\",\"Katie Zelem\",\"Ella Toone\",\"Hayley Ladd\",\"Lucía García Córdoba\",\"Leah Galton\",\" Geyse\"],\"marker\":{\"color\":[\"steelblue\",\"steelblue\",\"steelblue\",\"steelblue\",\"steelblue\",\"steelblue\",\"steelblue\",\"steelblue\",\"steelblue\",\"steelblue\",\"steelblue\",\"tan\",\"tan\",\"tan\",\"tan\",\"tan\",\"tan\",\"tan\",\"tan\",\"tan\",\"tan\",\"tan\"]},\"mode\":\"markers\",\"showlegend\":false,\"visible\":false,\"x\":[-37.3,-9.27,-10.55,-8.63,-9.78,-1.2,0.94,5.47,1.81,-1.77,15.7,38.12,16.47,20.39,-1.94,9.63,7.12,-5.02,0.4,-5.05,-8.67,-4.86],\"y\":[1.91,0.15,8.57,-8.18,17.11,12.61,-1.52,3.05,-8.88,23.55,15.18,2.21,14.42,-4.51,33.27,-23.91,0.86,-5.11,12.17,14.71,-12.27,2.83],\"type\":\"scatter\"},{\"marker\":{\"color\":\"black\"},\"mode\":\"markers\",\"showlegend\":false,\"visible\":false,\"x\":[9.39],\"y\":[18.76],\"type\":\"scatter\"},{\"hovertext\":[\"Daphne van Domselaar\",\"Anna Patten\",\"Rachel Corsie\",\"Sarah Emma Mayling\",\"Danielle Turner\",\"Lucy Staniforth\",\"Lucy Parker\",\"Laura Madison Blindkilde Brown\",\"Alisha Lehmann\",\"Kirsty Hanson\",\"Rachel Daly\",\"Mary Earps\",\"Maya Le Tissier\",\"Millie Turner\",\"Hannah Blundell\",\"Gabrielle George\",\"Katie Zelem\",\"Ella Toone\",\"Hayley Ladd\",\"Lucía García Córdoba\",\"Leah Galton\",\" Geyse\"],\"marker\":{\"color\":[\"steelblue\",\"steelblue\",\"steelblue\",\"steelblue\",\"steelblue\",\"steelblue\",\"steelblue\",\"steelblue\",\"steelblue\",\"steelblue\",\"steelblue\",\"tan\",\"tan\",\"tan\",\"tan\",\"tan\",\"tan\",\"tan\",\"tan\",\"tan\",\"tan\",\"tan\"]},\"mode\":\"markers\",\"showlegend\":false,\"visible\":false,\"x\":[-37.46,-9.49,-10.83,-8.81,-9.96,-1.44,0.7,5.25,1.57,-2.05,15.65,38.06,16.22,20.26,-2.08,9.45,7.08,-5.24,0.17,-5.09,-8.91,-4.95],\"y\":[1.99,0.38,8.78,-7.9,17.45,12.9,-1.26,3.29,-8.65,23.91,15.6,2.26,14.41,-4.33,33.26,-23.75,1.11,-4.85,12.4,15.0,-12.13,3.05],\"type\":\"scatter\"},{\"marker\":{\"color\":\"black\"},\"mode\":\"markers\",\"showlegend\":false,\"visible\":false,\"x\":[7.81],\"y\":[19.72],\"type\":\"scatter\"},{\"hovertext\":[\"Daphne van Domselaar\",\"Anna Patten\",\"Rachel Corsie\",\"Sarah Emma Mayling\",\"Danielle Turner\",\"Lucy Staniforth\",\"Lucy Parker\",\"Laura Madison Blindkilde Brown\",\"Alisha Lehmann\",\"Kirsty Hanson\",\"Rachel Daly\",\"Mary Earps\",\"Maya Le Tissier\",\"Millie Turner\",\"Hannah Blundell\",\"Gabrielle George\",\"Katie Zelem\",\"Ella Toone\",\"Hayley Ladd\",\"Lucía García Córdoba\",\"Leah Galton\",\" Geyse\"],\"marker\":{\"color\":[\"steelblue\",\"steelblue\",\"steelblue\",\"steelblue\",\"steelblue\",\"steelblue\",\"steelblue\",\"steelblue\",\"steelblue\",\"steelblue\",\"steelblue\",\"tan\",\"tan\",\"tan\",\"tan\",\"tan\",\"tan\",\"tan\",\"tan\",\"tan\",\"tan\",\"tan\"]},\"mode\":\"markers\",\"showlegend\":false,\"visible\":false,\"x\":[-37.63,-9.71,-11.13,-9.0,-10.16,-1.68,0.46,5.02,1.36,-2.34,15.58,38.01,15.99,20.12,-2.26,9.28,7.03,-5.48,-0.07,-5.14,-9.15,-5.06],\"y\":[2.06,0.61,8.99,-7.63,17.81,13.17,-1.01,3.53,-8.41,24.26,15.99,2.31,14.4,-4.14,33.24,-23.57,1.37,-4.58,12.65,15.34,-11.98,3.28],\"type\":\"scatter\"},{\"marker\":{\"color\":\"black\"},\"mode\":\"markers\",\"showlegend\":false,\"visible\":false,\"x\":[6.31],\"y\":[20.64],\"type\":\"scatter\"},{\"hovertext\":[\"Daphne van Domselaar\",\"Anna Patten\",\"Rachel Corsie\",\"Sarah Emma Mayling\",\"Danielle Turner\",\"Lucy Staniforth\",\"Lucy Parker\",\"Laura Madison Blindkilde Brown\",\"Alisha Lehmann\",\"Kirsty Hanson\",\"Rachel Daly\",\"Mary Earps\",\"Maya Le Tissier\",\"Millie Turner\",\"Hannah Blundell\",\"Gabrielle George\",\"Katie Zelem\",\"Ella Toone\",\"Hayley Ladd\",\"Lucía García Córdoba\",\"Leah Galton\",\" Geyse\"],\"marker\":{\"color\":[\"steelblue\",\"steelblue\",\"steelblue\",\"steelblue\",\"steelblue\",\"steelblue\",\"steelblue\",\"steelblue\",\"steelblue\",\"steelblue\",\"steelblue\",\"tan\",\"tan\",\"tan\",\"tan\",\"tan\",\"tan\",\"tan\",\"tan\",\"tan\",\"tan\",\"tan\"]},\"mode\":\"markers\",\"showlegend\":false,\"visible\":false,\"x\":[-37.79,-9.94,-11.44,-9.21,-10.37,-1.92,0.22,4.81,1.16,-2.63,15.49,37.97,15.78,19.96,-2.49,9.11,6.98,-5.74,-0.3,-5.21,-9.4,-5.21],\"y\":[2.14,0.84,9.2,-7.36,18.18,13.45,-0.77,3.77,-8.18,24.6,16.35,2.35,14.39,-3.95,33.22,-23.39,1.63,-4.32,12.91,15.72,-11.83,3.5],\"type\":\"scatter\"},{\"marker\":{\"color\":\"black\"},\"mode\":\"markers\",\"showlegend\":false,\"visible\":false,\"x\":[4.81],\"y\":[21.54],\"type\":\"scatter\"},{\"hovertext\":[\"Daphne van Domselaar\",\"Anna Patten\",\"Rachel Corsie\",\"Sarah Emma Mayling\",\"Danielle Turner\",\"Lucy Staniforth\",\"Lucy Parker\",\"Laura Madison Blindkilde Brown\",\"Alisha Lehmann\",\"Kirsty Hanson\",\"Rachel Daly\",\"Mary Earps\",\"Maya Le Tissier\",\"Millie Turner\",\"Hannah Blundell\",\"Gabrielle George\",\"Katie Zelem\",\"Ella Toone\",\"Hayley Ladd\",\"Lucía García Córdoba\",\"Leah Galton\",\" Geyse\"],\"marker\":{\"color\":[\"steelblue\",\"steelblue\",\"steelblue\",\"steelblue\",\"steelblue\",\"steelblue\",\"steelblue\",\"steelblue\",\"steelblue\",\"steelblue\",\"steelblue\",\"tan\",\"tan\",\"tan\",\"tan\",\"tan\",\"tan\",\"tan\",\"tan\",\"tan\",\"tan\",\"tan\"]},\"mode\":\"markers\",\"showlegend\":false,\"visible\":false,\"x\":[-37.96,-10.18,-11.75,-9.42,-10.59,-2.17,-0.03,4.59,0.98,-2.92,15.39,37.93,15.57,19.79,-2.77,8.95,6.92,-6.0,-0.54,-5.29,-9.64,-5.36],\"y\":[2.22,1.06,9.4,-7.1,18.57,13.74,-0.53,4.01,-7.94,24.94,16.68,2.4,14.39,-3.76,33.2,-23.21,1.9,-4.08,13.17,16.12,-11.69,3.72],\"type\":\"scatter\"},{\"marker\":{\"color\":\"black\"},\"mode\":\"markers\",\"showlegend\":false,\"visible\":false,\"x\":[3.35],\"y\":[22.45],\"type\":\"scatter\"},{\"hovertext\":[\"Daphne van Domselaar\",\"Anna Patten\",\"Rachel Corsie\",\"Sarah Emma Mayling\",\"Danielle Turner\",\"Lucy Staniforth\",\"Lucy Parker\",\"Laura Madison Blindkilde Brown\",\"Alisha Lehmann\",\"Kirsty Hanson\",\"Rachel Daly\",\"Mary Earps\",\"Maya Le Tissier\",\"Millie Turner\",\"Hannah Blundell\",\"Gabrielle George\",\"Katie Zelem\",\"Ella Toone\",\"Hayley Ladd\",\"Lucía García Córdoba\",\"Leah Galton\",\" Geyse\"],\"marker\":{\"color\":[\"steelblue\",\"steelblue\",\"steelblue\",\"steelblue\",\"steelblue\",\"steelblue\",\"steelblue\",\"steelblue\",\"steelblue\",\"steelblue\",\"steelblue\",\"tan\",\"tan\",\"tan\",\"tan\",\"tan\",\"tan\",\"tan\",\"tan\",\"tan\",\"tan\",\"tan\"]},\"mode\":\"markers\",\"showlegend\":false,\"visible\":false,\"x\":[-38.13,-10.42,-12.07,-9.65,-10.83,-2.43,-0.29,4.37,0.8,-3.21,15.28,37.89,15.38,19.61,-3.08,8.79,6.84,-6.27,-0.78,-5.4,-9.9,-5.52],\"y\":[2.29,1.28,9.59,-6.84,19.0,14.03,-0.3,4.25,-7.72,25.28,16.99,2.45,14.42,-3.56,33.16,-23.0,2.18,-3.83,13.45,16.5,-11.53,3.94],\"type\":\"scatter\"},{\"marker\":{\"color\":\"black\"},\"mode\":\"markers\",\"showlegend\":false,\"visible\":false,\"x\":[1.97],\"y\":[23.31],\"type\":\"scatter\"},{\"hovertext\":[\"Daphne van Domselaar\",\"Anna Patten\",\"Rachel Corsie\",\"Sarah Emma Mayling\",\"Danielle Turner\",\"Lucy Staniforth\",\"Lucy Parker\",\"Laura Madison Blindkilde Brown\",\"Alisha Lehmann\",\"Kirsty Hanson\",\"Rachel Daly\",\"Mary Earps\",\"Maya Le Tissier\",\"Millie Turner\",\"Hannah Blundell\",\"Gabrielle George\",\"Katie Zelem\",\"Ella Toone\",\"Hayley Ladd\",\"Lucía García Córdoba\",\"Leah Galton\",\" Geyse\"],\"marker\":{\"color\":[\"steelblue\",\"steelblue\",\"steelblue\",\"steelblue\",\"steelblue\",\"steelblue\",\"steelblue\",\"steelblue\",\"steelblue\",\"steelblue\",\"steelblue\",\"tan\",\"tan\",\"tan\",\"tan\",\"tan\",\"tan\",\"tan\",\"tan\",\"tan\",\"tan\",\"tan\"]},\"mode\":\"markers\",\"showlegend\":false,\"visible\":false,\"x\":[-38.31,-10.67,-12.41,-9.91,-11.07,-2.7,-0.56,4.14,0.62,-3.51,15.17,37.86,15.18,19.42,-3.44,8.63,6.74,-6.53,-1.01,-5.54,-10.16,-5.69],\"y\":[2.37,1.5,9.78,-6.59,19.44,14.32,-0.08,4.48,-7.49,25.62,17.26,2.5,14.46,-3.36,33.13,-22.78,2.47,-3.6,13.73,16.84,-11.38,4.16],\"type\":\"scatter\"},{\"marker\":{\"color\":\"black\"},\"mode\":\"markers\",\"showlegend\":false,\"visible\":false,\"x\":[0.71],\"y\":[24.18],\"type\":\"scatter\"},{\"hovertext\":[\"Daphne van Domselaar\",\"Anna Patten\",\"Rachel Corsie\",\"Sarah Emma Mayling\",\"Danielle Turner\",\"Lucy Staniforth\",\"Lucy Parker\",\"Laura Madison Blindkilde Brown\",\"Alisha Lehmann\",\"Kirsty Hanson\",\"Rachel Daly\",\"Mary Earps\",\"Maya Le Tissier\",\"Millie Turner\",\"Hannah Blundell\",\"Gabrielle George\",\"Katie Zelem\",\"Ella Toone\",\"Hayley Ladd\",\"Lucía García Córdoba\",\"Leah Galton\",\" Geyse\"],\"marker\":{\"color\":[\"steelblue\",\"steelblue\",\"steelblue\",\"steelblue\",\"steelblue\",\"steelblue\",\"steelblue\",\"steelblue\",\"steelblue\",\"steelblue\",\"steelblue\",\"tan\",\"tan\",\"tan\",\"tan\",\"tan\",\"tan\",\"tan\",\"tan\",\"tan\",\"tan\",\"tan\"]},\"mode\":\"markers\",\"showlegend\":false,\"visible\":false,\"x\":[-38.48,-10.94,-12.74,-10.19,-11.34,-2.97,-0.84,3.91,0.44,-3.82,15.05,37.82,14.98,19.23,-3.84,8.47,6.62,-6.8,-1.25,-5.71,-10.42,-5.86],\"y\":[2.45,1.71,9.96,-6.34,19.9,14.61,0.13,4.71,-7.28,25.94,17.5,2.54,14.53,-3.16,33.1,-22.54,2.77,-3.37,14.02,17.17,-11.22,4.4],\"type\":\"scatter\"},{\"marker\":{\"color\":\"black\"},\"mode\":\"markers\",\"showlegend\":false,\"visible\":false,\"x\":[-0.59],\"y\":[24.94],\"type\":\"scatter\"},{\"hovertext\":[\"Daphne van Domselaar\",\"Anna Patten\",\"Rachel Corsie\",\"Sarah Emma Mayling\",\"Danielle Turner\",\"Lucy Staniforth\",\"Lucy Parker\",\"Laura Madison Blindkilde Brown\",\"Alisha Lehmann\",\"Kirsty Hanson\",\"Rachel Daly\",\"Mary Earps\",\"Maya Le Tissier\",\"Millie Turner\",\"Hannah Blundell\",\"Gabrielle George\",\"Katie Zelem\",\"Ella Toone\",\"Hayley Ladd\",\"Lucía García Córdoba\",\"Leah Galton\",\" Geyse\"],\"marker\":{\"color\":[\"steelblue\",\"steelblue\",\"steelblue\",\"steelblue\",\"steelblue\",\"steelblue\",\"steelblue\",\"steelblue\",\"steelblue\",\"steelblue\",\"steelblue\",\"tan\",\"tan\",\"tan\",\"tan\",\"tan\",\"tan\",\"tan\",\"tan\",\"tan\",\"tan\",\"tan\"]},\"mode\":\"markers\",\"showlegend\":false,\"visible\":false,\"x\":[-38.66,-11.22,-13.09,-10.49,-11.63,-3.24,-1.13,3.67,0.24,-4.16,14.92,37.78,14.78,19.02,-4.29,8.32,6.49,-7.07,-1.48,-5.92,-10.7,-6.04],\"y\":[2.53,1.91,10.11,-6.09,20.36,14.9,0.33,4.93,-7.08,26.26,17.71,2.58,14.6,-2.97,33.09,-22.28,3.07,-3.15,14.31,17.47,-11.06,4.63],\"type\":\"scatter\"},{\"marker\":{\"color\":\"black\"},\"mode\":\"markers\",\"showlegend\":false,\"visible\":false,\"x\":[-1.87],\"y\":[25.61],\"type\":\"scatter\"},{\"hovertext\":[\"Daphne van Domselaar\",\"Anna Patten\",\"Rachel Corsie\",\"Sarah Emma Mayling\",\"Danielle Turner\",\"Lucy Staniforth\",\"Lucy Parker\",\"Laura Madison Blindkilde Brown\",\"Alisha Lehmann\",\"Kirsty Hanson\",\"Rachel Daly\",\"Mary Earps\",\"Maya Le Tissier\",\"Millie Turner\",\"Hannah Blundell\",\"Gabrielle George\",\"Katie Zelem\",\"Ella Toone\",\"Hayley Ladd\",\"Lucía García Córdoba\",\"Leah Galton\",\" Geyse\"],\"marker\":{\"color\":[\"steelblue\",\"steelblue\",\"steelblue\",\"steelblue\",\"steelblue\",\"steelblue\",\"steelblue\",\"steelblue\",\"steelblue\",\"steelblue\",\"steelblue\",\"tan\",\"tan\",\"tan\",\"tan\",\"tan\",\"tan\",\"tan\",\"tan\",\"tan\",\"tan\",\"tan\"]},\"mode\":\"markers\",\"showlegend\":false,\"visible\":false,\"x\":[-38.84,-11.52,-13.43,-10.82,-11.94,-3.51,-1.43,3.42,0.04,-4.51,14.77,37.75,14.59,18.8,-4.79,8.16,6.33,-7.36,-1.71,-6.16,-10.99,-6.22],\"y\":[2.6,2.1,10.25,-5.84,20.84,15.19,0.52,5.14,-6.9,26.56,17.91,2.61,14.68,-2.78,33.08,-22.03,3.37,-2.94,14.6,17.74,-10.9,4.86],\"type\":\"scatter\"},{\"marker\":{\"color\":\"black\"},\"mode\":\"markers\",\"showlegend\":false,\"visible\":false,\"x\":[-3.15],\"y\":[26.33],\"type\":\"scatter\"},{\"hovertext\":[\"Daphne van Domselaar\",\"Anna Patten\",\"Rachel Corsie\",\"Sarah Emma Mayling\",\"Danielle Turner\",\"Lucy Staniforth\",\"Lucy Parker\",\"Laura Madison Blindkilde Brown\",\"Alisha Lehmann\",\"Kirsty Hanson\",\"Rachel Daly\",\"Mary Earps\",\"Maya Le Tissier\",\"Millie Turner\",\"Hannah Blundell\",\"Gabrielle George\",\"Katie Zelem\",\"Ella Toone\",\"Hayley Ladd\",\"Lucía García Córdoba\",\"Leah Galton\",\" Geyse\"],\"marker\":{\"color\":[\"steelblue\",\"steelblue\",\"steelblue\",\"steelblue\",\"steelblue\",\"steelblue\",\"steelblue\",\"steelblue\",\"steelblue\",\"steelblue\",\"steelblue\",\"tan\",\"tan\",\"tan\",\"tan\",\"tan\",\"tan\",\"tan\",\"tan\",\"tan\",\"tan\",\"tan\"]},\"mode\":\"markers\",\"showlegend\":false,\"visible\":false,\"x\":[-39.02,-11.84,-13.78,-11.16,-12.27,-3.79,-1.74,3.17,-0.18,-4.89,14.61,37.7,14.39,18.57,-5.32,8.0,6.17,-7.64,-1.93,-6.44,-11.28,-6.4],\"y\":[2.68,2.27,10.37,-5.61,21.31,15.48,0.69,5.34,-6.72,26.86,18.1,2.64,14.77,-2.58,33.08,-21.78,3.67,-2.74,14.89,17.98,-10.73,5.08],\"type\":\"scatter\"},{\"marker\":{\"color\":\"black\"},\"mode\":\"markers\",\"showlegend\":false,\"visible\":false,\"x\":[-4.39],\"y\":[27.03],\"type\":\"scatter\"},{\"hovertext\":[\"Daphne van Domselaar\",\"Anna Patten\",\"Rachel Corsie\",\"Sarah Emma Mayling\",\"Danielle Turner\",\"Lucy Staniforth\",\"Lucy Parker\",\"Laura Madison Blindkilde Brown\",\"Alisha Lehmann\",\"Kirsty Hanson\",\"Rachel Daly\",\"Mary Earps\",\"Maya Le Tissier\",\"Millie Turner\",\"Hannah Blundell\",\"Gabrielle George\",\"Katie Zelem\",\"Ella Toone\",\"Hayley Ladd\",\"Lucía García Córdoba\",\"Leah Galton\",\" Geyse\"],\"marker\":{\"color\":[\"steelblue\",\"steelblue\",\"steelblue\",\"steelblue\",\"steelblue\",\"steelblue\",\"steelblue\",\"steelblue\",\"steelblue\",\"steelblue\",\"steelblue\",\"tan\",\"tan\",\"tan\",\"tan\",\"tan\",\"tan\",\"tan\",\"tan\",\"tan\",\"tan\",\"tan\"]},\"mode\":\"markers\",\"showlegend\":false,\"visible\":false,\"x\":[-39.21,-12.16,-14.13,-11.51,-12.63,-4.06,-2.05,2.91,-0.39,-5.28,14.45,37.65,14.2,18.33,-5.88,7.84,6.0,-7.93,-2.14,-6.73,-11.59,-6.59],\"y\":[2.77,2.43,10.47,-5.38,21.78,15.77,0.86,5.53,-6.56,27.15,18.29,2.67,14.86,-2.38,33.08,-21.52,3.96,-2.53,15.18,18.18,-10.56,5.29],\"type\":\"scatter\"},{\"marker\":{\"color\":\"black\"},\"mode\":\"markers\",\"showlegend\":false,\"visible\":false,\"x\":[-5.62],\"y\":[27.7],\"type\":\"scatter\"},{\"hovertext\":[\"Daphne van Domselaar\",\"Anna Patten\",\"Rachel Corsie\",\"Sarah Emma Mayling\",\"Danielle Turner\",\"Lucy Staniforth\",\"Lucy Parker\",\"Laura Madison Blindkilde Brown\",\"Alisha Lehmann\",\"Kirsty Hanson\",\"Rachel Daly\",\"Mary Earps\",\"Maya Le Tissier\",\"Millie Turner\",\"Hannah Blundell\",\"Gabrielle George\",\"Katie Zelem\",\"Ella Toone\",\"Hayley Ladd\",\"Lucía García Córdoba\",\"Leah Galton\",\" Geyse\"],\"marker\":{\"color\":[\"steelblue\",\"steelblue\",\"steelblue\",\"steelblue\",\"steelblue\",\"steelblue\",\"steelblue\",\"steelblue\",\"steelblue\",\"steelblue\",\"steelblue\",\"tan\",\"tan\",\"tan\",\"tan\",\"tan\",\"tan\",\"tan\",\"tan\",\"tan\",\"tan\",\"tan\"]},\"mode\":\"markers\",\"showlegend\":false,\"visible\":false,\"x\":[-39.4,-12.49,-14.49,-11.87,-13.0,-4.33,-2.37,2.65,-0.61,-5.68,14.28,37.6,13.99,18.09,-6.47,7.68,5.82,-8.21,-2.35,-7.05,-11.89,-6.77],\"y\":[2.85,2.58,10.57,-5.16,22.26,16.06,1.03,5.7,-6.39,27.43,18.47,2.71,14.96,-2.19,33.09,-21.24,4.26,-2.33,15.48,18.37,-10.4,5.51],\"type\":\"scatter\"},{\"marker\":{\"color\":\"black\"},\"mode\":\"markers\",\"showlegend\":false,\"visible\":false,\"x\":[-6.81],\"y\":[28.33],\"type\":\"scatter\"},{\"hovertext\":[\"Daphne van Domselaar\",\"Anna Patten\",\"Rachel Corsie\",\"Sarah Emma Mayling\",\"Danielle Turner\",\"Lucy Staniforth\",\"Lucy Parker\",\"Laura Madison Blindkilde Brown\",\"Alisha Lehmann\",\"Kirsty Hanson\",\"Rachel Daly\",\"Mary Earps\",\"Maya Le Tissier\",\"Millie Turner\",\"Hannah Blundell\",\"Gabrielle George\",\"Katie Zelem\",\"Ella Toone\",\"Hayley Ladd\",\"Lucía García Córdoba\",\"Leah Galton\",\" Geyse\"],\"marker\":{\"color\":[\"steelblue\",\"steelblue\",\"steelblue\",\"steelblue\",\"steelblue\",\"steelblue\",\"steelblue\",\"steelblue\",\"steelblue\",\"steelblue\",\"steelblue\",\"tan\",\"tan\",\"tan\",\"tan\",\"tan\",\"tan\",\"tan\",\"tan\",\"tan\",\"tan\",\"tan\"]},\"mode\":\"markers\",\"showlegend\":false,\"visible\":false,\"x\":[-39.6,-12.82,-14.84,-12.23,-13.37,-4.6,-2.69,2.39,-0.82,-6.09,14.11,37.53,13.77,17.83,-7.07,7.51,5.64,-8.48,-2.56,-7.39,-12.21,-6.95],\"y\":[2.93,2.72,10.65,-4.95,22.74,16.34,1.19,5.86,-6.24,27.71,18.64,2.74,15.05,-2.0,33.11,-20.95,4.55,-2.13,15.77,18.54,-10.22,5.73],\"type\":\"scatter\"},{\"marker\":{\"color\":\"black\"},\"mode\":\"markers\",\"showlegend\":false,\"visible\":false,\"x\":[-7.98],\"y\":[29.04],\"type\":\"scatter\"},{\"hovertext\":[\"Daphne van Domselaar\",\"Anna Patten\",\"Rachel Corsie\",\"Sarah Emma Mayling\",\"Danielle Turner\",\"Lucy Staniforth\",\"Lucy Parker\",\"Laura Madison Blindkilde Brown\",\"Alisha Lehmann\",\"Kirsty Hanson\",\"Rachel Daly\",\"Mary Earps\",\"Maya Le Tissier\",\"Millie Turner\",\"Hannah Blundell\",\"Gabrielle George\",\"Katie Zelem\",\"Ella Toone\",\"Hayley Ladd\",\"Lucía García Córdoba\",\"Leah Galton\",\" Geyse\"],\"marker\":{\"color\":[\"steelblue\",\"steelblue\",\"steelblue\",\"steelblue\",\"steelblue\",\"steelblue\",\"steelblue\",\"steelblue\",\"steelblue\",\"steelblue\",\"steelblue\",\"tan\",\"tan\",\"tan\",\"tan\",\"tan\",\"tan\",\"tan\",\"tan\",\"tan\",\"tan\",\"tan\"]},\"mode\":\"markers\",\"showlegend\":false,\"visible\":false,\"x\":[-39.8,-13.17,-15.21,-12.61,-13.73,-4.86,-3.01,2.14,-1.03,-6.52,13.95,37.45,13.54,17.58,-7.67,7.35,5.45,-8.75,-2.77,-7.74,-12.53,-7.15],\"y\":[3.01,2.86,10.74,-4.75,23.23,16.63,1.35,6.01,-6.09,27.98,18.81,2.78,15.14,-1.82,33.15,-20.66,4.84,-1.93,16.06,18.7,-10.05,5.96],\"type\":\"scatter\"},{\"marker\":{\"color\":\"black\"},\"mode\":\"markers\",\"showlegend\":false,\"visible\":false,\"x\":[-9.12],\"y\":[29.68],\"type\":\"scatter\"},{\"hovertext\":[\"Daphne van Domselaar\",\"Anna Patten\",\"Rachel Corsie\",\"Sarah Emma Mayling\",\"Danielle Turner\",\"Lucy Staniforth\",\"Lucy Parker\",\"Laura Madison Blindkilde Brown\",\"Alisha Lehmann\",\"Kirsty Hanson\",\"Rachel Daly\",\"Mary Earps\",\"Maya Le Tissier\",\"Millie Turner\",\"Hannah Blundell\",\"Gabrielle George\",\"Katie Zelem\",\"Ella Toone\",\"Hayley Ladd\",\"Lucía García Córdoba\",\"Leah Galton\",\" Geyse\"],\"marker\":{\"color\":[\"steelblue\",\"steelblue\",\"steelblue\",\"steelblue\",\"steelblue\",\"steelblue\",\"steelblue\",\"steelblue\",\"steelblue\",\"steelblue\",\"steelblue\",\"tan\",\"tan\",\"tan\",\"tan\",\"tan\",\"tan\",\"tan\",\"tan\",\"tan\",\"tan\",\"tan\"]},\"mode\":\"markers\",\"showlegend\":false,\"visible\":false,\"x\":[-40.0,-13.52,-15.58,-12.98,-14.09,-5.13,-3.33,1.89,-1.22,-6.95,13.79,37.37,13.31,17.32,-8.27,7.18,5.26,-9.01,-2.99,-8.1,-12.85,-7.35],\"y\":[3.08,2.99,10.81,-4.56,23.73,16.9,1.5,6.14,-5.95,28.24,18.97,2.82,15.24,-1.64,33.18,-20.37,5.13,-1.73,16.35,18.85,-9.87,6.18],\"type\":\"scatter\"},{\"marker\":{\"color\":\"black\"},\"mode\":\"markers\",\"showlegend\":false,\"visible\":false,\"x\":[-10.11],\"y\":[30.33],\"type\":\"scatter\"},{\"hovertext\":[\"Daphne van Domselaar\",\"Anna Patten\",\"Rachel Corsie\",\"Sarah Emma Mayling\",\"Danielle Turner\",\"Lucy Staniforth\",\"Lucy Parker\",\"Laura Madison Blindkilde Brown\",\"Alisha Lehmann\",\"Kirsty Hanson\",\"Rachel Daly\",\"Mary Earps\",\"Maya Le Tissier\",\"Millie Turner\",\"Hannah Blundell\",\"Gabrielle George\",\"Katie Zelem\",\"Ella Toone\",\"Hayley Ladd\",\"Lucía García Córdoba\",\"Leah Galton\",\" Geyse\"],\"marker\":{\"color\":[\"steelblue\",\"steelblue\",\"steelblue\",\"steelblue\",\"steelblue\",\"steelblue\",\"steelblue\",\"steelblue\",\"steelblue\",\"steelblue\",\"steelblue\",\"tan\",\"tan\",\"tan\",\"tan\",\"tan\",\"tan\",\"tan\",\"tan\",\"tan\",\"tan\",\"tan\"]},\"mode\":\"markers\",\"showlegend\":false,\"visible\":false,\"x\":[-40.19,-13.87,-15.96,-13.35,-14.45,-5.39,-3.65,1.64,-1.39,-7.38,13.62,37.27,13.07,17.05,-8.86,7.01,5.07,-9.26,-3.2,-8.48,-13.16,-7.55],\"y\":[3.15,3.11,10.88,-4.38,24.22,17.17,1.65,6.26,-5.81,28.49,19.11,2.85,15.33,-1.46,33.22,-20.07,5.41,-1.52,16.64,18.99,-9.7,6.41],\"type\":\"scatter\"},{\"marker\":{\"color\":\"black\"},\"mode\":\"markers\",\"showlegend\":false,\"visible\":false,\"x\":[-11.01],\"y\":[31.03],\"type\":\"scatter\"},{\"hovertext\":[\"Daphne van Domselaar\",\"Anna Patten\",\"Rachel Corsie\",\"Sarah Emma Mayling\",\"Danielle Turner\",\"Lucy Staniforth\",\"Lucy Parker\",\"Laura Madison Blindkilde Brown\",\"Alisha Lehmann\",\"Kirsty Hanson\",\"Rachel Daly\",\"Mary Earps\",\"Maya Le Tissier\",\"Millie Turner\",\"Hannah Blundell\",\"Gabrielle George\",\"Katie Zelem\",\"Ella Toone\",\"Hayley Ladd\",\"Lucía García Córdoba\",\"Leah Galton\",\" Geyse\"],\"marker\":{\"color\":[\"steelblue\",\"steelblue\",\"steelblue\",\"steelblue\",\"steelblue\",\"steelblue\",\"steelblue\",\"steelblue\",\"steelblue\",\"steelblue\",\"steelblue\",\"tan\",\"tan\",\"tan\",\"tan\",\"tan\",\"tan\",\"tan\",\"tan\",\"tan\",\"tan\",\"tan\"]},\"mode\":\"markers\",\"showlegend\":false,\"visible\":false,\"x\":[-40.38,-14.23,-16.34,-13.71,-14.8,-5.65,-3.98,1.4,-1.55,-7.81,13.45,37.17,12.83,16.78,-9.42,6.85,4.88,-9.51,-3.43,-8.86,-13.48,-7.76],\"y\":[3.22,3.22,10.95,-4.21,24.72,17.44,1.8,6.38,-5.69,28.73,19.25,2.88,15.42,-1.28,33.25,-19.78,5.68,-1.32,16.92,19.12,-9.52,6.64],\"type\":\"scatter\"},{\"marker\":{\"color\":\"black\"},\"mode\":\"markers\",\"showlegend\":false,\"visible\":false,\"x\":[-11.89],\"y\":[31.76],\"type\":\"scatter\"},{\"hovertext\":[\"Daphne van Domselaar\",\"Anna Patten\",\"Rachel Corsie\",\"Sarah Emma Mayling\",\"Danielle Turner\",\"Lucy Staniforth\",\"Lucy Parker\",\"Laura Madison Blindkilde Brown\",\"Alisha Lehmann\",\"Kirsty Hanson\",\"Rachel Daly\",\"Mary Earps\",\"Maya Le Tissier\",\"Millie Turner\",\"Hannah Blundell\",\"Gabrielle George\",\"Katie Zelem\",\"Ella Toone\",\"Hayley Ladd\",\"Lucía García Córdoba\",\"Leah Galton\",\" Geyse\"],\"marker\":{\"color\":[\"steelblue\",\"steelblue\",\"steelblue\",\"steelblue\",\"steelblue\",\"steelblue\",\"steelblue\",\"steelblue\",\"steelblue\",\"steelblue\",\"steelblue\",\"tan\",\"tan\",\"tan\",\"tan\",\"tan\",\"tan\",\"tan\",\"tan\",\"tan\",\"tan\",\"tan\"]},\"mode\":\"markers\",\"showlegend\":false,\"visible\":false,\"x\":[-40.55,-14.59,-16.73,-14.07,-15.15,-5.92,-4.32,1.16,-1.69,-8.23,13.28,37.06,12.6,16.5,-9.96,6.7,4.68,-9.75,-3.66,-9.24,-13.79,-7.98],\"y\":[3.29,3.32,11.02,-4.04,25.23,17.7,1.94,6.49,-5.58,28.97,19.39,2.9,15.51,-1.1,33.29,-19.49,5.95,-1.12,17.19,19.25,-9.33,6.87],\"type\":\"scatter\"},{\"marker\":{\"color\":\"black\"},\"mode\":\"markers\",\"showlegend\":false,\"visible\":false,\"x\":[-12.71],\"y\":[32.32],\"type\":\"scatter\"},{\"hovertext\":[\"Daphne van Domselaar\",\"Anna Patten\",\"Rachel Corsie\",\"Sarah Emma Mayling\",\"Danielle Turner\",\"Lucy Staniforth\",\"Lucy Parker\",\"Laura Madison Blindkilde Brown\",\"Alisha Lehmann\",\"Kirsty Hanson\",\"Rachel Daly\",\"Mary Earps\",\"Maya Le Tissier\",\"Millie Turner\",\"Hannah Blundell\",\"Gabrielle George\",\"Katie Zelem\",\"Ella Toone\",\"Hayley Ladd\",\"Lucía García Córdoba\",\"Leah Galton\",\" Geyse\"],\"marker\":{\"color\":[\"steelblue\",\"steelblue\",\"steelblue\",\"steelblue\",\"steelblue\",\"steelblue\",\"steelblue\",\"steelblue\",\"steelblue\",\"steelblue\",\"steelblue\",\"tan\",\"tan\",\"tan\",\"tan\",\"tan\",\"tan\",\"tan\",\"tan\",\"tan\",\"tan\",\"tan\"]},\"mode\":\"markers\",\"showlegend\":false,\"visible\":false,\"x\":[-40.72,-14.94,-17.13,-14.43,-15.5,-6.18,-4.65,0.93,-1.81,-8.64,13.11,36.94,12.35,16.22,-10.47,6.54,4.48,-9.98,-3.9,-9.62,-14.09,-8.21],\"y\":[3.35,3.41,11.08,-3.89,25.73,17.95,2.08,6.59,-5.48,29.19,19.52,2.93,15.61,-0.91,33.32,-19.19,6.21,-0.91,17.46,19.37,-9.14,7.1],\"type\":\"scatter\"},{\"marker\":{\"color\":\"black\"},\"mode\":\"markers\",\"showlegend\":false,\"visible\":false,\"x\":[-13.45],\"y\":[32.85],\"type\":\"scatter\"},{\"hovertext\":[\"Daphne van Domselaar\",\"Anna Patten\",\"Rachel Corsie\",\"Sarah Emma Mayling\",\"Danielle Turner\",\"Lucy Staniforth\",\"Lucy Parker\",\"Laura Madison Blindkilde Brown\",\"Alisha Lehmann\",\"Kirsty Hanson\",\"Rachel Daly\",\"Mary Earps\",\"Maya Le Tissier\",\"Millie Turner\",\"Hannah Blundell\",\"Gabrielle George\",\"Katie Zelem\",\"Ella Toone\",\"Hayley Ladd\",\"Lucía García Córdoba\",\"Leah Galton\",\" Geyse\"],\"marker\":{\"color\":[\"steelblue\",\"steelblue\",\"steelblue\",\"steelblue\",\"steelblue\",\"steelblue\",\"steelblue\",\"steelblue\",\"steelblue\",\"steelblue\",\"steelblue\",\"tan\",\"tan\",\"tan\",\"tan\",\"tan\",\"tan\",\"tan\",\"tan\",\"tan\",\"tan\",\"tan\"]},\"mode\":\"markers\",\"showlegend\":false,\"visible\":false,\"x\":[-40.87,-15.3,-17.54,-14.79,-15.84,-6.46,-4.99,0.7,-1.92,-9.04,12.93,36.82,12.11,15.93,-10.95,6.38,4.28,-10.19,-4.14,-9.99,-14.4,-8.45],\"y\":[3.4,3.49,11.14,-3.74,26.24,18.18,2.22,6.7,-5.4,29.41,19.65,2.96,15.71,-0.73,33.35,-18.89,6.47,-0.7,17.73,19.49,-8.95,7.32],\"type\":\"scatter\"},{\"marker\":{\"color\":\"black\"},\"mode\":\"markers\",\"showlegend\":false,\"visible\":false,\"x\":[-14.24],\"y\":[33.41],\"type\":\"scatter\"}],                        {\"shapes\":[{\"fillcolor\":\"rgba(0, 0, 0, 0)\",\"line\":{\"color\":\"darkgrey\",\"dash\":\"solid\",\"width\":1},\"type\":\"rect\",\"x0\":-52.5,\"x1\":52.5,\"y0\":-34.0,\"y1\":34.0},{\"line\":{\"color\":\"darkgrey\",\"dash\":\"solid\",\"width\":0.5},\"type\":\"line\",\"x0\":0,\"x1\":0,\"y0\":-34.0,\"y1\":34.0},{\"fillcolor\":\"rgba(0, 0, 0, 0)\",\"line\":{\"color\":\"darkgrey\",\"dash\":\"solid\",\"width\":0.6},\"type\":\"rect\",\"x0\":-52.5,\"x1\":-36.0,\"y0\":-20.16,\"y1\":20.16},{\"fillcolor\":\"rgba(0, 0, 0, 0)\",\"line\":{\"color\":\"darkgrey\",\"dash\":\"solid\",\"width\":0.6},\"type\":\"rect\",\"x0\":36.0,\"x1\":52.5,\"y0\":-20.16,\"y1\":20.16},{\"fillcolor\":\"rgba(0, 0, 0, 0)\",\"line\":{\"color\":\"darkgrey\",\"dash\":\"solid\",\"width\":0.5},\"type\":\"rect\",\"x0\":-52.5,\"x1\":-47.0,\"y0\":-9.16,\"y1\":9.16},{\"fillcolor\":\"rgba(0, 0, 0, 0)\",\"line\":{\"color\":\"darkgrey\",\"dash\":\"solid\",\"width\":0.5},\"type\":\"rect\",\"x0\":47.0,\"x1\":52.5,\"y0\":-9.16,\"y1\":9.16},{\"fillcolor\":\"rgba(0, 0, 0, 0)\",\"line\":{\"color\":\"darkgrey\",\"dash\":\"solid\",\"width\":0.5},\"type\":\"circle\",\"x0\":-9.15,\"x1\":9.15,\"y0\":-9.15,\"y1\":9.15},{\"fillcolor\":\"rgba(0, 0, 0, 0)\",\"line\":{\"color\":\"darkgrey\",\"dash\":\"solid\",\"width\":0.5},\"path\":\"M -36.0,7.312489316231511 L-36.0,7.312489316231511 L-35.8641854977216,7.208335098752586 L-35.730342911557,7.101658755655575 L-35.59851907171191,6.992497611944673 L-35.46876010205251,6.880889862031386 L-35.34111140396719,6.76687455637069 L-35.215617640481085,6.650491587797662 L-35.09232272062886,6.531781677569364 L-34.971269784091405,6.410786361116876 L-34.8525011861017,6.287547973512462 L-34.736058482625076,6.162109634656936 L-34.62198241581927,6.034515234192441 L-34.51031289977907,5.904809416145888 L-34.40108900657082,5.773037563308453 L-34.29434895256147,5.63924578135658 L-34.19013008504702,5.503480882720067 L-34.0884688691851,5.365790370202848 L-33.98940087523617,5.226222420362231 L-33.892960766117824,5.084825866652396 L-33.79918228527656,4.941650182338049 L-33.70809824488131,4.796745463184206 L-33.619740514342766,4.650162409928193 L-33.53414000916259,4.501952310539936 L-33.451326680116395,4.352167022276822 L-33.371329502774245,4.200858953539342 L-33.2941764673624,4.048081045533913 L-33.21989456896979,3.8938867537492694 L-33.14850979810274,3.7383300292529107 L-33.08004713159111,3.5814652998141527 L-33.01453052384916,3.4233474508603905 L-32.95198289849414,3.2640318062732225 L-32.89242614032552,3.1035741090311677 L-32.83588108766777,2.942030501705747 L-32.78236752507916,2.7794575068177507 L-32.73190417642939,2.6159120070605604 L-32.68450869834827,2.4514512253974563 L-32.64019767404785,2.286132705039859 L-32.598986607520104,2.1200142893135365 L-32.56088991811226,1.9531541014197809 L-32.525920935481565,1.7856105240986793 L-32.49409189493143,1.6174421792015639 L-32.46541393313038,1.4487079071798 L-32.439897084215424,1.2794667464970952 L-32.417550276281276,1.109777912972518 L-32.39838132825643,0.9397007790614653 L-32.38239694716743,0.7692948530818233 L-32.369602725792156,0.598619758392593 L-32.36000314070294,0.4277352125322592 L-32.35360155070029,0.2567010063242161 L-32.35040019563762,0.08557698295654208 L-32.35040019563762,-0.08557698295654309 L-32.35360155070029,-0.2567010063242161 L-32.36000314070294,-0.4277352125322592 L-32.369602725792156,-0.598619758392593 L-32.38239694716743,-0.7692948530818243 L-32.39838132825643,-0.9397007790614653 L-32.417550276281276,-1.1097779129725192 L-32.439897084215424,-1.2794667464970952 L-32.46541393313038,-1.448707907179801 L-32.49409189493143,-1.6174421792015639 L-32.525920935481565,-1.7856105240986793 L-32.56088991811226,-1.953154101419782 L-32.598986607520104,-2.1200142893135365 L-32.64019767404785,-2.2861327050398605 L-32.68450869834827,-2.4514512253974563 L-32.73190417642939,-2.6159120070605604 L-32.78236752507916,-2.7794575068177516 L-32.83588108766777,-2.942030501705747 L-32.892426140325526,-3.1035741090311686 L-32.95198289849414,-3.2640318062732225 L-33.01453052384916,-3.4233474508603905 L-33.08004713159111,-3.5814652998141536 L-33.14850979810274,-3.7383300292529107 L-33.21989456896979,-3.8938867537492707 L-33.2941764673624,-4.048081045533913 L-33.371329502774245,-4.200858953539341 L-33.451326680116395,-4.352167022276822 L-33.53414000916259,-4.501952310539936 L-33.619740514342766,-4.6501624099281935 L-33.70809824488131,-4.796745463184206 L-33.79918228527656,-4.941650182338048 L-33.892960766117824,-5.084825866652397 L-33.98940087523617,-5.226222420362231 L-34.0884688691851,-5.365790370202849 L-34.19013008504702,-5.503480882720067 L-34.29434895256147,-5.639245781356581 L-34.40108900657082,-5.773037563308453 L-34.51031289977907,-5.904809416145888 L-34.62198241581927,-6.034515234192442 L-34.736058482625076,-6.162109634656936 L-34.8525011861017,-6.287547973512463 L-34.971269784091405,-6.410786361116877 L-35.09232272062886,-6.531781677569364 L-35.215617640481085,-6.650491587797662 L-35.34111140396719,-6.76687455637069 L-35.46876010205251,-6.8808898620313865 L-35.59851907171191,-6.992497611944673 L-35.730342911557,-7.101658755655575 L-35.8641854977216,-7.208335098752586 L-36.0,-7.312489316231511 L -36.0,-7.312489316231511\",\"type\":\"path\"},{\"fillcolor\":\"rgba(0, 0, 0, 0)\",\"line\":{\"color\":\"darkgrey\",\"dash\":\"solid\",\"width\":0.5},\"path\":\"M 36.0,7.312489316231511 L36.0,7.312489316231511 L35.8641854977216,7.208335098752586 L35.730342911557,7.101658755655575 L35.59851907171191,6.992497611944673 L35.46876010205251,6.880889862031386 L35.34111140396719,6.76687455637069 L35.215617640481085,6.650491587797662 L35.09232272062886,6.531781677569364 L34.971269784091405,6.410786361116876 L34.8525011861017,6.287547973512462 L34.736058482625076,6.162109634656936 L34.62198241581927,6.034515234192441 L34.51031289977907,5.904809416145888 L34.40108900657082,5.773037563308453 L34.29434895256147,5.63924578135658 L34.19013008504702,5.503480882720067 L34.0884688691851,5.365790370202848 L33.98940087523617,5.226222420362231 L33.892960766117824,5.084825866652396 L33.79918228527656,4.941650182338049 L33.70809824488131,4.796745463184206 L33.619740514342766,4.650162409928193 L33.53414000916259,4.501952310539936 L33.451326680116395,4.352167022276822 L33.371329502774245,4.200858953539342 L33.2941764673624,4.048081045533913 L33.21989456896979,3.8938867537492694 L33.14850979810274,3.7383300292529107 L33.08004713159111,3.5814652998141527 L33.01453052384916,3.4233474508603905 L32.95198289849414,3.2640318062732225 L32.89242614032552,3.1035741090311677 L32.83588108766777,2.942030501705747 L32.78236752507916,2.7794575068177507 L32.73190417642939,2.6159120070605604 L32.68450869834827,2.4514512253974563 L32.64019767404785,2.286132705039859 L32.598986607520104,2.1200142893135365 L32.56088991811226,1.9531541014197809 L32.525920935481565,1.7856105240986793 L32.49409189493143,1.6174421792015639 L32.46541393313038,1.4487079071798 L32.439897084215424,1.2794667464970952 L32.417550276281276,1.109777912972518 L32.39838132825643,0.9397007790614653 L32.38239694716743,0.7692948530818233 L32.369602725792156,0.598619758392593 L32.36000314070294,0.4277352125322592 L32.35360155070029,0.2567010063242161 L32.35040019563762,0.08557698295654208 L32.35040019563762,-0.08557698295654309 L32.35360155070029,-0.2567010063242161 L32.36000314070294,-0.4277352125322592 L32.369602725792156,-0.598619758392593 L32.38239694716743,-0.7692948530818243 L32.39838132825643,-0.9397007790614653 L32.417550276281276,-1.1097779129725192 L32.439897084215424,-1.2794667464970952 L32.46541393313038,-1.448707907179801 L32.49409189493143,-1.6174421792015639 L32.525920935481565,-1.7856105240986793 L32.56088991811226,-1.953154101419782 L32.598986607520104,-2.1200142893135365 L32.64019767404785,-2.2861327050398605 L32.68450869834827,-2.4514512253974563 L32.73190417642939,-2.6159120070605604 L32.78236752507916,-2.7794575068177516 L32.83588108766777,-2.942030501705747 L32.892426140325526,-3.1035741090311686 L32.95198289849414,-3.2640318062732225 L33.01453052384916,-3.4233474508603905 L33.08004713159111,-3.5814652998141536 L33.14850979810274,-3.7383300292529107 L33.21989456896979,-3.8938867537492707 L33.2941764673624,-4.048081045533913 L33.371329502774245,-4.200858953539341 L33.451326680116395,-4.352167022276822 L33.53414000916259,-4.501952310539936 L33.619740514342766,-4.6501624099281935 L33.70809824488131,-4.796745463184206 L33.79918228527656,-4.941650182338048 L33.892960766117824,-5.084825866652397 L33.98940087523617,-5.226222420362231 L34.0884688691851,-5.365790370202849 L34.19013008504702,-5.503480882720067 L34.29434895256147,-5.639245781356581 L34.40108900657082,-5.773037563308453 L34.51031289977907,-5.904809416145888 L34.62198241581927,-6.034515234192442 L34.736058482625076,-6.162109634656936 L34.8525011861017,-6.287547973512463 L34.971269784091405,-6.410786361116877 L35.09232272062886,-6.531781677569364 L35.215617640481085,-6.650491587797662 L35.34111140396719,-6.76687455637069 L35.46876010205251,-6.8808898620313865 L35.59851907171191,-6.992497611944673 L35.730342911557,-7.101658755655575 L35.8641854977216,-7.208335098752586 L36.0,-7.312489316231511 L 36.0,-7.312489316231511\",\"type\":\"path\"},{\"fillcolor\":\"rgba(0, 0, 0, 0)\",\"line\":{\"color\":\"darkgrey\",\"dash\":\"solid\",\"width\":0.5},\"type\":\"rect\",\"x0\":-54.5,\"x1\":-52.5,\"y0\":-3.66,\"y1\":3.66},{\"fillcolor\":\"rgba(0, 0, 0, 0)\",\"line\":{\"color\":\"darkgrey\",\"dash\":\"solid\",\"width\":0.5},\"type\":\"rect\",\"x0\":52.5,\"x1\":54.5,\"y0\":-3.66,\"y1\":3.66}],\"xaxis\":{\"constrain\":\"domain\",\"range\":[-55.5,55.5],\"showticklabels\":false,\"showgrid\":false,\"zeroline\":false},\"yaxis\":{\"range\":[-37.0,37.0],\"scaleanchor\":\"x\",\"scaleratio\":1,\"showticklabels\":false,\"showgrid\":false,\"zeroline\":false},\"template\":{\"data\":{\"histogram2dcontour\":[{\"type\":\"histogram2dcontour\",\"colorbar\":{\"outlinewidth\":0,\"ticks\":\"\"},\"colorscale\":[[0.0,\"#0d0887\"],[0.1111111111111111,\"#46039f\"],[0.2222222222222222,\"#7201a8\"],[0.3333333333333333,\"#9c179e\"],[0.4444444444444444,\"#bd3786\"],[0.5555555555555556,\"#d8576b\"],[0.6666666666666666,\"#ed7953\"],[0.7777777777777778,\"#fb9f3a\"],[0.8888888888888888,\"#fdca26\"],[1.0,\"#f0f921\"]]}],\"choropleth\":[{\"type\":\"choropleth\",\"colorbar\":{\"outlinewidth\":0,\"ticks\":\"\"}}],\"histogram2d\":[{\"type\":\"histogram2d\",\"colorbar\":{\"outlinewidth\":0,\"ticks\":\"\"},\"colorscale\":[[0.0,\"#0d0887\"],[0.1111111111111111,\"#46039f\"],[0.2222222222222222,\"#7201a8\"],[0.3333333333333333,\"#9c179e\"],[0.4444444444444444,\"#bd3786\"],[0.5555555555555556,\"#d8576b\"],[0.6666666666666666,\"#ed7953\"],[0.7777777777777778,\"#fb9f3a\"],[0.8888888888888888,\"#fdca26\"],[1.0,\"#f0f921\"]]}],\"heatmap\":[{\"type\":\"heatmap\",\"colorbar\":{\"outlinewidth\":0,\"ticks\":\"\"},\"colorscale\":[[0.0,\"#0d0887\"],[0.1111111111111111,\"#46039f\"],[0.2222222222222222,\"#7201a8\"],[0.3333333333333333,\"#9c179e\"],[0.4444444444444444,\"#bd3786\"],[0.5555555555555556,\"#d8576b\"],[0.6666666666666666,\"#ed7953\"],[0.7777777777777778,\"#fb9f3a\"],[0.8888888888888888,\"#fdca26\"],[1.0,\"#f0f921\"]]}],\"heatmapgl\":[{\"type\":\"heatmapgl\",\"colorbar\":{\"outlinewidth\":0,\"ticks\":\"\"},\"colorscale\":[[0.0,\"#0d0887\"],[0.1111111111111111,\"#46039f\"],[0.2222222222222222,\"#7201a8\"],[0.3333333333333333,\"#9c179e\"],[0.4444444444444444,\"#bd3786\"],[0.5555555555555556,\"#d8576b\"],[0.6666666666666666,\"#ed7953\"],[0.7777777777777778,\"#fb9f3a\"],[0.8888888888888888,\"#fdca26\"],[1.0,\"#f0f921\"]]}],\"contourcarpet\":[{\"type\":\"contourcarpet\",\"colorbar\":{\"outlinewidth\":0,\"ticks\":\"\"}}],\"contour\":[{\"type\":\"contour\",\"colorbar\":{\"outlinewidth\":0,\"ticks\":\"\"},\"colorscale\":[[0.0,\"#0d0887\"],[0.1111111111111111,\"#46039f\"],[0.2222222222222222,\"#7201a8\"],[0.3333333333333333,\"#9c179e\"],[0.4444444444444444,\"#bd3786\"],[0.5555555555555556,\"#d8576b\"],[0.6666666666666666,\"#ed7953\"],[0.7777777777777778,\"#fb9f3a\"],[0.8888888888888888,\"#fdca26\"],[1.0,\"#f0f921\"]]}],\"surface\":[{\"type\":\"surface\",\"colorbar\":{\"outlinewidth\":0,\"ticks\":\"\"},\"colorscale\":[[0.0,\"#0d0887\"],[0.1111111111111111,\"#46039f\"],[0.2222222222222222,\"#7201a8\"],[0.3333333333333333,\"#9c179e\"],[0.4444444444444444,\"#bd3786\"],[0.5555555555555556,\"#d8576b\"],[0.6666666666666666,\"#ed7953\"],[0.7777777777777778,\"#fb9f3a\"],[0.8888888888888888,\"#fdca26\"],[1.0,\"#f0f921\"]]}],\"mesh3d\":[{\"type\":\"mesh3d\",\"colorbar\":{\"outlinewidth\":0,\"ticks\":\"\"}}],\"scatter\":[{\"fillpattern\":{\"fillmode\":\"overlay\",\"size\":10,\"solidity\":0.2},\"type\":\"scatter\"}],\"parcoords\":[{\"type\":\"parcoords\",\"line\":{\"colorbar\":{\"outlinewidth\":0,\"ticks\":\"\"}}}],\"scatterpolargl\":[{\"type\":\"scatterpolargl\",\"marker\":{\"colorbar\":{\"outlinewidth\":0,\"ticks\":\"\"}}}],\"bar\":[{\"error_x\":{\"color\":\"#2a3f5f\"},\"error_y\":{\"color\":\"#2a3f5f\"},\"marker\":{\"line\":{\"color\":\"#E5ECF6\",\"width\":0.5},\"pattern\":{\"fillmode\":\"overlay\",\"size\":10,\"solidity\":0.2}},\"type\":\"bar\"}],\"scattergeo\":[{\"type\":\"scattergeo\",\"marker\":{\"colorbar\":{\"outlinewidth\":0,\"ticks\":\"\"}}}],\"scatterpolar\":[{\"type\":\"scatterpolar\",\"marker\":{\"colorbar\":{\"outlinewidth\":0,\"ticks\":\"\"}}}],\"histogram\":[{\"marker\":{\"pattern\":{\"fillmode\":\"overlay\",\"size\":10,\"solidity\":0.2}},\"type\":\"histogram\"}],\"scattergl\":[{\"type\":\"scattergl\",\"marker\":{\"colorbar\":{\"outlinewidth\":0,\"ticks\":\"\"}}}],\"scatter3d\":[{\"type\":\"scatter3d\",\"line\":{\"colorbar\":{\"outlinewidth\":0,\"ticks\":\"\"}},\"marker\":{\"colorbar\":{\"outlinewidth\":0,\"ticks\":\"\"}}}],\"scattermapbox\":[{\"type\":\"scattermapbox\",\"marker\":{\"colorbar\":{\"outlinewidth\":0,\"ticks\":\"\"}}}],\"scatterternary\":[{\"type\":\"scatterternary\",\"marker\":{\"colorbar\":{\"outlinewidth\":0,\"ticks\":\"\"}}}],\"scattercarpet\":[{\"type\":\"scattercarpet\",\"marker\":{\"colorbar\":{\"outlinewidth\":0,\"ticks\":\"\"}}}],\"carpet\":[{\"aaxis\":{\"endlinecolor\":\"#2a3f5f\",\"gridcolor\":\"white\",\"linecolor\":\"white\",\"minorgridcolor\":\"white\",\"startlinecolor\":\"#2a3f5f\"},\"baxis\":{\"endlinecolor\":\"#2a3f5f\",\"gridcolor\":\"white\",\"linecolor\":\"white\",\"minorgridcolor\":\"white\",\"startlinecolor\":\"#2a3f5f\"},\"type\":\"carpet\"}],\"table\":[{\"cells\":{\"fill\":{\"color\":\"#EBF0F8\"},\"line\":{\"color\":\"white\"}},\"header\":{\"fill\":{\"color\":\"#C8D4E3\"},\"line\":{\"color\":\"white\"}},\"type\":\"table\"}],\"barpolar\":[{\"marker\":{\"line\":{\"color\":\"#E5ECF6\",\"width\":0.5},\"pattern\":{\"fillmode\":\"overlay\",\"size\":10,\"solidity\":0.2}},\"type\":\"barpolar\"}],\"pie\":[{\"automargin\":true,\"type\":\"pie\"}]},\"layout\":{\"autotypenumbers\":\"strict\",\"colorway\":[\"#636efa\",\"#EF553B\",\"#00cc96\",\"#ab63fa\",\"#FFA15A\",\"#19d3f3\",\"#FF6692\",\"#B6E880\",\"#FF97FF\",\"#FECB52\"],\"font\":{\"color\":\"#2a3f5f\"},\"hovermode\":\"closest\",\"hoverlabel\":{\"align\":\"left\"},\"paper_bgcolor\":\"white\",\"plot_bgcolor\":\"#E5ECF6\",\"polar\":{\"bgcolor\":\"#E5ECF6\",\"angularaxis\":{\"gridcolor\":\"white\",\"linecolor\":\"white\",\"ticks\":\"\"},\"radialaxis\":{\"gridcolor\":\"white\",\"linecolor\":\"white\",\"ticks\":\"\"}},\"ternary\":{\"bgcolor\":\"#E5ECF6\",\"aaxis\":{\"gridcolor\":\"white\",\"linecolor\":\"white\",\"ticks\":\"\"},\"baxis\":{\"gridcolor\":\"white\",\"linecolor\":\"white\",\"ticks\":\"\"},\"caxis\":{\"gridcolor\":\"white\",\"linecolor\":\"white\",\"ticks\":\"\"}},\"coloraxis\":{\"colorbar\":{\"outlinewidth\":0,\"ticks\":\"\"}},\"colorscale\":{\"sequential\":[[0.0,\"#0d0887\"],[0.1111111111111111,\"#46039f\"],[0.2222222222222222,\"#7201a8\"],[0.3333333333333333,\"#9c179e\"],[0.4444444444444444,\"#bd3786\"],[0.5555555555555556,\"#d8576b\"],[0.6666666666666666,\"#ed7953\"],[0.7777777777777778,\"#fb9f3a\"],[0.8888888888888888,\"#fdca26\"],[1.0,\"#f0f921\"]],\"sequentialminus\":[[0.0,\"#0d0887\"],[0.1111111111111111,\"#46039f\"],[0.2222222222222222,\"#7201a8\"],[0.3333333333333333,\"#9c179e\"],[0.4444444444444444,\"#bd3786\"],[0.5555555555555556,\"#d8576b\"],[0.6666666666666666,\"#ed7953\"],[0.7777777777777778,\"#fb9f3a\"],[0.8888888888888888,\"#fdca26\"],[1.0,\"#f0f921\"]],\"diverging\":[[0,\"#8e0152\"],[0.1,\"#c51b7d\"],[0.2,\"#de77ae\"],[0.3,\"#f1b6da\"],[0.4,\"#fde0ef\"],[0.5,\"#f7f7f7\"],[0.6,\"#e6f5d0\"],[0.7,\"#b8e186\"],[0.8,\"#7fbc41\"],[0.9,\"#4d9221\"],[1,\"#276419\"]]},\"xaxis\":{\"gridcolor\":\"white\",\"linecolor\":\"white\",\"ticks\":\"\",\"title\":{\"standoff\":15},\"zerolinecolor\":\"white\",\"automargin\":true,\"zerolinewidth\":2},\"yaxis\":{\"gridcolor\":\"white\",\"linecolor\":\"white\",\"ticks\":\"\",\"title\":{\"standoff\":15},\"zerolinecolor\":\"white\",\"automargin\":true,\"zerolinewidth\":2},\"scene\":{\"xaxis\":{\"backgroundcolor\":\"#E5ECF6\",\"gridcolor\":\"white\",\"linecolor\":\"white\",\"showbackground\":true,\"ticks\":\"\",\"zerolinecolor\":\"white\",\"gridwidth\":2},\"yaxis\":{\"backgroundcolor\":\"#E5ECF6\",\"gridcolor\":\"white\",\"linecolor\":\"white\",\"showbackground\":true,\"ticks\":\"\",\"zerolinecolor\":\"white\",\"gridwidth\":2},\"zaxis\":{\"backgroundcolor\":\"#E5ECF6\",\"gridcolor\":\"white\",\"linecolor\":\"white\",\"showbackground\":true,\"ticks\":\"\",\"zerolinecolor\":\"white\",\"gridwidth\":2}},\"shapedefaults\":{\"line\":{\"color\":\"#2a3f5f\"}},\"annotationdefaults\":{\"arrowcolor\":\"#2a3f5f\",\"arrowhead\":0,\"arrowwidth\":1},\"geo\":{\"bgcolor\":\"white\",\"landcolor\":\"#E5ECF6\",\"subunitcolor\":\"white\",\"showland\":true,\"showlakes\":true,\"lakecolor\":\"white\"},\"title\":{\"x\":0.05},\"mapbox\":{\"style\":\"light\"}}},\"margin\":{\"l\":0,\"r\":100,\"t\":0,\"b\":0},\"legend\":{\"font\":{\"family\":\"Roboto, sans-serif\",\"size\":14},\"xanchor\":\"left\",\"x\":1,\"y\":0.85},\"width\":920,\"height\":600,\"paper_bgcolor\":\"rgba(0,0,0,0)\",\"plot_bgcolor\":\"rgba(0,0,0,0)\",\"dragmode\":false,\"sliders\":[{\"active\":0,\"font\":{\"size\":10},\"steps\":[{\"args\":[{\"visible\":[true,true,false,false,false,false,false,false,false,false,false,false,false,false,false,false,false,false,false,false,false,false,false,false,false,false,false,false,false,false,false,false,false,false,false,false,false,false,false,false,false,false,false,false,false,false,false,false,false,false,false,false,false,false,false,false]}],\"label\":\"293\",\"method\":\"update\"},{\"args\":[{\"visible\":[false,false,true,true,false,false,false,false,false,false,false,false,false,false,false,false,false,false,false,false,false,false,false,false,false,false,false,false,false,false,false,false,false,false,false,false,false,false,false,false,false,false,false,false,false,false,false,false,false,false,false,false,false,false,false,false]}],\"label\":\"294\",\"method\":\"update\"},{\"args\":[{\"visible\":[false,false,false,false,true,true,false,false,false,false,false,false,false,false,false,false,false,false,false,false,false,false,false,false,false,false,false,false,false,false,false,false,false,false,false,false,false,false,false,false,false,false,false,false,false,false,false,false,false,false,false,false,false,false,false,false]}],\"label\":\"295\",\"method\":\"update\"},{\"args\":[{\"visible\":[false,false,false,false,false,false,true,true,false,false,false,false,false,false,false,false,false,false,false,false,false,false,false,false,false,false,false,false,false,false,false,false,false,false,false,false,false,false,false,false,false,false,false,false,false,false,false,false,false,false,false,false,false,false,false,false]}],\"label\":\"296\",\"method\":\"update\"},{\"args\":[{\"visible\":[false,false,false,false,false,false,false,false,true,true,false,false,false,false,false,false,false,false,false,false,false,false,false,false,false,false,false,false,false,false,false,false,false,false,false,false,false,false,false,false,false,false,false,false,false,false,false,false,false,false,false,false,false,false,false,false]}],\"label\":\"297\",\"method\":\"update\"},{\"args\":[{\"visible\":[false,false,false,false,false,false,false,false,false,false,true,true,false,false,false,false,false,false,false,false,false,false,false,false,false,false,false,false,false,false,false,false,false,false,false,false,false,false,false,false,false,false,false,false,false,false,false,false,false,false,false,false,false,false,false,false]}],\"label\":\"298\",\"method\":\"update\"},{\"args\":[{\"visible\":[false,false,false,false,false,false,false,false,false,false,false,false,true,true,false,false,false,false,false,false,false,false,false,false,false,false,false,false,false,false,false,false,false,false,false,false,false,false,false,false,false,false,false,false,false,false,false,false,false,false,false,false,false,false,false,false]}],\"label\":\"299\",\"method\":\"update\"},{\"args\":[{\"visible\":[false,false,false,false,false,false,false,false,false,false,false,false,false,false,true,true,false,false,false,false,false,false,false,false,false,false,false,false,false,false,false,false,false,false,false,false,false,false,false,false,false,false,false,false,false,false,false,false,false,false,false,false,false,false,false,false]}],\"label\":\"300\",\"method\":\"update\"},{\"args\":[{\"visible\":[false,false,false,false,false,false,false,false,false,false,false,false,false,false,false,false,true,true,false,false,false,false,false,false,false,false,false,false,false,false,false,false,false,false,false,false,false,false,false,false,false,false,false,false,false,false,false,false,false,false,false,false,false,false,false,false]}],\"label\":\"301\",\"method\":\"update\"},{\"args\":[{\"visible\":[false,false,false,false,false,false,false,false,false,false,false,false,false,false,false,false,false,false,true,true,false,false,false,false,false,false,false,false,false,false,false,false,false,false,false,false,false,false,false,false,false,false,false,false,false,false,false,false,false,false,false,false,false,false,false,false]}],\"label\":\"302\",\"method\":\"update\"},{\"args\":[{\"visible\":[false,false,false,false,false,false,false,false,false,false,false,false,false,false,false,false,false,false,false,false,true,true,false,false,false,false,false,false,false,false,false,false,false,false,false,false,false,false,false,false,false,false,false,false,false,false,false,false,false,false,false,false,false,false,false,false]}],\"label\":\"303\",\"method\":\"update\"},{\"args\":[{\"visible\":[false,false,false,false,false,false,false,false,false,false,false,false,false,false,false,false,false,false,false,false,false,false,true,true,false,false,false,false,false,false,false,false,false,false,false,false,false,false,false,false,false,false,false,false,false,false,false,false,false,false,false,false,false,false,false,false]}],\"label\":\"304\",\"method\":\"update\"},{\"args\":[{\"visible\":[false,false,false,false,false,false,false,false,false,false,false,false,false,false,false,false,false,false,false,false,false,false,false,false,true,true,false,false,false,false,false,false,false,false,false,false,false,false,false,false,false,false,false,false,false,false,false,false,false,false,false,false,false,false,false,false]}],\"label\":\"305\",\"method\":\"update\"},{\"args\":[{\"visible\":[false,false,false,false,false,false,false,false,false,false,false,false,false,false,false,false,false,false,false,false,false,false,false,false,false,false,true,true,false,false,false,false,false,false,false,false,false,false,false,false,false,false,false,false,false,false,false,false,false,false,false,false,false,false,false,false]}],\"label\":\"306\",\"method\":\"update\"},{\"args\":[{\"visible\":[false,false,false,false,false,false,false,false,false,false,false,false,false,false,false,false,false,false,false,false,false,false,false,false,false,false,false,false,true,true,false,false,false,false,false,false,false,false,false,false,false,false,false,false,false,false,false,false,false,false,false,false,false,false,false,false]}],\"label\":\"307\",\"method\":\"update\"},{\"args\":[{\"visible\":[false,false,false,false,false,false,false,false,false,false,false,false,false,false,false,false,false,false,false,false,false,false,false,false,false,false,false,false,false,false,true,true,false,false,false,false,false,false,false,false,false,false,false,false,false,false,false,false,false,false,false,false,false,false,false,false]}],\"label\":\"308\",\"method\":\"update\"},{\"args\":[{\"visible\":[false,false,false,false,false,false,false,false,false,false,false,false,false,false,false,false,false,false,false,false,false,false,false,false,false,false,false,false,false,false,false,false,true,true,false,false,false,false,false,false,false,false,false,false,false,false,false,false,false,false,false,false,false,false,false,false]}],\"label\":\"309\",\"method\":\"update\"},{\"args\":[{\"visible\":[false,false,false,false,false,false,false,false,false,false,false,false,false,false,false,false,false,false,false,false,false,false,false,false,false,false,false,false,false,false,false,false,false,false,true,true,false,false,false,false,false,false,false,false,false,false,false,false,false,false,false,false,false,false,false,false]}],\"label\":\"310\",\"method\":\"update\"},{\"args\":[{\"visible\":[false,false,false,false,false,false,false,false,false,false,false,false,false,false,false,false,false,false,false,false,false,false,false,false,false,false,false,false,false,false,false,false,false,false,false,false,true,true,false,false,false,false,false,false,false,false,false,false,false,false,false,false,false,false,false,false]}],\"label\":\"311\",\"method\":\"update\"},{\"args\":[{\"visible\":[false,false,false,false,false,false,false,false,false,false,false,false,false,false,false,false,false,false,false,false,false,false,false,false,false,false,false,false,false,false,false,false,false,false,false,false,false,false,true,true,false,false,false,false,false,false,false,false,false,false,false,false,false,false,false,false]}],\"label\":\"312\",\"method\":\"update\"},{\"args\":[{\"visible\":[false,false,false,false,false,false,false,false,false,false,false,false,false,false,false,false,false,false,false,false,false,false,false,false,false,false,false,false,false,false,false,false,false,false,false,false,false,false,false,false,true,true,false,false,false,false,false,false,false,false,false,false,false,false,false,false]}],\"label\":\"313\",\"method\":\"update\"},{\"args\":[{\"visible\":[false,false,false,false,false,false,false,false,false,false,false,false,false,false,false,false,false,false,false,false,false,false,false,false,false,false,false,false,false,false,false,false,false,false,false,false,false,false,false,false,false,false,true,true,false,false,false,false,false,false,false,false,false,false,false,false]}],\"label\":\"314\",\"method\":\"update\"},{\"args\":[{\"visible\":[false,false,false,false,false,false,false,false,false,false,false,false,false,false,false,false,false,false,false,false,false,false,false,false,false,false,false,false,false,false,false,false,false,false,false,false,false,false,false,false,false,false,false,false,true,true,false,false,false,false,false,false,false,false,false,false]}],\"label\":\"315\",\"method\":\"update\"},{\"args\":[{\"visible\":[false,false,false,false,false,false,false,false,false,false,false,false,false,false,false,false,false,false,false,false,false,false,false,false,false,false,false,false,false,false,false,false,false,false,false,false,false,false,false,false,false,false,false,false,false,false,true,true,false,false,false,false,false,false,false,false]}],\"label\":\"316\",\"method\":\"update\"},{\"args\":[{\"visible\":[false,false,false,false,false,false,false,false,false,false,false,false,false,false,false,false,false,false,false,false,false,false,false,false,false,false,false,false,false,false,false,false,false,false,false,false,false,false,false,false,false,false,false,false,false,false,false,false,true,true,false,false,false,false,false,false]}],\"label\":\"317\",\"method\":\"update\"},{\"args\":[{\"visible\":[false,false,false,false,false,false,false,false,false,false,false,false,false,false,false,false,false,false,false,false,false,false,false,false,false,false,false,false,false,false,false,false,false,false,false,false,false,false,false,false,false,false,false,false,false,false,false,false,false,false,true,true,false,false,false,false]}],\"label\":\"318\",\"method\":\"update\"},{\"args\":[{\"visible\":[false,false,false,false,false,false,false,false,false,false,false,false,false,false,false,false,false,false,false,false,false,false,false,false,false,false,false,false,false,false,false,false,false,false,false,false,false,false,false,false,false,false,false,false,false,false,false,false,false,false,false,false,true,true,false,false]}],\"label\":\"319\",\"method\":\"update\"},{\"args\":[{\"visible\":[false,false,false,false,false,false,false,false,false,false,false,false,false,false,false,false,false,false,false,false,false,false,false,false,false,false,false,false,false,false,false,false,false,false,false,false,false,false,false,false,false,false,false,false,false,false,false,false,false,false,false,false,false,false,true,true]}],\"label\":\"320\",\"method\":\"update\"}]}]},                        {\"responsive\": true}                    ).then(function(){\n",
       "                            \n",
       "var gd = document.getElementById('2272589a-2790-42cf-bebc-52aa30b595a3');\n",
       "var x = new MutationObserver(function (mutations, observer) {{\n",
       "        var display = window.getComputedStyle(gd).display;\n",
       "        if (!display || display === 'none') {{\n",
       "            console.log([gd, 'removed!']);\n",
       "            Plotly.purge(gd);\n",
       "            observer.disconnect();\n",
       "        }}\n",
       "}});\n",
       "\n",
       "// Listen for the removal of the full notebook cells\n",
       "var notebookContainer = gd.closest('#notebook-container');\n",
       "if (notebookContainer) {{\n",
       "    x.observe(notebookContainer, {childList: true});\n",
       "}}\n",
       "\n",
       "// Listen for the clearing of the current output cell\n",
       "var outputEl = gd.closest('.output');\n",
       "if (outputEl) {{\n",
       "    x.observe(outputEl, {childList: true});\n",
       "}}\n",
       "\n",
       "                        })                };                });            </script>        </div>"
      ]
     },
     "metadata": {},
     "output_type": "display_data"
    }
   ],
   "source": [
    "color_map = {'H': 'steelblue', 'A': 'tan'}\n",
    "field_layout = soccerfield.get_layout(105, 68)\n",
    "\n",
    "fig = go.Figure(layout=field_layout)\n",
    "fig.update_layout(width=920, height=600, paper_bgcolor=\"rgba(0,0,0,0)\", plot_bgcolor='rgba(0,0,0,0)',\n",
    "                  margin=dict(l=0, r=100, t=0, b=0),\n",
    "                  xaxis=dict(showgrid=False, zeroline=False), yaxis=dict(showgrid=False, zeroline=False),\n",
    "                  legend=dict(xanchor=\"left\", x=1, y=0.85,\n",
    "                              font = dict(family = \"Roboto, sans-serif\", size = 14))\n",
    "                  )\n",
    "\n",
    "fig.update_layout(dragmode= False)\n",
    "\n",
    "\n",
    "for idx, row in frames_df.iterrows():        \n",
    "    colors = [color_map[value] for value in row['team']]\n",
    "    fig.add_trace(\n",
    "        go.Scatter(\n",
    "            visible=False,\n",
    "            x=row['p_x'], y=row['p_y'], mode='markers', marker=dict(color=colors), showlegend = False,\n",
    "            hovertext = row['name']\n",
    "        ))\n",
    "    fig.add_trace(\n",
    "        go.Scatter(\n",
    "            visible=False,\n",
    "            x=[row['ball_x']], y=[row['ball_y']], mode='markers', marker=dict(color='black'), showlegend = False   \n",
    "        ))\n",
    "fig.data[0].visible = True\n",
    "fig.data[1].visible = True\n",
    "\n",
    "visibility = []\n",
    "fame_number = frames_df['frame'].to_list()\n",
    "for i in range(len(frames)):\n",
    "    frame_viz = dict(\n",
    "        method=\"update\",\n",
    "        args=[{\"visible\": [False] * len(fig.data)}],\n",
    "        label = fame_number[i]\n",
    "    )\n",
    "    frame_viz[\"args\"][0][\"visible\"][i*2] = True\n",
    "    frame_viz[\"args\"][0][\"visible\"][i*2+1] = True\n",
    "    visibility.append(frame_viz)\n",
    "    \n",
    "sliders = [dict(\n",
    "        active=0, steps=visibility, font=dict(size=10)\n",
    "    )]\n",
    "\n",
    "fig.update_layout(\n",
    "        sliders=sliders\n",
    "    )"
   ]
  },
  {
   "cell_type": "code",
   "execution_count": null,
   "id": "309266b5-0ce7-4704-9821-74b969c2fddc",
   "metadata": {},
   "outputs": [],
   "source": []
  }
 ],
 "metadata": {
  "kernelspec": {
   "display_name": "asi12",
   "language": "python",
   "name": "asi12"
  },
  "language_info": {
   "codemirror_mode": {
    "name": "ipython",
    "version": 3
   },
   "file_extension": ".py",
   "mimetype": "text/x-python",
   "name": "python",
   "nbconvert_exporter": "python",
   "pygments_lexer": "ipython3",
   "version": "3.12.8"
  }
 },
 "nbformat": 4,
 "nbformat_minor": 5
}
