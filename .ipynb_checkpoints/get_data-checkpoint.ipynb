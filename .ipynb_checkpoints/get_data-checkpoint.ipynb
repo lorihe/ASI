{
 "cells": [
  {
   "cell_type": "code",
   "execution_count": 3,
   "id": "7045201c-dfb8-47e1-89d0-29035fb5d3f0",
   "metadata": {
    "tags": []
   },
   "outputs": [],
   "source": [
    "from skillcorner.client import SkillcornerClient\n",
    "from dotenv import load_dotenv\n",
    "import os"
   ]
  },
  {
   "cell_type": "code",
   "execution_count": 4,
   "id": "9e0bac4d-d523-42c0-b54b-9e9e259b7fea",
   "metadata": {
    "tags": []
   },
   "outputs": [],
   "source": [
    "load_dotenv()\n",
    "username = os.getenv('USERNAME')\n",
    "password = os.getenv('PASSWORD')"
   ]
  },
  {
   "cell_type": "code",
   "execution_count": 5,
   "id": "f82f54da-5289-4e07-930e-cb31d102719b",
   "metadata": {
    "tags": []
   },
   "outputs": [],
   "source": [
    "client = SkillcornerClient(username=username, password=password)"
   ]
  },
  {
   "cell_type": "code",
   "execution_count": null,
   "id": "38abe3d9-5450-4b39-81e2-f8deb830678a",
   "metadata": {},
   "outputs": [],
   "source": []
  }
 ],
 "metadata": {
  "kernelspec": {
   "display_name": "ASI",
   "language": "python",
   "name": "asi"
  },
  "language_info": {
   "codemirror_mode": {
    "name": "ipython",
    "version": 3
   },
   "file_extension": ".py",
   "mimetype": "text/x-python",
   "name": "python",
   "nbconvert_exporter": "python",
   "pygments_lexer": "ipython3",
   "version": "3.11.11"
  }
 },
 "nbformat": 4,
 "nbformat_minor": 5
}
