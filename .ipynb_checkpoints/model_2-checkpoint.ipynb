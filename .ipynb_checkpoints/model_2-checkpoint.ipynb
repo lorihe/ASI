{
 "cells": [
  {
   "cell_type": "code",
   "execution_count": 26,
   "id": "28828aa0-a9d6-46b5-84db-877ac298a4fb",
   "metadata": {},
   "outputs": [],
   "source": [
    "import pandas as pd\n",
    "import numpy as np\n",
    "import matplotlib.pyplot as plt\n",
    "import seaborn as sns\n",
    "from utils import *\n",
    "from sklearn.model_selection import train_test_split\n",
    "from sklearn.preprocessing import StandardScaler\n",
    "from sklearn.linear_model import LinearRegression\n",
    "from sklearn.ensemble import RandomForestRegressor\n",
    "from sklearn.svm import SVR\n",
    "from sklearn.metrics import mean_squared_error, r2_score"
   ]
  },
  {
   "cell_type": "code",
   "execution_count": 10,
   "id": "ee8aa933-1d66-4ba5-aaec-7ec0149e6cb4",
   "metadata": {},
   "outputs": [],
   "source": [
    "model_1_data = pd.read_csv('model_1_data.csv')"
   ]
  },
  {
   "cell_type": "code",
   "execution_count": 9,
   "id": "088f07fa-6955-41b3-b71f-dfa5c9065d31",
   "metadata": {},
   "outputs": [],
   "source": [
    "features = [\"attack_score\", \"defend_score\", \"SoF\", \"attacker_count\", \"defender_count\"]\n",
    "target = \"combined_score\""
   ]
  },
  {
   "cell_type": "code",
   "execution_count": 11,
   "id": "78289ac9-638d-4673-90e8-773e5381a438",
   "metadata": {},
   "outputs": [],
   "source": [
    "model_df = model_1_data[features]"
   ]
  },
  {
   "cell_type": "code",
   "execution_count": 12,
   "id": "c04314ab-5973-44e7-9a7f-dc95e2f47c3e",
   "metadata": {},
   "outputs": [
    {
     "data": {
      "text/plain": [
       "attack_score      0\n",
       "defend_score      0\n",
       "SoF               0\n",
       "attacker_count    0\n",
       "defender_count    0\n",
       "dtype: int64"
      ]
     },
     "execution_count": 12,
     "metadata": {},
     "output_type": "execute_result"
    }
   ],
   "source": [
    "model_df.isna().sum()"
   ]
  },
  {
   "cell_type": "code",
   "execution_count": 19,
   "id": "ea34aa3a-978a-48b3-bfe1-a56e5ea77af5",
   "metadata": {},
   "outputs": [
    {
     "data": {
      "image/png": "[encoded data removed]",
      "text/plain": [
       "<Figure size 1500x300 with 5 Axes>"
      ]
     },
     "metadata": {},
     "output_type": "display_data"
    }
   ],
   "source": [
    "plt.figure(figsize=(15,3))\n",
    "\n",
    "for i, col in enumerate(features):\n",
    "    plt.subplot(1, 5, i+1)\n",
    "    plt.hist(model_df[col], bins=50, density=True)\n",
    "    plt.title(f'Histogram {col}')\n",
    "\n",
    "plt.tight_layout()\n",
    "plt.show()"
   ]
  },
  {
   "cell_type": "code",
   "execution_count": 21,
   "id": "64270325-16d7-42a0-aabb-2aecb953341b",
   "metadata": {},
   "outputs": [
    {
     "data": {
      "text/html": [
       "<div>\n",
       "<style scoped>\n",
       "    .dataframe tbody tr th:only-of-type {\n",
       "        vertical-align: middle;\n",
       "    }\n",
       "\n",
       "    .dataframe tbody tr th {\n",
       "        vertical-align: top;\n",
       "    }\n",
       "\n",
       "    .dataframe thead th {\n",
       "        text-align: right;\n",
       "    }\n",
       "</style>\n",
       "<table border=\"1\" class=\"dataframe\">\n",
       "  <thead>\n",
       "    <tr style=\"text-align: right;\">\n",
       "      <th></th>\n",
       "      <th>attack_score</th>\n",
       "      <th>defend_score</th>\n",
       "      <th>SoF</th>\n",
       "      <th>attacker_count</th>\n",
       "      <th>defender_count</th>\n",
       "    </tr>\n",
       "  </thead>\n",
       "  <tbody>\n",
       "    <tr>\n",
       "      <th>3335</th>\n",
       "      <td>1</td>\n",
       "      <td>0</td>\n",
       "      <td>2079.865241</td>\n",
       "      <td>0</td>\n",
       "      <td>4</td>\n",
       "    </tr>\n",
       "    <tr>\n",
       "      <th>5153</th>\n",
       "      <td>0</td>\n",
       "      <td>1</td>\n",
       "      <td>438.598556</td>\n",
       "      <td>1</td>\n",
       "      <td>4</td>\n",
       "    </tr>\n",
       "    <tr>\n",
       "      <th>5154</th>\n",
       "      <td>0</td>\n",
       "      <td>1</td>\n",
       "      <td>1905.825606</td>\n",
       "      <td>1</td>\n",
       "      <td>4</td>\n",
       "    </tr>\n",
       "    <tr>\n",
       "      <th>5439</th>\n",
       "      <td>1</td>\n",
       "      <td>1</td>\n",
       "      <td>12944.735233</td>\n",
       "      <td>3</td>\n",
       "      <td>5</td>\n",
       "    </tr>\n",
       "    <tr>\n",
       "      <th>5817</th>\n",
       "      <td>0</td>\n",
       "      <td>0</td>\n",
       "      <td>1460.348354</td>\n",
       "      <td>2</td>\n",
       "      <td>6</td>\n",
       "    </tr>\n",
       "  </tbody>\n",
       "</table>\n",
       "</div>"
      ],
      "text/plain": [
       "      attack_score  defend_score           SoF  attacker_count  defender_count\n",
       "3335             1             0   2079.865241               0               4\n",
       "5153             0             1    438.598556               1               4\n",
       "5154             0             1   1905.825606               1               4\n",
       "5439             1             1  12944.735233               3               5\n",
       "5817             0             0   1460.348354               2               6"
      ]
     },
     "execution_count": 21,
     "metadata": {},
     "output_type": "execute_result"
    }
   ],
   "source": [
    "model_df[model_df['SoF']>300]"
   ]
  },
  {
   "cell_type": "code",
   "execution_count": 27,
   "id": "d78e4f67-5535-4822-b901-37e37d845d84",
   "metadata": {},
   "outputs": [
    {
     "ename": "FileNotFoundError",
     "evalue": "[Errno 2] No such file or directory: 'data/FA/match/1386129.json'",
     "output_type": "error",
     "traceback": [
      "\u001b[1;31m---------------------------------------------------------------------------\u001b[0m",
      "\u001b[1;31mFileNotFoundError\u001b[0m                         Traceback (most recent call last)",
      "Cell \u001b[1;32mIn[27], line 1\u001b[0m\n\u001b[1;32m----> 1\u001b[0m find_pitch_size(\u001b[38;5;241m1386129\u001b[39m)\n",
      "File \u001b[1;32mD:\\Github\\ASI\\model_1\\utils.py:120\u001b[0m, in \u001b[0;36mfind_pitch_size\u001b[1;34m(match_id)\u001b[0m\n\u001b[0;32m    118\u001b[0m \u001b[38;5;28;01mdef\u001b[39;00m \u001b[38;5;21mfind_pitch_size\u001b[39m(match_id):\n\u001b[0;32m    119\u001b[0m     match_path \u001b[38;5;241m=\u001b[39m \u001b[38;5;124mf\u001b[39m\u001b[38;5;124m'\u001b[39m\u001b[38;5;124mdata/FA/match/\u001b[39m\u001b[38;5;132;01m{\u001b[39;00mmatch_id\u001b[38;5;132;01m}\u001b[39;00m\u001b[38;5;124m.json\u001b[39m\u001b[38;5;124m'\u001b[39m\n\u001b[1;32m--> 120\u001b[0m     match_data \u001b[38;5;241m=\u001b[39m load_json_file(match_path)\n\u001b[0;32m    121\u001b[0m     \u001b[38;5;28;01mreturn\u001b[39;00m match_data[\u001b[38;5;124m'\u001b[39m\u001b[38;5;124mpitch_length\u001b[39m\u001b[38;5;124m'\u001b[39m], match_data[\u001b[38;5;124m'\u001b[39m\u001b[38;5;124mpitch_width\u001b[39m\u001b[38;5;124m'\u001b[39m]\n",
      "File \u001b[1;32mD:\\Github\\ASI\\model_1\\utils.py:8\u001b[0m, in \u001b[0;36mload_json_file\u001b[1;34m(file_path)\u001b[0m\n\u001b[0;32m      7\u001b[0m \u001b[38;5;28;01mdef\u001b[39;00m \u001b[38;5;21mload_json_file\u001b[39m(file_path):\n\u001b[1;32m----> 8\u001b[0m     \u001b[38;5;28;01mwith\u001b[39;00m \u001b[38;5;28mopen\u001b[39m(file_path, \u001b[38;5;124m'\u001b[39m\u001b[38;5;124mr\u001b[39m\u001b[38;5;124m'\u001b[39m) \u001b[38;5;28;01mas\u001b[39;00m file:\n\u001b[0;32m      9\u001b[0m         data \u001b[38;5;241m=\u001b[39m json\u001b[38;5;241m.\u001b[39mload(file)\n\u001b[0;32m     10\u001b[0m     \u001b[38;5;28;01mreturn\u001b[39;00m data\n",
      "\u001b[1;31mFileNotFoundError\u001b[0m: [Errno 2] No such file or directory: 'data/FA/match/1386129.json'"
     ]
    }
   ],
   "source": [
    "find_pitch_size(1386129)"
   ]
  },
  {
   "cell_type": "code",
   "execution_count": 23,
   "id": "b69b823b-bd01-42ef-8607-cf5eb918677f",
   "metadata": {},
   "outputs": [
    {
     "data": {
      "text/plain": [
       "sk_match_id                                                         1386129\n",
       "frame                                                                 57173\n",
       "minute                                                                   93\n",
       "player_name                                                       S. Howard\n",
       "pass_recipient_name                                                 D. Rose\n",
       "pass_recipient_id                                                    419159\n",
       "pass_recipient_position                                                  CF\n",
       "sk_player_id                                                        22639.0\n",
       "pass_angle                                                               21\n",
       "type_primary                                                           pass\n",
       "type_secondary              ['forward_pass' 'long_pass' 'progressive_pass']\n",
       "location_x                                                               30\n",
       "location_y                                                               69\n",
       "pass_accurate                                                          True\n",
       "team_name                                                Leicester City WFC\n",
       "possession_team_name                                     Leicester City WFC\n",
       "possession_team_name_src                                 Leicester City WFC\n",
       "possession_types                           ['set_piece_attack' 'free_kick']\n",
       "period                                                                  2.0\n",
       "receive_frame                                                       57269.0\n",
       "receive_x                                                             30.18\n",
       "receive_y                                                            -35.03\n",
       "target_area                                                            True\n",
       "ball_x_0                                                              28.59\n",
       "ball_y_0                                                             -33.89\n",
       "ball_x_1                                                              22.52\n",
       "ball_y_1                                                             -32.77\n",
       "player_1                                                                NaN\n",
       "ball_x_2                                                              25.71\n",
       "ball_y_2                                                             -33.02\n",
       "player_2                                                            22742.0\n",
       "ball_x_3                                                              33.31\n",
       "ball_y_3                                                             -34.96\n",
       "player_3                                                            68758.0\n",
       "player_0                                                                NaN\n",
       "sk_recipient_id                                                       22722\n",
       "long_name                                               Deanne Cynthia Rose\n",
       "dist_0                                                            41.475537\n",
       "dist_1                                                            44.414787\n",
       "dist_2                                                            42.520871\n",
       "dist_3                                                            42.520871\n",
       "score_1                                                                   0\n",
       "score_2                                                                   0\n",
       "score_3                                                                   0\n",
       "attack_score                                                              0\n",
       "defend_score                                                              1\n",
       "SoF                                                              438.598556\n",
       "attacker_count                                                            1\n",
       "defender_count                                                            4\n",
       "combined_score                                                          0.0\n",
       "Name: 5153, dtype: object"
      ]
     },
     "execution_count": 23,
     "metadata": {},
     "output_type": "execute_result"
    }
   ],
   "source": [
    "model_1_data.iloc[5153]"
   ]
  },
  {
   "cell_type": "code",
   "execution_count": null,
   "id": "8b24722d-b19b-48e4-b7f1-3b94d9210b8f",
   "metadata": {},
   "outputs": [],
   "source": []
  }
 ],
 "metadata": {
  "kernelspec": {
   "display_name": "asi12",
   "language": "python",
   "name": "asi12"
  },
  "language_info": {
   "codemirror_mode": {
    "name": "ipython",
    "version": 3
   },
   "file_extension": ".py",
   "mimetype": "text/x-python",
   "name": "python",
   "nbconvert_exporter": "python",
   "pygments_lexer": "ipython3",
   "version": "3.12.8"
  }
 },
 "nbformat": 4,
 "nbformat_minor": 5
}
