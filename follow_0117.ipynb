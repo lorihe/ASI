{
 "cells": [
  {
   "cell_type": "code",
   "execution_count": 1,
   "id": "e1548f18-521d-449c-8f34-2c8978836d51",
   "metadata": {},
   "outputs": [],
   "source": [
    "import matplotlib.pyplot as plt\n",
    "from dotenv import load_dotenv\n",
    "from scipy.optimize import minimize\n",
    "import pandas as pd\n",
    "import numpy as np\n",
    "import seaborn as sns\n",
    "import os\n",
    "import json\n",
    "import math\n",
    "import jsonlines\n",
    "import pyarrow.parquet as pq\n",
    "from utils import *\n",
    "import plotly.graph_objects as go\n",
    "import soccerfield\n",
    "\n",
    "import warnings\n",
    "warnings.filterwarnings('ignore')\n",
    "pd.set_option('display.max_rows', None)\n",
    "pd.set_option('display.max_columns', None)\n",
    "pd.set_option('display.max_colwidth', None)\n",
    "%load_ext autoreload\n",
    "%autoreload 2"
   ]
  },
  {
   "cell_type": "code",
   "execution_count": 2,
   "id": "88f3630b-e100-49b9-9d9e-45bba070b8b2",
   "metadata": {},
   "outputs": [],
   "source": [
    "short_name_map = load_json_file('data/short_name_map.json')"
   ]
  },
  {
   "cell_type": "code",
   "execution_count": 3,
   "id": "3dc6eb12-f76f-4712-a2a3-fb3e8ccb8e43",
   "metadata": {},
   "outputs": [],
   "source": [
    "events_path = 'data/wyscout_events.parquet'\n",
    "events_df = pd.read_parquet(events_path)"
   ]
  },
  {
   "cell_type": "code",
   "execution_count": 4,
   "id": "1060cfa6-125b-4d24-a325-31b4acfbba5b",
   "metadata": {},
   "outputs": [],
   "source": [
    "events_df =events_df[~events_df['type_primary'].isin(['duel', 'touch', 'acceleration'])]"
   ]
  },
  {
   "cell_type": "code",
   "execution_count": 5,
   "id": "ce040988-7d15-442d-8b44-0330adf7940a",
   "metadata": {},
   "outputs": [
    {
     "data": {
      "text/plain": [
       "type_primary\n",
       "pass                 192449\n",
       "interception          20976\n",
       "game_interruption     18627\n",
       "throw_in              11903\n",
       "shot                   5470\n",
       "free_kick              5402\n",
       "infraction             4697\n",
       "clearance              3669\n",
       "goal_kick              3657\n",
       "corner                 2444\n",
       "shot_against           2333\n",
       "offside                 896\n",
       "goalkeeper_exit         733\n",
       "penalty                  58\n",
       "fairplay                 44\n",
       "own_goal                 24\n",
       "Name: count, dtype: Int64"
      ]
     },
     "execution_count": 5,
     "metadata": {},
     "output_type": "execute_result"
    }
   ],
   "source": [
    "events_df.type_primary.value_counts()"
   ]
  },
  {
   "cell_type": "code",
   "execution_count": 6,
   "id": "f4b778c1-b0b4-4fe0-ab47-f707703c3803",
   "metadata": {},
   "outputs": [
    {
     "data": {
      "text/plain": [
       "102"
      ]
     },
     "execution_count": 6,
     "metadata": {},
     "output_type": "execute_result"
    }
   ],
   "source": [
    "pass_files = os.listdir('data/pass_data_2')\n",
    "len(pass_files)"
   ]
  },
  {
   "cell_type": "code",
   "execution_count": 8,
   "id": "8efa7f0d-a668-40ee-891e-3818a3b67dfd",
   "metadata": {},
   "outputs": [],
   "source": [
    "for f in pass_files:\n",
    "    match_id = int(f.split('_')[0])\n",
    "    tracking_data = load_jsonl_file(f'data/FA/tracking/{match_id}.jsonl')\n",
    "    pass_df = pd.read_csv(f'data/pass_data_2/{f}')\n",
    "    \n",
    "    match_event_df = events_df[events_df['sk_match_id'] == match_id].reset_index(drop = True)\n",
    "    follow_data = []\n",
    "    for idx, row in pass_df.iterrows():\n",
    "        pass_frame = row['frame']\n",
    "        start_possession = row['possession_team_name']\n",
    "        event_idx = match_event_df.index[match_event_df['frame'] == pass_frame].tolist()[0]\n",
    "\n",
    "        follow_dict = {}\n",
    "        if event_idx > len(match_event_df) - 4:\n",
    "            follow_dict['ball_x_0'] = None\n",
    "            follow_dict['ball_y_0'] = None\n",
    "            for j in range(1, 4):\n",
    "                follow_dict[f'ball_x_{j}'] = None\n",
    "                follow_dict[f'ball_y_{j}'] = None\n",
    "                follow_dict[f'player_x_{j}'] = None\n",
    "                follow_dict[f'player_y_{j}'] = None\n",
    "                follow_dict[f'player_{j}'] = None\n",
    "            follow_data.append(follow_dict) \n",
    "        else:           \n",
    "            receive_frame = row['receive_frame']\n",
    "            follow_dict['ball_x_0'], follow_dict['ball_y_0'] = find_ball(tracking_data, receive_frame)\n",
    "            for i in range(1, 4):\n",
    "                action = match_event_df.iloc[event_idx + i]\n",
    "                possession = action['possession_team_name']\n",
    "                type_primary = action['type_primary']\n",
    "                player_id = action['sk_player_id']\n",
    "                if possession is not pd.NA and possession == start_possession and player_id is not pd.NA and type_primary in ['pass', 'shot']:\n",
    "                    frame = action['frame']  \n",
    "                    ball_x, ball_y = find_ball(tracking_data, frame)\n",
    "                    player_x, player_y = find_player(tracking_data, frame, player_id)\n",
    "                    follow_dict[f'ball_x_{i}'] = ball_x\n",
    "                    follow_dict[f'ball_y_{i}'] = ball_y\n",
    "                    follow_dict[f'player_x_{i}'] = player_x\n",
    "                    follow_dict[f'player_y_{i}'] = player_y\n",
    "                    follow_dict[f'player_{i}'] = player_id\n",
    "                    \n",
    "                else:\n",
    "                    for j in range(i, 4):\n",
    "                        follow_dict[f'ball_x_{j}'] = None\n",
    "                        follow_dict[f'ball_y_{j}'] = None\n",
    "                        follow_dict[f'player_x_{j}'] = None\n",
    "                        follow_dict[f'player_y_{j}'] = None\n",
    "                        follow_dict[f'player_{j}'] = None\n",
    "                        \n",
    "                    break\n",
    "            follow_data.append(follow_dict)    \n",
    "    follow_df = pd.DataFrame(follow_data)\n",
    "    pass_df = pd.concat([pass_df, follow_df], axis=1)\n",
    "    pass_df.to_csv(f'data/follow_data_2/{match_id}_follow.csv', index = False)"
   ]
  },
  {
   "cell_type": "code",
   "execution_count": 43,
   "id": "c5e56783-a0cd-4f44-9b95-3eff467de4fc",
   "metadata": {},
   "outputs": [
    {
     "data": {
      "text/plain": [
       "(59324, 64025)"
      ]
     },
     "execution_count": 43,
     "metadata": {},
     "output_type": "execute_result"
    }
   ],
   "source": [
    "frame, player_id"
   ]
  },
  {
   "cell_type": "code",
   "execution_count": 42,
   "id": "3f439bf4-40ae-4208-be02-b0f611dc24bb",
   "metadata": {
    "scrolled": true
   },
   "outputs": [
    {
     "data": {
      "text/plain": [
       "[{'frame': 59324,\n",
       "  'timestamp': '01:36:20.40',\n",
       "  'period': 2,\n",
       "  'ball_data': {'x': -24.99, 'y': -27.44, 'z': 0.47, 'is_detected': True},\n",
       "  'possession': {'player_id': 68716, 'group': 'home team'},\n",
       "  'image_corners_projection': {'x_top_left': -113.01,\n",
       "   'y_top_left': 39.0,\n",
       "   'x_bottom_left': -31.57,\n",
       "   'y_bottom_left': -38.01,\n",
       "   'x_bottom_right': -13.45,\n",
       "   'y_bottom_right': -26.85,\n",
       "   'x_top_right': -35.75,\n",
       "   'y_top_right': 39.0},\n",
       "  'player_data': [{'x': -49.46,\n",
       "    'y': -1.54,\n",
       "    'player_id': 261931,\n",
       "    'is_detected': True},\n",
       "   {'x': -38.47, 'y': -2.83, 'player_id': 57127, 'is_detected': True},\n",
       "   {'x': -38.89, 'y': -4.89, 'player_id': 68534, 'is_detected': True},\n",
       "   {'x': -37.07, 'y': 1.56, 'player_id': 62648, 'is_detected': True},\n",
       "   {'x': -35.18, 'y': -16.45, 'player_id': 63773, 'is_detected': True},\n",
       "   {'x': -36.54, 'y': 7.23, 'player_id': 185330, 'is_detected': True},\n",
       "   {'x': -30.54, 'y': -8.52, 'player_id': 75087, 'is_detected': True},\n",
       "   {'x': -26.06, 'y': -24.35, 'player_id': 62959, 'is_detected': True},\n",
       "   {'x': -29.61, 'y': -26.67, 'player_id': 188823, 'is_detected': True},\n",
       "   {'x': -6.45, 'y': -18.3, 'player_id': 769836, 'is_detected': False},\n",
       "   {'x': -22.47, 'y': -10.55, 'player_id': 68756, 'is_detected': True},\n",
       "   {'x': 26.3, 'y': -3.03, 'player_id': 63578, 'is_detected': False},\n",
       "   {'x': -36.42, 'y': 1.19, 'player_id': 22629, 'is_detected': True},\n",
       "   {'x': -6.89, 'y': 3.42, 'player_id': 22797, 'is_detected': False},\n",
       "   {'x': -3.82, 'y': -14.44, 'player_id': 22562, 'is_detected': False},\n",
       "   {'x': -28.38, 'y': 17.29, 'player_id': 22564, 'is_detected': False},\n",
       "   {'x': -22.67, 'y': -28.53, 'player_id': 68716, 'is_detected': True},\n",
       "   {'x': -21.35, 'y': -13.14, 'player_id': 22632, 'is_detected': True},\n",
       "   {'x': -29.62, 'y': -30.98, 'player_id': 60444, 'is_detected': True},\n",
       "   {'x': -37.35, 'y': 8.01, 'player_id': 22705, 'is_detected': True},\n",
       "   {'x': -32.94, 'y': -18.02, 'player_id': 22792, 'is_detected': True},\n",
       "   {'x': -38.82, 'y': -3.2, 'player_id': 22795, 'is_detected': True}]}]"
      ]
     },
     "execution_count": 42,
     "metadata": {},
     "output_type": "execute_result"
    }
   ],
   "source": [
    "[line for line in tracking_data if line['frame'] == frame]"
   ]
  },
  {
   "cell_type": "code",
   "execution_count": 24,
   "id": "2c827c3e-4ec3-440b-a8f5-eebf7dc05785",
   "metadata": {},
   "outputs": [
    {
     "data": {
      "text/plain": [
       "'d'"
      ]
     },
     "execution_count": 24,
     "metadata": {},
     "output_type": "execute_result"
    }
   ],
   "source": [
    "[p for p in player_data if p['player_id'] == player_id]"
   ]
  },
  {
   "cell_type": "code",
   "execution_count": 30,
   "id": "5f1f7c54-7761-4460-9dda-fc9ecb259a3f",
   "metadata": {},
   "outputs": [
    {
     "data": {
      "text/plain": [
       "<NA>"
      ]
     },
     "execution_count": 30,
     "metadata": {},
     "output_type": "execute_result"
    }
   ],
   "source": [
    "player_id"
   ]
  },
  {
   "cell_type": "code",
   "execution_count": null,
   "id": "73e0d209-01fd-459f-92f7-c63e8b808743",
   "metadata": {},
   "outputs": [],
   "source": []
  }
 ],
 "metadata": {
  "kernelspec": {
   "display_name": "asi12",
   "language": "python",
   "name": "asi12"
  },
  "language_info": {
   "codemirror_mode": {
    "name": "ipython",
    "version": 3
   },
   "file_extension": ".py",
   "mimetype": "text/x-python",
   "name": "python",
   "nbconvert_exporter": "python",
   "pygments_lexer": "ipython3",
   "version": "3.12.8"
  }
 },
 "nbformat": 4,
 "nbformat_minor": 5
}
