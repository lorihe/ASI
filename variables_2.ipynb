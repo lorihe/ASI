{
 "cells": [
  {
   "cell_type": "code",
   "execution_count": 16,
   "id": "ffe1b466-22c8-4252-b9da-3a57fbb8f0af",
   "metadata": {},
   "outputs": [
    {
     "name": "stdout",
     "output_type": "stream",
     "text": [
      "The autoreload extension is already loaded. To reload it, use:\n",
      "  %reload_ext autoreload\n"
     ]
    }
   ],
   "source": [
    "import pandas as pd\n",
    "import numpy as np\n",
    "import os\n",
    "import scipy.stats as stats\n",
    "from scipy.spatial import distance\n",
    "from scipy.spatial import cKDTree\n",
    "import matplotlib.pyplot as plt\n",
    "from scipy.optimize import minimize\n",
    "import math\n",
    "from utils import *\n",
    "import plotly.graph_objects as go\n",
    "\n",
    "from scipy.spatial import Voronoi, voronoi_plot_2d\n",
    "from scipy.spatial import ConvexHull, Delaunay\n",
    "from scipy.spatial.distance import euclidean\n",
    "from voronoi_mod import *\n",
    "\n",
    "import warnings\n",
    "warnings.filterwarnings('ignore')\n",
    "pd.set_option('display.max_rows', None)\n",
    "pd.set_option('display.max_columns', None)\n",
    "pd.set_option('display.max_colwidth', None)\n",
    "%load_ext autoreload\n",
    "%autoreload 2"
   ]
  },
  {
   "cell_type": "code",
   "execution_count": 17,
   "id": "84aef5ec-334b-4b05-b2f4-098b77d910ce",
   "metadata": {},
   "outputs": [],
   "source": [
    "short_name_map = load_json_file('data/short_name_map.json')"
   ]
  },
  {
   "cell_type": "code",
   "execution_count": 18,
   "id": "3b36d8c5-db6b-4312-8a5e-e64472561906",
   "metadata": {},
   "outputs": [],
   "source": [
    "events_path = 'data/wyscout_events.parquet'\n",
    "events_df = pd.read_parquet(events_path)"
   ]
  },
  {
   "cell_type": "code",
   "execution_count": 19,
   "id": "ac8dd522-28cb-4465-b675-6fd3a1ae3252",
   "metadata": {},
   "outputs": [
    {
     "data": {
      "text/plain": [
       "102"
      ]
     },
     "execution_count": 19,
     "metadata": {},
     "output_type": "execute_result"
    }
   ],
   "source": [
    "follow_files = os.listdir('data/follow_data_2')\n",
    "len(follow_files)"
   ]
  },
  {
   "cell_type": "code",
   "execution_count": 20,
   "id": "822a4a27-b960-49f2-b69f-9ad04a5e9404",
   "metadata": {},
   "outputs": [],
   "source": [
    "follow_df = pd.DataFrame()\n",
    "for f in follow_files:\n",
    "    df = pd.read_csv(f'data/follow_data_2/{f}')\n",
    "    follow_df = pd.concat([follow_df, df], ignore_index = True)"
   ]
  },
  {
   "cell_type": "code",
   "execution_count": 21,
   "id": "44ebd0f1-cc0b-4530-845b-6647e4971415",
   "metadata": {},
   "outputs": [
    {
     "data": {
      "text/plain": [
       "(6836, 40)"
      ]
     },
     "execution_count": 21,
     "metadata": {},
     "output_type": "execute_result"
    }
   ],
   "source": [
    "follow_df.shape"
   ]
  },
  {
   "cell_type": "code",
   "execution_count": 22,
   "id": "c184ac0d-df6e-43a5-a6f7-97f94e0647e0",
   "metadata": {},
   "outputs": [],
   "source": [
    "follow_df['sk_recipient_id'] = follow_df['pass_recipient_name'].map(short_name_map)\n",
    "follow_df['long_name'] = follow_df.apply(lambda row: find_name(row['sk_match_id'], row['sk_recipient_id']), axis = 1)\n",
    "follow_df = follow_df[~follow_df['ball_x_0'].isna()]\n",
    "cols_to_num = ['ball_x_0', 'ball_y_0', 'ball_x_1', 'ball_y_1', 'ball_x_2', 'ball_y_2', 'ball_x_3', 'ball_y_3']\n",
    "follow_df[cols_to_num] = follow_df[cols_to_num].apply(pd.to_numeric, errors='coerce')"
   ]
  },
  {
   "cell_type": "code",
   "execution_count": 23,
   "id": "774b9700-6891-4079-9508-cd7196963e55",
   "metadata": {},
   "outputs": [
    {
     "data": {
      "text/plain": [
       "(6818, 42)"
      ]
     },
     "execution_count": 23,
     "metadata": {},
     "output_type": "execute_result"
    }
   ],
   "source": [
    "follow_df.shape"
   ]
  },
  {
   "cell_type": "code",
   "execution_count": 24,
   "id": "8293626c-a344-4969-b38e-987479c1a22b",
   "metadata": {},
   "outputs": [],
   "source": [
    "#follow_df.to_csv('data/follow_df.csv', index = False)"
   ]
  },
  {
   "cell_type": "markdown",
   "id": "e1c0bc35-652b-4029-b1d1-adc8e2968b28",
   "metadata": {},
   "source": [
    "#### Assign scores"
   ]
  },
  {
   "cell_type": "code",
   "execution_count": 25,
   "id": "cd93b977-2915-425c-97c7-b963262d3fe0",
   "metadata": {},
   "outputs": [],
   "source": [
    "for idx, row in follow_df.iterrows():\n",
    "    match_id = row['sk_match_id']\n",
    "    pitch_length, pitch_width = find_pitch_size(match_id)\n",
    "    factor = 1 if row['receive_x'] > 0 else -1\n",
    "    dist_0 = euclidean_distance(row['receive_x'], row['receive_y'], factor*pitch_length/2, 0)\n",
    "    dist_1 = euclidean_distance(row['player_x_1'], row['player_y_1'], factor*pitch_length/2, 0)\n",
    "    dist_2 = euclidean_distance(row['player_x_2'], row['player_y_2'], factor*pitch_length/2, 0)\n",
    "    dist_3 = euclidean_distance(row['player_x_3'], row['player_y_3'], factor*pitch_length/2, 0)\n",
    "\n",
    "    follow_df.at[idx, 'dist_0'] = dist_0\n",
    "    follow_df.at[idx, 'dist_1'] = dist_1\n",
    "    follow_df.at[idx, 'dist_2'] = dist_2\n",
    "    follow_df.at[idx, 'dist_3'] = dist_3"
   ]
  },
  {
   "cell_type": "code",
   "execution_count": 26,
   "id": "6647a441-bc86-477b-be2b-e73bf79a337a",
   "metadata": {},
   "outputs": [],
   "source": [
    "follow_df['score_1'] = follow_df.apply(lambda row: 1 if row['dist_0'] - row['dist_1'] > 2 else 0, axis = 1)\n",
    "follow_df['score_2'] = follow_df.apply(lambda row: 1 if row['dist_0'] - row['dist_2'] > 2 else 0, axis = 1)\n",
    "follow_df['score_3'] = follow_df.apply(lambda row: 1 if row['dist_0'] - row['dist_3'] > 2 else 0, axis = 1)"
   ]
  },
  {
   "cell_type": "markdown",
   "id": "87362c09-0e28-4d7f-80ad-806bf014e3bb",
   "metadata": {},
   "source": [
    "#### Calculate SoF and player count"
   ]
  },
  {
   "cell_type": "code",
   "execution_count": 27,
   "id": "b52f5a88-7cf3-432e-a804-3f2cd33db607",
   "metadata": {},
   "outputs": [],
   "source": [
    "match_dict = follow_df.groupby('sk_match_id')['receive_frame'].apply(list).to_dict()"
   ]
  },
  {
   "cell_type": "code",
   "execution_count": 28,
   "id": "9c1087ef-11da-46ae-b9ba-454887ac3eae",
   "metadata": {},
   "outputs": [],
   "source": [
    "for match_id, frames in match_dict.items():\n",
    "    extended_frames = frames + [frame + 4 for frame in frames] + [frame + 5 for frame in frames]\n",
    "    match_dict[match_id] = extended_frames"
   ]
  },
  {
   "cell_type": "code",
   "execution_count": 29,
   "id": "5d4bab7b-a5eb-4694-8ec0-023d57d4ec0d",
   "metadata": {},
   "outputs": [
    {
     "name": "stdout",
     "output_type": "stream",
     "text": [
      "CPU times: total: 5min 50s\n",
      "Wall time: 5min 54s\n"
     ]
    }
   ],
   "source": [
    "%%time\n",
    "SoF_list = []\n",
    "defender_count_list = []\n",
    "attacker_count_list = []\n",
    "defend_score_list = []\n",
    "attack_score_list = []\n",
    "team_list = []\n",
    "paired_player_id_list = []\n",
    "paired_player_list = []\n",
    "min_distance_list = []\n",
    "defender_box_count_list = []\n",
    "MPD_list = []\n",
    "receipient_name_list = []\n",
    "current_match = None\n",
    "\n",
    "for idx, row in follow_df.iterrows():    \n",
    "    match_id = row['sk_match_id']\n",
    "    # import match info and pass frames when looping to new match_id\n",
    "    if current_match != match_id:\n",
    "        current_match = match_id\n",
    "        tracking_file_path = f'data/FA/tracking/{match_id}.jsonl'\n",
    "        frame_list = match_dict[match_id]\n",
    "        with jsonlines.open(tracking_file_path, 'r') as file:\n",
    "            frames_data = [line for line in file if line['frame'] in frame_list]\n",
    "        frames_df = pd.DataFrame(frames_data)\n",
    "        match_file_path = f'data/FA/match/{match_id}.json'\n",
    "        match_data = load_json_file(match_file_path)  \n",
    "        pitch_length, pitch_width = match_data['pitch_length'], match_data['pitch_width']\n",
    "        \n",
    "        home_id = match_data['home_team']['id']\n",
    "        away_id = match_data['away_team']['id']\n",
    "        \n",
    "        home_p_ids = [p['id'] for p in match_data['players'] if p['team_id'] == home_id]\n",
    "        away_p_ids = [p['id'] for p in match_data['players'] if p['team_id'] == away_id]  \n",
    "\n",
    "        event_match = events_df[events_df['sk_match_id'] == match_id]\n",
    "        event_match_shot = event_match[(event_match['type_primary'] == 'shot') & (event_match['shot_isgoal'] == True)]\n",
    "        home_score = event_match_shot[event_match_shot['sk_team_id'] == home_id]\n",
    "        away_score = event_match_shot[event_match_shot['sk_team_id'] == away_id]\n",
    "    \n",
    "    recipient_id = row['sk_recipient_id']       \n",
    "    frame = row['receive_frame'] \n",
    "    frame_df = frames_df[frames_df['frame'] == frame]\n",
    "    receipient_name_data = [p for p in match_data['players'] if p['id'] == recipient_id][0]\n",
    "    receipient_name = receipient_name_data['first_name'] + ' ' + receipient_name_data['last_name']\n",
    "    expanded_df = pd.concat(frame_df.apply(explode_data, axis=1).to_list(), ignore_index=True)\n",
    "    expanded_df['team'] = expanded_df['player_id'].apply(lambda x: 'home' if x in home_p_ids else 'away' if x in away_p_ids else 'ball')\n",
    "    recipient_team = expanded_df[expanded_df['player_id'] == recipient_id]['team'].item()\n",
    "    team_list.append(recipient_team)\n",
    "    receipient_name_list.append(receipient_name)\n",
    "\n",
    "    # Extract location data and find the paired defender\n",
    "    ball_xy = row['ball_x_0'], row['ball_y_0']\n",
    "    defending_df = expanded_df[~expanded_df['team'].isin([recipient_team, 'ball'])]\n",
    "    defending_xy = defending_df[['x', 'y']].to_numpy()\n",
    "\n",
    "    receive_x, receive_y = row['receive_x'], row['receive_y']\n",
    "    paired_row, min_distance = find_nearest_row(defending_df, receive_x, receive_y)\n",
    "    paired_player_id = paired_row['player_id']\n",
    "    paired_player_data = [p for p in match_data['players'] if p['id'] == paired_player_id][0]\n",
    "    paired_player = paired_player_data['first_name'] + ' ' + paired_player_data['last_name']\n",
    "\n",
    "    paired_player_id_list.append(paired_player_id)\n",
    "    paired_player_list.append(paired_player)    \n",
    "    min_distance_list.append(min_distance)\n",
    "\n",
    "    # Calculate MPD    \n",
    "    MPD_frames_df = frames_df[frames_df['frame'].isin([frame + 4, frame + 5])]\n",
    "    MPD_expanded_df = pd.concat(MPD_frames_df.apply(explode_data, axis=1).to_list(), ignore_index=True)\n",
    "    MPD_ball_df = MPD_expanded_df[MPD_expanded_df['player_id'] == 0]\n",
    "    MPD_pair_df = MPD_expanded_df[MPD_expanded_df['player_id'] == paired_player_id] \n",
    "    positions_ball = MPD_ball_df[['x', 'y']].to_numpy()\n",
    "    positions_pair = MPD_pair_df[['x', 'y']].to_numpy()\n",
    "    delta_t = 0.1\n",
    "    velocities_ball = (positions_ball[1] - positions_ball[0]) / delta_t\n",
    "    velocities_pair = (positions_pair[1] - positions_pair[0]) / delta_t      \n",
    "\n",
    "    xy_ball = positions_ball[1]\n",
    "    xy_pair = positions_pair[1]\n",
    "    distance = lambda t: np.linalg.norm((xy_ball + velocities_ball * t) - (xy_pair + velocities_pair * t))\n",
    "    result = minimize(distance, 0, bounds=[(0, None)])\n",
    "    MPD = result.fun\n",
    "    MPD_list.append(MPD)    \n",
    "    \n",
    "    # Get direction\n",
    "    factor_x = 1 if ball_xy[0] > 0 else -1\n",
    "    factor_y = 1 if ball_xy[1] > 0 else -1      \n",
    "\n",
    "    # Extract score data\n",
    "    home_score_before = home_score[home_score['frame'] < frame]\n",
    "    away_score_before = away_score[away_score['frame'] < frame]\n",
    "    attack_score = len(home_score_before) if recipient_team == 'home' else len(away_score_before)\n",
    "    defend_score = len(away_score_before) if recipient_team == 'home' else len(home_score_before)\n",
    "    attack_score_list.append(attack_score)\n",
    "    defend_score_list.append(defend_score)\n",
    "\n",
    "    # Calculate SoF\n",
    "    boundary_points = np.array(\n",
    "        [[ball_xy[0], pitch_width/2*factor_y+(pitch_width/2*factor_y-ball_xy[1])], \n",
    "         [ball_xy[0], ball_xy[1] - 40*factor_y],\n",
    "         [pitch_length/2*factor_x+(pitch_length/2*factor_x-ball_xy[0]), ball_xy[1]],\n",
    "         [ball_xy[0] - 40, ball_xy[1]], \n",
    "         [ball_xy[0] + 40, ball_xy[1]]])   \n",
    "\n",
    "    points = np.vstack([ball_xy, defending_xy, boundary_points])\n",
    "    points_nbs = get_neighbors(points, ball_xy)\n",
    "    vertices = get_vertices(points_nbs, ball_xy)\n",
    "    area_inside, area_outside, vertices_inside, vertices_outside = get_areas(vertices, ball_xy, factor_x, pitch_length)\n",
    "    SoF = area_inside + np.log(area_outside+1)\n",
    "    SoF_list.append(SoF)\n",
    "\n",
    "    # Calculate count\n",
    "    defender_box_df = defending_df[(defending_df['x']*factor_x > (pitch_length/2 - 16.5)) & (abs(defending_df['y']) <= 20.2)]\n",
    "    defender_box_count = len(defender_box_df) - 1\n",
    "    defender_deep_df = defending_df[defending_df['x']*factor_x > (ball_xy[0] *factor_x - 2)]\n",
    "    defender_deep_count = len(defender_deep_df) - 1\n",
    "    attacker_deep_df = expanded_df[(expanded_df['team'] == recipient_team) & (\n",
    "        expanded_df['x']*factor_x > (ball_xy[0] *factor_x - 2))]\n",
    "    attacker_deep_count = len(attacker_deep_df) - 1\n",
    "\n",
    "    defender_box_count_list.append(defender_box_count)\n",
    "    defender_count_list.append(defender_deep_count)\n",
    "    attacker_count_list.append(attacker_deep_count)"
   ]
  },
  {
   "cell_type": "code",
   "execution_count": 30,
   "id": "0b7f9631-53b3-4368-bcee-680055831542",
   "metadata": {},
   "outputs": [],
   "source": [
    "follow_df['attack_score'] = attack_score_list\n",
    "follow_df['defend_score'] = defend_score_list\n",
    "follow_df['SoF'] = SoF_list\n",
    "follow_df['defender_box_count'] = defender_box_count_list\n",
    "follow_df['attacker_count'] = attacker_count_list\n",
    "follow_df['defender_count'] = defender_count_list\n",
    "follow_df['team'] = team_list\n",
    "follow_df['paired_player_id'] = paired_player_id_list\n",
    "follow_df['paired_player'] = paired_player_list\n",
    "follow_df['min_distance'] = min_distance_list\n",
    "follow_df['MPD'] = MPD_list\n",
    "follow_df['receipient_name'] = receipient_name_list"
   ]
  },
  {
   "cell_type": "code",
   "execution_count": 31,
   "id": "80764bfe-b55b-4f53-9a54-8fad1624c68c",
   "metadata": {},
   "outputs": [],
   "source": [
    "follow_df['score_diff'] = follow_df['attack_score'] - follow_df['defend_score']"
   ]
  },
  {
   "cell_type": "code",
   "execution_count": 32,
   "id": "90e18a19-a976-41cd-8d11-c46e4e9ac677",
   "metadata": {},
   "outputs": [],
   "source": [
    "follow_df['success'] = ((follow_df['score_1'] == 1) | (follow_df['score_2'] == 1)).astype(int)"
   ]
  },
  {
   "cell_type": "markdown",
   "id": "ff181c7d-7e95-4431-995b-3d85e9c2c804",
   "metadata": {},
   "source": [
    "#### Clean data"
   ]
  },
  {
   "cell_type": "code",
   "execution_count": 33,
   "id": "c2906dae-7948-40e6-9037-68bfb04225a4",
   "metadata": {},
   "outputs": [],
   "source": [
    "follow_df['ball_dist_1'] =  follow_df.apply(lambda row: euclidean_distance(row['player_x_1'], row['player_y_1'], row['ball_x_1'], row['ball_y_1']), axis = 1)"
   ]
  },
  {
   "cell_type": "code",
   "execution_count": 34,
   "id": "9311e46c-8391-448d-a73d-270b696431da",
   "metadata": {},
   "outputs": [],
   "source": [
    "follow_df = follow_df[follow_df['ball_dist_1'] < 5]"
   ]
  },
  {
   "cell_type": "code",
   "execution_count": 35,
   "id": "c7b46aae-4de7-4fec-bc5e-6d7330d139c1",
   "metadata": {},
   "outputs": [],
   "source": [
    "#follow_df['ball_dist_2'] =  follow_df.apply(lambda row: euclidean_distance(row['player_x_2'], row['player_y_2'], row['ball_x_2'], row['ball_y_2']), axis = 1)"
   ]
  },
  {
   "cell_type": "code",
   "execution_count": 36,
   "id": "24cf47ff-9b72-430e-aaef-fccee36ad718",
   "metadata": {},
   "outputs": [
    {
     "data": {
      "text/plain": [
       "<Axes: >"
      ]
     },
     "execution_count": 36,
     "metadata": {},
     "output_type": "execute_result"
    },
    {
     "data": {
      "image/png": "[encoded data removed]",
      "text/plain": [
       "<Figure size 640x480 with 1 Axes>"
      ]
     },
     "metadata": {},
     "output_type": "display_data"
    }
   ],
   "source": [
    "follow_df['SoF'].hist(bins = 50)"
   ]
  },
  {
   "cell_type": "code",
   "execution_count": 37,
   "id": "d6857f17-25ea-4fad-919e-2262ed4a03cf",
   "metadata": {},
   "outputs": [],
   "source": [
    "follow_df.to_csv('model_1/model_2_data.csv', index = False)"
   ]
  },
  {
   "cell_type": "markdown",
   "id": "9696d177-b567-4e96-a930-ad86209e560f",
   "metadata": {},
   "source": [
    "#### Calculate target variable"
   ]
  },
  {
   "cell_type": "code",
   "execution_count": 107,
   "id": "548c7bdd-0f63-4d41-bf2b-e44e215a8347",
   "metadata": {},
   "outputs": [],
   "source": [
    "def w_exponential(t, lambd):\n",
    "    return np.exp(-lambd * (t - 1))"
   ]
  },
  {
   "cell_type": "code",
   "execution_count": 108,
   "id": "7fbefc47-141c-4239-8e8d-91e9e0da4884",
   "metadata": {},
   "outputs": [],
   "source": [
    "lambd = 0.8\n",
    "weights = [w_exponential(t + 1, lambd) for t in range(3)] "
   ]
  },
  {
   "cell_type": "code",
   "execution_count": 109,
   "id": "fdcbcc9a-4262-4b70-b9f9-25119e294ac4",
   "metadata": {},
   "outputs": [
    {
     "data": {
      "text/plain": [
       "[1.0, 0.44932896411722156, 0.20189651799465538]"
      ]
     },
     "execution_count": 109,
     "metadata": {},
     "output_type": "execute_result"
    }
   ],
   "source": [
    "weights"
   ]
  },
  {
   "cell_type": "code",
   "execution_count": 110,
   "id": "021709f9-bc82-4b9c-9460-7b79acdf775b",
   "metadata": {},
   "outputs": [],
   "source": [
    "follow_df['combined_score'] = follow_df[['score_1', 'score_2', 'score_3']].values @ weights"
   ]
  },
  {
   "cell_type": "code",
   "execution_count": 111,
   "id": "e060f95c-2461-4d0c-a63f-0d2cb06379eb",
   "metadata": {},
   "outputs": [
    {
     "data": {
      "text/html": [
       "<div>\n",
       "<style scoped>\n",
       "    .dataframe tbody tr th:only-of-type {\n",
       "        vertical-align: middle;\n",
       "    }\n",
       "\n",
       "    .dataframe tbody tr th {\n",
       "        vertical-align: top;\n",
       "    }\n",
       "\n",
       "    .dataframe thead th {\n",
       "        text-align: right;\n",
       "    }\n",
       "</style>\n",
       "<table border=\"1\" class=\"dataframe\">\n",
       "  <thead>\n",
       "    <tr style=\"text-align: right;\">\n",
       "      <th></th>\n",
       "      <th>score_1</th>\n",
       "      <th>score_2</th>\n",
       "      <th>score_3</th>\n",
       "      <th>combined_score</th>\n",
       "    </tr>\n",
       "  </thead>\n",
       "  <tbody>\n",
       "    <tr>\n",
       "      <th>0</th>\n",
       "      <td>1</td>\n",
       "      <td>0</td>\n",
       "      <td>0</td>\n",
       "      <td>1.000000</td>\n",
       "    </tr>\n",
       "    <tr>\n",
       "      <th>1</th>\n",
       "      <td>0</td>\n",
       "      <td>0</td>\n",
       "      <td>0</td>\n",
       "      <td>0.000000</td>\n",
       "    </tr>\n",
       "    <tr>\n",
       "      <th>3</th>\n",
       "      <td>1</td>\n",
       "      <td>1</td>\n",
       "      <td>0</td>\n",
       "      <td>1.449329</td>\n",
       "    </tr>\n",
       "    <tr>\n",
       "      <th>4</th>\n",
       "      <td>1</td>\n",
       "      <td>1</td>\n",
       "      <td>0</td>\n",
       "      <td>1.449329</td>\n",
       "    </tr>\n",
       "    <tr>\n",
       "      <th>5</th>\n",
       "      <td>0</td>\n",
       "      <td>0</td>\n",
       "      <td>0</td>\n",
       "      <td>0.000000</td>\n",
       "    </tr>\n",
       "  </tbody>\n",
       "</table>\n",
       "</div>"
      ],
      "text/plain": [
       "   score_1  score_2  score_3  combined_score\n",
       "0        1        0        0        1.000000\n",
       "1        0        0        0        0.000000\n",
       "3        1        1        0        1.449329\n",
       "4        1        1        0        1.449329\n",
       "5        0        0        0        0.000000"
      ]
     },
     "execution_count": 111,
     "metadata": {},
     "output_type": "execute_result"
    }
   ],
   "source": [
    "follow_df[['score_1', 'score_2', 'score_3', 'combined_score' ]].head()"
   ]
  },
  {
   "cell_type": "code",
   "execution_count": null,
   "id": "a464e48b-a902-4fc2-ba0f-36de1ddee5dc",
   "metadata": {},
   "outputs": [],
   "source": []
  }
 ],
 "metadata": {
  "kernelspec": {
   "display_name": "asi12",
   "language": "python",
   "name": "asi12"
  },
  "language_info": {
   "codemirror_mode": {
    "name": "ipython",
    "version": 3
   },
   "file_extension": ".py",
   "mimetype": "text/x-python",
   "name": "python",
   "nbconvert_exporter": "python",
   "pygments_lexer": "ipython3",
   "version": "3.12.8"
  }
 },
 "nbformat": 4,
 "nbformat_minor": 5
}
