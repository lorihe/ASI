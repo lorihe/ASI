{
 "cells": [
  {
   "cell_type": "code",
   "execution_count": 2,
   "id": "7045201c-dfb8-47e1-89d0-29035fb5d3f0",
   "metadata": {
    "tags": []
   },
   "outputs": [],
   "source": [
    "from skillcorner.client import SkillcornerClient\n",
    "from dotenv import load_dotenv\n",
    "import requests\n",
    "import pandas as pd\n",
    "import os\n",
    "import json"
   ]
  },
  {
   "cell_type": "code",
   "execution_count": 3,
   "id": "9e0bac4d-d523-42c0-b54b-9e9e259b7fea",
   "metadata": {
    "tags": []
   },
   "outputs": [],
   "source": [
    "load_dotenv()\n",
    "username = os.getenv('U')\n",
    "password = os.getenv('P')"
   ]
  },
  {
   "cell_type": "code",
   "execution_count": 4,
   "id": "f82f54da-5289-4e07-930e-cb31d102719b",
   "metadata": {
    "tags": []
   },
   "outputs": [],
   "source": [
    "client = SkillcornerClient(username=username, password=password)"
   ]
  },
  {
   "cell_type": "code",
   "execution_count": 5,
   "id": "38abe3d9-5450-4b39-81e2-f8deb830678a",
   "metadata": {
    "collapsed": true,
    "jupyter": {
     "outputs_hidden": true
    },
    "tags": []
   },
   "outputs": [
    {
     "data": {
      "text/plain": [
       "[{'id': 95, 'start_year': 2024, 'end_year': 2025, 'name': '2024/2025'},\n",
       " {'id': 29, 'start_year': 2024, 'end_year': 2024, 'name': '2024'},\n",
       " {'id': 28, 'start_year': 2023, 'end_year': 2024, 'name': '2023/2024'},\n",
       " {'id': 22, 'start_year': 2023, 'end_year': 2023, 'name': '2023'},\n",
       " {'id': 21, 'start_year': 2022, 'end_year': 2023, 'name': '2022/2023'},\n",
       " {'id': 20, 'start_year': 2022, 'end_year': 2022, 'name': '2022'},\n",
       " {'id': 8, 'start_year': 2021, 'end_year': 2022, 'name': '2021/2022'},\n",
       " {'id': 17, 'start_year': 2021, 'end_year': 2021, 'name': '2021'},\n",
       " {'id': 7, 'start_year': 2020, 'end_year': 2021, 'name': '2020/2021'},\n",
       " {'id': 16, 'start_year': 2020, 'end_year': 2020, 'name': '2020'},\n",
       " {'id': 6, 'start_year': 2019, 'end_year': 2020, 'name': '2019/2020'},\n",
       " {'id': 15, 'start_year': 2019, 'end_year': 2019, 'name': '2019'},\n",
       " {'id': 5, 'start_year': 2018, 'end_year': 2019, 'name': '2018/2019'},\n",
       " {'id': 14, 'start_year': 2018, 'end_year': 2018, 'name': '2018'},\n",
       " {'id': 4, 'start_year': 2017, 'end_year': 2018, 'name': '2017/2018'},\n",
       " {'id': 13, 'start_year': 2017, 'end_year': 2017, 'name': '2017'},\n",
       " {'id': 3, 'start_year': 2016, 'end_year': 2017, 'name': '2016/2017'},\n",
       " {'id': 12, 'start_year': 2016, 'end_year': 2016, 'name': '2016'},\n",
       " {'id': 2, 'start_year': 2015, 'end_year': 2016, 'name': '2015/2016'},\n",
       " {'id': 11, 'start_year': 2015, 'end_year': 2015, 'name': '2015'},\n",
       " {'id': 1, 'start_year': 2014, 'end_year': 2015, 'name': '2014/2015'},\n",
       " {'id': 10, 'start_year': 2014, 'end_year': 2014, 'name': '2014'},\n",
       " {'id': 0, 'start_year': 2013, 'end_year': 2014, 'name': '2013/2014'},\n",
       " {'id': 9, 'start_year': 2013, 'end_year': 2013, 'name': '2013'},\n",
       " {'id': 62, 'start_year': 2010, 'end_year': 2010, 'name': '2010'},\n",
       " {'id': 23, 'start_year': 2006, 'end_year': 2006, 'name': '2006'},\n",
       " {'id': 27, 'start_year': 2002, 'end_year': 2002, 'name': '2002'},\n",
       " {'id': 24, 'start_year': 1998, 'end_year': 1998, 'name': '1998'},\n",
       " {'id': 25, 'start_year': 1990, 'end_year': 1990, 'name': '1990'},\n",
       " {'id': 26, 'start_year': 1966, 'end_year': 1966, 'name': '1966'}]"
      ]
     },
     "execution_count": 5,
     "metadata": {},
     "output_type": "execute_result"
    }
   ],
   "source": [
    "seasons = client.get_seasons()\n",
    "seasons"
   ]
  },
  {
   "cell_type": "code",
   "execution_count": 9,
   "id": "9f4df1bd-68ef-49a2-b314-2448ed450bf2",
   "metadata": {
    "tags": []
   },
   "outputs": [
    {
     "data": {
      "text/html": [
       "<div>\n",
       "<style scoped>\n",
       "    .dataframe tbody tr th:only-of-type {\n",
       "        vertical-align: middle;\n",
       "    }\n",
       "\n",
       "    .dataframe tbody tr th {\n",
       "        vertical-align: top;\n",
       "    }\n",
       "\n",
       "    .dataframe thead th {\n",
       "        text-align: right;\n",
       "    }\n",
       "</style>\n",
       "<table border=\"1\" class=\"dataframe\">\n",
       "  <thead>\n",
       "    <tr style=\"text-align: right;\">\n",
       "      <th></th>\n",
       "      <th>id</th>\n",
       "      <th>name</th>\n",
       "    </tr>\n",
       "  </thead>\n",
       "  <tbody>\n",
       "    <tr>\n",
       "      <th>0</th>\n",
       "      <td>574</td>\n",
       "      <td>ENG - FA Women`s Super League - 2023/2024</td>\n",
       "    </tr>\n",
       "    <tr>\n",
       "      <th>1</th>\n",
       "      <td>800</td>\n",
       "      <td>USA - NWSL - 2024</td>\n",
       "    </tr>\n",
       "  </tbody>\n",
       "</table>\n",
       "</div>"
      ],
      "text/plain": [
       "    id                                       name\n",
       "0  574  ENG - FA Women`s Super League - 2023/2024\n",
       "1  800                          USA - NWSL - 2024"
      ]
     },
     "execution_count": 9,
     "metadata": {},
     "output_type": "execute_result"
    }
   ],
   "source": [
    "comp_editions=pd.DataFrame(client.get_competition_editions(params={'user':'true'}))\n",
    "comp_editions=comp_editions[['id','name']]\n",
    "comp_editions"
   ]
  },
  {
   "cell_type": "code",
   "execution_count": 6,
   "id": "0acdb9a4-9466-430e-b235-bf48cbcf0f8e",
   "metadata": {
    "tags": []
   },
   "outputs": [],
   "source": [
    "FA_matches = client.get_matches(params={'competition_edition': 574})"
   ]
  },
  {
   "cell_type": "code",
   "execution_count": 7,
   "id": "ac0a138f-6f8f-43c9-a5e4-1c21ecc3bea7",
   "metadata": {
    "tags": []
   },
   "outputs": [
    {
     "data": {
      "text/plain": [
       "132"
      ]
     },
     "execution_count": 7,
     "metadata": {},
     "output_type": "execute_result"
    }
   ],
   "source": [
    "len(FA_matches)"
   ]
  },
  {
   "cell_type": "code",
   "execution_count": 11,
   "id": "9dca1613-8a28-4afb-a9de-bec100098e89",
   "metadata": {
    "tags": []
   },
   "outputs": [],
   "source": [
    "NWSL_matches = client.get_matches(params={'competition_edition': 800})"
   ]
  },
  {
   "cell_type": "code",
   "execution_count": 12,
   "id": "7f508eb9-ae09-4c16-bba4-88e87b9f34ee",
   "metadata": {
    "tags": []
   },
   "outputs": [
    {
     "data": {
      "text/plain": [
       "189"
      ]
     },
     "execution_count": 12,
     "metadata": {},
     "output_type": "execute_result"
    }
   ],
   "source": [
    "len(NWSL_matches)"
   ]
  },
  {
   "cell_type": "code",
   "execution_count": 8,
   "id": "65ad3e58-2782-45a8-8876-273a8ad55337",
   "metadata": {
    "tags": []
   },
   "outputs": [],
   "source": [
    "FA_match_ids = [m['id'] for m in FA_matches]"
   ]
  },
  {
   "cell_type": "code",
   "execution_count": 15,
   "id": "83fb315f-a119-4110-9daf-5fe33771c726",
   "metadata": {
    "collapsed": true,
    "jupyter": {
     "outputs_hidden": true
    },
    "scrolled": true,
    "tags": []
   },
   "outputs": [
    {
     "name": "stdout",
     "output_type": "stream",
     "text": [
      "Downloading 1541631\n",
      "Downloading 1541632\n",
      "Downloading 1541633\n",
      "Downloading 1541634\n",
      "Downloading 1541635\n",
      "Downloading 1541636\n",
      "Downloading 1536754\n",
      "Downloading 1519827\n",
      "Downloading 1519828\n",
      "Downloading 1519829\n",
      "Downloading 1519830\n",
      "Downloading 1517879\n",
      "Downloading 1517880\n",
      "Downloading 1514190\n",
      "Downloading 1509967\n",
      "Downloading 1510541\n",
      "Downloading 1510542\n",
      "Downloading 1510543\n",
      "Downloading 1514191\n",
      "Downloading 1499090\n",
      "Downloading 1499091\n",
      "Downloading 1499092\n",
      "Downloading 1497737\n",
      "Downloading 1496363\n",
      "Downloading 1493094\n",
      "Downloading 1489418\n",
      "Downloading 1464526\n",
      "Downloading 1464527\n",
      "Downloading 1462569\n",
      "Downloading 1462570\n",
      "Downloading 1454967\n",
      "Downloading 1454968\n",
      "Downloading 1454969\n",
      "Downloading 1454436\n",
      "Downloading 1454970\n",
      "Downloading 1453349\n",
      "Downloading 1445947\n",
      "Downloading 1445378\n",
      "Downloading 1445379\n",
      "Downloading 1445380\n",
      "Downloading 1444085\n",
      "Downloading 1442160\n",
      "Downloading 1424937\n",
      "Downloading 1424336\n",
      "Downloading 1424938\n",
      "Downloading 1424939\n",
      "Downloading 1424941\n",
      "Downloading 1423691\n",
      "Downloading 1404691\n",
      "Downloading 1404692\n",
      "Downloading 1410651\n",
      "Downloading 1618208\n",
      "Downloading 1402958\n",
      "Downloading 1401804\n",
      "Downloading 1385655\n",
      "Downloading 1385656\n",
      "Downloading 1386129\n",
      "Downloading 1385140\n",
      "Downloading 1385658\n",
      "Downloading 1384072\n",
      "Downloading 1376028\n",
      "Downloading 1376029\n",
      "Downloading 1376030\n",
      "Downloading 1376031\n",
      "Downloading 1376032\n",
      "Downloading 1374566\n",
      "Downloading 1369292\n",
      "Downloading 1366200\n",
      "Downloading 1365752\n",
      "Downloading 1365753\n",
      "Downloading 1364347\n",
      "Downloading 1363387\n",
      "Downloading 1315583\n",
      "Downloading 1338003\n",
      "Downloading 1315113\n",
      "Downloading 1315114\n",
      "Downloading 1315585\n",
      "Downloading 1313027\n",
      "Downloading 1304210\n",
      "Downloading 1303616\n",
      "Downloading 1303617\n",
      "Downloading 1303618\n",
      "Downloading 1303619\n",
      "Downloading 1301698\n",
      "Downloading 1275862\n",
      "Downloading 1277980\n",
      "Downloading 1275864\n",
      "Downloading 1275865\n",
      "Downloading 1275866\n",
      "Downloading 1304211\n",
      "Downloading 1260792\n",
      "Downloading 1260793\n",
      "Downloading 1260794\n",
      "Downloading 1260795\n",
      "Downloading 1260796\n",
      "Downloading 1258164\n",
      "Downloading 1245008\n",
      "Downloading 1245009\n",
      "Downloading 1245010\n",
      "Downloading 1245011\n",
      "Downloading 1245012\n",
      "Downloading 1245013\n",
      "Downloading 1227892\n",
      "Downloading 1227893\n",
      "Downloading 1227894\n",
      "Downloading 1227895\n",
      "Downloading 1227049\n",
      "Downloading 1224542\n",
      "Downloading 1189122\n",
      "Downloading 1188242\n",
      "Downloading 1188243\n",
      "Downloading 1188244\n",
      "Downloading 1185376\n",
      "Downloading 1185377\n",
      "Downloading 1169168\n",
      "Downloading 1169169\n",
      "Downloading 1168361\n",
      "Downloading 1169170\n",
      "Downloading 1171524\n",
      "Downloading 1165960\n",
      "Downloading 1152233\n",
      "Downloading 1152234\n",
      "Downloading 1152235\n",
      "Downloading 1150609\n",
      "Downloading 1150610\n",
      "Downloading 1145391\n",
      "Downloading 1133199\n",
      "Downloading 1133200\n",
      "Downloading 1133201\n",
      "Downloading 1137933\n",
      "Downloading 1133202\n",
      "Downloading 1133203\n",
      "CPU times: total: 8min 56s\n",
      "Wall time: 34min 17s\n"
     ]
    }
   ],
   "source": [
    "%%time\n",
    "for match_id in FA_match_ids:\n",
    "    file_path = f\"data/FA/tracking/{match_id}.jsonl\"\n",
    "    if os.path.exists(file_path):\n",
    "        continue\n",
    "\n",
    "    print(f\"Downloading {match_id}\")\n",
    "    match_tracking_data = client.get_match_tracking_data(match_id=match_id, params={'data_version': 3})\n",
    "    \n",
    "    # Write the data to a JSONL file\n",
    "    with open(file_path, \"w\") as jsonl_file:\n",
    "        for obj in match_tracking_data:\n",
    "            jsonl_file.write(json.dumps(obj) + \"\\n\")"
   ]
  },
  {
   "cell_type": "code",
   "execution_count": 9,
   "id": "7bbeb68b-0b09-4168-a9d4-b55bdff8239b",
   "metadata": {
    "collapsed": true,
    "jupyter": {
     "outputs_hidden": true
    },
    "scrolled": true
   },
   "outputs": [
    {
     "name": "stdout",
     "output_type": "stream",
     "text": [
      "Downloading 1541631\n",
      "Downloading 1541632\n",
      "Downloading 1541633\n",
      "Downloading 1541634\n",
      "Downloading 1541635\n",
      "Downloading 1541636\n",
      "Downloading 1536754\n",
      "Downloading 1519827\n",
      "Downloading 1519828\n",
      "Downloading 1519829\n",
      "Downloading 1519830\n",
      "Downloading 1517879\n",
      "Downloading 1517880\n",
      "Downloading 1514190\n",
      "Downloading 1509967\n",
      "Downloading 1510541\n",
      "Downloading 1510542\n",
      "Downloading 1510543\n",
      "Downloading 1514191\n",
      "Downloading 1499090\n",
      "Downloading 1499091\n",
      "Downloading 1499092\n",
      "Downloading 1497737\n",
      "Downloading 1496363\n",
      "Downloading 1493094\n",
      "Downloading 1489418\n",
      "Downloading 1464526\n",
      "Downloading 1464527\n",
      "Downloading 1462569\n",
      "Downloading 1462570\n",
      "Downloading 1454967\n",
      "Downloading 1454968\n",
      "Downloading 1454969\n",
      "Downloading 1454436\n",
      "Downloading 1454970\n",
      "Downloading 1453349\n",
      "Downloading 1445947\n",
      "Downloading 1445378\n",
      "Downloading 1445379\n",
      "Downloading 1445380\n",
      "Downloading 1444085\n",
      "Downloading 1442160\n",
      "Downloading 1424937\n",
      "Downloading 1424336\n",
      "Downloading 1424938\n",
      "Downloading 1424939\n",
      "Downloading 1424941\n",
      "Downloading 1423691\n",
      "Downloading 1404691\n",
      "Downloading 1404692\n",
      "Downloading 1410651\n",
      "Downloading 1618208\n",
      "Downloading 1402958\n",
      "Downloading 1401804\n",
      "Downloading 1385655\n",
      "Downloading 1385656\n",
      "Downloading 1386129\n",
      "Downloading 1385140\n",
      "Downloading 1385658\n",
      "Downloading 1384072\n",
      "Downloading 1376028\n",
      "Downloading 1376029\n",
      "Downloading 1376030\n",
      "Downloading 1376031\n",
      "Downloading 1376032\n",
      "Downloading 1374566\n",
      "Downloading 1369292\n",
      "Downloading 1366200\n",
      "Downloading 1365752\n",
      "Downloading 1365753\n",
      "Downloading 1364347\n",
      "Downloading 1363387\n",
      "Downloading 1315583\n",
      "Downloading 1338003\n",
      "Downloading 1315113\n",
      "Downloading 1315114\n",
      "Downloading 1315585\n",
      "Downloading 1313027\n",
      "Downloading 1304210\n",
      "Downloading 1303616\n",
      "Downloading 1303617\n",
      "Downloading 1303618\n",
      "Downloading 1303619\n",
      "Downloading 1301698\n",
      "Downloading 1275862\n",
      "Downloading 1277980\n",
      "Downloading 1275864\n",
      "Downloading 1275865\n",
      "Downloading 1275866\n",
      "Downloading 1304211\n",
      "Downloading 1260792\n",
      "Downloading 1260793\n",
      "Downloading 1260794\n",
      "Downloading 1260795\n",
      "Downloading 1260796\n",
      "Downloading 1258164\n",
      "Downloading 1245008\n",
      "Downloading 1245009\n",
      "Downloading 1245010\n",
      "Downloading 1245011\n",
      "Downloading 1245012\n",
      "Downloading 1245013\n",
      "Downloading 1227892\n",
      "Downloading 1227893\n",
      "Downloading 1227894\n",
      "Downloading 1227895\n",
      "Downloading 1227049\n",
      "Downloading 1224542\n",
      "Downloading 1189122\n",
      "Downloading 1188242\n",
      "Downloading 1188243\n",
      "Downloading 1188244\n",
      "Downloading 1185376\n",
      "Downloading 1185377\n",
      "Downloading 1169168\n",
      "Downloading 1169169\n",
      "Downloading 1168361\n",
      "Downloading 1169170\n",
      "Downloading 1171524\n",
      "Downloading 1165960\n",
      "Downloading 1152233\n",
      "Downloading 1152234\n",
      "Downloading 1152235\n",
      "Downloading 1150609\n",
      "Downloading 1150610\n",
      "Downloading 1145391\n",
      "Downloading 1133199\n",
      "Downloading 1133200\n",
      "Downloading 1133201\n",
      "Downloading 1137933\n",
      "Downloading 1133202\n",
      "Downloading 1133203\n"
     ]
    }
   ],
   "source": [
    "for match_id in FA_match_ids:\n",
    "    file_path = f\"data/FA/match/{match_id}.json\"\n",
    "    if os.path.exists(file_path):\n",
    "        continue\n",
    "\n",
    "    print(f\"Downloading {match_id}\")\n",
    "    match_data = match_data = client.get_match(match_id=match_id)\n",
    "    \n",
    "    with open(file_path, \"w\") as json_file:\n",
    "        json.dump(match_data, json_file, indent=4) "
   ]
  },
  {
   "cell_type": "code",
   "execution_count": 13,
   "id": "53a02879-55b8-4d23-a7ba-e5e4de14dcb4",
   "metadata": {
    "tags": []
   },
   "outputs": [],
   "source": [
    "NWSL_match_ids = [m['id'] for m in NWSL_matches]"
   ]
  },
  {
   "cell_type": "code",
   "execution_count": 14,
   "id": "b0a175ff-72f2-4ee2-b8cf-54fb70cc6ccf",
   "metadata": {
    "collapsed": true,
    "jupyter": {
     "outputs_hidden": true
    },
    "tags": []
   },
   "outputs": [
    {
     "name": "stdout",
     "output_type": "stream",
     "text": [
      "downloading 1875301\n",
      "downloading 1864049\n",
      "downloading 1862012\n",
      "downloading 1850047\n",
      "downloading 1850048\n",
      "downloading 1848387\n",
      "downloading 1846146\n",
      "downloading 1837091\n",
      "downloading 1836280\n",
      "downloading 1833678\n",
      "downloading 1833679\n",
      "downloading 1835317\n",
      "downloading 1831516\n",
      "downloading 1832187\n",
      "downloading 1804043\n",
      "downloading 1804044\n",
      "downloading 1804045\n",
      "downloading 1802045\n",
      "downloading 1801081\n",
      "downloading 1801082\n",
      "downloading 1804046\n",
      "downloading 1788410\n",
      "downloading 1787551\n",
      "downloading 1790032\n",
      "downloading 1785793\n",
      "downloading 1785794\n",
      "downloading 1784960\n",
      "downloading 1783371\n",
      "downloading 1775179\n",
      "downloading 1767946\n",
      "downloading 1767947\n",
      "downloading 1769006\n",
      "downloading 1769007\n",
      "downloading 1765941\n",
      "downloading 1765051\n",
      "downloading 1752890\n",
      "downloading 1752891\n",
      "downloading 1749439\n",
      "downloading 1774446\n",
      "downloading 1749441\n",
      "downloading 1748372\n",
      "downloading 1747288\n",
      "downloading 1737687\n",
      "downloading 1737569\n",
      "downloading 1731381\n",
      "downloading 1731382\n",
      "downloading 1731383\n",
      "downloading 1728459\n",
      "downloading 1728460\n",
      "downloading 1721211\n",
      "downloading 1718654\n",
      "downloading 1714743\n",
      "downloading 1713721\n",
      "downloading 1711037\n",
      "downloading 1711038\n",
      "downloading 1711039\n",
      "downloading 1701563\n",
      "downloading 1700744\n",
      "downloading 1700745\n",
      "downloading 1698309\n",
      "downloading 1701564\n",
      "downloading 1698311\n",
      "downloading 1696672\n",
      "downloading 1685323\n",
      "downloading 1685324\n",
      "downloading 1685325\n",
      "downloading 1686001\n",
      "downloading 1682931\n",
      "downloading 1682932\n",
      "downloading 1682201\n",
      "downloading 1672859\n",
      "downloading 1670404\n",
      "downloading 1668542\n",
      "downloading 1667661\n",
      "downloading 1668543\n",
      "downloading 1666750\n",
      "downloading 1670500\n",
      "downloading 1604737\n",
      "downloading 1604738\n",
      "downloading 1603975\n",
      "downloading 1603976\n",
      "downloading 1603587\n",
      "downloading 1603399\n",
      "downloading 1602831\n",
      "downloading 1598052\n",
      "downloading 1598267\n",
      "downloading 1596721\n",
      "downloading 1596722\n",
      "downloading 1596723\n",
      "downloading 1595704\n",
      "downloading 1595705\n",
      "downloading 1590050\n",
      "downloading 1590051\n",
      "downloading 1590052\n",
      "downloading 1590053\n",
      "downloading 1588878\n",
      "downloading 1590479\n",
      "downloading 1587604\n",
      "downloading 1588669\n",
      "downloading 1585551\n",
      "downloading 1582622\n",
      "downloading 1581983\n",
      "downloading 1580755\n",
      "downloading 1580514\n",
      "downloading 1580756\n",
      "downloading 1581984\n",
      "downloading 1579395\n",
      "downloading 1573472\n",
      "downloading 1572448\n",
      "downloading 1571937\n",
      "downloading 1571938\n",
      "downloading 1571939\n",
      "downloading 1570915\n",
      "downloading 1570916\n",
      "downloading 1553436\n",
      "downloading 1552777\n",
      "downloading 1550818\n",
      "downloading 1554729\n",
      "downloading 1550820\n",
      "downloading 1550821\n",
      "downloading 1549735\n",
      "downloading 1544116\n",
      "downloading 1543424\n",
      "downloading 1541917\n",
      "downloading 1541918\n",
      "downloading 1541155\n",
      "downloading 1540382\n",
      "downloading 1539692\n",
      "downloading 1531868\n",
      "downloading 1531869\n",
      "downloading 1531870\n",
      "downloading 1531147\n",
      "downloading 1529615\n",
      "downloading 1529616\n",
      "downloading 1528174\n",
      "downloading 1524551\n",
      "downloading 1524552\n",
      "downloading 1531871\n",
      "downloading 1520074\n",
      "downloading 1520075\n",
      "downloading 1531872\n",
      "downloading 1518781\n",
      "downloading 1518120\n",
      "downloading 1516924\n",
      "downloading 1516925\n",
      "downloading 1514369\n",
      "downloading 1513895\n",
      "downloading 1514370\n",
      "downloading 1510202\n",
      "downloading 1508311\n",
      "downloading 1508312\n",
      "downloading 1513897\n",
      "downloading 1508314\n",
      "downloading 1508980\n",
      "downloading 1506447\n",
      "downloading 1499986\n",
      "downloading 1499987\n",
      "downloading 1513898\n",
      "downloading 1501121\n",
      "downloading 1498008\n",
      "downloading 1498009\n",
      "downloading 1501122\n",
      "downloading 1501123\n",
      "downloading 1489055\n",
      "downloading 1487111\n",
      "downloading 1501124\n",
      "downloading 1513899\n",
      "downloading 1485209\n",
      "downloading 1485210\n",
      "downloading 1467677\n",
      "downloading 1467329\n",
      "downloading 1462808\n",
      "downloading 1463471\n",
      "downloading 1462810\n",
      "downloading 1461421\n",
      "downloading 1467678\n",
      "downloading 1455423\n",
      "downloading 1459802\n",
      "downloading 1455157\n",
      "downloading 1467327\n",
      "downloading 1467679\n",
      "downloading 1459805\n",
      "downloading 1467680\n",
      "downloading 1467324\n",
      "downloading 1448682\n",
      "downloading 1467681\n",
      "downloading 1449178\n",
      "downloading 1467682\n",
      "downloading 1459810\n"
     ]
    }
   ],
   "source": [
    "for match_id in NWSL_match_ids:\n",
    "    print(f'downloading {match_id}')\n",
    "    client.save_match_tracking_data(match_id=match_id, filepath=f'data/NWSL/tracking/{match_id}.jsonl', params={'data_version': 3})"
   ]
  },
  {
   "cell_type": "code",
   "execution_count": 15,
   "id": "2b9ffb28-21ff-4182-b0d6-7f5765602cbd",
   "metadata": {},
   "outputs": [],
   "source": [
    "player_info_request=requests.get(f'https://skillcorner.com/api/match/{match_id}/?lang=en',\n",
    "                                 auth=(username,password))"
   ]
  },
  {
   "cell_type": "code",
   "execution_count": 18,
   "id": "420a311c-b1d2-4019-bdcb-b89734018016",
   "metadata": {},
   "outputs": [
    {
     "data": {
      "text/plain": [
       "'{\"id\":1459810,\"home_team_score\":5,\"away_team_score\":4,\"date_time\":\"2024-03-16T17:00:00Z\",\"stadium\":{\"id\":3140,\"name\":\"CPKC Stadium\",\"city\":\"Kansas City\",\"capacity\":null},\"home_team\":{\"id\":2329,\"name\":\"Kansas City Current, Women\",\"short_name\":\"KC Current\",\"acronym\":\"KCC\"},\"home_team_kit\":{\"id\":8088,\"team_id\":2329,\"season\":{\"id\":21,\"start_year\":2022,\"end_year\":2023,\"name\":\"2022/2023\"},\"name\":\"Home\",\"jersey_color\":\"#ff0000\",\"number_color\":\"#ffffff\"},\"away_team\":{\"id\":1832,\"name\":\"Portland Thorns FC, Women\",\"short_name\":\"Portland Thorns\",\"acronym\":\"POR\"},\"away_team_kit\":{\"id\":4338,\"team_id\":1832,\"season\":{\"id\":8,\"start_year\":2021,\"end_year\":2022,\"name\":\"2021/2022\"},\"name\":\"Home\",\"jersey_color\":\"#000000\",\"number_color\":\"#ffffff\"},\"home_team_coach\":null,\"away_team_coach\":null,\"competition_edition\":{\"id\":800,\"competition\":{\"id\":126,\"area\":\"USA\",\"name\":\"NWSL\",\"gender\":\"female\",\"age_group\":\"adult\"},\"season\":{\"id\":29,\"start_year\":2024,\"end_year\":2024,\"name\":\"2024\"},\"name\":\"USA - NWSL - 2024\"},\"competition_round\":{\"id\":1884,\"name\":\"Round 1\",\"round_number\":1,\"potential_overtime\":false},\"referees\":[],\"players\":[{\"player_role\":{\"id\":13,\"position_group\":\"Wide Attacker\",\"name\":\"Right Winger\",\"acronym\":\"RW\"},\"start_time\":\"00:45:01\",\"end_time\":null,\"number\":16,\"yellow_card\":0,\"red_card\":0,\"injured\":false,\"goal\":2,\"own_goal\":0,\"team_player_id\":212263,\"team_id\":1832,\"id\":22732,\"first_name\":\"Janine\",\"last_name\":\"Beckie\",\"short_name\":\"J. Beckie\",\"birthday\":\"1994-08-20\",\"trackable_object\":23414,\"gender\":\"female\"},{\"player_role\":{\"id\":21,\"position_group\":\"Midfield\",\"name\":\"Left Defensive Midfield\",\"acronym\":\"LDM\"},\"start_time\":\"00:00:00\",\"end_time\":\"01:14:25\",\"number\":17,\"yellow_card\":0,\"red_card\":0,\"injured\":false,\"goal\":0,\"own_goal\":0,\"team_player_id\":226589,\"team_id\":1832,\"id\":167391,\"first_name\":\"Samantha Grace\",\"last_name\":\"Coffey\",\"short_name\":\"S. Coffey\",\"birthday\":\"1998-12-31\",\"trackable_object\":168946,\"gender\":\"female\"},{\"player_role\":{\"id\":13,\"position_group\":\"Wide Attacker\",\"name\":\"Right Winger\",\"acronym\":\"RW\"},\"start_time\":\"00:31:50\",\"end_time\":\"01:27:02\",\"number\":25,\"yellow_card\":0,\"red_card\":0,\"injured\":false,\"goal\":1,\"own_goal\":0,\"team_player_id\":204663,\"team_id\":2329,\"id\":57143,\"first_name\":\"Kristen\",\"last_name\":\"Hamilton\",\"short_name\":\"K. Hamilton\",\"birthday\":\"1992-04-17\",\"trackable_object\":58269,\"gender\":\"female\"},{\"player_role\":{\"id\":22,\"position_group\":\"Midfield\",\"name\":\"Right Defensive Midfield\",\"acronym\":\"RDM\"},\"start_time\":\"00:00:00\",\"end_time\":null,\"number\":21,\"yellow_card\":0,\"red_card\":0,\"injured\":false,\"goal\":0,\"own_goal\":0,\"team_player_id\":1249650,\"team_id\":1832,\"id\":22733,\"first_name\":\"Jessie Alexandra\",\"last_name\":\"Fleming\",\"short_name\":\"J. Fleming\",\"birthday\":\"1998-03-11\",\"trackable_object\":23416,\"gender\":\"female\"},{\"player_role\":{\"id\":4,\"position_group\":\"Central Defender\",\"name\":\"Right Center Back\",\"acronym\":\"RCB\"},\"start_time\":\"00:00:00\",\"end_time\":null,\"number\":7,\"yellow_card\":0,\"red_card\":0,\"injured\":false,\"goal\":0,\"own_goal\":0,\"team_player_id\":204661,\"team_id\":2329,\"id\":151140,\"first_name\":\"Elizabeth\",\"last_name\":\"Ball\",\"short_name\":\"E. Ball\",\"birthday\":\"1995-10-20\",\"trackable_object\":152695,\"gender\":\"female\"},{\"player_role\":{\"id\":11,\"position_group\":\"Midfield\",\"name\":\"Attacking Midfield\",\"acronym\":\"AM\"},\"start_time\":\"00:00:00\",\"end_time\":\"01:01:36\",\"number\":13,\"yellow_card\":0,\"red_card\":0,\"injured\":false,\"goal\":0,\"own_goal\":0,\"team_player_id\":204587,\"team_id\":1832,\"id\":151093,\"first_name\":\"Olivia\",\"last_name\":\"Moultrie\",\"short_name\":\"O. Moultrie\",\"birthday\":\"2005-09-17\",\"trackable_object\":152648,\"gender\":\"female\"},{\"player_role\":{\"id\":13,\"position_group\":\"Wide Attacker\",\"name\":\"Right Winger\",\"acronym\":\"RW\"},\"start_time\":\"00:50:43\",\"end_time\":null,\"number\":47,\"yellow_card\":0,\"red_card\":0,\"injured\":false,\"goal\":1,\"own_goal\":0,\"team_player_id\":1251777,\"team_id\":2329,\"id\":809994,\"first_name\":\"Alexandra\",\"last_name\":\"Pfeiffer\",\"short_name\":\"A. Pfeiffer\",\"birthday\":\"2007-11-26\",\"trackable_object\":811557,\"gender\":\"female\"},{\"player_role\":{\"id\":15,\"position_group\":\"Center Forward\",\"name\":\"Center Forward\",\"acronym\":\"CF\"},\"start_time\":\"01:14:25\",\"end_time\":null,\"number\":24,\"yellow_card\":0,\"red_card\":0,\"injured\":false,\"goal\":0,\"own_goal\":0,\"team_player_id\":899916,\"team_id\":1832,\"id\":610119,\"first_name\":\"Isabella\",\"last_name\":\"D\\'Aquila\",\"short_name\":\"I. D\\'Aquila\",\"birthday\":\"2001-09-08\",\"trackable_object\":611676,\"gender\":\"female\"},{\"player_role\":{\"id\":13,\"position_group\":\"Wide Attacker\",\"name\":\"Right Winger\",\"acronym\":\"RW\"},\"start_time\":\"00:00:00\",\"end_time\":\"00:31:50\",\"number\":99,\"yellow_card\":0,\"red_card\":0,\"injured\":false,\"goal\":0,\"own_goal\":0,\"team_player_id\":963908,\"team_id\":2329,\"id\":22541,\"first_name\":\"Débora Cristiane\",\"last_name\":\"de Oliveira\",\"short_name\":\"Debinha\",\"birthday\":\"1991-10-20\",\"trackable_object\":23032,\"gender\":\"female\"},{\"player_role\":{\"id\":12,\"position_group\":\"Wide Attacker\",\"name\":\"Left Winger\",\"acronym\":\"LW\"},\"start_time\":\"01:02:36\",\"end_time\":null,\"number\":6,\"yellow_card\":0,\"red_card\":0,\"injured\":false,\"goal\":0,\"own_goal\":0,\"team_player_id\":1251771,\"team_id\":2329,\"id\":816479,\"first_name\":\"Temwa\",\"last_name\":\"Chawinga\",\"short_name\":\"T. Chawinga\",\"birthday\":\"1998-09-20\",\"trackable_object\":818042,\"gender\":\"female\"},{\"player_role\":{\"id\":20,\"position_group\":\"Full Back\",\"name\":\"Right Back\",\"acronym\":\"RB\"},\"start_time\":\"00:00:00\",\"end_time\":null,\"number\":5,\"yellow_card\":0,\"red_card\":0,\"injured\":false,\"goal\":1,\"own_goal\":0,\"team_player_id\":1251773,\"team_id\":2329,\"id\":816481,\"first_name\":\"Ellie\",\"last_name\":\"Wheeler\",\"short_name\":\"E. Wheeler\",\"birthday\":\"2001-12-14\",\"trackable_object\":818044,\"gender\":\"female\"},{\"player_role\":{\"id\":11,\"position_group\":\"Midfield\",\"name\":\"Attacking Midfield\",\"acronym\":\"AM\"},\"start_time\":\"00:00:00\",\"end_time\":\"01:02:36\",\"number\":16,\"yellow_card\":0,\"red_card\":0,\"injured\":false,\"goal\":1,\"own_goal\":0,\"team_player_id\":963907,\"team_id\":2329,\"id\":151129,\"first_name\":\"Vanessa Sue\",\"last_name\":\"DiBernardo\",\"short_name\":\"V. DiBernardo\",\"birthday\":\"1992-05-15\",\"trackable_object\":152684,\"gender\":\"female\"},{\"player_role\":{\"id\":12,\"position_group\":\"Wide Attacker\",\"name\":\"Left Winger\",\"acronym\":\"LW\"},\"start_time\":\"00:00:00\",\"end_time\":\"01:02:36\",\"number\":77,\"yellow_card\":0,\"red_card\":0,\"injured\":false,\"goal\":0,\"own_goal\":0,\"team_player_id\":963909,\"team_id\":2329,\"id\":654412,\"first_name\":\"Alexa Christine\",\"last_name\":\"Spaanstra\",\"short_name\":\"A. Spaanstra\",\"birthday\":\"2000-02-01\",\"trackable_object\":655969,\"gender\":\"female\"},{\"player_role\":{\"id\":11,\"position_group\":\"Midfield\",\"name\":\"Attacking Midfield\",\"acronym\":\"AM\"},\"start_time\":\"01:02:36\",\"end_time\":null,\"number\":94,\"yellow_card\":0,\"red_card\":0,\"injured\":false,\"goal\":0,\"own_goal\":0,\"team_player_id\":236974,\"team_id\":2329,\"id\":157687,\"first_name\":\"Claire\",\"last_name\":\"Lavogez\",\"short_name\":\"C. Lavogez\",\"birthday\":\"1994-06-18\",\"trackable_object\":159242,\"gender\":\"female\"},{\"player_role\":{\"id\":13,\"position_group\":\"Wide Attacker\",\"name\":\"Right Winger\",\"acronym\":\"RW\"},\"start_time\":\"00:00:00\",\"end_time\":\"00:45:01\",\"number\":12,\"yellow_card\":0,\"red_card\":0,\"injured\":false,\"goal\":0,\"own_goal\":0,\"team_player_id\":204579,\"team_id\":1832,\"id\":22728,\"first_name\":\"Christine\",\"last_name\":\"Sinclair\",\"short_name\":\"C. Sinclair\",\"birthday\":\"1983-06-12\",\"trackable_object\":23406,\"gender\":\"female\"},{\"player_role\":{\"id\":15,\"position_group\":\"Center Forward\",\"name\":\"Center Forward\",\"acronym\":\"CF\"},\"start_time\":\"00:00:00\",\"end_time\":\"00:50:43\",\"number\":9,\"yellow_card\":0,\"red_card\":0,\"injured\":false,\"goal\":1,\"own_goal\":0,\"team_player_id\":1251770,\"team_id\":2329,\"id\":22548,\"first_name\":\"\",\"last_name\":\"Beatriz\",\"short_name\":\"Beatriz\",\"birthday\":\"1993-12-17\",\"trackable_object\":23046,\"gender\":\"female\"},{\"player_role\":{\"id\":10,\"position_group\":\"Midfield\",\"name\":\"Right Midfield\",\"acronym\":\"RM\"},\"start_time\":\"01:14:25\",\"end_time\":null,\"number\":54,\"yellow_card\":0,\"red_card\":0,\"injured\":false,\"goal\":0,\"own_goal\":0,\"team_player_id\":1249655,\"team_id\":1832,\"id\":815779,\"first_name\":\"Olivia\",\"last_name\":\"Wade-Katoa\",\"short_name\":\"O. Wade-Katoa\",\"birthday\":\"1999-12-28\",\"trackable_object\":817342,\"gender\":\"female\"},{\"player_role\":{\"id\":9,\"position_group\":\"Midfield\",\"name\":\"Left Midfield\",\"acronym\":\"LM\"},\"start_time\":\"01:01:36\",\"end_time\":null,\"number\":8,\"yellow_card\":1,\"red_card\":0,\"injured\":false,\"goal\":0,\"own_goal\":0,\"team_player_id\":204580,\"team_id\":1832,\"id\":22676,\"first_name\":\"Hina\",\"last_name\":\"Sugita\",\"short_name\":\"H. Sugita\",\"birthday\":\"1997-01-31\",\"trackable_object\":23302,\"gender\":\"female\"},{\"player_role\":{\"id\":2,\"position_group\":\"Central Defender\",\"name\":\"Center Back\",\"acronym\":\"CB\"},\"start_time\":\"01:27:02\",\"end_time\":null,\"number\":12,\"yellow_card\":0,\"red_card\":0,\"injured\":false,\"goal\":0,\"own_goal\":0,\"team_player_id\":1103464,\"team_id\":2329,\"id\":63748,\"first_name\":\"Stine\",\"last_name\":\"Ballisager Pedersen\",\"short_name\":\"S. Ballisager\",\"birthday\":\"1994-01-03\",\"trackable_object\":64874,\"gender\":\"female\"},{\"player_role\":{\"id\":22,\"position_group\":\"Midfield\",\"name\":\"Right Defensive Midfield\",\"acronym\":\"RDM\"},\"start_time\":\"00:00:00\",\"end_time\":null,\"number\":10,\"yellow_card\":0,\"red_card\":0,\"injured\":false,\"goal\":0,\"own_goal\":0,\"team_player_id\":204658,\"team_id\":2329,\"id\":151139,\"first_name\":\"Lo’eau\",\"last_name\":\"LaBonta\",\"short_name\":\"L. LaBonta\",\"birthday\":\"1993-03-18\",\"trackable_object\":152694,\"gender\":\"female\"},{\"player_role\":{\"id\":20,\"position_group\":\"Full Back\",\"name\":\"Right Back\",\"acronym\":\"RB\"},\"start_time\":\"01:14:25\",\"end_time\":null,\"number\":2,\"yellow_card\":0,\"red_card\":0,\"injured\":false,\"goal\":0,\"own_goal\":0,\"team_player_id\":899915,\"team_id\":1832,\"id\":56164,\"first_name\":\"Reyna Rene\",\"last_name\":\"Reyes Stubblefield\",\"short_name\":\"R. Reyes\",\"birthday\":\"2001-02-16\",\"trackable_object\":57290,\"gender\":\"female\"},{\"player_role\":{\"id\":20,\"position_group\":\"Full Back\",\"name\":\"Right Back\",\"acronym\":\"RB\"},\"start_time\":\"00:00:00\",\"end_time\":\"01:14:25\",\"number\":11,\"yellow_card\":0,\"red_card\":0,\"injured\":false,\"goal\":0,\"own_goal\":0,\"team_player_id\":1251837,\"team_id\":1832,\"id\":54012,\"first_name\":\"Nicole\",\"last_name\":\"Payne\",\"short_name\":\"N. Payne\",\"birthday\":\"2001-01-18\",\"trackable_object\":55138,\"gender\":\"female\"},{\"player_role\":{\"id\":17,\"position_group\":\"Other\",\"name\":\"Substitute\",\"acronym\":\"SUB\"},\"start_time\":null,\"end_time\":null,\"number\":27,\"yellow_card\":0,\"red_card\":0,\"injured\":false,\"goal\":0,\"own_goal\":0,\"team_player_id\":1249654,\"team_id\":1832,\"id\":165105,\"first_name\":\"Marissa\",\"last_name\":\"Sheva\",\"short_name\":\"M. Sheva\",\"birthday\":\"1997-04-22\",\"trackable_object\":166660,\"gender\":\"female\"},{\"player_role\":{\"id\":17,\"position_group\":\"Other\",\"name\":\"Substitute\",\"acronym\":\"SUB\"},\"start_time\":null,\"end_time\":null,\"number\":25,\"yellow_card\":0,\"red_card\":0,\"injured\":false,\"goal\":0,\"own_goal\":0,\"team_player_id\":82620,\"team_id\":1832,\"id\":57104,\"first_name\":\"Meghan\",\"last_name\":\"Klingenberg\",\"short_name\":\"M. Klingenberg\",\"birthday\":\"1988-08-02\",\"trackable_object\":58230,\"gender\":\"female\"},{\"player_role\":{\"id\":17,\"position_group\":\"Other\",\"name\":\"Substitute\",\"acronym\":\"SUB\"},\"start_time\":null,\"end_time\":null,\"number\":28,\"yellow_card\":0,\"red_card\":0,\"injured\":false,\"goal\":0,\"own_goal\":0,\"team_player_id\":1020625,\"team_id\":1832,\"id\":695926,\"first_name\":\"Lauren\",\"last_name\":\"Kozal\",\"short_name\":\"L. Kozal\",\"birthday\":\"2000-07-11\",\"trackable_object\":697489,\"gender\":\"female\"},{\"player_role\":{\"id\":17,\"position_group\":\"Other\",\"name\":\"Substitute\",\"acronym\":\"SUB\"},\"start_time\":null,\"end_time\":null,\"number\":4,\"yellow_card\":0,\"red_card\":0,\"injured\":false,\"goal\":0,\"own_goal\":0,\"team_player_id\":82625,\"team_id\":1832,\"id\":22812,\"first_name\":\"Rebecca Elizabeth\",\"last_name\":\"Sauerbrunn\",\"short_name\":\"B. Sauerbrunn\",\"birthday\":\"1985-06-06\",\"trackable_object\":23574,\"gender\":\"female\"},{\"player_role\":{\"id\":0,\"position_group\":\"Other\",\"name\":\"Goalkeeper\",\"acronym\":\"GK\"},\"start_time\":\"00:00:00\",\"end_time\":null,\"number\":18,\"yellow_card\":0,\"red_card\":0,\"injured\":false,\"goal\":0,\"own_goal\":0,\"team_player_id\":204584,\"team_id\":1832,\"id\":151090,\"first_name\":\"Shelby\",\"last_name\":\"Hogan\",\"short_name\":\"S. Hogan\",\"birthday\":\"1998-05-10\",\"trackable_object\":152645,\"gender\":\"female\"},{\"player_role\":{\"id\":12,\"position_group\":\"Wide Attacker\",\"name\":\"Left Winger\",\"acronym\":\"LW\"},\"start_time\":\"00:00:00\",\"end_time\":null,\"number\":22,\"yellow_card\":0,\"red_card\":0,\"injured\":false,\"goal\":0,\"own_goal\":0,\"team_player_id\":82616,\"team_id\":1832,\"id\":57100,\"first_name\":\"Morgan\",\"last_name\":\"Weaver\",\"short_name\":\"M. Weaver\",\"birthday\":\"1997-10-18\",\"trackable_object\":58226,\"gender\":\"female\"},{\"player_role\":{\"id\":19,\"position_group\":\"Full Back\",\"name\":\"Left Back\",\"acronym\":\"LB\"},\"start_time\":\"00:00:00\",\"end_time\":null,\"number\":23,\"yellow_card\":0,\"red_card\":0,\"injured\":false,\"goal\":0,\"own_goal\":0,\"team_player_id\":1249651,\"team_id\":1832,\"id\":815777,\"first_name\":\"Marie\",\"last_name\":\"Müller\",\"short_name\":\"M. Müller\",\"birthday\":\"2000-07-25\",\"trackable_object\":817340,\"gender\":\"female\"},{\"player_role\":{\"id\":4,\"position_group\":\"Central Defender\",\"name\":\"Right Center Back\",\"acronym\":\"RCB\"},\"start_time\":\"00:00:00\",\"end_time\":null,\"number\":20,\"yellow_card\":1,\"red_card\":0,\"injured\":false,\"goal\":0,\"own_goal\":0,\"team_player_id\":82630,\"team_id\":1832,\"id\":57110,\"first_name\":\"Kelli\",\"last_name\":\"Hubly\",\"short_name\":\"K. Hubly\",\"birthday\":\"1994-08-09\",\"trackable_object\":58236,\"gender\":\"female\"},{\"player_role\":{\"id\":3,\"position_group\":\"Central Defender\",\"name\":\"Left Center Back\",\"acronym\":\"LCB\"},\"start_time\":\"00:00:00\",\"end_time\":null,\"number\":5,\"yellow_card\":0,\"red_card\":0,\"injured\":false,\"goal\":0,\"own_goal\":0,\"team_player_id\":1249652,\"team_id\":1832,\"id\":69901,\"first_name\":\"Isabella\",\"last_name\":\"Bryld Obaze\",\"short_name\":\"I. Obaze\",\"birthday\":\"2002-10-30\",\"trackable_object\":71027,\"gender\":\"female\"},{\"player_role\":{\"id\":15,\"position_group\":\"Center Forward\",\"name\":\"Center Forward\",\"acronym\":\"CF\"},\"start_time\":\"00:00:00\",\"end_time\":\"01:14:25\",\"number\":9,\"yellow_card\":0,\"red_card\":0,\"injured\":false,\"goal\":2,\"own_goal\":0,\"team_player_id\":204578,\"team_id\":1832,\"id\":42801,\"first_name\":\"Sophia Olivia\",\"last_name\":\"Smith\",\"short_name\":\"S. Smith\",\"birthday\":\"2000-08-10\",\"trackable_object\":43927,\"gender\":\"female\"},{\"player_role\":{\"id\":17,\"position_group\":\"Other\",\"name\":\"Substitute\",\"acronym\":\"SUB\"},\"start_time\":null,\"end_time\":null,\"number\":2,\"yellow_card\":0,\"red_card\":0,\"injured\":false,\"goal\":0,\"own_goal\":0,\"team_player_id\":1251775,\"team_id\":2329,\"id\":661162,\"first_name\":\"Regan\",\"last_name\":\"Steigleder\",\"short_name\":\"R. Steigleder\",\"birthday\":\"1998-09-03\",\"trackable_object\":662719,\"gender\":\"female\"},{\"player_role\":{\"id\":17,\"position_group\":\"Other\",\"name\":\"Substitute\",\"acronym\":\"SUB\"},\"start_time\":null,\"end_time\":null,\"number\":29,\"yellow_card\":0,\"red_card\":0,\"injured\":false,\"goal\":0,\"own_goal\":0,\"team_player_id\":963910,\"team_id\":2329,\"id\":654410,\"first_name\":\"Jordan\",\"last_name\":\"Silkowitz\",\"short_name\":\"J. Silkowitz\",\"birthday\":\"2000-03-27\",\"trackable_object\":655967,\"gender\":\"female\"},{\"player_role\":{\"id\":17,\"position_group\":\"Other\",\"name\":\"Substitute\",\"acronym\":\"SUB\"},\"start_time\":null,\"end_time\":null,\"number\":18,\"yellow_card\":0,\"red_card\":0,\"injured\":false,\"goal\":0,\"own_goal\":0,\"team_player_id\":204656,\"team_id\":2329,\"id\":151137,\"first_name\":\"Isabel Denise\",\"last_name\":\"Rodriguez\",\"short_name\":\"I. Rodriguez\",\"birthday\":\"1999-04-13\",\"trackable_object\":152692,\"gender\":\"female\"},{\"player_role\":{\"id\":17,\"position_group\":\"Other\",\"name\":\"Substitute\",\"acronym\":\"SUB\"},\"start_time\":null,\"end_time\":null,\"number\":22,\"yellow_card\":0,\"red_card\":0,\"injured\":false,\"goal\":0,\"own_goal\":0,\"team_player_id\":1251774,\"team_id\":2329,\"id\":151115,\"first_name\":\"Bailey\",\"last_name\":\"Feist\",\"short_name\":\"B. Feist\",\"birthday\":\"1997-03-14\",\"trackable_object\":152670,\"gender\":\"female\"},{\"player_role\":{\"id\":19,\"position_group\":\"Full Back\",\"name\":\"Left Back\",\"acronym\":\"LB\"},\"start_time\":\"00:00:00\",\"end_time\":null,\"number\":4,\"yellow_card\":0,\"red_card\":0,\"injured\":false,\"goal\":0,\"own_goal\":0,\"team_player_id\":204730,\"team_id\":2329,\"id\":57144,\"first_name\":\"Hailie\",\"last_name\":\"Mace\",\"short_name\":\"H. Mace\",\"birthday\":\"1997-03-24\",\"trackable_object\":58270,\"gender\":\"female\"},{\"player_role\":{\"id\":3,\"position_group\":\"Central Defender\",\"name\":\"Left Center Back\",\"acronym\":\"LCB\"},\"start_time\":\"00:00:00\",\"end_time\":null,\"number\":24,\"yellow_card\":0,\"red_card\":0,\"injured\":false,\"goal\":0,\"own_goal\":0,\"team_player_id\":963906,\"team_id\":2329,\"id\":654396,\"first_name\":\"Gabrielle\",\"last_name\":\"Robinson\",\"short_name\":\"G. Robinson\",\"birthday\":\"2000-06-18\",\"trackable_object\":655953,\"gender\":\"female\"},{\"player_role\":{\"id\":21,\"position_group\":\"Midfield\",\"name\":\"Left Defensive Midfield\",\"acronym\":\"LDM\"},\"start_time\":\"00:00:00\",\"end_time\":null,\"number\":14,\"yellow_card\":0,\"red_card\":0,\"injured\":false,\"goal\":0,\"own_goal\":0,\"team_player_id\":1251772,\"team_id\":2329,\"id\":816480,\"first_name\":\"Claire\",\"last_name\":\"Hutton\",\"short_name\":\"C. Hutton\",\"birthday\":\"2006-01-11\",\"trackable_object\":818043,\"gender\":\"female\"},{\"player_role\":{\"id\":0,\"position_group\":\"Other\",\"name\":\"Goalkeeper\",\"acronym\":\"GK\"},\"start_time\":\"00:00:00\",\"end_time\":null,\"number\":21,\"yellow_card\":0,\"red_card\":0,\"injured\":false,\"goal\":0,\"own_goal\":0,\"team_player_id\":204659,\"team_id\":2329,\"id\":22829,\"first_name\":\"Adrianna\",\"last_name\":\"Franch\",\"short_name\":\"A. Franch\",\"birthday\":\"1990-11-12\",\"trackable_object\":23608,\"gender\":\"female\"}],\"status\":\"closed\",\"home_team_side\":[\"left_to_right\",\"right_to_left\"],\"ball\":{\"trackable_object\":55},\"pitch_length\":105,\"pitch_width\":68}'"
      ]
     },
     "execution_count": 18,
     "metadata": {},
     "output_type": "execute_result"
    }
   ],
   "source": [
    "player_info_request.text"
   ]
  },
  {
   "cell_type": "code",
   "execution_count": null,
   "id": "fd4eaa8c-995a-41d3-abf6-259b3f7fee9b",
   "metadata": {},
   "outputs": [],
   "source": []
  }
 ],
 "metadata": {
  "kernelspec": {
   "display_name": "asi12",
   "language": "python",
   "name": "asi12"
  },
  "language_info": {
   "codemirror_mode": {
    "name": "ipython",
    "version": 3
   },
   "file_extension": ".py",
   "mimetype": "text/x-python",
   "name": "python",
   "nbconvert_exporter": "python",
   "pygments_lexer": "ipython3",
   "version": "3.12.8"
  }
 },
 "nbformat": 4,
 "nbformat_minor": 5
}
