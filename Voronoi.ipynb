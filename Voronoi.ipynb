{
 "cells": [
  {
   "cell_type": "code",
   "execution_count": 113,
   "id": "2358478b-9f4c-4ccc-9707-0c29f93b87b2",
   "metadata": {},
   "outputs": [
    {
     "name": "stdout",
     "output_type": "stream",
     "text": [
      "The autoreload extension is already loaded. To reload it, use:\n",
      "  %reload_ext autoreload\n"
     ]
    }
   ],
   "source": [
    "import pandas as pd\n",
    "import numpy as np\n",
    "import scipy.stats as stats\n",
    "from scipy.spatial import distance\n",
    "from scipy.spatial import cKDTree\n",
    "import matplotlib.pyplot as plt\n",
    "import math\n",
    "from utils import *\n",
    "import plotly.graph_objects as go\n",
    "\n",
    "from scipy.spatial import Voronoi, voronoi_plot_2d\n",
    "from scipy.spatial import ConvexHull, Delaunay\n",
    "from scipy.spatial.distance import euclidean\n",
    "from voronoi_mod import *\n",
    "\n",
    "import warnings\n",
    "warnings.filterwarnings('ignore')\n",
    "pd.set_option('display.max_rows', None)\n",
    "pd.set_option('display.max_columns', None)\n",
    "pd.set_option('display.max_colwidth', None)\n",
    "%load_ext autoreload\n",
    "%autoreload 2"
   ]
  },
  {
   "cell_type": "code",
   "execution_count": 82,
   "id": "c34732d4-2d1e-424a-a28a-85cdc487f843",
   "metadata": {},
   "outputs": [],
   "source": [
    "match_id = 1133199\n",
    "file_path = f'data/FA/tracking/{match_id}.jsonl'\n",
    "data = load_jsonl_file(file_path)\n",
    "\n",
    "file_path = f'data/FA/match/{match_id}.json'\n",
    "match_data = load_json_file(file_path)\n",
    "home_id = match_data['home_team']['id']\n",
    "away_id = match_data['away_team']['id']\n",
    "\n",
    "home_p_ids = [p['id'] for p in match_data['players'] if p['team_id'] == home_id]\n",
    "away_p_ids = [p['id'] for p in match_data['players'] if p['team_id'] == away_id]"
   ]
  },
  {
   "cell_type": "code",
   "execution_count": 25,
   "id": "6bc40917-d969-496f-a2ce-d362237b46c5",
   "metadata": {},
   "outputs": [],
   "source": [
    "frame = 2626\n",
    "recipient_id = 68683"
   ]
  },
  {
   "cell_type": "code",
   "execution_count": 9,
   "id": "087ec20d-21e2-4478-a6f8-dbf046b2212f",
   "metadata": {},
   "outputs": [],
   "source": [
    "frame_data = [f for f in data if f['frame'] == frame]"
   ]
  },
  {
   "cell_type": "code",
   "execution_count": 11,
   "id": "fee6544b-e485-41f2-bf40-f8875549609c",
   "metadata": {},
   "outputs": [],
   "source": [
    "frame_df = pd.DataFrame(frame_data)"
   ]
  },
  {
   "cell_type": "code",
   "execution_count": 14,
   "id": "ecd68d64-3126-4fcc-baf5-1f03fe4767d3",
   "metadata": {},
   "outputs": [],
   "source": [
    "expanded_df = pd.concat(frame_df.apply(explode_data, axis=1).to_list(), ignore_index=True)"
   ]
  },
  {
   "cell_type": "code",
   "execution_count": 28,
   "id": "c33eea82-ca41-4b29-960e-0d491b4da7c2",
   "metadata": {},
   "outputs": [],
   "source": [
    "expanded_df['team'] = expanded_df['player_id'].apply(lambda x: 'home' if x in home_p_ids else 'away' if x in away_p_ids else 'ball')"
   ]
  },
  {
   "cell_type": "code",
   "execution_count": 29,
   "id": "7e7e042b-2783-4d72-b0f8-b1aa0a55ab6a",
   "metadata": {},
   "outputs": [
    {
     "data": {
      "text/plain": [
       "'away'"
      ]
     },
     "execution_count": 29,
     "metadata": {},
     "output_type": "execute_result"
    }
   ],
   "source": [
    "recipient_team = expanded_df[expanded_df['player_id'] == recipient_id]['team'].item()\n",
    "recipient_team"
   ]
  },
  {
   "cell_type": "code",
   "execution_count": 44,
   "id": "6219b73a-9dea-4c9e-9f01-078fbfc9cd0d",
   "metadata": {},
   "outputs": [],
   "source": [
    "pitch_length, pitch_width = find_pitch_size(match_id)"
   ]
  },
  {
   "cell_type": "code",
   "execution_count": 27,
   "id": "06189cd8-ff23-4aef-8a31-b96d0a5e1bea",
   "metadata": {
    "collapsed": true,
    "jupyter": {
     "outputs_hidden": true
    }
   },
   "outputs": [
    {
     "data": {
      "text/html": [
       "<div>\n",
       "<style scoped>\n",
       "    .dataframe tbody tr th:only-of-type {\n",
       "        vertical-align: middle;\n",
       "    }\n",
       "\n",
       "    .dataframe tbody tr th {\n",
       "        vertical-align: top;\n",
       "    }\n",
       "\n",
       "    .dataframe thead th {\n",
       "        text-align: right;\n",
       "    }\n",
       "</style>\n",
       "<table border=\"1\" class=\"dataframe\">\n",
       "  <thead>\n",
       "    <tr style=\"text-align: right;\">\n",
       "      <th></th>\n",
       "      <th>x</th>\n",
       "      <th>y</th>\n",
       "      <th>player_id</th>\n",
       "      <th>is_detected</th>\n",
       "      <th>object</th>\n",
       "      <th>z</th>\n",
       "      <th>frame</th>\n",
       "      <th>timestamp</th>\n",
       "      <th>period</th>\n",
       "      <th>possession</th>\n",
       "      <th>image_corners_projection</th>\n",
       "      <th>team</th>\n",
       "    </tr>\n",
       "  </thead>\n",
       "  <tbody>\n",
       "    <tr>\n",
       "      <th>0</th>\n",
       "      <td>-29.53</td>\n",
       "      <td>2.17</td>\n",
       "      <td>52925</td>\n",
       "      <td>False</td>\n",
       "      <td>player</td>\n",
       "      <td>NaN</td>\n",
       "      <td>2626</td>\n",
       "      <td>00:04:12.60</td>\n",
       "      <td>1</td>\n",
       "      <td>NaN</td>\n",
       "      <td>NaN</td>\n",
       "      <td>away</td>\n",
       "    </tr>\n",
       "    <tr>\n",
       "      <th>1</th>\n",
       "      <td>-1.68</td>\n",
       "      <td>-6.99</td>\n",
       "      <td>64113</td>\n",
       "      <td>False</td>\n",
       "      <td>player</td>\n",
       "      <td>NaN</td>\n",
       "      <td>2626</td>\n",
       "      <td>00:04:12.60</td>\n",
       "      <td>1</td>\n",
       "      <td>NaN</td>\n",
       "      <td>NaN</td>\n",
       "      <td>away</td>\n",
       "    </tr>\n",
       "    <tr>\n",
       "      <th>2</th>\n",
       "      <td>-1.99</td>\n",
       "      <td>9.77</td>\n",
       "      <td>68737</td>\n",
       "      <td>False</td>\n",
       "      <td>player</td>\n",
       "      <td>NaN</td>\n",
       "      <td>2626</td>\n",
       "      <td>00:04:12.60</td>\n",
       "      <td>1</td>\n",
       "      <td>NaN</td>\n",
       "      <td>NaN</td>\n",
       "      <td>away</td>\n",
       "    </tr>\n",
       "    <tr>\n",
       "      <th>3</th>\n",
       "      <td>24.44</td>\n",
       "      <td>-14.22</td>\n",
       "      <td>64167</td>\n",
       "      <td>False</td>\n",
       "      <td>player</td>\n",
       "      <td>NaN</td>\n",
       "      <td>2626</td>\n",
       "      <td>00:04:12.60</td>\n",
       "      <td>1</td>\n",
       "      <td>NaN</td>\n",
       "      <td>NaN</td>\n",
       "      <td>away</td>\n",
       "    </tr>\n",
       "    <tr>\n",
       "      <th>4</th>\n",
       "      <td>12.13</td>\n",
       "      <td>28.13</td>\n",
       "      <td>68736</td>\n",
       "      <td>True</td>\n",
       "      <td>player</td>\n",
       "      <td>NaN</td>\n",
       "      <td>2626</td>\n",
       "      <td>00:04:12.60</td>\n",
       "      <td>1</td>\n",
       "      <td>NaN</td>\n",
       "      <td>NaN</td>\n",
       "      <td>away</td>\n",
       "    </tr>\n",
       "    <tr>\n",
       "      <th>5</th>\n",
       "      <td>9.45</td>\n",
       "      <td>-2.91</td>\n",
       "      <td>63782</td>\n",
       "      <td>True</td>\n",
       "      <td>player</td>\n",
       "      <td>NaN</td>\n",
       "      <td>2626</td>\n",
       "      <td>00:04:12.60</td>\n",
       "      <td>1</td>\n",
       "      <td>NaN</td>\n",
       "      <td>NaN</td>\n",
       "      <td>away</td>\n",
       "    </tr>\n",
       "    <tr>\n",
       "      <th>6</th>\n",
       "      <td>7.55</td>\n",
       "      <td>12.09</td>\n",
       "      <td>63774</td>\n",
       "      <td>True</td>\n",
       "      <td>player</td>\n",
       "      <td>NaN</td>\n",
       "      <td>2626</td>\n",
       "      <td>00:04:12.60</td>\n",
       "      <td>1</td>\n",
       "      <td>NaN</td>\n",
       "      <td>NaN</td>\n",
       "      <td>away</td>\n",
       "    </tr>\n",
       "    <tr>\n",
       "      <th>7</th>\n",
       "      <td>30.96</td>\n",
       "      <td>-13.80</td>\n",
       "      <td>62787</td>\n",
       "      <td>False</td>\n",
       "      <td>player</td>\n",
       "      <td>NaN</td>\n",
       "      <td>2626</td>\n",
       "      <td>00:04:12.60</td>\n",
       "      <td>1</td>\n",
       "      <td>NaN</td>\n",
       "      <td>NaN</td>\n",
       "      <td>away</td>\n",
       "    </tr>\n",
       "    <tr>\n",
       "      <th>8</th>\n",
       "      <td>19.63</td>\n",
       "      <td>-8.21</td>\n",
       "      <td>57095</td>\n",
       "      <td>False</td>\n",
       "      <td>player</td>\n",
       "      <td>NaN</td>\n",
       "      <td>2626</td>\n",
       "      <td>00:04:12.60</td>\n",
       "      <td>1</td>\n",
       "      <td>NaN</td>\n",
       "      <td>NaN</td>\n",
       "      <td>away</td>\n",
       "    </tr>\n",
       "    <tr>\n",
       "      <th>9</th>\n",
       "      <td>23.65</td>\n",
       "      <td>28.73</td>\n",
       "      <td>68683</td>\n",
       "      <td>True</td>\n",
       "      <td>player</td>\n",
       "      <td>NaN</td>\n",
       "      <td>2626</td>\n",
       "      <td>00:04:12.60</td>\n",
       "      <td>1</td>\n",
       "      <td>NaN</td>\n",
       "      <td>NaN</td>\n",
       "      <td>away</td>\n",
       "    </tr>\n",
       "    <tr>\n",
       "      <th>10</th>\n",
       "      <td>31.35</td>\n",
       "      <td>-0.84</td>\n",
       "      <td>62874</td>\n",
       "      <td>False</td>\n",
       "      <td>player</td>\n",
       "      <td>NaN</td>\n",
       "      <td>2626</td>\n",
       "      <td>00:04:12.60</td>\n",
       "      <td>1</td>\n",
       "      <td>NaN</td>\n",
       "      <td>NaN</td>\n",
       "      <td>away</td>\n",
       "    </tr>\n",
       "    <tr>\n",
       "      <th>11</th>\n",
       "      <td>44.94</td>\n",
       "      <td>1.71</td>\n",
       "      <td>22805</td>\n",
       "      <td>False</td>\n",
       "      <td>player</td>\n",
       "      <td>NaN</td>\n",
       "      <td>2626</td>\n",
       "      <td>00:04:12.60</td>\n",
       "      <td>1</td>\n",
       "      <td>NaN</td>\n",
       "      <td>NaN</td>\n",
       "      <td>home</td>\n",
       "    </tr>\n",
       "    <tr>\n",
       "      <th>12</th>\n",
       "      <td>30.37</td>\n",
       "      <td>9.60</td>\n",
       "      <td>22607</td>\n",
       "      <td>False</td>\n",
       "      <td>player</td>\n",
       "      <td>NaN</td>\n",
       "      <td>2626</td>\n",
       "      <td>00:04:12.60</td>\n",
       "      <td>1</td>\n",
       "      <td>NaN</td>\n",
       "      <td>NaN</td>\n",
       "      <td>home</td>\n",
       "    </tr>\n",
       "    <tr>\n",
       "      <th>13</th>\n",
       "      <td>24.26</td>\n",
       "      <td>24.31</td>\n",
       "      <td>22354</td>\n",
       "      <td>True</td>\n",
       "      <td>player</td>\n",
       "      <td>NaN</td>\n",
       "      <td>2626</td>\n",
       "      <td>00:04:12.60</td>\n",
       "      <td>1</td>\n",
       "      <td>NaN</td>\n",
       "      <td>NaN</td>\n",
       "      <td>home</td>\n",
       "    </tr>\n",
       "    <tr>\n",
       "      <th>14</th>\n",
       "      <td>28.83</td>\n",
       "      <td>-3.42</td>\n",
       "      <td>57093</td>\n",
       "      <td>False</td>\n",
       "      <td>player</td>\n",
       "      <td>NaN</td>\n",
       "      <td>2626</td>\n",
       "      <td>00:04:12.60</td>\n",
       "      <td>1</td>\n",
       "      <td>NaN</td>\n",
       "      <td>NaN</td>\n",
       "      <td>home</td>\n",
       "    </tr>\n",
       "    <tr>\n",
       "      <th>15</th>\n",
       "      <td>17.24</td>\n",
       "      <td>24.41</td>\n",
       "      <td>63556</td>\n",
       "      <td>True</td>\n",
       "      <td>player</td>\n",
       "      <td>NaN</td>\n",
       "      <td>2626</td>\n",
       "      <td>00:04:12.60</td>\n",
       "      <td>1</td>\n",
       "      <td>NaN</td>\n",
       "      <td>NaN</td>\n",
       "      <td>home</td>\n",
       "    </tr>\n",
       "    <tr>\n",
       "      <th>16</th>\n",
       "      <td>29.03</td>\n",
       "      <td>-10.28</td>\n",
       "      <td>57099</td>\n",
       "      <td>False</td>\n",
       "      <td>player</td>\n",
       "      <td>NaN</td>\n",
       "      <td>2626</td>\n",
       "      <td>00:04:12.60</td>\n",
       "      <td>1</td>\n",
       "      <td>NaN</td>\n",
       "      <td>NaN</td>\n",
       "      <td>home</td>\n",
       "    </tr>\n",
       "    <tr>\n",
       "      <th>17</th>\n",
       "      <td>21.74</td>\n",
       "      <td>-1.24</td>\n",
       "      <td>57094</td>\n",
       "      <td>True</td>\n",
       "      <td>player</td>\n",
       "      <td>NaN</td>\n",
       "      <td>2626</td>\n",
       "      <td>00:04:12.60</td>\n",
       "      <td>1</td>\n",
       "      <td>NaN</td>\n",
       "      <td>NaN</td>\n",
       "      <td>home</td>\n",
       "    </tr>\n",
       "    <tr>\n",
       "      <th>18</th>\n",
       "      <td>18.03</td>\n",
       "      <td>12.11</td>\n",
       "      <td>63800</td>\n",
       "      <td>True</td>\n",
       "      <td>player</td>\n",
       "      <td>NaN</td>\n",
       "      <td>2626</td>\n",
       "      <td>00:04:12.60</td>\n",
       "      <td>1</td>\n",
       "      <td>NaN</td>\n",
       "      <td>NaN</td>\n",
       "      <td>home</td>\n",
       "    </tr>\n",
       "    <tr>\n",
       "      <th>19</th>\n",
       "      <td>16.83</td>\n",
       "      <td>-6.71</td>\n",
       "      <td>22364</td>\n",
       "      <td>True</td>\n",
       "      <td>player</td>\n",
       "      <td>NaN</td>\n",
       "      <td>2626</td>\n",
       "      <td>00:04:12.60</td>\n",
       "      <td>1</td>\n",
       "      <td>NaN</td>\n",
       "      <td>NaN</td>\n",
       "      <td>home</td>\n",
       "    </tr>\n",
       "    <tr>\n",
       "      <th>20</th>\n",
       "      <td>10.37</td>\n",
       "      <td>9.65</td>\n",
       "      <td>146967</td>\n",
       "      <td>True</td>\n",
       "      <td>player</td>\n",
       "      <td>NaN</td>\n",
       "      <td>2626</td>\n",
       "      <td>00:04:12.60</td>\n",
       "      <td>1</td>\n",
       "      <td>NaN</td>\n",
       "      <td>NaN</td>\n",
       "      <td>home</td>\n",
       "    </tr>\n",
       "    <tr>\n",
       "      <th>21</th>\n",
       "      <td>-0.38</td>\n",
       "      <td>8.35</td>\n",
       "      <td>769835</td>\n",
       "      <td>False</td>\n",
       "      <td>player</td>\n",
       "      <td>NaN</td>\n",
       "      <td>2626</td>\n",
       "      <td>00:04:12.60</td>\n",
       "      <td>1</td>\n",
       "      <td>NaN</td>\n",
       "      <td>NaN</td>\n",
       "      <td>home</td>\n",
       "    </tr>\n",
       "    <tr>\n",
       "      <th>22</th>\n",
       "      <td>22.18</td>\n",
       "      <td>28.22</td>\n",
       "      <td>0</td>\n",
       "      <td>True</td>\n",
       "      <td>ball</td>\n",
       "      <td>0.1</td>\n",
       "      <td>2626</td>\n",
       "      <td>00:04:12.60</td>\n",
       "      <td>1</td>\n",
       "      <td>NaN</td>\n",
       "      <td>NaN</td>\n",
       "      <td>None</td>\n",
       "    </tr>\n",
       "  </tbody>\n",
       "</table>\n",
       "</div>"
      ],
      "text/plain": [
       "        x      y  player_id  is_detected  object    z  frame    timestamp  \\\n",
       "0  -29.53   2.17      52925        False  player  NaN   2626  00:04:12.60   \n",
       "1   -1.68  -6.99      64113        False  player  NaN   2626  00:04:12.60   \n",
       "2   -1.99   9.77      68737        False  player  NaN   2626  00:04:12.60   \n",
       "3   24.44 -14.22      64167        False  player  NaN   2626  00:04:12.60   \n",
       "4   12.13  28.13      68736         True  player  NaN   2626  00:04:12.60   \n",
       "5    9.45  -2.91      63782         True  player  NaN   2626  00:04:12.60   \n",
       "6    7.55  12.09      63774         True  player  NaN   2626  00:04:12.60   \n",
       "7   30.96 -13.80      62787        False  player  NaN   2626  00:04:12.60   \n",
       "8   19.63  -8.21      57095        False  player  NaN   2626  00:04:12.60   \n",
       "9   23.65  28.73      68683         True  player  NaN   2626  00:04:12.60   \n",
       "10  31.35  -0.84      62874        False  player  NaN   2626  00:04:12.60   \n",
       "11  44.94   1.71      22805        False  player  NaN   2626  00:04:12.60   \n",
       "12  30.37   9.60      22607        False  player  NaN   2626  00:04:12.60   \n",
       "13  24.26  24.31      22354         True  player  NaN   2626  00:04:12.60   \n",
       "14  28.83  -3.42      57093        False  player  NaN   2626  00:04:12.60   \n",
       "15  17.24  24.41      63556         True  player  NaN   2626  00:04:12.60   \n",
       "16  29.03 -10.28      57099        False  player  NaN   2626  00:04:12.60   \n",
       "17  21.74  -1.24      57094         True  player  NaN   2626  00:04:12.60   \n",
       "18  18.03  12.11      63800         True  player  NaN   2626  00:04:12.60   \n",
       "19  16.83  -6.71      22364         True  player  NaN   2626  00:04:12.60   \n",
       "20  10.37   9.65     146967         True  player  NaN   2626  00:04:12.60   \n",
       "21  -0.38   8.35     769835        False  player  NaN   2626  00:04:12.60   \n",
       "22  22.18  28.22          0         True    ball  0.1   2626  00:04:12.60   \n",
       "\n",
       "    period possession  image_corners_projection  team  \n",
       "0        1        NaN                       NaN  away  \n",
       "1        1        NaN                       NaN  away  \n",
       "2        1        NaN                       NaN  away  \n",
       "3        1        NaN                       NaN  away  \n",
       "4        1        NaN                       NaN  away  \n",
       "5        1        NaN                       NaN  away  \n",
       "6        1        NaN                       NaN  away  \n",
       "7        1        NaN                       NaN  away  \n",
       "8        1        NaN                       NaN  away  \n",
       "9        1        NaN                       NaN  away  \n",
       "10       1        NaN                       NaN  away  \n",
       "11       1        NaN                       NaN  home  \n",
       "12       1        NaN                       NaN  home  \n",
       "13       1        NaN                       NaN  home  \n",
       "14       1        NaN                       NaN  home  \n",
       "15       1        NaN                       NaN  home  \n",
       "16       1        NaN                       NaN  home  \n",
       "17       1        NaN                       NaN  home  \n",
       "18       1        NaN                       NaN  home  \n",
       "19       1        NaN                       NaN  home  \n",
       "20       1        NaN                       NaN  home  \n",
       "21       1        NaN                       NaN  home  \n",
       "22       1        NaN                       NaN  None  "
      ]
     },
     "execution_count": 27,
     "metadata": {},
     "output_type": "execute_result"
    }
   ],
   "source": [
    "expanded_df"
   ]
  },
  {
   "cell_type": "code",
   "execution_count": 40,
   "id": "9a8b26e5-9c1b-4c29-ba24-95ee2b9f7681",
   "metadata": {},
   "outputs": [],
   "source": [
    "recipient_df = expanded_df[expanded_df['player_id'] == recipient_id]\n",
    "recipient_xy = recipient_df[['x', 'y']].to_numpy()[0]\n",
    "defending_df = expanded_df[expanded_df['team'] != recipient_team]\n",
    "defending_xy = defending_df[['x', 'y']].to_numpy()"
   ]
  },
  {
   "cell_type": "code",
   "execution_count": 42,
   "id": "73c51dd0-3977-45c6-8c2c-fd6374a55488",
   "metadata": {},
   "outputs": [],
   "source": [
    "factor_x = 1 if recipient_xy[0] > 0 else -1\n",
    "factor_y = 1 if recipient_xy[1] > 0 else -1"
   ]
  },
  {
   "cell_type": "code",
   "execution_count": 53,
   "id": "6982e0d4-ebcd-46fa-94de-b096f67c4021",
   "metadata": {},
   "outputs": [],
   "source": [
    "boundary_points = np.array(\n",
    "    [[recipient_xy[0], pitch_width/2*factor_y+(pitch_width/2*factor_y-recipient_xy[1])], \n",
    "     [recipient_xy[0], recipient_xy[1] - 15*factor_y],\n",
    "     [pitch_length/2*factor_x+(pitch_length/2*factor_x-recipient_xy[1]), recipient_xy[1]],\n",
    "     [recipient_xy[0] - 15, recipient_xy[1]], \n",
    "     [recipient_xy[0] + 15, recipient_xy[1]]]) "
   ]
  },
  {
   "cell_type": "code",
   "execution_count": 56,
   "id": "c1611d1d-8c7d-476b-8aaa-83d37a6cf6d9",
   "metadata": {},
   "outputs": [],
   "source": [
    "points = np.vstack([recipient_xy, defending_xy, boundary_points])"
   ]
  },
  {
   "cell_type": "code",
   "execution_count": 62,
   "id": "a2324e14-5776-475f-89ae-4cbc288a04e7",
   "metadata": {},
   "outputs": [],
   "source": [
    "points_nbs = get_neighbors(points, recipient_xy)\n",
    "vertices = get_vertices(points_nbs, recipient_xy)"
   ]
  },
  {
   "cell_type": "code",
   "execution_count": 69,
   "id": "f5679054-b0bd-4010-abbd-8f66cbed1895",
   "metadata": {},
   "outputs": [],
   "source": [
    "area_left, area_right, vertices_left, vertices_right = get_areas(vertices, recipient_xy) \n",
    "log_area_left = np.log(area_left+1)\n",
    "SoF = log_area_left + area_right"
   ]
  },
  {
   "cell_type": "code",
   "execution_count": 72,
   "id": "52a2ef8b-0723-404f-9a6c-d2338fff55d6",
   "metadata": {},
   "outputs": [],
   "source": [
    "hull_points = np.array([p for i, p in enumerate(points_nbs) if \n",
    "              not np.any((p == boundary_points).all(axis = 1))])"
   ]
  },
  {
   "cell_type": "code",
   "execution_count": 92,
   "id": "dc4d7e5a-9dfc-42a6-ba79-b1cbe25701a2",
   "metadata": {},
   "outputs": [
    {
     "data": {
      "application/vnd.plotly.v1+json": {
       "config": {
        "plotlyServerURL": "https://plot.ly"
       },
       "data": [
        {
         "line": {
          "color": "grey",
          "width": 0.5
         },
         "mode": "lines",
         "showlegend": false,
         "type": "scatter",
         "x": [
          21.171632653061216,
          31.15
         ],
         "y": [
          33.5,
          33.5
         ]
        },
        {
         "line": {
          "color": "grey",
          "width": 0.5
         },
         "mode": "lines",
         "showlegend": false,
         "type": "scatter",
         "x": [
          21.171632653061216,
          23.60979400749064
         ],
         "y": [
          33.5,
          26.472358448997575
         ]
        },
        {
         "line": {
          "color": "grey",
          "width": 0.5
         },
         "mode": "lines",
         "showlegend": false,
         "type": "scatter",
         "x": [
          31.15,
          31.15
         ],
         "y": [
          33.5,
          27.512975113122177
         ]
        },
        {
         "line": {
          "color": "grey",
          "width": 0.5
         },
         "mode": "lines",
         "showlegend": false,
         "type": "scatter",
         "x": [
          23.60979400749064,
          31.15
         ],
         "y": [
          26.472358448997575,
          27.512975113122177
         ]
        },
        {
         "line": {
          "color": "grey",
          "dash": "dot",
          "width": 0.5
         },
         "mode": "lines",
         "name": "Convex Hull",
         "showlegend": false,
         "type": "scatter",
         "x": [
          24.26,
          22.18
         ],
         "y": [
          24.31,
          28.22
         ]
        },
        {
         "line": {
          "color": "grey",
          "dash": "dot",
          "width": 0.5
         },
         "mode": "lines",
         "name": "Convex Hull",
         "showlegend": false,
         "type": "scatter",
         "x": [
          23.65,
          22.18
         ],
         "y": [
          28.73,
          28.22
         ]
        },
        {
         "line": {
          "color": "grey",
          "dash": "dot",
          "width": 0.5
         },
         "mode": "lines",
         "name": "Convex Hull",
         "showlegend": false,
         "type": "scatter",
         "x": [
          23.65,
          24.26
         ],
         "y": [
          28.73,
          24.31
         ]
        },
        {
         "fill": "toself",
         "fillcolor": "grey",
         "mode": "none",
         "opacity": 0.5,
         "showlegend": false,
         "type": "scatter",
         "x": [
          23.65,
          31.15,
          31.15,
          23.65,
          23.65
         ],
         "y": [
          26.477907239819004,
          27.512975113122177,
          33.5,
          33.5,
          26.477907239819004
         ]
        },
        {
         "fill": "toself",
         "fillcolor": "grey",
         "mode": "none",
         "opacity": 0.2,
         "showlegend": false,
         "type": "scatter",
         "x": [
          23.60979400749064,
          23.65,
          23.65,
          21.171632653061216,
          23.60979400749064
         ],
         "y": [
          26.472358448997575,
          26.477907239819004,
          33.5,
          33.5,
          26.472358448997575
         ]
        },
        {
         "marker": {
          "color": "darkblue",
          "size": 10
         },
         "mode": "markers",
         "name": "Defenders",
         "type": "scatter",
         "x": [
          24.26,
          22.18
         ],
         "y": [
          24.31,
          28.22
         ]
        },
        {
         "marker": {
          "color": "sienna",
          "size": 10
         },
         "mode": "markers",
         "name": "Recipient",
         "type": "scatter",
         "x": [
          23.65
         ],
         "y": [
          28.73
         ]
        }
       ],
       "layout": {
        "dragmode": false,
        "height": 400,
        "legend": {
         "font": {
          "size": 13
         },
         "x": 0.9,
         "y": 1
        },
        "margin": {
         "b": 0,
         "r": 2,
         "t": 4
        },
        "plot_bgcolor": "white",
        "showlegend": true,
        "template": {
         "data": {
          "bar": [
           {
            "error_x": {
             "color": "#2a3f5f"
            },
            "error_y": {
             "color": "#2a3f5f"
            },
            "marker": {
             "line": {
              "color": "#E5ECF6",
              "width": 0.5
             },
             "pattern": {
              "fillmode": "overlay",
              "size": 10,
              "solidity": 0.2
             }
            },
            "type": "bar"
           }
          ],
          "barpolar": [
           {
            "marker": {
             "line": {
              "color": "#E5ECF6",
              "width": 0.5
             },
             "pattern": {
              "fillmode": "overlay",
              "size": 10,
              "solidity": 0.2
             }
            },
            "type": "barpolar"
           }
          ],
          "carpet": [
           {
            "aaxis": {
             "endlinecolor": "#2a3f5f",
             "gridcolor": "white",
             "linecolor": "white",
             "minorgridcolor": "white",
             "startlinecolor": "#2a3f5f"
            },
            "baxis": {
             "endlinecolor": "#2a3f5f",
             "gridcolor": "white",
             "linecolor": "white",
             "minorgridcolor": "white",
             "startlinecolor": "#2a3f5f"
            },
            "type": "carpet"
           }
          ],
          "choropleth": [
           {
            "colorbar": {
             "outlinewidth": 0,
             "ticks": ""
            },
            "type": "choropleth"
           }
          ],
          "contour": [
           {
            "colorbar": {
             "outlinewidth": 0,
             "ticks": ""
            },
            "colorscale": [
             [
              0,
              "#0d0887"
             ],
             [
              0.1111111111111111,
              "#46039f"
             ],
             [
              0.2222222222222222,
              "#7201a8"
             ],
             [
              0.3333333333333333,
              "#9c179e"
             ],
             [
              0.4444444444444444,
              "#bd3786"
             ],
             [
              0.5555555555555556,
              "#d8576b"
             ],
             [
              0.6666666666666666,
              "#ed7953"
             ],
             [
              0.7777777777777778,
              "#fb9f3a"
             ],
             [
              0.8888888888888888,
              "#fdca26"
             ],
             [
              1,
              "#f0f921"
             ]
            ],
            "type": "contour"
           }
          ],
          "contourcarpet": [
           {
            "colorbar": {
             "outlinewidth": 0,
             "ticks": ""
            },
            "type": "contourcarpet"
           }
          ],
          "heatmap": [
           {
            "colorbar": {
             "outlinewidth": 0,
             "ticks": ""
            },
            "colorscale": [
             [
              0,
              "#0d0887"
             ],
             [
              0.1111111111111111,
              "#46039f"
             ],
             [
              0.2222222222222222,
              "#7201a8"
             ],
             [
              0.3333333333333333,
              "#9c179e"
             ],
             [
              0.4444444444444444,
              "#bd3786"
             ],
             [
              0.5555555555555556,
              "#d8576b"
             ],
             [
              0.6666666666666666,
              "#ed7953"
             ],
             [
              0.7777777777777778,
              "#fb9f3a"
             ],
             [
              0.8888888888888888,
              "#fdca26"
             ],
             [
              1,
              "#f0f921"
             ]
            ],
            "type": "heatmap"
           }
          ],
          "heatmapgl": [
           {
            "colorbar": {
             "outlinewidth": 0,
             "ticks": ""
            },
            "colorscale": [
             [
              0,
              "#0d0887"
             ],
             [
              0.1111111111111111,
              "#46039f"
             ],
             [
              0.2222222222222222,
              "#7201a8"
             ],
             [
              0.3333333333333333,
              "#9c179e"
             ],
             [
              0.4444444444444444,
              "#bd3786"
             ],
             [
              0.5555555555555556,
              "#d8576b"
             ],
             [
              0.6666666666666666,
              "#ed7953"
             ],
             [
              0.7777777777777778,
              "#fb9f3a"
             ],
             [
              0.8888888888888888,
              "#fdca26"
             ],
             [
              1,
              "#f0f921"
             ]
            ],
            "type": "heatmapgl"
           }
          ],
          "histogram": [
           {
            "marker": {
             "pattern": {
              "fillmode": "overlay",
              "size": 10,
              "solidity": 0.2
             }
            },
            "type": "histogram"
           }
          ],
          "histogram2d": [
           {
            "colorbar": {
             "outlinewidth": 0,
             "ticks": ""
            },
            "colorscale": [
             [
              0,
              "#0d0887"
             ],
             [
              0.1111111111111111,
              "#46039f"
             ],
             [
              0.2222222222222222,
              "#7201a8"
             ],
             [
              0.3333333333333333,
              "#9c179e"
             ],
             [
              0.4444444444444444,
              "#bd3786"
             ],
             [
              0.5555555555555556,
              "#d8576b"
             ],
             [
              0.6666666666666666,
              "#ed7953"
             ],
             [
              0.7777777777777778,
              "#fb9f3a"
             ],
             [
              0.8888888888888888,
              "#fdca26"
             ],
             [
              1,
              "#f0f921"
             ]
            ],
            "type": "histogram2d"
           }
          ],
          "histogram2dcontour": [
           {
            "colorbar": {
             "outlinewidth": 0,
             "ticks": ""
            },
            "colorscale": [
             [
              0,
              "#0d0887"
             ],
             [
              0.1111111111111111,
              "#46039f"
             ],
             [
              0.2222222222222222,
              "#7201a8"
             ],
             [
              0.3333333333333333,
              "#9c179e"
             ],
             [
              0.4444444444444444,
              "#bd3786"
             ],
             [
              0.5555555555555556,
              "#d8576b"
             ],
             [
              0.6666666666666666,
              "#ed7953"
             ],
             [
              0.7777777777777778,
              "#fb9f3a"
             ],
             [
              0.8888888888888888,
              "#fdca26"
             ],
             [
              1,
              "#f0f921"
             ]
            ],
            "type": "histogram2dcontour"
           }
          ],
          "mesh3d": [
           {
            "colorbar": {
             "outlinewidth": 0,
             "ticks": ""
            },
            "type": "mesh3d"
           }
          ],
          "parcoords": [
           {
            "line": {
             "colorbar": {
              "outlinewidth": 0,
              "ticks": ""
             }
            },
            "type": "parcoords"
           }
          ],
          "pie": [
           {
            "automargin": true,
            "type": "pie"
           }
          ],
          "scatter": [
           {
            "fillpattern": {
             "fillmode": "overlay",
             "size": 10,
             "solidity": 0.2
            },
            "type": "scatter"
           }
          ],
          "scatter3d": [
           {
            "line": {
             "colorbar": {
              "outlinewidth": 0,
              "ticks": ""
             }
            },
            "marker": {
             "colorbar": {
              "outlinewidth": 0,
              "ticks": ""
             }
            },
            "type": "scatter3d"
           }
          ],
          "scattercarpet": [
           {
            "marker": {
             "colorbar": {
              "outlinewidth": 0,
              "ticks": ""
             }
            },
            "type": "scattercarpet"
           }
          ],
          "scattergeo": [
           {
            "marker": {
             "colorbar": {
              "outlinewidth": 0,
              "ticks": ""
             }
            },
            "type": "scattergeo"
           }
          ],
          "scattergl": [
           {
            "marker": {
             "colorbar": {
              "outlinewidth": 0,
              "ticks": ""
             }
            },
            "type": "scattergl"
           }
          ],
          "scattermapbox": [
           {
            "marker": {
             "colorbar": {
              "outlinewidth": 0,
              "ticks": ""
             }
            },
            "type": "scattermapbox"
           }
          ],
          "scatterpolar": [
           {
            "marker": {
             "colorbar": {
              "outlinewidth": 0,
              "ticks": ""
             }
            },
            "type": "scatterpolar"
           }
          ],
          "scatterpolargl": [
           {
            "marker": {
             "colorbar": {
              "outlinewidth": 0,
              "ticks": ""
             }
            },
            "type": "scatterpolargl"
           }
          ],
          "scatterternary": [
           {
            "marker": {
             "colorbar": {
              "outlinewidth": 0,
              "ticks": ""
             }
            },
            "type": "scatterternary"
           }
          ],
          "surface": [
           {
            "colorbar": {
             "outlinewidth": 0,
             "ticks": ""
            },
            "colorscale": [
             [
              0,
              "#0d0887"
             ],
             [
              0.1111111111111111,
              "#46039f"
             ],
             [
              0.2222222222222222,
              "#7201a8"
             ],
             [
              0.3333333333333333,
              "#9c179e"
             ],
             [
              0.4444444444444444,
              "#bd3786"
             ],
             [
              0.5555555555555556,
              "#d8576b"
             ],
             [
              0.6666666666666666,
              "#ed7953"
             ],
             [
              0.7777777777777778,
              "#fb9f3a"
             ],
             [
              0.8888888888888888,
              "#fdca26"
             ],
             [
              1,
              "#f0f921"
             ]
            ],
            "type": "surface"
           }
          ],
          "table": [
           {
            "cells": {
             "fill": {
              "color": "#EBF0F8"
             },
             "line": {
              "color": "white"
             }
            },
            "header": {
             "fill": {
              "color": "#C8D4E3"
             },
             "line": {
              "color": "white"
             }
            },
            "type": "table"
           }
          ]
         },
         "layout": {
          "annotationdefaults": {
           "arrowcolor": "#2a3f5f",
           "arrowhead": 0,
           "arrowwidth": 1
          },
          "autotypenumbers": "strict",
          "coloraxis": {
           "colorbar": {
            "outlinewidth": 0,
            "ticks": ""
           }
          },
          "colorscale": {
           "diverging": [
            [
             0,
             "#8e0152"
            ],
            [
             0.1,
             "#c51b7d"
            ],
            [
             0.2,
             "#de77ae"
            ],
            [
             0.3,
             "#f1b6da"
            ],
            [
             0.4,
             "#fde0ef"
            ],
            [
             0.5,
             "#f7f7f7"
            ],
            [
             0.6,
             "#e6f5d0"
            ],
            [
             0.7,
             "#b8e186"
            ],
            [
             0.8,
             "#7fbc41"
            ],
            [
             0.9,
             "#4d9221"
            ],
            [
             1,
             "#276419"
            ]
           ],
           "sequential": [
            [
             0,
             "#0d0887"
            ],
            [
             0.1111111111111111,
             "#46039f"
            ],
            [
             0.2222222222222222,
             "#7201a8"
            ],
            [
             0.3333333333333333,
             "#9c179e"
            ],
            [
             0.4444444444444444,
             "#bd3786"
            ],
            [
             0.5555555555555556,
             "#d8576b"
            ],
            [
             0.6666666666666666,
             "#ed7953"
            ],
            [
             0.7777777777777778,
             "#fb9f3a"
            ],
            [
             0.8888888888888888,
             "#fdca26"
            ],
            [
             1,
             "#f0f921"
            ]
           ],
           "sequentialminus": [
            [
             0,
             "#0d0887"
            ],
            [
             0.1111111111111111,
             "#46039f"
            ],
            [
             0.2222222222222222,
             "#7201a8"
            ],
            [
             0.3333333333333333,
             "#9c179e"
            ],
            [
             0.4444444444444444,
             "#bd3786"
            ],
            [
             0.5555555555555556,
             "#d8576b"
            ],
            [
             0.6666666666666666,
             "#ed7953"
            ],
            [
             0.7777777777777778,
             "#fb9f3a"
            ],
            [
             0.8888888888888888,
             "#fdca26"
            ],
            [
             1,
             "#f0f921"
            ]
           ]
          },
          "colorway": [
           "#636efa",
           "#EF553B",
           "#00cc96",
           "#ab63fa",
           "#FFA15A",
           "#19d3f3",
           "#FF6692",
           "#B6E880",
           "#FF97FF",
           "#FECB52"
          ],
          "font": {
           "color": "#2a3f5f"
          },
          "geo": {
           "bgcolor": "white",
           "lakecolor": "white",
           "landcolor": "#E5ECF6",
           "showlakes": true,
           "showland": true,
           "subunitcolor": "white"
          },
          "hoverlabel": {
           "align": "left"
          },
          "hovermode": "closest",
          "mapbox": {
           "style": "light"
          },
          "paper_bgcolor": "white",
          "plot_bgcolor": "#E5ECF6",
          "polar": {
           "angularaxis": {
            "gridcolor": "white",
            "linecolor": "white",
            "ticks": ""
           },
           "bgcolor": "#E5ECF6",
           "radialaxis": {
            "gridcolor": "white",
            "linecolor": "white",
            "ticks": ""
           }
          },
          "scene": {
           "xaxis": {
            "backgroundcolor": "#E5ECF6",
            "gridcolor": "white",
            "gridwidth": 2,
            "linecolor": "white",
            "showbackground": true,
            "ticks": "",
            "zerolinecolor": "white"
           },
           "yaxis": {
            "backgroundcolor": "#E5ECF6",
            "gridcolor": "white",
            "gridwidth": 2,
            "linecolor": "white",
            "showbackground": true,
            "ticks": "",
            "zerolinecolor": "white"
           },
           "zaxis": {
            "backgroundcolor": "#E5ECF6",
            "gridcolor": "white",
            "gridwidth": 2,
            "linecolor": "white",
            "showbackground": true,
            "ticks": "",
            "zerolinecolor": "white"
           }
          },
          "shapedefaults": {
           "line": {
            "color": "#2a3f5f"
           }
          },
          "ternary": {
           "aaxis": {
            "gridcolor": "white",
            "linecolor": "white",
            "ticks": ""
           },
           "baxis": {
            "gridcolor": "white",
            "linecolor": "white",
            "ticks": ""
           },
           "bgcolor": "#E5ECF6",
           "caxis": {
            "gridcolor": "white",
            "linecolor": "white",
            "ticks": ""
           }
          },
          "title": {
           "x": 0.05
          },
          "xaxis": {
           "automargin": true,
           "gridcolor": "white",
           "linecolor": "white",
           "ticks": "",
           "title": {
            "standoff": 15
           },
           "zerolinecolor": "white",
           "zerolinewidth": 2
          },
          "yaxis": {
           "automargin": true,
           "gridcolor": "white",
           "linecolor": "white",
           "ticks": "",
           "title": {
            "standoff": 15
           },
           "zerolinecolor": "white",
           "zerolinewidth": 2
          }
         }
        },
        "width": 500,
        "xaxis": {
         "range": [
          20.171632653061216,
          33.15
         ],
         "showgrid": false,
         "showticklabels": false
        },
        "yaxis": {
         "range": [
          21.31,
          34.5
         ],
         "scaleanchor": "x",
         "scaleratio": 1,
         "showgrid": false,
         "showticklabels": false
        }
       }
      },
      "image/png": "[encoded data removed]",
      "text/html": [
       "<div>                            <div id=\"2b328346-1b7e-42ab-9d8e-0f401f2a5f5e\" class=\"plotly-graph-div\" style=\"height:400px; width:500px;\"></div>            <script type=\"text/javascript\">                require([\"plotly\"], function(Plotly) {                    window.PLOTLYENV=window.PLOTLYENV || {};                                    if (document.getElementById(\"2b328346-1b7e-42ab-9d8e-0f401f2a5f5e\")) {                    Plotly.newPlot(                        \"2b328346-1b7e-42ab-9d8e-0f401f2a5f5e\",                        [{\"line\":{\"color\":\"grey\",\"width\":0.5},\"mode\":\"lines\",\"showlegend\":false,\"x\":[21.171632653061216,31.15],\"y\":[33.5,33.5],\"type\":\"scatter\"},{\"line\":{\"color\":\"grey\",\"width\":0.5},\"mode\":\"lines\",\"showlegend\":false,\"x\":[21.171632653061216,23.60979400749064],\"y\":[33.5,26.472358448997575],\"type\":\"scatter\"},{\"line\":{\"color\":\"grey\",\"width\":0.5},\"mode\":\"lines\",\"showlegend\":false,\"x\":[31.15,31.15],\"y\":[33.5,27.512975113122177],\"type\":\"scatter\"},{\"line\":{\"color\":\"grey\",\"width\":0.5},\"mode\":\"lines\",\"showlegend\":false,\"x\":[23.60979400749064,31.15],\"y\":[26.472358448997575,27.512975113122177],\"type\":\"scatter\"},{\"line\":{\"color\":\"grey\",\"dash\":\"dot\",\"width\":0.5},\"mode\":\"lines\",\"name\":\"Convex Hull\",\"showlegend\":false,\"x\":[24.26,22.18],\"y\":[24.31,28.22],\"type\":\"scatter\"},{\"line\":{\"color\":\"grey\",\"dash\":\"dot\",\"width\":0.5},\"mode\":\"lines\",\"name\":\"Convex Hull\",\"showlegend\":false,\"x\":[23.65,22.18],\"y\":[28.73,28.22],\"type\":\"scatter\"},{\"line\":{\"color\":\"grey\",\"dash\":\"dot\",\"width\":0.5},\"mode\":\"lines\",\"name\":\"Convex Hull\",\"showlegend\":false,\"x\":[23.65,24.26],\"y\":[28.73,24.31],\"type\":\"scatter\"},{\"fill\":\"toself\",\"fillcolor\":\"grey\",\"mode\":\"none\",\"opacity\":0.5,\"showlegend\":false,\"x\":[23.65,31.15,31.15,23.65,23.65],\"y\":[26.477907239819004,27.512975113122177,33.5,33.5,26.477907239819004],\"type\":\"scatter\"},{\"fill\":\"toself\",\"fillcolor\":\"grey\",\"mode\":\"none\",\"opacity\":0.2,\"showlegend\":false,\"x\":[23.60979400749064,23.65,23.65,21.171632653061216,23.60979400749064],\"y\":[26.472358448997575,26.477907239819004,33.5,33.5,26.472358448997575],\"type\":\"scatter\"},{\"marker\":{\"color\":\"darkblue\",\"size\":10},\"mode\":\"markers\",\"name\":\"Defenders\",\"x\":[24.26,22.18],\"y\":[24.31,28.22],\"type\":\"scatter\"},{\"marker\":{\"color\":\"sienna\",\"size\":10},\"mode\":\"markers\",\"name\":\"Recipient\",\"x\":[23.65],\"y\":[28.73],\"type\":\"scatter\"}],                        {\"template\":{\"data\":{\"histogram2dcontour\":[{\"type\":\"histogram2dcontour\",\"colorbar\":{\"outlinewidth\":0,\"ticks\":\"\"},\"colorscale\":[[0.0,\"#0d0887\"],[0.1111111111111111,\"#46039f\"],[0.2222222222222222,\"#7201a8\"],[0.3333333333333333,\"#9c179e\"],[0.4444444444444444,\"#bd3786\"],[0.5555555555555556,\"#d8576b\"],[0.6666666666666666,\"#ed7953\"],[0.7777777777777778,\"#fb9f3a\"],[0.8888888888888888,\"#fdca26\"],[1.0,\"#f0f921\"]]}],\"choropleth\":[{\"type\":\"choropleth\",\"colorbar\":{\"outlinewidth\":0,\"ticks\":\"\"}}],\"histogram2d\":[{\"type\":\"histogram2d\",\"colorbar\":{\"outlinewidth\":0,\"ticks\":\"\"},\"colorscale\":[[0.0,\"#0d0887\"],[0.1111111111111111,\"#46039f\"],[0.2222222222222222,\"#7201a8\"],[0.3333333333333333,\"#9c179e\"],[0.4444444444444444,\"#bd3786\"],[0.5555555555555556,\"#d8576b\"],[0.6666666666666666,\"#ed7953\"],[0.7777777777777778,\"#fb9f3a\"],[0.8888888888888888,\"#fdca26\"],[1.0,\"#f0f921\"]]}],\"heatmap\":[{\"type\":\"heatmap\",\"colorbar\":{\"outlinewidth\":0,\"ticks\":\"\"},\"colorscale\":[[0.0,\"#0d0887\"],[0.1111111111111111,\"#46039f\"],[0.2222222222222222,\"#7201a8\"],[0.3333333333333333,\"#9c179e\"],[0.4444444444444444,\"#bd3786\"],[0.5555555555555556,\"#d8576b\"],[0.6666666666666666,\"#ed7953\"],[0.7777777777777778,\"#fb9f3a\"],[0.8888888888888888,\"#fdca26\"],[1.0,\"#f0f921\"]]}],\"heatmapgl\":[{\"type\":\"heatmapgl\",\"colorbar\":{\"outlinewidth\":0,\"ticks\":\"\"},\"colorscale\":[[0.0,\"#0d0887\"],[0.1111111111111111,\"#46039f\"],[0.2222222222222222,\"#7201a8\"],[0.3333333333333333,\"#9c179e\"],[0.4444444444444444,\"#bd3786\"],[0.5555555555555556,\"#d8576b\"],[0.6666666666666666,\"#ed7953\"],[0.7777777777777778,\"#fb9f3a\"],[0.8888888888888888,\"#fdca26\"],[1.0,\"#f0f921\"]]}],\"contourcarpet\":[{\"type\":\"contourcarpet\",\"colorbar\":{\"outlinewidth\":0,\"ticks\":\"\"}}],\"contour\":[{\"type\":\"contour\",\"colorbar\":{\"outlinewidth\":0,\"ticks\":\"\"},\"colorscale\":[[0.0,\"#0d0887\"],[0.1111111111111111,\"#46039f\"],[0.2222222222222222,\"#7201a8\"],[0.3333333333333333,\"#9c179e\"],[0.4444444444444444,\"#bd3786\"],[0.5555555555555556,\"#d8576b\"],[0.6666666666666666,\"#ed7953\"],[0.7777777777777778,\"#fb9f3a\"],[0.8888888888888888,\"#fdca26\"],[1.0,\"#f0f921\"]]}],\"surface\":[{\"type\":\"surface\",\"colorbar\":{\"outlinewidth\":0,\"ticks\":\"\"},\"colorscale\":[[0.0,\"#0d0887\"],[0.1111111111111111,\"#46039f\"],[0.2222222222222222,\"#7201a8\"],[0.3333333333333333,\"#9c179e\"],[0.4444444444444444,\"#bd3786\"],[0.5555555555555556,\"#d8576b\"],[0.6666666666666666,\"#ed7953\"],[0.7777777777777778,\"#fb9f3a\"],[0.8888888888888888,\"#fdca26\"],[1.0,\"#f0f921\"]]}],\"mesh3d\":[{\"type\":\"mesh3d\",\"colorbar\":{\"outlinewidth\":0,\"ticks\":\"\"}}],\"scatter\":[{\"fillpattern\":{\"fillmode\":\"overlay\",\"size\":10,\"solidity\":0.2},\"type\":\"scatter\"}],\"parcoords\":[{\"type\":\"parcoords\",\"line\":{\"colorbar\":{\"outlinewidth\":0,\"ticks\":\"\"}}}],\"scatterpolargl\":[{\"type\":\"scatterpolargl\",\"marker\":{\"colorbar\":{\"outlinewidth\":0,\"ticks\":\"\"}}}],\"bar\":[{\"error_x\":{\"color\":\"#2a3f5f\"},\"error_y\":{\"color\":\"#2a3f5f\"},\"marker\":{\"line\":{\"color\":\"#E5ECF6\",\"width\":0.5},\"pattern\":{\"fillmode\":\"overlay\",\"size\":10,\"solidity\":0.2}},\"type\":\"bar\"}],\"scattergeo\":[{\"type\":\"scattergeo\",\"marker\":{\"colorbar\":{\"outlinewidth\":0,\"ticks\":\"\"}}}],\"scatterpolar\":[{\"type\":\"scatterpolar\",\"marker\":{\"colorbar\":{\"outlinewidth\":0,\"ticks\":\"\"}}}],\"histogram\":[{\"marker\":{\"pattern\":{\"fillmode\":\"overlay\",\"size\":10,\"solidity\":0.2}},\"type\":\"histogram\"}],\"scattergl\":[{\"type\":\"scattergl\",\"marker\":{\"colorbar\":{\"outlinewidth\":0,\"ticks\":\"\"}}}],\"scatter3d\":[{\"type\":\"scatter3d\",\"line\":{\"colorbar\":{\"outlinewidth\":0,\"ticks\":\"\"}},\"marker\":{\"colorbar\":{\"outlinewidth\":0,\"ticks\":\"\"}}}],\"scattermapbox\":[{\"type\":\"scattermapbox\",\"marker\":{\"colorbar\":{\"outlinewidth\":0,\"ticks\":\"\"}}}],\"scatterternary\":[{\"type\":\"scatterternary\",\"marker\":{\"colorbar\":{\"outlinewidth\":0,\"ticks\":\"\"}}}],\"scattercarpet\":[{\"type\":\"scattercarpet\",\"marker\":{\"colorbar\":{\"outlinewidth\":0,\"ticks\":\"\"}}}],\"carpet\":[{\"aaxis\":{\"endlinecolor\":\"#2a3f5f\",\"gridcolor\":\"white\",\"linecolor\":\"white\",\"minorgridcolor\":\"white\",\"startlinecolor\":\"#2a3f5f\"},\"baxis\":{\"endlinecolor\":\"#2a3f5f\",\"gridcolor\":\"white\",\"linecolor\":\"white\",\"minorgridcolor\":\"white\",\"startlinecolor\":\"#2a3f5f\"},\"type\":\"carpet\"}],\"table\":[{\"cells\":{\"fill\":{\"color\":\"#EBF0F8\"},\"line\":{\"color\":\"white\"}},\"header\":{\"fill\":{\"color\":\"#C8D4E3\"},\"line\":{\"color\":\"white\"}},\"type\":\"table\"}],\"barpolar\":[{\"marker\":{\"line\":{\"color\":\"#E5ECF6\",\"width\":0.5},\"pattern\":{\"fillmode\":\"overlay\",\"size\":10,\"solidity\":0.2}},\"type\":\"barpolar\"}],\"pie\":[{\"automargin\":true,\"type\":\"pie\"}]},\"layout\":{\"autotypenumbers\":\"strict\",\"colorway\":[\"#636efa\",\"#EF553B\",\"#00cc96\",\"#ab63fa\",\"#FFA15A\",\"#19d3f3\",\"#FF6692\",\"#B6E880\",\"#FF97FF\",\"#FECB52\"],\"font\":{\"color\":\"#2a3f5f\"},\"hovermode\":\"closest\",\"hoverlabel\":{\"align\":\"left\"},\"paper_bgcolor\":\"white\",\"plot_bgcolor\":\"#E5ECF6\",\"polar\":{\"bgcolor\":\"#E5ECF6\",\"angularaxis\":{\"gridcolor\":\"white\",\"linecolor\":\"white\",\"ticks\":\"\"},\"radialaxis\":{\"gridcolor\":\"white\",\"linecolor\":\"white\",\"ticks\":\"\"}},\"ternary\":{\"bgcolor\":\"#E5ECF6\",\"aaxis\":{\"gridcolor\":\"white\",\"linecolor\":\"white\",\"ticks\":\"\"},\"baxis\":{\"gridcolor\":\"white\",\"linecolor\":\"white\",\"ticks\":\"\"},\"caxis\":{\"gridcolor\":\"white\",\"linecolor\":\"white\",\"ticks\":\"\"}},\"coloraxis\":{\"colorbar\":{\"outlinewidth\":0,\"ticks\":\"\"}},\"colorscale\":{\"sequential\":[[0.0,\"#0d0887\"],[0.1111111111111111,\"#46039f\"],[0.2222222222222222,\"#7201a8\"],[0.3333333333333333,\"#9c179e\"],[0.4444444444444444,\"#bd3786\"],[0.5555555555555556,\"#d8576b\"],[0.6666666666666666,\"#ed7953\"],[0.7777777777777778,\"#fb9f3a\"],[0.8888888888888888,\"#fdca26\"],[1.0,\"#f0f921\"]],\"sequentialminus\":[[0.0,\"#0d0887\"],[0.1111111111111111,\"#46039f\"],[0.2222222222222222,\"#7201a8\"],[0.3333333333333333,\"#9c179e\"],[0.4444444444444444,\"#bd3786\"],[0.5555555555555556,\"#d8576b\"],[0.6666666666666666,\"#ed7953\"],[0.7777777777777778,\"#fb9f3a\"],[0.8888888888888888,\"#fdca26\"],[1.0,\"#f0f921\"]],\"diverging\":[[0,\"#8e0152\"],[0.1,\"#c51b7d\"],[0.2,\"#de77ae\"],[0.3,\"#f1b6da\"],[0.4,\"#fde0ef\"],[0.5,\"#f7f7f7\"],[0.6,\"#e6f5d0\"],[0.7,\"#b8e186\"],[0.8,\"#7fbc41\"],[0.9,\"#4d9221\"],[1,\"#276419\"]]},\"xaxis\":{\"gridcolor\":\"white\",\"linecolor\":\"white\",\"ticks\":\"\",\"title\":{\"standoff\":15},\"zerolinecolor\":\"white\",\"automargin\":true,\"zerolinewidth\":2},\"yaxis\":{\"gridcolor\":\"white\",\"linecolor\":\"white\",\"ticks\":\"\",\"title\":{\"standoff\":15},\"zerolinecolor\":\"white\",\"automargin\":true,\"zerolinewidth\":2},\"scene\":{\"xaxis\":{\"backgroundcolor\":\"#E5ECF6\",\"gridcolor\":\"white\",\"linecolor\":\"white\",\"showbackground\":true,\"ticks\":\"\",\"zerolinecolor\":\"white\",\"gridwidth\":2},\"yaxis\":{\"backgroundcolor\":\"#E5ECF6\",\"gridcolor\":\"white\",\"linecolor\":\"white\",\"showbackground\":true,\"ticks\":\"\",\"zerolinecolor\":\"white\",\"gridwidth\":2},\"zaxis\":{\"backgroundcolor\":\"#E5ECF6\",\"gridcolor\":\"white\",\"linecolor\":\"white\",\"showbackground\":true,\"ticks\":\"\",\"zerolinecolor\":\"white\",\"gridwidth\":2}},\"shapedefaults\":{\"line\":{\"color\":\"#2a3f5f\"}},\"annotationdefaults\":{\"arrowcolor\":\"#2a3f5f\",\"arrowhead\":0,\"arrowwidth\":1},\"geo\":{\"bgcolor\":\"white\",\"landcolor\":\"#E5ECF6\",\"subunitcolor\":\"white\",\"showland\":true,\"showlakes\":true,\"lakecolor\":\"white\"},\"title\":{\"x\":0.05},\"mapbox\":{\"style\":\"light\"}}},\"xaxis\":{\"range\":[20.171632653061216,33.15],\"showticklabels\":false,\"showgrid\":false},\"yaxis\":{\"range\":[21.31,34.5],\"showticklabels\":false,\"showgrid\":false,\"scaleanchor\":\"x\",\"scaleratio\":1},\"legend\":{\"font\":{\"size\":13},\"x\":0.9,\"y\":1},\"margin\":{\"t\":4,\"b\":0,\"r\":2},\"plot_bgcolor\":\"white\",\"showlegend\":true,\"dragmode\":false,\"width\":500,\"height\":400},                        {\"responsive\": true}                    ).then(function(){\n",
       "                            \n",
       "var gd = document.getElementById('2b328346-1b7e-42ab-9d8e-0f401f2a5f5e');\n",
       "var x = new MutationObserver(function (mutations, observer) {{\n",
       "        var display = window.getComputedStyle(gd).display;\n",
       "        if (!display || display === 'none') {{\n",
       "            console.log([gd, 'removed!']);\n",
       "            Plotly.purge(gd);\n",
       "            observer.disconnect();\n",
       "        }}\n",
       "}});\n",
       "\n",
       "// Listen for the removal of the full notebook cells\n",
       "var notebookContainer = gd.closest('#notebook-container');\n",
       "if (notebookContainer) {{\n",
       "    x.observe(notebookContainer, {childList: true});\n",
       "}}\n",
       "\n",
       "// Listen for the clearing of the current output cell\n",
       "var outputEl = gd.closest('.output');\n",
       "if (outputEl) {{\n",
       "    x.observe(outputEl, {childList: true});\n",
       "}}\n",
       "\n",
       "                        })                };                });            </script>        </div>"
      ]
     },
     "metadata": {},
     "output_type": "display_data"
    }
   ],
   "source": [
    "fig = plot_vor(points_nbs, hull_points, recipient_xy, boundary_points, vertices, \n",
    "         vertices_left, vertices_right)\n",
    "fig.show()"
   ]
  },
  {
   "cell_type": "code",
   "execution_count": 127,
   "id": "af25ba22-c5e6-4c9d-9b99-6c4612388f37",
   "metadata": {},
   "outputs": [
    {
     "data": {
      "text/html": [
       "<div>\n",
       "<style scoped>\n",
       "    .dataframe tbody tr th:only-of-type {\n",
       "        vertical-align: middle;\n",
       "    }\n",
       "\n",
       "    .dataframe tbody tr th {\n",
       "        vertical-align: top;\n",
       "    }\n",
       "\n",
       "    .dataframe thead th {\n",
       "        text-align: right;\n",
       "    }\n",
       "</style>\n",
       "<table border=\"1\" class=\"dataframe\">\n",
       "  <thead>\n",
       "    <tr style=\"text-align: right;\">\n",
       "      <th></th>\n",
       "      <th>sk_match_id</th>\n",
       "      <th>frame</th>\n",
       "      <th>minute</th>\n",
       "      <th>player_name</th>\n",
       "      <th>pass_recipient_name</th>\n",
       "      <th>pass_recipient_id</th>\n",
       "      <th>pass_recipient_position</th>\n",
       "      <th>sk_player_id</th>\n",
       "      <th>pass_angle</th>\n",
       "      <th>type_primary</th>\n",
       "      <th>type_secondary</th>\n",
       "      <th>location_x</th>\n",
       "      <th>location_y</th>\n",
       "      <th>pass_accurate</th>\n",
       "      <th>team_name</th>\n",
       "      <th>possession_team_name</th>\n",
       "      <th>possession_team_name_src</th>\n",
       "      <th>possession_types</th>\n",
       "      <th>period</th>\n",
       "      <th>receive_frame</th>\n",
       "      <th>receive_x</th>\n",
       "      <th>receive_y</th>\n",
       "      <th>target_area</th>\n",
       "      <th>ball_x_0</th>\n",
       "      <th>ball_y_0</th>\n",
       "      <th>ball_x_1</th>\n",
       "      <th>ball_y_1</th>\n",
       "      <th>player_1</th>\n",
       "      <th>ball_x_2</th>\n",
       "      <th>ball_y_2</th>\n",
       "      <th>player_2</th>\n",
       "      <th>ball_x_3</th>\n",
       "      <th>ball_y_3</th>\n",
       "      <th>player_3</th>\n",
       "      <th>player_0</th>\n",
       "      <th>sk_recipient_id</th>\n",
       "      <th>long_name</th>\n",
       "      <th>dist_0</th>\n",
       "      <th>dist_1</th>\n",
       "      <th>dist_2</th>\n",
       "      <th>dist_3</th>\n",
       "      <th>score_1</th>\n",
       "      <th>score_2</th>\n",
       "      <th>score_3</th>\n",
       "    </tr>\n",
       "  </thead>\n",
       "  <tbody>\n",
       "    <tr>\n",
       "      <th>0</th>\n",
       "      <td>1133199</td>\n",
       "      <td>558</td>\n",
       "      <td>0</td>\n",
       "      <td>D. Spence</td>\n",
       "      <td>C. Bizet Ildhusøy</td>\n",
       "      <td>501647</td>\n",
       "      <td>RCMF3</td>\n",
       "      <td>57095.0</td>\n",
       "      <td>56</td>\n",
       "      <td>pass</td>\n",
       "      <td>['lateral_pass' 'short_or_medium_pass']</td>\n",
       "      <td>70</td>\n",
       "      <td>65</td>\n",
       "      <td>True</td>\n",
       "      <td>Tottenham Hotspur</td>\n",
       "      <td>Tottenham Hotspur</td>\n",
       "      <td>Tottenham Hotspur</td>\n",
       "      <td>['attack' 'transition_low']</td>\n",
       "      <td>1.0</td>\n",
       "      <td>567.0</td>\n",
       "      <td>26.96</td>\n",
       "      <td>-22.12</td>\n",
       "      <td>True</td>\n",
       "      <td>27.25</td>\n",
       "      <td>-20.27</td>\n",
       "      <td>47.2</td>\n",
       "      <td>-12.22</td>\n",
       "      <td>62787.0</td>\n",
       "      <td>50.47</td>\n",
       "      <td>-10.74</td>\n",
       "      <td>57093.0</td>\n",
       "      <td>NaN</td>\n",
       "      <td>NaN</td>\n",
       "      <td>NaN</td>\n",
       "      <td>NaN</td>\n",
       "      <td>62787</td>\n",
       "      <td>Celin Bizet Ildhusøy</td>\n",
       "      <td>31.605939</td>\n",
       "      <td>12.954474</td>\n",
       "      <td>10.789277</td>\n",
       "      <td>10.789277</td>\n",
       "      <td>2.0</td>\n",
       "      <td>2.0</td>\n",
       "      <td>2.0</td>\n",
       "    </tr>\n",
       "  </tbody>\n",
       "</table>\n",
       "</div>"
      ],
      "text/plain": [
       "   sk_match_id  frame  minute player_name pass_recipient_name  \\\n",
       "0      1133199    558       0   D. Spence   C. Bizet Ildhusøy   \n",
       "\n",
       "   pass_recipient_id pass_recipient_position  sk_player_id  pass_angle  \\\n",
       "0             501647                   RCMF3       57095.0          56   \n",
       "\n",
       "  type_primary                           type_secondary  location_x  \\\n",
       "0         pass  ['lateral_pass' 'short_or_medium_pass']          70   \n",
       "\n",
       "   location_y  pass_accurate          team_name possession_team_name  \\\n",
       "0          65           True  Tottenham Hotspur    Tottenham Hotspur   \n",
       "\n",
       "  possession_team_name_src             possession_types  period  \\\n",
       "0        Tottenham Hotspur  ['attack' 'transition_low']     1.0   \n",
       "\n",
       "   receive_frame  receive_x  receive_y  target_area  ball_x_0  ball_y_0  \\\n",
       "0          567.0      26.96     -22.12         True     27.25    -20.27   \n",
       "\n",
       "   ball_x_1  ball_y_1  player_1  ball_x_2  ball_y_2  player_2  ball_x_3  \\\n",
       "0      47.2    -12.22   62787.0     50.47    -10.74   57093.0       NaN   \n",
       "\n",
       "   ball_y_3  player_3  player_0  sk_recipient_id             long_name  \\\n",
       "0       NaN       NaN       NaN            62787  Celin Bizet Ildhusøy   \n",
       "\n",
       "      dist_0     dist_1     dist_2     dist_3  score_1  score_2  score_3  \n",
       "0  31.605939  12.954474  10.789277  10.789277      2.0      2.0      2.0  "
      ]
     },
     "execution_count": 127,
     "metadata": {},
     "output_type": "execute_result"
    }
   ],
   "source": [
    "filtered_df = pd.read_csv('data/filtered_df.csv')\n",
    "filtered_df.head(1)"
   ]
  },
  {
   "cell_type": "code",
   "execution_count": 108,
   "id": "abe6bd8b-169c-477a-87d5-82fe632bf44e",
   "metadata": {},
   "outputs": [
    {
     "data": {
      "text/plain": [
       "(12022, 44)"
      ]
     },
     "execution_count": 108,
     "metadata": {},
     "output_type": "execute_result"
    }
   ],
   "source": [
    "filtered_df.shape"
   ]
  },
  {
   "cell_type": "code",
   "execution_count": 111,
   "id": "1c084039-e9db-4d04-b3c4-68e0a088070b",
   "metadata": {},
   "outputs": [],
   "source": [
    "for idx, row in filtered_df.iterrows():\n",
    "    match_id = row['sk_match_id']\n",
    "    recipient_id = row['sk_recipient_id']\n",
    "        \n",
    "    frame = row['receive_frame']\n",
    "\n",
    "    file_path = f'data/FA/tracking/{match_id}.jsonl'\n",
    "    frame_data = load_jsonl_file_frame(frame)\n",
    "    file_path = f'data/FA/match/{match_id}.json'\n",
    "    match_data = load_json_file(file_path)    \n",
    "\n",
    "    home_id = match_data['home_team']['id']\n",
    "    away_id = match_data['away_team']['id']\n",
    "    \n",
    "    home_p_ids = [p['id'] for p in match_data['players'] if p['team_id'] == home_id]\n",
    "    away_p_ids = [p['id'] for p in match_data['players'] if p['team_id'] == away_id]\n",
    "\n",
    "    frame_df = pd.DataFrame(frame_data)\n",
    "\n",
    "    expanded_df = pd.concat(frame_df.apply(explode_data, axis=1).to_list(), ignore_index=True)\n",
    "    expanded_df['team'] = expanded_df['player_id'].apply(lambda x: 'home' if x in home_p_ids else 'away' if x in away_p_ids else 'ball')\n",
    "    recipient_team = expanded_df[expanded_df['player_id'] == recipient_id]['team'].item()\n",
    "\n",
    "    pitch_length, pitch_width = match_data['pitch_length'], match_data['pitch_width']\n",
    "    recipient_df = expanded_df[expanded_df['player_id'] == recipient_id]\n",
    "    recipient_xy = recipient_df[['x', 'y']].to_numpy()[0]\n",
    "    defending_df = expanded_df[~expanded_df['team'].isin([recipient_team, 'ball'])]\n",
    "    defending_xy = defending_df[['x', 'y']].to_numpy()\n",
    "\n",
    "    factor_x = 1 if recipient_xy[0] > 0 else -1\n",
    "    factor_y = 1 if recipient_xy[1] > 0 else -1    \n",
    "\n",
    "    boundary_points = np.array(\n",
    "        [[recipient_xy[0], pitch_width/2*factor_y+(pitch_width/2*factor_y-recipient_xy[1])], \n",
    "         [recipient_xy[0], recipient_xy[1] - 20*factor_y],\n",
    "         [pitch_length/2*factor_x+(pitch_length/2*factor_x-recipient_xy[1]), recipient_xy[1]],\n",
    "         [recipient_xy[0] - 20, recipient_xy[1]], \n",
    "         [recipient_xy[0] + 20, recipient_xy[1]]])     \n",
    "\n",
    "    points = np.vstack([recipient_xy, defending_xy, boundary_points])\n",
    "    points_nbs = get_neighbors(points, recipient_xy)\n",
    "    vertices = get_vertices(points_nbs, recipient_xy)\n",
    "    area_left, area_right, vertices_left, vertices_right = get_areas(vertices, recipient_xy) \n",
    "    log_area_left = np.log(area_left+1)\n",
    "    SoF = log_area_left + area_right    \n",
    "\n",
    "    filtered_df.at[idx, 'SoF'] = SoF\n",
    "    # hull_points = np.array([p for i, p in enumerate(points_nbs) if \n",
    "    #               not np.any((p == boundary_points).all(axis = 1))])    \n",
    "\n",
    "    # print(row['score_1'], row['score_2'], row['score_3'], SoF)\n",
    "    # fig = plot_vor(points_nbs, hull_points, recipient_xy, boundary_points, vertices, \n",
    "    #          vertices_left, vertices_right)\n",
    "    # fig.show()    "
   ]
  },
  {
   "cell_type": "code",
   "execution_count": 112,
   "id": "b773b71b-fac2-46f8-ab4b-892f0637a3a2",
   "metadata": {},
   "outputs": [],
   "source": [
    "filtered_df.to_csv('data/SoF.csv', index = False)"
   ]
  },
  {
   "cell_type": "code",
   "execution_count": null,
   "id": "b20a72c9-3a94-43e9-8f4c-a9590a4394f7",
   "metadata": {},
   "outputs": [],
   "source": [
    "for idx, row in filtered_df.iterrows():\n",
    "    defender_count = []\n",
    "    attacker_count = []\n",
    "    \n",
    "    match_id = row['sk_match_id']\n",
    "    recipient_id = row['sk_recipient_id']\n",
    "        \n",
    "    frame = row['receive_frame']\n",
    "\n",
    "    file_path = f'data/FA/tracking/{match_id}.jsonl'\n",
    "    frame_data = load_jsonl_file_frame(file_path, frame)\n",
    "    file_path = f'data/FA/match/{match_id}.json'\n",
    "    match_data = load_json_file(file_path)    \n",
    "    pitch_length, pitch_width = match_data['pitch_length'], match_data['pitch_width']\n",
    "\n",
    "    home_id = match_data['home_team']['id']\n",
    "    away_id = match_data['away_team']['id']\n",
    "    \n",
    "    home_p_ids = [p['id'] for p in match_data['players'] if p['team_id'] == home_id]\n",
    "    away_p_ids = [p['id'] for p in match_data['players'] if p['team_id'] == away_id]\n",
    "\n",
    "    frame_df = pd.DataFrame(frame_data)\n",
    "    expanded_df = pd.concat(frame_df.apply(explode_data, axis=1).to_list(), ignore_index=True)\n",
    "    expanded_df['team'] = expanded_df['player_id'].apply(lambda x: 'home' if x in home_p_ids else 'away' if x in away_p_ids else 'ball')\n",
    "    recipient_team = expanded_df[expanded_df['player_id'] == recipient_id]['team'].item()\n",
    "\n",
    "    recipient_x = expanded_df[expanded_df['player_id'] == recipient_id]['x'].item()\n",
    "\n",
    "    defender_deep_df = expanded_df[(~expanded_df['team'].isin([recipient_team, 'ball'])) & (abs(expanded_df['x']) > (abs(recipient_x) - 2))]\n",
    "    defender_deep_count = len(defender_deep_df) - 1\n",
    "    attacker_deep_df = expanded_df[(expanded_df['team'] == recipient_team) & (abs(expanded_df['x']) > (abs(recipient_x) - 2))]\n",
    "    attacker_deep_count = len(attacker_deep_df) - 1\n",
    "    \n",
    "    defender_count.append(defender_deep_count)\n",
    "    attacker_count.append(attacker_deep_count)    \n",
    "    \n",
    "print(len(defender_count), len(attacker_count))\n",
    "\n",
    "filtered_df['defender_count'] = defender_count\n",
    "filtered_df['attacker_count'] = attacker_count    "
   ]
  },
  {
   "cell_type": "code",
   "execution_count": null,
   "id": "52b8f758-c71d-494d-9c42-24b989c8865f",
   "metadata": {},
   "outputs": [],
   "source": [
    "filtered_df.to_csv('data/count.csv', index = False)"
   ]
  },
  {
   "cell_type": "code",
   "execution_count": 125,
   "id": "0f2f0dd1-0871-4ae9-9748-ffa2f5539c09",
   "metadata": {},
   "outputs": [
    {
     "data": {
      "text/html": [
       "<div>\n",
       "<style scoped>\n",
       "    .dataframe tbody tr th:only-of-type {\n",
       "        vertical-align: middle;\n",
       "    }\n",
       "\n",
       "    .dataframe tbody tr th {\n",
       "        vertical-align: top;\n",
       "    }\n",
       "\n",
       "    .dataframe thead th {\n",
       "        text-align: right;\n",
       "    }\n",
       "</style>\n",
       "<table border=\"1\" class=\"dataframe\">\n",
       "  <thead>\n",
       "    <tr style=\"text-align: right;\">\n",
       "      <th></th>\n",
       "      <th>x</th>\n",
       "      <th>y</th>\n",
       "      <th>player_id</th>\n",
       "      <th>is_detected</th>\n",
       "      <th>object</th>\n",
       "      <th>z</th>\n",
       "      <th>frame</th>\n",
       "      <th>timestamp</th>\n",
       "      <th>period</th>\n",
       "      <th>possession</th>\n",
       "      <th>image_corners_projection</th>\n",
       "      <th>team</th>\n",
       "    </tr>\n",
       "  </thead>\n",
       "  <tbody>\n",
       "    <tr>\n",
       "      <th>0</th>\n",
       "      <td>-49.38</td>\n",
       "      <td>-2.52</td>\n",
       "      <td>52925</td>\n",
       "      <td>True</td>\n",
       "      <td>player</td>\n",
       "      <td>NaN</td>\n",
       "      <td>20875</td>\n",
       "      <td>00:34:37.50</td>\n",
       "      <td>1</td>\n",
       "      <td>NaN</td>\n",
       "      <td>NaN</td>\n",
       "      <td>away</td>\n",
       "    </tr>\n",
       "    <tr>\n",
       "      <th>1</th>\n",
       "      <td>-35.71</td>\n",
       "      <td>-5.45</td>\n",
       "      <td>64113</td>\n",
       "      <td>True</td>\n",
       "      <td>player</td>\n",
       "      <td>NaN</td>\n",
       "      <td>20875</td>\n",
       "      <td>00:34:37.50</td>\n",
       "      <td>1</td>\n",
       "      <td>NaN</td>\n",
       "      <td>NaN</td>\n",
       "      <td>away</td>\n",
       "    </tr>\n",
       "    <tr>\n",
       "      <th>2</th>\n",
       "      <td>-35.05</td>\n",
       "      <td>-0.96</td>\n",
       "      <td>68737</td>\n",
       "      <td>True</td>\n",
       "      <td>player</td>\n",
       "      <td>NaN</td>\n",
       "      <td>20875</td>\n",
       "      <td>00:34:37.50</td>\n",
       "      <td>1</td>\n",
       "      <td>NaN</td>\n",
       "      <td>NaN</td>\n",
       "      <td>away</td>\n",
       "    </tr>\n",
       "    <tr>\n",
       "      <th>3</th>\n",
       "      <td>-34.48</td>\n",
       "      <td>-17.20</td>\n",
       "      <td>64167</td>\n",
       "      <td>True</td>\n",
       "      <td>player</td>\n",
       "      <td>NaN</td>\n",
       "      <td>20875</td>\n",
       "      <td>00:34:37.50</td>\n",
       "      <td>1</td>\n",
       "      <td>NaN</td>\n",
       "      <td>NaN</td>\n",
       "      <td>away</td>\n",
       "    </tr>\n",
       "    <tr>\n",
       "      <th>4</th>\n",
       "      <td>-33.77</td>\n",
       "      <td>7.11</td>\n",
       "      <td>68736</td>\n",
       "      <td>True</td>\n",
       "      <td>player</td>\n",
       "      <td>NaN</td>\n",
       "      <td>20875</td>\n",
       "      <td>00:34:37.50</td>\n",
       "      <td>1</td>\n",
       "      <td>NaN</td>\n",
       "      <td>NaN</td>\n",
       "      <td>away</td>\n",
       "    </tr>\n",
       "  </tbody>\n",
       "</table>\n",
       "</div>"
      ],
      "text/plain": [
       "       x      y  player_id  is_detected  object   z  frame    timestamp  \\\n",
       "0 -49.38  -2.52      52925         True  player NaN  20875  00:34:37.50   \n",
       "1 -35.71  -5.45      64113         True  player NaN  20875  00:34:37.50   \n",
       "2 -35.05  -0.96      68737         True  player NaN  20875  00:34:37.50   \n",
       "3 -34.48 -17.20      64167         True  player NaN  20875  00:34:37.50   \n",
       "4 -33.77   7.11      68736         True  player NaN  20875  00:34:37.50   \n",
       "\n",
       "   period possession  image_corners_projection  team  \n",
       "0       1        NaN                       NaN  away  \n",
       "1       1        NaN                       NaN  away  \n",
       "2       1        NaN                       NaN  away  \n",
       "3       1        NaN                       NaN  away  \n",
       "4       1        NaN                       NaN  away  "
      ]
     },
     "execution_count": 125,
     "metadata": {},
     "output_type": "execute_result"
    }
   ],
   "source": [
    "defender_deep_df"
   ]
  },
  {
   "cell_type": "code",
   "execution_count": 122,
   "id": "739bb022-ba26-433b-b51f-d920e680f62e",
   "metadata": {},
   "outputs": [
    {
     "data": {
      "text/plain": [
       "3"
      ]
     },
     "execution_count": 122,
     "metadata": {},
     "output_type": "execute_result"
    }
   ],
   "source": [
    "attacker_deep_count"
   ]
  },
  {
   "cell_type": "code",
   "execution_count": 123,
   "id": "3e877404-1924-4394-90ff-c1871d55474a",
   "metadata": {},
   "outputs": [
    {
     "data": {
      "text/plain": [
       "4"
      ]
     },
     "execution_count": 123,
     "metadata": {},
     "output_type": "execute_result"
    }
   ],
   "source": [
    "defender_deep_count"
   ]
  },
  {
   "cell_type": "code",
   "execution_count": null,
   "id": "0133afa3-bfce-4e91-b674-d3d16007f27f",
   "metadata": {},
   "outputs": [],
   "source": []
  }
 ],
 "metadata": {
  "kernelspec": {
   "display_name": "asi12",
   "language": "python",
   "name": "asi12"
  },
  "language_info": {
   "codemirror_mode": {
    "name": "ipython",
    "version": 3
   },
   "file_extension": ".py",
   "mimetype": "text/x-python",
   "name": "python",
   "nbconvert_exporter": "python",
   "pygments_lexer": "ipython3",
   "version": "3.12.8"
  }
 },
 "nbformat": 4,
 "nbformat_minor": 5
}
