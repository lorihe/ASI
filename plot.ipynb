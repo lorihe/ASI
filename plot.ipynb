{
 "cells": [
  {
   "cell_type": "code",
   "execution_count": 1,
   "id": "23027f3b-e068-486a-9abe-bda90a532fe0",
   "metadata": {},
   "outputs": [],
   "source": [
    "import pandas as pd\n",
    "import numpy as np\n",
    "import os\n",
    "import json\n",
    "import jsonlines\n",
    "import plotly.graph_objects as go\n",
    "import soccerfield\n",
    "%load_ext autoreload\n",
    "%autoreload 2"
   ]
  },
  {
   "cell_type": "code",
   "execution_count": 2,
   "id": "0d8449df-7122-4bc4-8d57-9daee14b603e",
   "metadata": {},
   "outputs": [],
   "source": [
    "def load_json_file(file_path):\n",
    "    with open(file_path, 'r') as file:\n",
    "        data = json.load(file)\n",
    "    return data"
   ]
  },
  {
   "cell_type": "code",
   "execution_count": 3,
   "id": "3cb2cb64-f709-4660-9f07-0d601b698192",
   "metadata": {},
   "outputs": [],
   "source": [
    "def load_jsonl_file(file_path):\n",
    "    with jsonlines.open(file_path, 'r') as file:\n",
    "        data = [line for line in file if line['timestamp'] is not None]\n",
    "    return data"
   ]
  },
  {
   "cell_type": "code",
   "execution_count": 4,
   "id": "e8f1ab53-35d7-4e7d-a9a9-70698903c2de",
   "metadata": {},
   "outputs": [],
   "source": [
    "match_id = 1133203"
   ]
  },
  {
   "cell_type": "code",
   "execution_count": 5,
   "id": "7f1a14bf-2c06-44c2-b57b-7096381d3376",
   "metadata": {},
   "outputs": [],
   "source": [
    "file_path = f'data/FA/tracking/{match_id}.jsonl'"
   ]
  },
  {
   "cell_type": "code",
   "execution_count": 6,
   "id": "e2b086dd-a216-4620-8853-130b174e7bbd",
   "metadata": {},
   "outputs": [],
   "source": [
    "data = load_jsonl_file(file_path)"
   ]
  },
  {
   "cell_type": "code",
   "execution_count": 7,
   "id": "654787fa-9738-4a65-b1ba-cf938e0cb49b",
   "metadata": {},
   "outputs": [],
   "source": [
    "file_path = f'data/FA/match/{match_id}.json'"
   ]
  },
  {
   "cell_type": "code",
   "execution_count": 8,
   "id": "6e0db712-19ba-43ca-90a5-6fd1741051d1",
   "metadata": {},
   "outputs": [],
   "source": [
    "match_data = load_json_file(file_path)"
   ]
  },
  {
   "cell_type": "code",
   "execution_count": 20,
   "id": "23201cfa-4493-4f70-b849-896fc36625a0",
   "metadata": {
    "tags": []
   },
   "outputs": [],
   "source": [
    "player_map = {player['id']: f\"{player['first_name']} {player['last_name']}\" for player in match_data['players']}"
   ]
  },
  {
   "cell_type": "code",
   "execution_count": 21,
   "id": "5fbb2190-4d36-411d-9151-1fbcd344bb5f",
   "metadata": {
    "collapsed": true,
    "jupyter": {
     "outputs_hidden": true
    },
    "tags": []
   },
   "outputs": [
    {
     "data": {
      "text/plain": [
       "{68743: 'Katie Zelem',\n",
       " 68680: 'Danielle Turner',\n",
       " 68719: 'Anna Patten',\n",
       " 68661: 'Lucy Parker',\n",
       " 62646: 'Ebony Salmon',\n",
       " 22608: 'Nikita Parris',\n",
       " 68697: 'Maya Le Tissier',\n",
       " 62411: 'Ella Toone',\n",
       " 63767: 'Millie Turner',\n",
       " 64066: 'Kirsty Hanson',\n",
       " 22735: 'Adriana Leon',\n",
       " 62505: 'Hinata Miyazawa',\n",
       " 22624: 'Lucy Staniforth',\n",
       " 63765: 'Jordan Nobbs',\n",
       " 68681: 'Gabrielle George',\n",
       " 68672: 'Sarah Emma Mayling',\n",
       " 22618: 'Rachel Daly',\n",
       " 22628: 'Rachel Corsie',\n",
       " 68734: 'Rachel Williams',\n",
       " 68744: 'Leah Galton',\n",
       " 57096: 'Hannah Blundell',\n",
       " 151604: 'Phallon Tullis-Joyce',\n",
       " 63932: 'Lisa Fjeldstad Naalsund',\n",
       " 22724: 'Jayde Yuk Fun Riviere',\n",
       " 68199: 'Irene  Guerrero Sanmartín',\n",
       " 64156: 'Gemma Jayne Evans',\n",
       " 153392: 'Evie Rabjohn',\n",
       " 22622: 'Mary Earps',\n",
       " 22457: 'Lucía García Córdoba',\n",
       " 64166: 'Hayley Ladd',\n",
       " 22555: ' Geyse',\n",
       " 62772: 'Simone Magill',\n",
       " 68749: 'Olivia McLoughlin',\n",
       " 68670: 'Mayumi Pacheco',\n",
       " 424697: 'Georgia Mullett',\n",
       " 59723: 'Anna Jessica Leat',\n",
       " 63552: 'Daphne van Domselaar',\n",
       " 64130: 'Alisha Lehmann',\n",
       " 68675: 'Laura Madison Blindkilde Brown'}"
      ]
     },
     "execution_count": 21,
     "metadata": {},
     "output_type": "execute_result"
    }
   ],
   "source": [
    "player_map"
   ]
  },
  {
   "cell_type": "code",
   "execution_count": 9,
   "id": "0d1bc07e-5a24-465b-8404-fd279c0ce2af",
   "metadata": {
    "scrolled": true
   },
   "outputs": [],
   "source": [
    "home_id = match_data['home_team']['id']\n",
    "away_id = match_data['away_team']['id']"
   ]
  },
  {
   "cell_type": "code",
   "execution_count": 10,
   "id": "58967904-3139-4bbf-a032-b6c0712336fe",
   "metadata": {
    "scrolled": true
   },
   "outputs": [],
   "source": [
    "home_p_ids = [p['id'] for p in match_data['players'] if p['team_id'] == home_id]\n",
    "away_p_ids = [p['id'] for p in match_data['players'] if p['team_id'] == away_id]"
   ]
  },
  {
   "cell_type": "code",
   "execution_count": 11,
   "id": "4d34613c-6c3b-4375-aa00-437cbd84a0c7",
   "metadata": {},
   "outputs": [],
   "source": [
    "def map_player_ids(player_list, home_p_ids, away_p_ids):\n",
    "    return ['H' if player['player_id'] in home_p_ids else 'A' if player['player_id'] in away_p_ids else None for player in player_list]"
   ]
  },
  {
   "cell_type": "code",
   "execution_count": 26,
   "id": "beca11d9-8585-451c-9b35-f2461d6ebae7",
   "metadata": {
    "tags": []
   },
   "outputs": [],
   "source": [
    "def map_player_names(player_list):\n",
    "    return [player_map[player['player_id']] for player in player_list]"
   ]
  },
  {
   "cell_type": "code",
   "execution_count": 55,
   "id": "809df97d-479b-4bca-8abc-b0577630dfa6",
   "metadata": {},
   "outputs": [],
   "source": [
    "event_frame = 107"
   ]
  },
  {
   "cell_type": "code",
   "execution_count": 56,
   "id": "bece2522-9622-4c6b-807e-4de9ee4a0587",
   "metadata": {},
   "outputs": [],
   "source": [
    "frames = [f for f in data if f['frame']>= event_frame-10 and f['frame']<=event_frame+20]"
   ]
  },
  {
   "cell_type": "code",
   "execution_count": 57,
   "id": "77491835-133d-499c-8edb-3d3cb9eef93c",
   "metadata": {
    "scrolled": true
   },
   "outputs": [],
   "source": [
    "frames_df = pd.DataFrame(frames)"
   ]
  },
  {
   "cell_type": "code",
   "execution_count": 58,
   "id": "05c429ef-6200-4d0a-bd13-899856698abb",
   "metadata": {
    "scrolled": true
   },
   "outputs": [],
   "source": [
    "frames_df['ball_x'] = frames_df['ball_data'].apply(lambda x: x['x'])\n",
    "frames_df['ball_y'] = frames_df['ball_data'].apply(lambda x: x['y'])\n",
    "frames_df['p_x'] = frames_df['player_data'].apply(lambda x: [p['x'] for p in x])\n",
    "frames_df['p_y'] = frames_df['player_data'].apply(lambda x: [p['y'] for p in x])\n",
    "frames_df['team'] = frames_df['player_data'].apply(lambda players: map_player_ids(players, home_p_ids, away_p_ids))\n",
    "frames_df['name'] = frames_df['player_data'].apply(lambda players: map_player_names(players))"
   ]
  },
  {
   "cell_type": "code",
   "execution_count": 59,
   "id": "210500e6-9101-4074-a12e-30b5cc11dc5d",
   "metadata": {},
   "outputs": [
    {
     "data": {
      "application/vnd.plotly.v1+json": {
       "config": {
        "plotlyServerURL": "https://plot.ly"
       },
       "data": [
        {
         "hovertext": [
          "Daphne van Domselaar",
          "Anna Patten",
          "Rachel Corsie",
          "Sarah Emma Mayling",
          "Danielle Turner",
          "Lucy Staniforth",
          "Lucy Parker",
          "Laura Madison Blindkilde Brown",
          "Alisha Lehmann",
          "Kirsty Hanson",
          "Rachel Daly",
          "Mary Earps",
          "Maya Le Tissier",
          "Millie Turner",
          "Hannah Blundell",
          "Gabrielle George",
          "Katie Zelem",
          "Ella Toone",
          "Hayley Ladd",
          "Lucía García Córdoba",
          "Leah Galton",
          " Geyse"
         ],
         "marker": {
          "color": [
           "steelblue",
           "steelblue",
           "steelblue",
           "steelblue",
           "steelblue",
           "steelblue",
           "steelblue",
           "steelblue",
           "steelblue",
           "steelblue",
           "steelblue",
           "tan",
           "tan",
           "tan",
           "tan",
           "tan",
           "tan",
           "tan",
           "tan",
           "tan",
           "tan",
           "tan"
          ]
         },
         "mode": "markers",
         "showlegend": false,
         "type": "scatter",
         "visible": true,
         "x": [
          -39.9,
          -14.97,
          -15.68,
          -15.12,
          -19.48,
          -9.8,
          -11.06,
          -0.66,
          -8.86,
          -9.37,
          0.11,
          37.94,
          16.42,
          17.46,
          12.27,
          14.1,
          9.88,
          0.44,
          -0.98,
          0.08,
          -8.52,
          0
         ],
         "y": [
          -0.87,
          -6.89,
          1.55,
          -18.11,
          13.4,
          0.98,
          -9.06,
          -9.75,
          -18.23,
          13.77,
          9.3,
          -0.08,
          3.98,
          -5.92,
          18.12,
          -21.7,
          -2.29,
          -17.87,
          -0.02,
          22.05,
          -15.39,
          -9.16
         ]
        },
        {
         "marker": {
          "color": "black"
         },
         "mode": "markers",
         "showlegend": false,
         "type": "scatter",
         "visible": true,
         "x": [
          -0.91
         ],
         "y": [
          -1.02
         ]
        },
        {
         "hovertext": [
          "Daphne van Domselaar",
          "Anna Patten",
          "Rachel Corsie",
          "Sarah Emma Mayling",
          "Danielle Turner",
          "Lucy Staniforth",
          "Lucy Parker",
          "Laura Madison Blindkilde Brown",
          "Alisha Lehmann",
          "Kirsty Hanson",
          "Rachel Daly",
          "Mary Earps",
          "Maya Le Tissier",
          "Millie Turner",
          "Hannah Blundell",
          "Gabrielle George",
          "Katie Zelem",
          "Ella Toone",
          "Hayley Ladd",
          "Lucía García Córdoba",
          "Leah Galton",
          " Geyse"
         ],
         "marker": {
          "color": [
           "steelblue",
           "steelblue",
           "steelblue",
           "steelblue",
           "steelblue",
           "steelblue",
           "steelblue",
           "steelblue",
           "steelblue",
           "steelblue",
           "steelblue",
           "tan",
           "tan",
           "tan",
           "tan",
           "tan",
           "tan",
           "tan",
           "tan",
           "tan",
           "tan",
           "tan"
          ]
         },
         "mode": "markers",
         "showlegend": false,
         "type": "scatter",
         "visible": false,
         "x": [
          -40.06,
          -15,
          -15.8,
          -15.25,
          -19.44,
          -9.79,
          -11.06,
          -0.62,
          -8.92,
          -9.44,
          0.09,
          38.01,
          16.52,
          17.47,
          12.29,
          14.23,
          9.81,
          0.46,
          -0.93,
          0.08,
          -8.7,
          -0.02
         ],
         "y": [
          -0.87,
          -6.91,
          1.6,
          -17.98,
          13.43,
          0.95,
          -9.07,
          -9.72,
          -18.26,
          13.71,
          9.28,
          -0.07,
          4.04,
          -6.04,
          18.2,
          -21.66,
          -2.22,
          -17.95,
          0.15,
          22.18,
          -15.88,
          -9.19
         ]
        },
        {
         "marker": {
          "color": "black"
         },
         "mode": "markers",
         "showlegend": false,
         "type": "scatter",
         "visible": false,
         "x": [
          -0.61
         ],
         "y": [
          -0.91
         ]
        },
        {
         "hovertext": [
          "Daphne van Domselaar",
          "Anna Patten",
          "Rachel Corsie",
          "Sarah Emma Mayling",
          "Danielle Turner",
          "Lucy Staniforth",
          "Lucy Parker",
          "Laura Madison Blindkilde Brown",
          "Alisha Lehmann",
          "Kirsty Hanson",
          "Rachel Daly",
          "Mary Earps",
          "Maya Le Tissier",
          "Millie Turner",
          "Hannah Blundell",
          "Gabrielle George",
          "Katie Zelem",
          "Ella Toone",
          "Hayley Ladd",
          "Lucía García Córdoba",
          "Leah Galton",
          " Geyse"
         ],
         "marker": {
          "color": [
           "steelblue",
           "steelblue",
           "steelblue",
           "steelblue",
           "steelblue",
           "steelblue",
           "steelblue",
           "steelblue",
           "steelblue",
           "steelblue",
           "steelblue",
           "tan",
           "tan",
           "tan",
           "tan",
           "tan",
           "tan",
           "tan",
           "tan",
           "tan",
           "tan",
           "tan"
          ]
         },
         "mode": "markers",
         "showlegend": false,
         "type": "scatter",
         "visible": false,
         "x": [
          -40.2,
          -15.04,
          -15.91,
          -15.37,
          -19.4,
          -9.76,
          -11.07,
          -0.58,
          -8.98,
          -9.51,
          0.1,
          38.06,
          16.61,
          17.5,
          12.3,
          14.35,
          9.74,
          0.49,
          -0.89,
          0.07,
          -8.89,
          -0.04
         ],
         "y": [
          -0.87,
          -6.93,
          1.64,
          -17.86,
          13.46,
          0.92,
          -9.08,
          -9.69,
          -18.28,
          13.65,
          9.25,
          -0.06,
          4.09,
          -6.15,
          18.28,
          -21.64,
          -2.16,
          -18.03,
          0.3,
          22.3,
          -16.34,
          -9.21
         ]
        },
        {
         "marker": {
          "color": "black"
         },
         "mode": "markers",
         "showlegend": false,
         "type": "scatter",
         "visible": false,
         "x": [
          -0.44
         ],
         "y": [
          -0.86
         ]
        },
        {
         "hovertext": [
          "Daphne van Domselaar",
          "Anna Patten",
          "Rachel Corsie",
          "Sarah Emma Mayling",
          "Danielle Turner",
          "Lucy Staniforth",
          "Lucy Parker",
          "Laura Madison Blindkilde Brown",
          "Alisha Lehmann",
          "Kirsty Hanson",
          "Rachel Daly",
          "Mary Earps",
          "Maya Le Tissier",
          "Millie Turner",
          "Hannah Blundell",
          "Gabrielle George",
          "Katie Zelem",
          "Ella Toone",
          "Hayley Ladd",
          "Lucía García Córdoba",
          "Leah Galton",
          " Geyse"
         ],
         "marker": {
          "color": [
           "steelblue",
           "steelblue",
           "steelblue",
           "steelblue",
           "steelblue",
           "steelblue",
           "steelblue",
           "steelblue",
           "steelblue",
           "steelblue",
           "steelblue",
           "tan",
           "tan",
           "tan",
           "tan",
           "tan",
           "tan",
           "tan",
           "tan",
           "tan",
           "tan",
           "tan"
          ]
         },
         "mode": "markers",
         "showlegend": false,
         "type": "scatter",
         "visible": false,
         "x": [
          -40.34,
          -15.08,
          -16.01,
          -15.48,
          -19.38,
          -9.72,
          -11.07,
          -0.56,
          -9.02,
          -9.57,
          0.14,
          38.09,
          16.7,
          17.52,
          12.31,
          14.47,
          9.68,
          0.53,
          -0.86,
          0.05,
          -9.07,
          -0.08
         ],
         "y": [
          -0.86,
          -6.96,
          1.68,
          -17.75,
          13.51,
          0.9,
          -9.09,
          -9.65,
          -18.31,
          13.6,
          9.19,
          -0.06,
          4.13,
          -6.25,
          18.34,
          -21.63,
          -2.11,
          -18.09,
          0.44,
          22.42,
          -16.75,
          -9.21
         ]
        },
        {
         "marker": {
          "color": "black"
         },
         "mode": "markers",
         "showlegend": false,
         "type": "scatter",
         "visible": false,
         "x": [
          -0.37
         ],
         "y": [
          -0.86
         ]
        },
        {
         "hovertext": [
          "Daphne van Domselaar",
          "Anna Patten",
          "Rachel Corsie",
          "Sarah Emma Mayling",
          "Danielle Turner",
          "Lucy Staniforth",
          "Lucy Parker",
          "Laura Madison Blindkilde Brown",
          "Alisha Lehmann",
          "Kirsty Hanson",
          "Rachel Daly",
          "Mary Earps",
          "Maya Le Tissier",
          "Millie Turner",
          "Hannah Blundell",
          "Gabrielle George",
          "Katie Zelem",
          "Ella Toone",
          "Hayley Ladd",
          "Lucía García Córdoba",
          "Leah Galton",
          " Geyse"
         ],
         "marker": {
          "color": [
           "steelblue",
           "steelblue",
           "steelblue",
           "steelblue",
           "steelblue",
           "steelblue",
           "steelblue",
           "steelblue",
           "steelblue",
           "steelblue",
           "steelblue",
           "tan",
           "tan",
           "tan",
           "tan",
           "tan",
           "tan",
           "tan",
           "tan",
           "tan",
           "tan",
           "tan"
          ]
         },
         "mode": "markers",
         "showlegend": false,
         "type": "scatter",
         "visible": false,
         "x": [
          -40.46,
          -15.12,
          -16.11,
          -15.59,
          -19.37,
          -9.66,
          -11.07,
          -0.55,
          -9.05,
          -9.62,
          0.19,
          38.12,
          16.78,
          17.56,
          12.32,
          14.58,
          9.62,
          0.59,
          -0.83,
          0.03,
          -9.26,
          -0.12
         ],
         "y": [
          -0.85,
          -6.98,
          1.72,
          -17.64,
          13.55,
          0.88,
          -9.1,
          -9.61,
          -18.33,
          13.54,
          9.12,
          -0.06,
          4.17,
          -6.34,
          18.39,
          -21.65,
          -2.06,
          -18.15,
          0.56,
          22.53,
          -17.13,
          -9.19
         ]
        },
        {
         "marker": {
          "color": "black"
         },
         "mode": "markers",
         "showlegend": false,
         "type": "scatter",
         "visible": false,
         "x": [
          -0.32
         ],
         "y": [
          -0.79
         ]
        },
        {
         "hovertext": [
          "Daphne van Domselaar",
          "Anna Patten",
          "Rachel Corsie",
          "Sarah Emma Mayling",
          "Danielle Turner",
          "Lucy Staniforth",
          "Lucy Parker",
          "Laura Madison Blindkilde Brown",
          "Alisha Lehmann",
          "Kirsty Hanson",
          "Rachel Daly",
          "Mary Earps",
          "Maya Le Tissier",
          "Millie Turner",
          "Hannah Blundell",
          "Gabrielle George",
          "Katie Zelem",
          "Ella Toone",
          "Hayley Ladd",
          "Lucía García Córdoba",
          "Leah Galton",
          " Geyse"
         ],
         "marker": {
          "color": [
           "steelblue",
           "steelblue",
           "steelblue",
           "steelblue",
           "steelblue",
           "steelblue",
           "steelblue",
           "steelblue",
           "steelblue",
           "steelblue",
           "steelblue",
           "tan",
           "tan",
           "tan",
           "tan",
           "tan",
           "tan",
           "tan",
           "tan",
           "tan",
           "tan",
           "tan"
          ]
         },
         "mode": "markers",
         "showlegend": false,
         "type": "scatter",
         "visible": false,
         "x": [
          -40.57,
          -15.16,
          -16.21,
          -15.69,
          -19.37,
          -9.6,
          -11.07,
          -0.54,
          -9.07,
          -9.66,
          0.27,
          38.12,
          16.85,
          17.61,
          12.33,
          14.69,
          9.57,
          0.65,
          -0.81,
          -0.01,
          -9.45,
          -0.18
         ],
         "y": [
          -0.84,
          -7,
          1.75,
          -17.54,
          13.61,
          0.86,
          -9.12,
          -9.56,
          -18.36,
          13.49,
          9.03,
          -0.06,
          4.2,
          -6.42,
          18.43,
          -21.67,
          -2.02,
          -18.19,
          0.66,
          22.65,
          -17.46,
          -9.17
         ]
        },
        {
         "marker": {
          "color": "black"
         },
         "mode": "markers",
         "showlegend": false,
         "type": "scatter",
         "visible": false,
         "x": [
          -0.23
         ],
         "y": [
          -0.7
         ]
        },
        {
         "hovertext": [
          "Daphne van Domselaar",
          "Anna Patten",
          "Rachel Corsie",
          "Sarah Emma Mayling",
          "Danielle Turner",
          "Lucy Staniforth",
          "Lucy Parker",
          "Laura Madison Blindkilde Brown",
          "Alisha Lehmann",
          "Kirsty Hanson",
          "Rachel Daly",
          "Mary Earps",
          "Maya Le Tissier",
          "Millie Turner",
          "Hannah Blundell",
          "Gabrielle George",
          "Katie Zelem",
          "Ella Toone",
          "Hayley Ladd",
          "Lucía García Córdoba",
          "Leah Galton",
          " Geyse"
         ],
         "marker": {
          "color": [
           "steelblue",
           "steelblue",
           "steelblue",
           "steelblue",
           "steelblue",
           "steelblue",
           "steelblue",
           "steelblue",
           "steelblue",
           "steelblue",
           "steelblue",
           "tan",
           "tan",
           "tan",
           "tan",
           "tan",
           "tan",
           "tan",
           "tan",
           "tan",
           "tan",
           "tan"
          ]
         },
         "mode": "markers",
         "showlegend": false,
         "type": "scatter",
         "visible": false,
         "x": [
          -40.67,
          -15.21,
          -16.3,
          -15.78,
          -19.38,
          -9.51,
          -11.06,
          -0.54,
          -9.07,
          -9.7,
          0.37,
          38.11,
          16.92,
          17.66,
          12.33,
          14.79,
          9.53,
          0.72,
          -0.8,
          -0.06,
          -9.64,
          -0.24
         ],
         "y": [
          -0.82,
          -7.02,
          1.78,
          -17.45,
          13.67,
          0.84,
          -9.14,
          -9.51,
          -18.38,
          13.44,
          8.92,
          -0.06,
          4.22,
          -6.49,
          18.46,
          -21.71,
          -1.98,
          -18.22,
          0.75,
          22.76,
          -17.75,
          -9.13
         ]
        },
        {
         "marker": {
          "color": "black"
         },
         "mode": "markers",
         "showlegend": false,
         "type": "scatter",
         "visible": false,
         "x": [
          -0.08
         ],
         "y": [
          -0.66
         ]
        },
        {
         "hovertext": [
          "Daphne van Domselaar",
          "Anna Patten",
          "Rachel Corsie",
          "Sarah Emma Mayling",
          "Danielle Turner",
          "Lucy Staniforth",
          "Lucy Parker",
          "Laura Madison Blindkilde Brown",
          "Alisha Lehmann",
          "Kirsty Hanson",
          "Rachel Daly",
          "Mary Earps",
          "Maya Le Tissier",
          "Millie Turner",
          "Hannah Blundell",
          "Gabrielle George",
          "Katie Zelem",
          "Ella Toone",
          "Hayley Ladd",
          "Lucía García Córdoba",
          "Leah Galton",
          " Geyse"
         ],
         "marker": {
          "color": [
           "steelblue",
           "steelblue",
           "steelblue",
           "steelblue",
           "steelblue",
           "steelblue",
           "steelblue",
           "steelblue",
           "steelblue",
           "steelblue",
           "steelblue",
           "tan",
           "tan",
           "tan",
           "tan",
           "tan",
           "tan",
           "tan",
           "tan",
           "tan",
           "tan",
           "tan"
          ]
         },
         "mode": "markers",
         "showlegend": false,
         "type": "scatter",
         "visible": false,
         "x": [
          -40.76,
          -15.27,
          -16.39,
          -15.87,
          -19.4,
          -9.42,
          -11.06,
          -0.55,
          -9.06,
          -9.73,
          0.5,
          38.09,
          16.98,
          17.73,
          12.33,
          14.89,
          9.5,
          0.81,
          -0.8,
          -0.11,
          -9.83,
          -0.32
         ],
         "y": [
          -0.81,
          -7.04,
          1.81,
          -17.36,
          13.74,
          0.83,
          -9.16,
          -9.45,
          -18.4,
          13.4,
          8.8,
          -0.07,
          4.23,
          -6.54,
          18.48,
          -21.77,
          -1.95,
          -18.23,
          0.82,
          22.88,
          -18,
          -9.07
         ]
        },
        {
         "marker": {
          "color": "black"
         },
         "mode": "markers",
         "showlegend": false,
         "type": "scatter",
         "visible": false,
         "x": [
          0.29
         ],
         "y": [
          -0.63
         ]
        },
        {
         "hovertext": [
          "Daphne van Domselaar",
          "Anna Patten",
          "Rachel Corsie",
          "Sarah Emma Mayling",
          "Danielle Turner",
          "Lucy Staniforth",
          "Lucy Parker",
          "Laura Madison Blindkilde Brown",
          "Alisha Lehmann",
          "Kirsty Hanson",
          "Rachel Daly",
          "Mary Earps",
          "Maya Le Tissier",
          "Millie Turner",
          "Hannah Blundell",
          "Gabrielle George",
          "Katie Zelem",
          "Ella Toone",
          "Hayley Ladd",
          "Lucía García Córdoba",
          "Leah Galton",
          " Geyse"
         ],
         "marker": {
          "color": [
           "steelblue",
           "steelblue",
           "steelblue",
           "steelblue",
           "steelblue",
           "steelblue",
           "steelblue",
           "steelblue",
           "steelblue",
           "steelblue",
           "steelblue",
           "tan",
           "tan",
           "tan",
           "tan",
           "tan",
           "tan",
           "tan",
           "tan",
           "tan",
           "tan",
           "tan"
          ]
         },
         "mode": "markers",
         "showlegend": false,
         "type": "scatter",
         "visible": false,
         "x": [
          -40.84,
          -15.35,
          -16.52,
          -15.96,
          -19.46,
          -9.34,
          -11.03,
          -0.58,
          -9.04,
          -9.75,
          0.65,
          38.02,
          17.02,
          17.79,
          12.32,
          14.97,
          9.49,
          0.91,
          -0.79,
          -0.17,
          -10.08,
          -0.39
         ],
         "y": [
          -0.77,
          -7.06,
          1.82,
          -17.24,
          13.84,
          0.83,
          -9.18,
          -9.39,
          -18.44,
          13.38,
          8.64,
          -0.07,
          4.22,
          -6.58,
          18.47,
          -21.88,
          -1.93,
          -18.23,
          0.84,
          22.96,
          -18.13,
          -8.99
         ]
        },
        {
         "marker": {
          "color": "black"
         },
         "mode": "markers",
         "showlegend": false,
         "type": "scatter",
         "visible": false,
         "x": [
          0.91
         ],
         "y": [
          -0.74
         ]
        },
        {
         "hovertext": [
          "Daphne van Domselaar",
          "Anna Patten",
          "Rachel Corsie",
          "Sarah Emma Mayling",
          "Danielle Turner",
          "Lucy Staniforth",
          "Lucy Parker",
          "Laura Madison Blindkilde Brown",
          "Alisha Lehmann",
          "Kirsty Hanson",
          "Rachel Daly",
          "Mary Earps",
          "Maya Le Tissier",
          "Millie Turner",
          "Hannah Blundell",
          "Gabrielle George",
          "Katie Zelem",
          "Ella Toone",
          "Hayley Ladd",
          "Lucía García Córdoba",
          "Leah Galton",
          " Geyse"
         ],
         "marker": {
          "color": [
           "steelblue",
           "steelblue",
           "steelblue",
           "steelblue",
           "steelblue",
           "steelblue",
           "steelblue",
           "steelblue",
           "steelblue",
           "steelblue",
           "steelblue",
           "tan",
           "tan",
           "tan",
           "tan",
           "tan",
           "tan",
           "tan",
           "tan",
           "tan",
           "tan",
           "tan"
          ]
         },
         "mode": "markers",
         "showlegend": false,
         "type": "scatter",
         "visible": false,
         "x": [
          -40.89,
          -15.42,
          -16.61,
          -16.02,
          -19.51,
          -9.23,
          -10.99,
          -0.62,
          -9.01,
          -9.78,
          0.83,
          37.92,
          17.07,
          17.86,
          12.3,
          15.05,
          9.47,
          1.02,
          -0.8,
          -0.25,
          -10.3,
          -0.49
         ],
         "y": [
          -0.73,
          -7.08,
          1.85,
          -17.14,
          13.95,
          0.83,
          -9.19,
          -9.32,
          -18.47,
          13.35,
          8.48,
          -0.08,
          4.2,
          -6.59,
          18.45,
          -22,
          -1.91,
          -18.21,
          0.85,
          23.07,
          -18.26,
          -8.88
         ]
        },
        {
         "marker": {
          "color": "black"
         },
         "mode": "markers",
         "showlegend": false,
         "type": "scatter",
         "visible": false,
         "x": [
          1.72
         ],
         "y": [
          -1.02
         ]
        },
        {
         "hovertext": [
          "Daphne van Domselaar",
          "Anna Patten",
          "Rachel Corsie",
          "Sarah Emma Mayling",
          "Danielle Turner",
          "Lucy Staniforth",
          "Lucy Parker",
          "Laura Madison Blindkilde Brown",
          "Alisha Lehmann",
          "Kirsty Hanson",
          "Rachel Daly",
          "Mary Earps",
          "Maya Le Tissier",
          "Millie Turner",
          "Hannah Blundell",
          "Gabrielle George",
          "Katie Zelem",
          "Ella Toone",
          "Hayley Ladd",
          "Lucía García Córdoba",
          "Leah Galton",
          " Geyse"
         ],
         "marker": {
          "color": [
           "steelblue",
           "steelblue",
           "steelblue",
           "steelblue",
           "steelblue",
           "steelblue",
           "steelblue",
           "steelblue",
           "steelblue",
           "steelblue",
           "steelblue",
           "tan",
           "tan",
           "tan",
           "tan",
           "tan",
           "tan",
           "tan",
           "tan",
           "tan",
           "tan",
           "tan"
          ]
         },
         "mode": "markers",
         "showlegend": false,
         "type": "scatter",
         "visible": false,
         "x": [
          -40.94,
          -15.49,
          -16.69,
          -16.09,
          -19.56,
          -9.09,
          -10.97,
          -0.66,
          -8.96,
          -9.8,
          1.03,
          37.84,
          17.11,
          17.95,
          12.29,
          15.12,
          9.45,
          1.13,
          -0.82,
          -0.34,
          -10.5,
          -0.6
         ],
         "y": [
          -0.7,
          -7.09,
          1.86,
          -17.09,
          14.04,
          0.83,
          -9.22,
          -9.26,
          -18.49,
          13.31,
          8.3,
          -0.09,
          4.2,
          -6.61,
          18.43,
          -22.12,
          -1.89,
          -18.18,
          0.87,
          23.18,
          -18.38,
          -8.77
         ]
        },
        {
         "marker": {
          "color": "black"
         },
         "mode": "markers",
         "showlegend": false,
         "type": "scatter",
         "visible": false,
         "x": [
          2.68
         ],
         "y": [
          -1.37
         ]
        },
        {
         "hovertext": [
          "Daphne van Domselaar",
          "Anna Patten",
          "Rachel Corsie",
          "Sarah Emma Mayling",
          "Danielle Turner",
          "Lucy Staniforth",
          "Lucy Parker",
          "Laura Madison Blindkilde Brown",
          "Alisha Lehmann",
          "Kirsty Hanson",
          "Rachel Daly",
          "Mary Earps",
          "Maya Le Tissier",
          "Millie Turner",
          "Hannah Blundell",
          "Gabrielle George",
          "Katie Zelem",
          "Ella Toone",
          "Hayley Ladd",
          "Lucía García Córdoba",
          "Leah Galton",
          " Geyse"
         ],
         "marker": {
          "color": [
           "steelblue",
           "steelblue",
           "steelblue",
           "steelblue",
           "steelblue",
           "steelblue",
           "steelblue",
           "steelblue",
           "steelblue",
           "steelblue",
           "steelblue",
           "tan",
           "tan",
           "tan",
           "tan",
           "tan",
           "tan",
           "tan",
           "tan",
           "tan",
           "tan",
           "tan"
          ]
         },
         "mode": "markers",
         "showlegend": false,
         "type": "scatter",
         "visible": false,
         "x": [
          -40.99,
          -15.55,
          -16.74,
          -16.15,
          -19.62,
          -8.92,
          -10.97,
          -0.7,
          -8.89,
          -9.8,
          1.25,
          37.77,
          17.15,
          18.05,
          12.28,
          15.19,
          9.43,
          1.25,
          -0.86,
          -0.43,
          -10.68,
          -0.72
         ],
         "y": [
          -0.68,
          -7.11,
          1.87,
          -17.06,
          14.12,
          0.83,
          -9.25,
          -9.18,
          -18.5,
          13.27,
          8.1,
          -0.11,
          4.19,
          -6.61,
          18.41,
          -22.23,
          -1.87,
          -18.16,
          0.89,
          23.3,
          -18.49,
          -8.67
         ]
        },
        {
         "marker": {
          "color": "black"
         },
         "mode": "markers",
         "showlegend": false,
         "type": "scatter",
         "visible": false,
         "x": [
          3.7
         ],
         "y": [
          -1.73
         ]
        },
        {
         "hovertext": [
          "Daphne van Domselaar",
          "Anna Patten",
          "Rachel Corsie",
          "Sarah Emma Mayling",
          "Danielle Turner",
          "Lucy Staniforth",
          "Lucy Parker",
          "Laura Madison Blindkilde Brown",
          "Alisha Lehmann",
          "Kirsty Hanson",
          "Rachel Daly",
          "Mary Earps",
          "Maya Le Tissier",
          "Millie Turner",
          "Hannah Blundell",
          "Gabrielle George",
          "Katie Zelem",
          "Ella Toone",
          "Hayley Ladd",
          "Lucía García Córdoba",
          "Leah Galton",
          " Geyse"
         ],
         "marker": {
          "color": [
           "steelblue",
           "steelblue",
           "steelblue",
           "steelblue",
           "steelblue",
           "steelblue",
           "steelblue",
           "steelblue",
           "steelblue",
           "steelblue",
           "steelblue",
           "tan",
           "tan",
           "tan",
           "tan",
           "tan",
           "tan",
           "tan",
           "tan",
           "tan",
           "tan",
           "tan"
          ]
         },
         "mode": "markers",
         "showlegend": false,
         "type": "scatter",
         "visible": false,
         "x": [
          -41.02,
          -15.6,
          -16.78,
          -16.19,
          -19.67,
          -8.73,
          -10.99,
          -0.75,
          -8.79,
          -9.77,
          1.49,
          37.72,
          17.19,
          18.16,
          12.27,
          15.26,
          9.41,
          1.38,
          -0.89,
          -0.53,
          -10.85,
          -0.85
         ],
         "y": [
          -0.66,
          -7.13,
          1.87,
          -17.04,
          14.19,
          0.83,
          -9.3,
          -9.1,
          -18.51,
          13.21,
          7.88,
          -0.13,
          4.18,
          -6.62,
          18.4,
          -22.33,
          -1.85,
          -18.13,
          0.92,
          23.41,
          -18.6,
          -8.56
         ]
        },
        {
         "marker": {
          "color": "black"
         },
         "mode": "markers",
         "showlegend": false,
         "type": "scatter",
         "visible": false,
         "x": [
          4.73
         ],
         "y": [
          -2.03
         ]
        },
        {
         "hovertext": [
          "Daphne van Domselaar",
          "Anna Patten",
          "Rachel Corsie",
          "Sarah Emma Mayling",
          "Danielle Turner",
          "Lucy Staniforth",
          "Lucy Parker",
          "Laura Madison Blindkilde Brown",
          "Alisha Lehmann",
          "Kirsty Hanson",
          "Rachel Daly",
          "Mary Earps",
          "Maya Le Tissier",
          "Millie Turner",
          "Hannah Blundell",
          "Gabrielle George",
          "Katie Zelem",
          "Ella Toone",
          "Hayley Ladd",
          "Lucía García Córdoba",
          "Leah Galton",
          " Geyse"
         ],
         "marker": {
          "color": [
           "steelblue",
           "steelblue",
           "steelblue",
           "steelblue",
           "steelblue",
           "steelblue",
           "steelblue",
           "steelblue",
           "steelblue",
           "steelblue",
           "steelblue",
           "tan",
           "tan",
           "tan",
           "tan",
           "tan",
           "tan",
           "tan",
           "tan",
           "tan",
           "tan",
           "tan"
          ]
         },
         "mode": "markers",
         "showlegend": false,
         "type": "scatter",
         "visible": false,
         "x": [
          -41.05,
          -15.63,
          -16.8,
          -16.23,
          -19.72,
          -8.51,
          -11.03,
          -0.81,
          -8.68,
          -9.73,
          1.74,
          37.67,
          17.24,
          18.27,
          12.28,
          15.34,
          9.39,
          1.53,
          -0.94,
          -0.64,
          -10.99,
          -1
         ],
         "y": [
          -0.65,
          -7.15,
          1.87,
          -17.02,
          14.23,
          0.83,
          -9.36,
          -9,
          -18.51,
          13.14,
          7.65,
          -0.14,
          4.17,
          -6.63,
          18.4,
          -22.44,
          -1.84,
          -18.11,
          0.95,
          23.53,
          -18.7,
          -8.44
         ]
        },
        {
         "marker": {
          "color": "black"
         },
         "mode": "markers",
         "showlegend": false,
         "type": "scatter",
         "visible": false,
         "x": [
          5.75
         ],
         "y": [
          -2.26
         ]
        },
        {
         "hovertext": [
          "Daphne van Domselaar",
          "Anna Patten",
          "Rachel Corsie",
          "Sarah Emma Mayling",
          "Danielle Turner",
          "Lucy Staniforth",
          "Lucy Parker",
          "Laura Madison Blindkilde Brown",
          "Alisha Lehmann",
          "Kirsty Hanson",
          "Rachel Daly",
          "Mary Earps",
          "Maya Le Tissier",
          "Millie Turner",
          "Hannah Blundell",
          "Gabrielle George",
          "Katie Zelem",
          "Ella Toone",
          "Hayley Ladd",
          "Lucía García Córdoba",
          "Leah Galton",
          " Geyse"
         ],
         "marker": {
          "color": [
           "steelblue",
           "steelblue",
           "steelblue",
           "steelblue",
           "steelblue",
           "steelblue",
           "steelblue",
           "steelblue",
           "steelblue",
           "steelblue",
           "steelblue",
           "tan",
           "tan",
           "tan",
           "tan",
           "tan",
           "tan",
           "tan",
           "tan",
           "tan",
           "tan",
           "tan"
          ]
         },
         "mode": "markers",
         "showlegend": false,
         "type": "scatter",
         "visible": false,
         "x": [
          -41.07,
          -15.65,
          -16.81,
          -16.24,
          -19.76,
          -8.28,
          -11.08,
          -0.89,
          -8.56,
          -9.68,
          2.01,
          37.64,
          17.29,
          18.41,
          12.29,
          15.41,
          9.37,
          1.69,
          -0.99,
          -0.74,
          -11.13,
          -1.16
         ],
         "y": [
          -0.64,
          -7.16,
          1.87,
          -17.01,
          14.25,
          0.83,
          -9.44,
          -8.9,
          -18.52,
          13.06,
          7.4,
          -0.15,
          4.17,
          -6.65,
          18.4,
          -22.54,
          -1.84,
          -18.08,
          0.99,
          23.64,
          -18.78,
          -8.33
         ]
        },
        {
         "marker": {
          "color": "black"
         },
         "mode": "markers",
         "showlegend": false,
         "type": "scatter",
         "visible": false,
         "x": [
          6.71
         ],
         "y": [
          -2.42
         ]
        },
        {
         "hovertext": [
          "Daphne van Domselaar",
          "Anna Patten",
          "Rachel Corsie",
          "Sarah Emma Mayling",
          "Danielle Turner",
          "Lucy Staniforth",
          "Lucy Parker",
          "Laura Madison Blindkilde Brown",
          "Alisha Lehmann",
          "Kirsty Hanson",
          "Rachel Daly",
          "Mary Earps",
          "Maya Le Tissier",
          "Millie Turner",
          "Hannah Blundell",
          "Gabrielle George",
          "Katie Zelem",
          "Ella Toone",
          "Hayley Ladd",
          "Lucía García Córdoba",
          "Leah Galton",
          " Geyse"
         ],
         "marker": {
          "color": [
           "steelblue",
           "steelblue",
           "steelblue",
           "steelblue",
           "steelblue",
           "steelblue",
           "steelblue",
           "steelblue",
           "steelblue",
           "steelblue",
           "steelblue",
           "tan",
           "tan",
           "tan",
           "tan",
           "tan",
           "tan",
           "tan",
           "tan",
           "tan",
           "tan",
           "tan"
          ]
         },
         "mode": "markers",
         "showlegend": false,
         "type": "scatter",
         "visible": false,
         "x": [
          -41.09,
          -15.66,
          -16.8,
          -16.25,
          -19.78,
          -8.02,
          -11.16,
          -0.97,
          -8.43,
          -9.6,
          2.28,
          37.62,
          17.35,
          18.54,
          12.3,
          15.47,
          9.35,
          1.87,
          -1.05,
          -0.86,
          -11.25,
          -1.33
         ],
         "y": [
          -0.64,
          -7.17,
          1.86,
          -17,
          14.24,
          0.83,
          -9.52,
          -8.8,
          -18.53,
          12.98,
          7.12,
          -0.16,
          4.18,
          -6.67,
          18.41,
          -22.63,
          -1.86,
          -18.04,
          1.05,
          23.73,
          -18.87,
          -8.23
         ]
        },
        {
         "marker": {
          "color": "black"
         },
         "mode": "markers",
         "showlegend": false,
         "type": "scatter",
         "visible": false,
         "x": [
          7.51
         ],
         "y": [
          -2.62
         ]
        },
        {
         "hovertext": [
          "Daphne van Domselaar",
          "Anna Patten",
          "Rachel Corsie",
          "Sarah Emma Mayling",
          "Danielle Turner",
          "Lucy Staniforth",
          "Lucy Parker",
          "Laura Madison Blindkilde Brown",
          "Alisha Lehmann",
          "Kirsty Hanson",
          "Rachel Daly",
          "Mary Earps",
          "Maya Le Tissier",
          "Millie Turner",
          "Hannah Blundell",
          "Gabrielle George",
          "Katie Zelem",
          "Ella Toone",
          "Hayley Ladd",
          "Lucía García Córdoba",
          "Leah Galton",
          " Geyse"
         ],
         "marker": {
          "color": [
           "steelblue",
           "steelblue",
           "steelblue",
           "steelblue",
           "steelblue",
           "steelblue",
           "steelblue",
           "steelblue",
           "steelblue",
           "steelblue",
           "steelblue",
           "tan",
           "tan",
           "tan",
           "tan",
           "tan",
           "tan",
           "tan",
           "tan",
           "tan",
           "tan",
           "tan"
          ]
         },
         "mode": "markers",
         "showlegend": false,
         "type": "scatter",
         "visible": false,
         "x": [
          -41.1,
          -15.67,
          -16.78,
          -16.25,
          -19.78,
          -7.75,
          -11.24,
          -1.06,
          -8.3,
          -9.5,
          2.57,
          37.62,
          17.41,
          18.69,
          12.31,
          15.54,
          9.34,
          2.06,
          -1.11,
          -0.98,
          -11.37,
          -1.53
         ],
         "y": [
          -0.64,
          -7.18,
          1.85,
          -16.99,
          14.21,
          0.82,
          -9.6,
          -8.69,
          -18.54,
          12.88,
          6.81,
          -0.17,
          4.19,
          -6.69,
          18.42,
          -22.72,
          -1.89,
          -18,
          1.12,
          23.82,
          -18.96,
          -8.12
         ]
        },
        {
         "marker": {
          "color": "black"
         },
         "mode": "markers",
         "showlegend": false,
         "type": "scatter",
         "visible": false,
         "x": [
          8.12
         ],
         "y": [
          -2.78
         ]
        },
        {
         "hovertext": [
          "Daphne van Domselaar",
          "Anna Patten",
          "Rachel Corsie",
          "Sarah Emma Mayling",
          "Danielle Turner",
          "Lucy Staniforth",
          "Lucy Parker",
          "Laura Madison Blindkilde Brown",
          "Alisha Lehmann",
          "Kirsty Hanson",
          "Rachel Daly",
          "Mary Earps",
          "Maya Le Tissier",
          "Millie Turner",
          "Hannah Blundell",
          "Gabrielle George",
          "Katie Zelem",
          "Ella Toone",
          "Hayley Ladd",
          "Lucía García Córdoba",
          "Leah Galton",
          " Geyse"
         ],
         "marker": {
          "color": [
           "steelblue",
           "steelblue",
           "steelblue",
           "steelblue",
           "steelblue",
           "steelblue",
           "steelblue",
           "steelblue",
           "steelblue",
           "steelblue",
           "steelblue",
           "tan",
           "tan",
           "tan",
           "tan",
           "tan",
           "tan",
           "tan",
           "tan",
           "tan",
           "tan",
           "tan"
          ]
         },
         "mode": "markers",
         "showlegend": false,
         "type": "scatter",
         "visible": false,
         "x": [
          -41.1,
          -15.68,
          -16.76,
          -16.25,
          -19.76,
          -7.47,
          -11.33,
          -1.14,
          -8.17,
          -9.4,
          2.85,
          37.61,
          17.48,
          18.84,
          12.32,
          15.62,
          9.34,
          2.27,
          -1.17,
          -1.1,
          -11.48,
          -1.74
         ],
         "y": [
          -0.65,
          -7.19,
          1.83,
          -16.98,
          14.18,
          0.8,
          -9.69,
          -8.58,
          -18.57,
          12.78,
          6.48,
          -0.18,
          4.2,
          -6.73,
          18.43,
          -22.81,
          -1.94,
          -17.94,
          1.21,
          23.91,
          -19.03,
          -8.02
         ]
        },
        {
         "marker": {
          "color": "black"
         },
         "mode": "markers",
         "showlegend": false,
         "type": "scatter",
         "visible": false,
         "x": [
          8.52
         ],
         "y": [
          -2.94
         ]
        },
        {
         "hovertext": [
          "Daphne van Domselaar",
          "Anna Patten",
          "Rachel Corsie",
          "Sarah Emma Mayling",
          "Danielle Turner",
          "Lucy Staniforth",
          "Lucy Parker",
          "Laura Madison Blindkilde Brown",
          "Alisha Lehmann",
          "Kirsty Hanson",
          "Rachel Daly",
          "Mary Earps",
          "Maya Le Tissier",
          "Millie Turner",
          "Hannah Blundell",
          "Gabrielle George",
          "Katie Zelem",
          "Ella Toone",
          "Hayley Ladd",
          "Lucía García Córdoba",
          "Leah Galton",
          " Geyse"
         ],
         "marker": {
          "color": [
           "steelblue",
           "steelblue",
           "steelblue",
           "steelblue",
           "steelblue",
           "steelblue",
           "steelblue",
           "steelblue",
           "steelblue",
           "steelblue",
           "steelblue",
           "tan",
           "tan",
           "tan",
           "tan",
           "tan",
           "tan",
           "tan",
           "tan",
           "tan",
           "tan",
           "tan"
          ]
         },
         "mode": "markers",
         "showlegend": false,
         "type": "scatter",
         "visible": false,
         "x": [
          -41.1,
          -15.68,
          -16.73,
          -16.24,
          -19.72,
          -7.19,
          -11.39,
          -1.2,
          -8.05,
          -9.28,
          3.14,
          37.62,
          17.56,
          19,
          12.33,
          15.7,
          9.35,
          2.48,
          -1.22,
          -1.22,
          -11.58,
          -1.97
         ],
         "y": [
          -0.66,
          -7.19,
          1.81,
          -16.97,
          14.14,
          0.78,
          -9.78,
          -8.48,
          -18.6,
          12.66,
          6.13,
          -0.18,
          4.21,
          -6.77,
          18.44,
          -22.89,
          -2.01,
          -17.88,
          1.3,
          23.98,
          -19.1,
          -7.92
         ]
        },
        {
         "marker": {
          "color": "black"
         },
         "mode": "markers",
         "showlegend": false,
         "type": "scatter",
         "visible": false,
         "x": [
          8.77
         ],
         "y": [
          -3.11
         ]
        },
        {
         "hovertext": [
          "Daphne van Domselaar",
          "Anna Patten",
          "Rachel Corsie",
          "Sarah Emma Mayling",
          "Danielle Turner",
          "Lucy Staniforth",
          "Lucy Parker",
          "Laura Madison Blindkilde Brown",
          "Alisha Lehmann",
          "Kirsty Hanson",
          "Rachel Daly",
          "Mary Earps",
          "Maya Le Tissier",
          "Millie Turner",
          "Hannah Blundell",
          "Gabrielle George",
          "Katie Zelem",
          "Ella Toone",
          "Hayley Ladd",
          "Lucía García Córdoba",
          "Leah Galton",
          " Geyse"
         ],
         "marker": {
          "color": [
           "steelblue",
           "steelblue",
           "steelblue",
           "steelblue",
           "steelblue",
           "steelblue",
           "steelblue",
           "steelblue",
           "steelblue",
           "steelblue",
           "steelblue",
           "tan",
           "tan",
           "tan",
           "tan",
           "tan",
           "tan",
           "tan",
           "tan",
           "tan",
           "tan",
           "tan"
          ]
         },
         "mode": "markers",
         "showlegend": false,
         "type": "scatter",
         "visible": false,
         "x": [
          -41.09,
          -15.68,
          -16.7,
          -16.22,
          -19.66,
          -6.89,
          -11.41,
          -1.25,
          -7.93,
          -9.16,
          3.41,
          37.63,
          17.65,
          19.16,
          12.34,
          15.8,
          9.38,
          2.69,
          -1.27,
          -1.34,
          -11.68,
          -2.22
         ],
         "y": [
          -0.67,
          -7.2,
          1.78,
          -16.97,
          14.11,
          0.75,
          -9.88,
          -8.38,
          -18.66,
          12.53,
          5.75,
          -0.19,
          4.22,
          -6.82,
          18.45,
          -22.98,
          -2.1,
          -17.82,
          1.42,
          24.04,
          -19.18,
          -7.82
         ]
        },
        {
         "marker": {
          "color": "black"
         },
         "mode": "markers",
         "showlegend": false,
         "type": "scatter",
         "visible": false,
         "x": [
          8.91
         ],
         "y": [
          -3.3
         ]
        },
        {
         "hovertext": [
          "Daphne van Domselaar",
          "Anna Patten",
          "Rachel Corsie",
          "Sarah Emma Mayling",
          "Danielle Turner",
          "Lucy Staniforth",
          "Lucy Parker",
          "Laura Madison Blindkilde Brown",
          "Alisha Lehmann",
          "Kirsty Hanson",
          "Rachel Daly",
          "Mary Earps",
          "Maya Le Tissier",
          "Millie Turner",
          "Hannah Blundell",
          "Gabrielle George",
          "Katie Zelem",
          "Ella Toone",
          "Hayley Ladd",
          "Lucía García Córdoba",
          "Leah Galton",
          " Geyse"
         ],
         "marker": {
          "color": [
           "steelblue",
           "steelblue",
           "steelblue",
           "steelblue",
           "steelblue",
           "steelblue",
           "steelblue",
           "steelblue",
           "steelblue",
           "steelblue",
           "steelblue",
           "tan",
           "tan",
           "tan",
           "tan",
           "tan",
           "tan",
           "tan",
           "tan",
           "tan",
           "tan",
           "tan"
          ]
         },
         "mode": "markers",
         "showlegend": false,
         "type": "scatter",
         "visible": false,
         "x": [
          -41.08,
          -15.68,
          -16.67,
          -16.19,
          -19.6,
          -6.59,
          -11.39,
          -1.27,
          -7.81,
          -9.03,
          3.68,
          37.64,
          17.74,
          19.32,
          12.35,
          15.91,
          9.42,
          2.89,
          -1.31,
          -1.47,
          -11.78,
          -2.48
         ],
         "y": [
          -0.68,
          -7.21,
          1.76,
          -16.98,
          14.09,
          0.71,
          -9.96,
          -8.29,
          -18.73,
          12.39,
          5.35,
          -0.2,
          4.23,
          -6.89,
          18.45,
          -23.07,
          -2.21,
          -17.74,
          1.54,
          24.09,
          -19.27,
          -7.72
         ]
        },
        {
         "marker": {
          "color": "black"
         },
         "mode": "markers",
         "showlegend": false,
         "type": "scatter",
         "visible": false,
         "x": [
          8.99
         ],
         "y": [
          -3.51
         ]
        },
        {
         "hovertext": [
          "Daphne van Domselaar",
          "Anna Patten",
          "Rachel Corsie",
          "Sarah Emma Mayling",
          "Danielle Turner",
          "Lucy Staniforth",
          "Lucy Parker",
          "Laura Madison Blindkilde Brown",
          "Alisha Lehmann",
          "Kirsty Hanson",
          "Rachel Daly",
          "Mary Earps",
          "Maya Le Tissier",
          "Millie Turner",
          "Hannah Blundell",
          "Gabrielle George",
          "Katie Zelem",
          "Ella Toone",
          "Hayley Ladd",
          "Lucía García Córdoba",
          "Leah Galton",
          " Geyse"
         ],
         "marker": {
          "color": [
           "steelblue",
           "steelblue",
           "steelblue",
           "steelblue",
           "steelblue",
           "steelblue",
           "steelblue",
           "steelblue",
           "steelblue",
           "steelblue",
           "steelblue",
           "tan",
           "tan",
           "tan",
           "tan",
           "tan",
           "tan",
           "tan",
           "tan",
           "tan",
           "tan",
           "tan"
          ]
         },
         "mode": "markers",
         "showlegend": false,
         "type": "scatter",
         "visible": false,
         "x": [
          -41.06,
          -15.67,
          -16.63,
          -16.15,
          -19.52,
          -6.28,
          -11.36,
          -1.26,
          -7.71,
          -8.9,
          3.92,
          37.66,
          17.84,
          19.49,
          12.36,
          16.03,
          9.46,
          3.09,
          -1.36,
          -1.6,
          -11.88,
          -2.77
         ],
         "y": [
          -0.69,
          -7.22,
          1.72,
          -17,
          14.07,
          0.65,
          -10.05,
          -8.22,
          -18.81,
          12.22,
          4.93,
          -0.21,
          4.25,
          -6.96,
          18.45,
          -23.17,
          -2.35,
          -17.66,
          1.67,
          24.15,
          -19.36,
          -7.63
         ]
        },
        {
         "marker": {
          "color": "black"
         },
         "mode": "markers",
         "showlegend": false,
         "type": "scatter",
         "visible": false,
         "x": [
          9.04
         ],
         "y": [
          -3.73
         ]
        },
        {
         "hovertext": [
          "Daphne van Domselaar",
          "Anna Patten",
          "Rachel Corsie",
          "Sarah Emma Mayling",
          "Danielle Turner",
          "Lucy Staniforth",
          "Lucy Parker",
          "Laura Madison Blindkilde Brown",
          "Alisha Lehmann",
          "Kirsty Hanson",
          "Rachel Daly",
          "Mary Earps",
          "Maya Le Tissier",
          "Millie Turner",
          "Hannah Blundell",
          "Gabrielle George",
          "Katie Zelem",
          "Ella Toone",
          "Hayley Ladd",
          "Lucía García Córdoba",
          "Leah Galton",
          " Geyse"
         ],
         "marker": {
          "color": [
           "steelblue",
           "steelblue",
           "steelblue",
           "steelblue",
           "steelblue",
           "steelblue",
           "steelblue",
           "steelblue",
           "steelblue",
           "steelblue",
           "steelblue",
           "tan",
           "tan",
           "tan",
           "tan",
           "tan",
           "tan",
           "tan",
           "tan",
           "tan",
           "tan",
           "tan"
          ]
         },
         "mode": "markers",
         "showlegend": false,
         "type": "scatter",
         "visible": false,
         "x": [
          -41.03,
          -15.65,
          -16.59,
          -16.09,
          -19.44,
          -5.98,
          -11.31,
          -1.21,
          -7.62,
          -8.77,
          4.15,
          37.67,
          17.95,
          19.67,
          12.37,
          16.14,
          9.5,
          3.27,
          -1.41,
          -1.74,
          -11.97,
          -3.08
         ],
         "y": [
          -0.71,
          -7.24,
          1.67,
          -17.04,
          14.06,
          0.58,
          -10.13,
          -8.17,
          -18.9,
          12.03,
          4.49,
          -0.23,
          4.26,
          -7.05,
          18.44,
          -23.27,
          -2.5,
          -17.58,
          1.8,
          24.2,
          -19.46,
          -7.55
         ]
        },
        {
         "marker": {
          "color": "black"
         },
         "mode": "markers",
         "showlegend": false,
         "type": "scatter",
         "visible": false,
         "x": [
          9.07
         ],
         "y": [
          -3.92
         ]
        },
        {
         "hovertext": [
          "Daphne van Domselaar",
          "Anna Patten",
          "Rachel Corsie",
          "Sarah Emma Mayling",
          "Danielle Turner",
          "Lucy Staniforth",
          "Lucy Parker",
          "Laura Madison Blindkilde Brown",
          "Alisha Lehmann",
          "Kirsty Hanson",
          "Rachel Daly",
          "Mary Earps",
          "Maya Le Tissier",
          "Millie Turner",
          "Hannah Blundell",
          "Gabrielle George",
          "Katie Zelem",
          "Ella Toone",
          "Hayley Ladd",
          "Lucía García Córdoba",
          "Leah Galton",
          " Geyse"
         ],
         "marker": {
          "color": [
           "steelblue",
           "steelblue",
           "steelblue",
           "steelblue",
           "steelblue",
           "steelblue",
           "steelblue",
           "steelblue",
           "steelblue",
           "steelblue",
           "steelblue",
           "tan",
           "tan",
           "tan",
           "tan",
           "tan",
           "tan",
           "tan",
           "tan",
           "tan",
           "tan",
           "tan"
          ]
         },
         "mode": "markers",
         "showlegend": false,
         "type": "scatter",
         "visible": false,
         "x": [
          -40.99,
          -15.61,
          -16.53,
          -16.03,
          -19.35,
          -5.68,
          -11.25,
          -1.12,
          -7.55,
          -8.64,
          4.36,
          37.67,
          18.05,
          19.84,
          12.38,
          16.25,
          9.54,
          3.44,
          -1.46,
          -1.89,
          -12.05,
          -3.4
         ],
         "y": [
          -0.73,
          -7.26,
          1.62,
          -17.08,
          14.05,
          0.49,
          -10.21,
          -8.14,
          -19,
          11.81,
          4.05,
          -0.25,
          4.28,
          -7.15,
          18.43,
          -23.39,
          -2.66,
          -17.49,
          1.93,
          24.25,
          -19.56,
          -7.48
         ]
        },
        {
         "marker": {
          "color": "black"
         },
         "mode": "markers",
         "showlegend": false,
         "type": "scatter",
         "visible": false,
         "x": [
          9.09
         ],
         "y": [
          -4.04
         ]
        },
        {
         "hovertext": [
          "Daphne van Domselaar",
          "Anna Patten",
          "Rachel Corsie",
          "Sarah Emma Mayling",
          "Danielle Turner",
          "Lucy Staniforth",
          "Lucy Parker",
          "Laura Madison Blindkilde Brown",
          "Alisha Lehmann",
          "Kirsty Hanson",
          "Rachel Daly",
          "Mary Earps",
          "Maya Le Tissier",
          "Millie Turner",
          "Hannah Blundell",
          "Gabrielle George",
          "Katie Zelem",
          "Ella Toone",
          "Hayley Ladd",
          "Lucía García Córdoba",
          "Leah Galton",
          " Geyse"
         ],
         "marker": {
          "color": [
           "steelblue",
           "steelblue",
           "steelblue",
           "steelblue",
           "steelblue",
           "steelblue",
           "steelblue",
           "steelblue",
           "steelblue",
           "steelblue",
           "steelblue",
           "tan",
           "tan",
           "tan",
           "tan",
           "tan",
           "tan",
           "tan",
           "tan",
           "tan",
           "tan",
           "tan"
          ]
         },
         "mode": "markers",
         "showlegend": false,
         "type": "scatter",
         "visible": false,
         "x": [
          -40.94,
          -15.57,
          -16.47,
          -15.96,
          -19.26,
          -5.38,
          -11.18,
          -0.99,
          -7.48,
          -8.51,
          4.56,
          37.67,
          18.16,
          20.01,
          12.38,
          16.35,
          9.58,
          3.6,
          -1.52,
          -2.04,
          -12.12,
          -3.74
         ],
         "y": [
          -0.75,
          -7.29,
          1.56,
          -17.14,
          14.05,
          0.39,
          -10.29,
          -8.13,
          -19.11,
          11.58,
          3.6,
          -0.28,
          4.31,
          -7.27,
          18.42,
          -23.53,
          -2.83,
          -17.41,
          2.05,
          24.31,
          -19.65,
          -7.42
         ]
        },
        {
         "marker": {
          "color": "black"
         },
         "mode": "markers",
         "showlegend": false,
         "type": "scatter",
         "visible": false,
         "x": [
          9.14
         ],
         "y": [
          -4.12
         ]
        },
        {
         "hovertext": [
          "Daphne van Domselaar",
          "Anna Patten",
          "Rachel Corsie",
          "Sarah Emma Mayling",
          "Danielle Turner",
          "Lucy Staniforth",
          "Lucy Parker",
          "Laura Madison Blindkilde Brown",
          "Alisha Lehmann",
          "Kirsty Hanson",
          "Rachel Daly",
          "Mary Earps",
          "Maya Le Tissier",
          "Millie Turner",
          "Hannah Blundell",
          "Gabrielle George",
          "Katie Zelem",
          "Ella Toone",
          "Hayley Ladd",
          "Lucía García Córdoba",
          "Leah Galton",
          " Geyse"
         ],
         "marker": {
          "color": [
           "steelblue",
           "steelblue",
           "steelblue",
           "steelblue",
           "steelblue",
           "steelblue",
           "steelblue",
           "steelblue",
           "steelblue",
           "steelblue",
           "steelblue",
           "tan",
           "tan",
           "tan",
           "tan",
           "tan",
           "tan",
           "tan",
           "tan",
           "tan",
           "tan",
           "tan"
          ]
         },
         "mode": "markers",
         "showlegend": false,
         "type": "scatter",
         "visible": false,
         "x": [
          -40.88,
          -15.52,
          -16.4,
          -15.88,
          -19.16,
          -5.09,
          -11.11,
          -0.81,
          -7.44,
          -8.37,
          4.76,
          37.67,
          18.27,
          20.17,
          12.39,
          16.45,
          9.62,
          3.74,
          -1.59,
          -2.2,
          -12.18,
          -4.1
         ],
         "y": [
          -0.78,
          -7.33,
          1.51,
          -17.2,
          14.05,
          0.27,
          -10.37,
          -8.14,
          -19.24,
          11.33,
          3.15,
          -0.32,
          4.34,
          -7.4,
          18.41,
          -23.66,
          -3.01,
          -17.33,
          2.18,
          24.35,
          -19.76,
          -7.38
         ]
        },
        {
         "marker": {
          "color": "black"
         },
         "mode": "markers",
         "showlegend": false,
         "type": "scatter",
         "visible": false,
         "x": [
          9.22
         ],
         "y": [
          -4.28
         ]
        },
        {
         "hovertext": [
          "Daphne van Domselaar",
          "Anna Patten",
          "Rachel Corsie",
          "Sarah Emma Mayling",
          "Danielle Turner",
          "Lucy Staniforth",
          "Lucy Parker",
          "Laura Madison Blindkilde Brown",
          "Alisha Lehmann",
          "Kirsty Hanson",
          "Rachel Daly",
          "Mary Earps",
          "Maya Le Tissier",
          "Millie Turner",
          "Hannah Blundell",
          "Gabrielle George",
          "Katie Zelem",
          "Ella Toone",
          "Hayley Ladd",
          "Lucía García Córdoba",
          "Leah Galton",
          " Geyse"
         ],
         "marker": {
          "color": [
           "steelblue",
           "steelblue",
           "steelblue",
           "steelblue",
           "steelblue",
           "steelblue",
           "steelblue",
           "steelblue",
           "steelblue",
           "steelblue",
           "steelblue",
           "tan",
           "tan",
           "tan",
           "tan",
           "tan",
           "tan",
           "tan",
           "tan",
           "tan",
           "tan",
           "tan"
          ]
         },
         "mode": "markers",
         "showlegend": false,
         "type": "scatter",
         "visible": false,
         "x": [
          -40.82,
          -15.46,
          -16.32,
          -15.8,
          -19.06,
          -4.81,
          -11.02,
          -0.58,
          -7.4,
          -8.22,
          4.95,
          37.65,
          18.38,
          20.34,
          12.39,
          16.54,
          9.66,
          3.86,
          -1.65,
          -2.36,
          -12.22,
          -4.46
         ],
         "y": [
          -0.81,
          -7.37,
          1.45,
          -17.27,
          14.06,
          0.13,
          -10.46,
          -8.17,
          -19.39,
          11.07,
          2.7,
          -0.36,
          4.38,
          -7.54,
          18.4,
          -23.81,
          -3.19,
          -17.27,
          2.3,
          24.4,
          -19.86,
          -7.34
         ]
        },
        {
         "marker": {
          "color": "black"
         },
         "mode": "markers",
         "showlegend": false,
         "type": "scatter",
         "visible": false,
         "x": [
          9.37
         ],
         "y": [
          -4.8
         ]
        },
        {
         "hovertext": [
          "Daphne van Domselaar",
          "Anna Patten",
          "Rachel Corsie",
          "Sarah Emma Mayling",
          "Danielle Turner",
          "Lucy Staniforth",
          "Lucy Parker",
          "Laura Madison Blindkilde Brown",
          "Alisha Lehmann",
          "Kirsty Hanson",
          "Rachel Daly",
          "Mary Earps",
          "Maya Le Tissier",
          "Millie Turner",
          "Hannah Blundell",
          "Gabrielle George",
          "Katie Zelem",
          "Ella Toone",
          "Hayley Ladd",
          "Lucía García Córdoba",
          "Leah Galton",
          " Geyse"
         ],
         "marker": {
          "color": [
           "steelblue",
           "steelblue",
           "steelblue",
           "steelblue",
           "steelblue",
           "steelblue",
           "steelblue",
           "steelblue",
           "steelblue",
           "steelblue",
           "steelblue",
           "tan",
           "tan",
           "tan",
           "tan",
           "tan",
           "tan",
           "tan",
           "tan",
           "tan",
           "tan",
           "tan"
          ]
         },
         "mode": "markers",
         "showlegend": false,
         "type": "scatter",
         "visible": false,
         "x": [
          -40.77,
          -15.39,
          -16.23,
          -15.72,
          -18.95,
          -4.53,
          -10.93,
          -0.32,
          -7.37,
          -8.06,
          5.16,
          37.64,
          18.48,
          20.5,
          12.39,
          16.62,
          9.7,
          3.97,
          -1.71,
          -2.51,
          -12.25,
          -4.82
         ],
         "y": [
          -0.85,
          -7.42,
          1.39,
          -17.34,
          14.06,
          -0.01,
          -10.55,
          -8.22,
          -19.54,
          10.78,
          2.26,
          -0.4,
          4.42,
          -7.71,
          18.39,
          -23.95,
          -3.36,
          -17.21,
          2.41,
          24.43,
          -19.96,
          -7.31
         ]
        },
        {
         "marker": {
          "color": "black"
         },
         "mode": "markers",
         "showlegend": false,
         "type": "scatter",
         "visible": false,
         "x": [
          9.61
         ],
         "y": [
          -5.82
         ]
        }
       ],
       "layout": {
        "dragmode": false,
        "height": 600,
        "legend": {
         "font": {
          "family": "Roboto, sans-serif",
          "size": 14
         },
         "x": 1,
         "xanchor": "left",
         "y": 0.85
        },
        "margin": {
         "b": 0,
         "l": 0,
         "r": 100,
         "t": 0
        },
        "paper_bgcolor": "rgba(0, 0, 0, 0)",
        "plot_bgcolor": "rgba(0, 0, 0, 0)",
        "shapes": [
         {
          "fillcolor": "rgba(0, 0, 0, 0)",
          "line": {
           "color": "darkgrey",
           "dash": "solid",
           "width": 1
          },
          "type": "rect",
          "x0": -52.5,
          "x1": 52.5,
          "y0": -34,
          "y1": 34
         },
         {
          "line": {
           "color": "darkgrey",
           "dash": "solid",
           "width": 0.5
          },
          "type": "line",
          "x0": 0,
          "x1": 0,
          "y0": -34,
          "y1": 34
         },
         {
          "fillcolor": "rgba(0, 0, 0, 0)",
          "line": {
           "color": "darkgrey",
           "dash": "solid",
           "width": 0.6
          },
          "type": "rect",
          "x0": -52.5,
          "x1": -36,
          "y0": -20.16,
          "y1": 20.16
         },
         {
          "fillcolor": "rgba(0, 0, 0, 0)",
          "line": {
           "color": "darkgrey",
           "dash": "solid",
           "width": 0.6
          },
          "type": "rect",
          "x0": 36,
          "x1": 52.5,
          "y0": -20.16,
          "y1": 20.16
         },
         {
          "fillcolor": "rgba(0, 0, 0, 0)",
          "line": {
           "color": "darkgrey",
           "dash": "solid",
           "width": 0.5
          },
          "type": "rect",
          "x0": -52.5,
          "x1": -47,
          "y0": -9.16,
          "y1": 9.16
         },
         {
          "fillcolor": "rgba(0, 0, 0, 0)",
          "line": {
           "color": "darkgrey",
           "dash": "solid",
           "width": 0.5
          },
          "type": "rect",
          "x0": 47,
          "x1": 52.5,
          "y0": -9.16,
          "y1": 9.16
         },
         {
          "fillcolor": "rgba(0, 0, 0, 0)",
          "line": {
           "color": "darkgrey",
           "dash": "solid",
           "width": 0.5
          },
          "type": "circle",
          "x0": -9.15,
          "x1": 9.15,
          "y0": -9.15,
          "y1": 9.15
         },
         {
          "fillcolor": "rgba(0, 0, 0, 0)",
          "line": {
           "color": "darkgrey",
           "dash": "solid",
           "width": 0.5
          },
          "path": "M -36.0,7.312489316231511 L-36.0,7.312489316231511 L-35.8641854977216,7.208335098752586 L-35.730342911557,7.101658755655575 L-35.59851907171191,6.992497611944673 L-35.46876010205251,6.880889862031386 L-35.34111140396719,6.76687455637069 L-35.215617640481085,6.650491587797662 L-35.09232272062886,6.531781677569364 L-34.971269784091405,6.410786361116876 L-34.8525011861017,6.287547973512462 L-34.736058482625076,6.162109634656936 L-34.62198241581927,6.034515234192441 L-34.51031289977907,5.904809416145888 L-34.40108900657082,5.773037563308453 L-34.29434895256147,5.63924578135658 L-34.19013008504702,5.503480882720067 L-34.0884688691851,5.365790370202848 L-33.98940087523617,5.226222420362231 L-33.892960766117824,5.084825866652396 L-33.79918228527656,4.941650182338049 L-33.70809824488131,4.796745463184206 L-33.619740514342766,4.650162409928193 L-33.53414000916259,4.501952310539936 L-33.451326680116395,4.352167022276822 L-33.371329502774245,4.200858953539342 L-33.2941764673624,4.048081045533913 L-33.21989456896979,3.8938867537492694 L-33.14850979810274,3.7383300292529107 L-33.08004713159111,3.5814652998141527 L-33.01453052384916,3.4233474508603905 L-32.95198289849414,3.2640318062732225 L-32.89242614032552,3.1035741090311677 L-32.83588108766777,2.942030501705747 L-32.78236752507916,2.7794575068177507 L-32.73190417642939,2.6159120070605604 L-32.68450869834827,2.4514512253974563 L-32.64019767404785,2.286132705039859 L-32.598986607520104,2.1200142893135365 L-32.56088991811226,1.9531541014197809 L-32.525920935481565,1.7856105240986793 L-32.49409189493143,1.6174421792015639 L-32.46541393313038,1.4487079071798 L-32.439897084215424,1.2794667464970952 L-32.417550276281276,1.109777912972518 L-32.39838132825643,0.9397007790614653 L-32.38239694716743,0.7692948530818233 L-32.369602725792156,0.598619758392593 L-32.36000314070294,0.4277352125322592 L-32.35360155070029,0.2567010063242161 L-32.35040019563762,0.08557698295654208 L-32.35040019563762,-0.08557698295654309 L-32.35360155070029,-0.2567010063242161 L-32.36000314070294,-0.4277352125322592 L-32.369602725792156,-0.598619758392593 L-32.38239694716743,-0.7692948530818243 L-32.39838132825643,-0.9397007790614653 L-32.417550276281276,-1.1097779129725192 L-32.439897084215424,-1.2794667464970952 L-32.46541393313038,-1.448707907179801 L-32.49409189493143,-1.6174421792015639 L-32.525920935481565,-1.7856105240986793 L-32.56088991811226,-1.953154101419782 L-32.598986607520104,-2.1200142893135365 L-32.64019767404785,-2.2861327050398605 L-32.68450869834827,-2.4514512253974563 L-32.73190417642939,-2.6159120070605604 L-32.78236752507916,-2.7794575068177516 L-32.83588108766777,-2.942030501705747 L-32.892426140325526,-3.1035741090311686 L-32.95198289849414,-3.2640318062732225 L-33.01453052384916,-3.4233474508603905 L-33.08004713159111,-3.5814652998141536 L-33.14850979810274,-3.7383300292529107 L-33.21989456896979,-3.8938867537492707 L-33.2941764673624,-4.048081045533913 L-33.371329502774245,-4.200858953539341 L-33.451326680116395,-4.352167022276822 L-33.53414000916259,-4.501952310539936 L-33.619740514342766,-4.6501624099281935 L-33.70809824488131,-4.796745463184206 L-33.79918228527656,-4.941650182338048 L-33.892960766117824,-5.084825866652397 L-33.98940087523617,-5.226222420362231 L-34.0884688691851,-5.365790370202849 L-34.19013008504702,-5.503480882720067 L-34.29434895256147,-5.639245781356581 L-34.40108900657082,-5.773037563308453 L-34.51031289977907,-5.904809416145888 L-34.62198241581927,-6.034515234192442 L-34.736058482625076,-6.162109634656936 L-34.8525011861017,-6.287547973512463 L-34.971269784091405,-6.410786361116877 L-35.09232272062886,-6.531781677569364 L-35.215617640481085,-6.650491587797662 L-35.34111140396719,-6.76687455637069 L-35.46876010205251,-6.8808898620313865 L-35.59851907171191,-6.992497611944673 L-35.730342911557,-7.101658755655575 L-35.8641854977216,-7.208335098752586 L-36.0,-7.312489316231511 L -36.0,-7.312489316231511",
          "type": "path"
         },
         {
          "fillcolor": "rgba(0, 0, 0, 0)",
          "line": {
           "color": "darkgrey",
           "dash": "solid",
           "width": 0.5
          },
          "path": "M 36.0,7.312489316231511 L36.0,7.312489316231511 L35.8641854977216,7.208335098752586 L35.730342911557,7.101658755655575 L35.59851907171191,6.992497611944673 L35.46876010205251,6.880889862031386 L35.34111140396719,6.76687455637069 L35.215617640481085,6.650491587797662 L35.09232272062886,6.531781677569364 L34.971269784091405,6.410786361116876 L34.8525011861017,6.287547973512462 L34.736058482625076,6.162109634656936 L34.62198241581927,6.034515234192441 L34.51031289977907,5.904809416145888 L34.40108900657082,5.773037563308453 L34.29434895256147,5.63924578135658 L34.19013008504702,5.503480882720067 L34.0884688691851,5.365790370202848 L33.98940087523617,5.226222420362231 L33.892960766117824,5.084825866652396 L33.79918228527656,4.941650182338049 L33.70809824488131,4.796745463184206 L33.619740514342766,4.650162409928193 L33.53414000916259,4.501952310539936 L33.451326680116395,4.352167022276822 L33.371329502774245,4.200858953539342 L33.2941764673624,4.048081045533913 L33.21989456896979,3.8938867537492694 L33.14850979810274,3.7383300292529107 L33.08004713159111,3.5814652998141527 L33.01453052384916,3.4233474508603905 L32.95198289849414,3.2640318062732225 L32.89242614032552,3.1035741090311677 L32.83588108766777,2.942030501705747 L32.78236752507916,2.7794575068177507 L32.73190417642939,2.6159120070605604 L32.68450869834827,2.4514512253974563 L32.64019767404785,2.286132705039859 L32.598986607520104,2.1200142893135365 L32.56088991811226,1.9531541014197809 L32.525920935481565,1.7856105240986793 L32.49409189493143,1.6174421792015639 L32.46541393313038,1.4487079071798 L32.439897084215424,1.2794667464970952 L32.417550276281276,1.109777912972518 L32.39838132825643,0.9397007790614653 L32.38239694716743,0.7692948530818233 L32.369602725792156,0.598619758392593 L32.36000314070294,0.4277352125322592 L32.35360155070029,0.2567010063242161 L32.35040019563762,0.08557698295654208 L32.35040019563762,-0.08557698295654309 L32.35360155070029,-0.2567010063242161 L32.36000314070294,-0.4277352125322592 L32.369602725792156,-0.598619758392593 L32.38239694716743,-0.7692948530818243 L32.39838132825643,-0.9397007790614653 L32.417550276281276,-1.1097779129725192 L32.439897084215424,-1.2794667464970952 L32.46541393313038,-1.448707907179801 L32.49409189493143,-1.6174421792015639 L32.525920935481565,-1.7856105240986793 L32.56088991811226,-1.953154101419782 L32.598986607520104,-2.1200142893135365 L32.64019767404785,-2.2861327050398605 L32.68450869834827,-2.4514512253974563 L32.73190417642939,-2.6159120070605604 L32.78236752507916,-2.7794575068177516 L32.83588108766777,-2.942030501705747 L32.892426140325526,-3.1035741090311686 L32.95198289849414,-3.2640318062732225 L33.01453052384916,-3.4233474508603905 L33.08004713159111,-3.5814652998141536 L33.14850979810274,-3.7383300292529107 L33.21989456896979,-3.8938867537492707 L33.2941764673624,-4.048081045533913 L33.371329502774245,-4.200858953539341 L33.451326680116395,-4.352167022276822 L33.53414000916259,-4.501952310539936 L33.619740514342766,-4.6501624099281935 L33.70809824488131,-4.796745463184206 L33.79918228527656,-4.941650182338048 L33.892960766117824,-5.084825866652397 L33.98940087523617,-5.226222420362231 L34.0884688691851,-5.365790370202849 L34.19013008504702,-5.503480882720067 L34.29434895256147,-5.639245781356581 L34.40108900657082,-5.773037563308453 L34.51031289977907,-5.904809416145888 L34.62198241581927,-6.034515234192442 L34.736058482625076,-6.162109634656936 L34.8525011861017,-6.287547973512463 L34.971269784091405,-6.410786361116877 L35.09232272062886,-6.531781677569364 L35.215617640481085,-6.650491587797662 L35.34111140396719,-6.76687455637069 L35.46876010205251,-6.8808898620313865 L35.59851907171191,-6.992497611944673 L35.730342911557,-7.101658755655575 L35.8641854977216,-7.208335098752586 L36.0,-7.312489316231511 L 36.0,-7.312489316231511",
          "type": "path"
         },
         {
          "fillcolor": "rgba(0, 0, 0, 0)",
          "line": {
           "color": "darkgrey",
           "dash": "solid",
           "width": 0.5
          },
          "type": "rect",
          "x0": -54.5,
          "x1": -52.5,
          "y0": -3.66,
          "y1": 3.66
         },
         {
          "fillcolor": "rgba(0, 0, 0, 0)",
          "line": {
           "color": "darkgrey",
           "dash": "solid",
           "width": 0.5
          },
          "type": "rect",
          "x0": 52.5,
          "x1": 54.5,
          "y0": -3.66,
          "y1": 3.66
         }
        ],
        "sliders": [
         {
          "active": 0,
          "font": {
           "size": 10
          },
          "steps": [
           {
            "args": [
             {
              "visible": [
               true,
               true,
               false,
               false,
               false,
               false,
               false,
               false,
               false,
               false,
               false,
               false,
               false,
               false,
               false,
               false,
               false,
               false,
               false,
               false,
               false,
               false,
               false,
               false,
               false,
               false,
               false,
               false,
               false,
               false,
               false,
               false,
               false,
               false,
               false,
               false,
               false,
               false,
               false,
               false,
               false,
               false,
               false,
               false,
               false,
               false,
               false,
               false,
               false,
               false,
               false,
               false,
               false,
               false,
               false,
               false
              ]
             }
            ],
            "label": "100",
            "method": "update"
           },
           {
            "args": [
             {
              "visible": [
               false,
               false,
               true,
               true,
               false,
               false,
               false,
               false,
               false,
               false,
               false,
               false,
               false,
               false,
               false,
               false,
               false,
               false,
               false,
               false,
               false,
               false,
               false,
               false,
               false,
               false,
               false,
               false,
               false,
               false,
               false,
               false,
               false,
               false,
               false,
               false,
               false,
               false,
               false,
               false,
               false,
               false,
               false,
               false,
               false,
               false,
               false,
               false,
               false,
               false,
               false,
               false,
               false,
               false,
               false,
               false
              ]
             }
            ],
            "label": "101",
            "method": "update"
           },
           {
            "args": [
             {
              "visible": [
               false,
               false,
               false,
               false,
               true,
               true,
               false,
               false,
               false,
               false,
               false,
               false,
               false,
               false,
               false,
               false,
               false,
               false,
               false,
               false,
               false,
               false,
               false,
               false,
               false,
               false,
               false,
               false,
               false,
               false,
               false,
               false,
               false,
               false,
               false,
               false,
               false,
               false,
               false,
               false,
               false,
               false,
               false,
               false,
               false,
               false,
               false,
               false,
               false,
               false,
               false,
               false,
               false,
               false,
               false,
               false
              ]
             }
            ],
            "label": "102",
            "method": "update"
           },
           {
            "args": [
             {
              "visible": [
               false,
               false,
               false,
               false,
               false,
               false,
               true,
               true,
               false,
               false,
               false,
               false,
               false,
               false,
               false,
               false,
               false,
               false,
               false,
               false,
               false,
               false,
               false,
               false,
               false,
               false,
               false,
               false,
               false,
               false,
               false,
               false,
               false,
               false,
               false,
               false,
               false,
               false,
               false,
               false,
               false,
               false,
               false,
               false,
               false,
               false,
               false,
               false,
               false,
               false,
               false,
               false,
               false,
               false,
               false,
               false
              ]
             }
            ],
            "label": "103",
            "method": "update"
           },
           {
            "args": [
             {
              "visible": [
               false,
               false,
               false,
               false,
               false,
               false,
               false,
               false,
               true,
               true,
               false,
               false,
               false,
               false,
               false,
               false,
               false,
               false,
               false,
               false,
               false,
               false,
               false,
               false,
               false,
               false,
               false,
               false,
               false,
               false,
               false,
               false,
               false,
               false,
               false,
               false,
               false,
               false,
               false,
               false,
               false,
               false,
               false,
               false,
               false,
               false,
               false,
               false,
               false,
               false,
               false,
               false,
               false,
               false,
               false,
               false
              ]
             }
            ],
            "label": "104",
            "method": "update"
           },
           {
            "args": [
             {
              "visible": [
               false,
               false,
               false,
               false,
               false,
               false,
               false,
               false,
               false,
               false,
               true,
               true,
               false,
               false,
               false,
               false,
               false,
               false,
               false,
               false,
               false,
               false,
               false,
               false,
               false,
               false,
               false,
               false,
               false,
               false,
               false,
               false,
               false,
               false,
               false,
               false,
               false,
               false,
               false,
               false,
               false,
               false,
               false,
               false,
               false,
               false,
               false,
               false,
               false,
               false,
               false,
               false,
               false,
               false,
               false,
               false
              ]
             }
            ],
            "label": "105",
            "method": "update"
           },
           {
            "args": [
             {
              "visible": [
               false,
               false,
               false,
               false,
               false,
               false,
               false,
               false,
               false,
               false,
               false,
               false,
               true,
               true,
               false,
               false,
               false,
               false,
               false,
               false,
               false,
               false,
               false,
               false,
               false,
               false,
               false,
               false,
               false,
               false,
               false,
               false,
               false,
               false,
               false,
               false,
               false,
               false,
               false,
               false,
               false,
               false,
               false,
               false,
               false,
               false,
               false,
               false,
               false,
               false,
               false,
               false,
               false,
               false,
               false,
               false
              ]
             }
            ],
            "label": "106",
            "method": "update"
           },
           {
            "args": [
             {
              "visible": [
               false,
               false,
               false,
               false,
               false,
               false,
               false,
               false,
               false,
               false,
               false,
               false,
               false,
               false,
               true,
               true,
               false,
               false,
               false,
               false,
               false,
               false,
               false,
               false,
               false,
               false,
               false,
               false,
               false,
               false,
               false,
               false,
               false,
               false,
               false,
               false,
               false,
               false,
               false,
               false,
               false,
               false,
               false,
               false,
               false,
               false,
               false,
               false,
               false,
               false,
               false,
               false,
               false,
               false,
               false,
               false
              ]
             }
            ],
            "label": "107",
            "method": "update"
           },
           {
            "args": [
             {
              "visible": [
               false,
               false,
               false,
               false,
               false,
               false,
               false,
               false,
               false,
               false,
               false,
               false,
               false,
               false,
               false,
               false,
               true,
               true,
               false,
               false,
               false,
               false,
               false,
               false,
               false,
               false,
               false,
               false,
               false,
               false,
               false,
               false,
               false,
               false,
               false,
               false,
               false,
               false,
               false,
               false,
               false,
               false,
               false,
               false,
               false,
               false,
               false,
               false,
               false,
               false,
               false,
               false,
               false,
               false,
               false,
               false
              ]
             }
            ],
            "label": "108",
            "method": "update"
           },
           {
            "args": [
             {
              "visible": [
               false,
               false,
               false,
               false,
               false,
               false,
               false,
               false,
               false,
               false,
               false,
               false,
               false,
               false,
               false,
               false,
               false,
               false,
               true,
               true,
               false,
               false,
               false,
               false,
               false,
               false,
               false,
               false,
               false,
               false,
               false,
               false,
               false,
               false,
               false,
               false,
               false,
               false,
               false,
               false,
               false,
               false,
               false,
               false,
               false,
               false,
               false,
               false,
               false,
               false,
               false,
               false,
               false,
               false,
               false,
               false
              ]
             }
            ],
            "label": "109",
            "method": "update"
           },
           {
            "args": [
             {
              "visible": [
               false,
               false,
               false,
               false,
               false,
               false,
               false,
               false,
               false,
               false,
               false,
               false,
               false,
               false,
               false,
               false,
               false,
               false,
               false,
               false,
               true,
               true,
               false,
               false,
               false,
               false,
               false,
               false,
               false,
               false,
               false,
               false,
               false,
               false,
               false,
               false,
               false,
               false,
               false,
               false,
               false,
               false,
               false,
               false,
               false,
               false,
               false,
               false,
               false,
               false,
               false,
               false,
               false,
               false,
               false,
               false
              ]
             }
            ],
            "label": "110",
            "method": "update"
           },
           {
            "args": [
             {
              "visible": [
               false,
               false,
               false,
               false,
               false,
               false,
               false,
               false,
               false,
               false,
               false,
               false,
               false,
               false,
               false,
               false,
               false,
               false,
               false,
               false,
               false,
               false,
               true,
               true,
               false,
               false,
               false,
               false,
               false,
               false,
               false,
               false,
               false,
               false,
               false,
               false,
               false,
               false,
               false,
               false,
               false,
               false,
               false,
               false,
               false,
               false,
               false,
               false,
               false,
               false,
               false,
               false,
               false,
               false,
               false,
               false
              ]
             }
            ],
            "label": "111",
            "method": "update"
           },
           {
            "args": [
             {
              "visible": [
               false,
               false,
               false,
               false,
               false,
               false,
               false,
               false,
               false,
               false,
               false,
               false,
               false,
               false,
               false,
               false,
               false,
               false,
               false,
               false,
               false,
               false,
               false,
               false,
               true,
               true,
               false,
               false,
               false,
               false,
               false,
               false,
               false,
               false,
               false,
               false,
               false,
               false,
               false,
               false,
               false,
               false,
               false,
               false,
               false,
               false,
               false,
               false,
               false,
               false,
               false,
               false,
               false,
               false,
               false,
               false
              ]
             }
            ],
            "label": "112",
            "method": "update"
           },
           {
            "args": [
             {
              "visible": [
               false,
               false,
               false,
               false,
               false,
               false,
               false,
               false,
               false,
               false,
               false,
               false,
               false,
               false,
               false,
               false,
               false,
               false,
               false,
               false,
               false,
               false,
               false,
               false,
               false,
               false,
               true,
               true,
               false,
               false,
               false,
               false,
               false,
               false,
               false,
               false,
               false,
               false,
               false,
               false,
               false,
               false,
               false,
               false,
               false,
               false,
               false,
               false,
               false,
               false,
               false,
               false,
               false,
               false,
               false,
               false
              ]
             }
            ],
            "label": "113",
            "method": "update"
           },
           {
            "args": [
             {
              "visible": [
               false,
               false,
               false,
               false,
               false,
               false,
               false,
               false,
               false,
               false,
               false,
               false,
               false,
               false,
               false,
               false,
               false,
               false,
               false,
               false,
               false,
               false,
               false,
               false,
               false,
               false,
               false,
               false,
               true,
               true,
               false,
               false,
               false,
               false,
               false,
               false,
               false,
               false,
               false,
               false,
               false,
               false,
               false,
               false,
               false,
               false,
               false,
               false,
               false,
               false,
               false,
               false,
               false,
               false,
               false,
               false
              ]
             }
            ],
            "label": "114",
            "method": "update"
           },
           {
            "args": [
             {
              "visible": [
               false,
               false,
               false,
               false,
               false,
               false,
               false,
               false,
               false,
               false,
               false,
               false,
               false,
               false,
               false,
               false,
               false,
               false,
               false,
               false,
               false,
               false,
               false,
               false,
               false,
               false,
               false,
               false,
               false,
               false,
               true,
               true,
               false,
               false,
               false,
               false,
               false,
               false,
               false,
               false,
               false,
               false,
               false,
               false,
               false,
               false,
               false,
               false,
               false,
               false,
               false,
               false,
               false,
               false,
               false,
               false
              ]
             }
            ],
            "label": "115",
            "method": "update"
           },
           {
            "args": [
             {
              "visible": [
               false,
               false,
               false,
               false,
               false,
               false,
               false,
               false,
               false,
               false,
               false,
               false,
               false,
               false,
               false,
               false,
               false,
               false,
               false,
               false,
               false,
               false,
               false,
               false,
               false,
               false,
               false,
               false,
               false,
               false,
               false,
               false,
               true,
               true,
               false,
               false,
               false,
               false,
               false,
               false,
               false,
               false,
               false,
               false,
               false,
               false,
               false,
               false,
               false,
               false,
               false,
               false,
               false,
               false,
               false,
               false
              ]
             }
            ],
            "label": "116",
            "method": "update"
           },
           {
            "args": [
             {
              "visible": [
               false,
               false,
               false,
               false,
               false,
               false,
               false,
               false,
               false,
               false,
               false,
               false,
               false,
               false,
               false,
               false,
               false,
               false,
               false,
               false,
               false,
               false,
               false,
               false,
               false,
               false,
               false,
               false,
               false,
               false,
               false,
               false,
               false,
               false,
               true,
               true,
               false,
               false,
               false,
               false,
               false,
               false,
               false,
               false,
               false,
               false,
               false,
               false,
               false,
               false,
               false,
               false,
               false,
               false,
               false,
               false
              ]
             }
            ],
            "label": "117",
            "method": "update"
           },
           {
            "args": [
             {
              "visible": [
               false,
               false,
               false,
               false,
               false,
               false,
               false,
               false,
               false,
               false,
               false,
               false,
               false,
               false,
               false,
               false,
               false,
               false,
               false,
               false,
               false,
               false,
               false,
               false,
               false,
               false,
               false,
               false,
               false,
               false,
               false,
               false,
               false,
               false,
               false,
               false,
               true,
               true,
               false,
               false,
               false,
               false,
               false,
               false,
               false,
               false,
               false,
               false,
               false,
               false,
               false,
               false,
               false,
               false,
               false,
               false
              ]
             }
            ],
            "label": "118",
            "method": "update"
           },
           {
            "args": [
             {
              "visible": [
               false,
               false,
               false,
               false,
               false,
               false,
               false,
               false,
               false,
               false,
               false,
               false,
               false,
               false,
               false,
               false,
               false,
               false,
               false,
               false,
               false,
               false,
               false,
               false,
               false,
               false,
               false,
               false,
               false,
               false,
               false,
               false,
               false,
               false,
               false,
               false,
               false,
               false,
               true,
               true,
               false,
               false,
               false,
               false,
               false,
               false,
               false,
               false,
               false,
               false,
               false,
               false,
               false,
               false,
               false,
               false
              ]
             }
            ],
            "label": "119",
            "method": "update"
           },
           {
            "args": [
             {
              "visible": [
               false,
               false,
               false,
               false,
               false,
               false,
               false,
               false,
               false,
               false,
               false,
               false,
               false,
               false,
               false,
               false,
               false,
               false,
               false,
               false,
               false,
               false,
               false,
               false,
               false,
               false,
               false,
               false,
               false,
               false,
               false,
               false,
               false,
               false,
               false,
               false,
               false,
               false,
               false,
               false,
               true,
               true,
               false,
               false,
               false,
               false,
               false,
               false,
               false,
               false,
               false,
               false,
               false,
               false,
               false,
               false
              ]
             }
            ],
            "label": "120",
            "method": "update"
           },
           {
            "args": [
             {
              "visible": [
               false,
               false,
               false,
               false,
               false,
               false,
               false,
               false,
               false,
               false,
               false,
               false,
               false,
               false,
               false,
               false,
               false,
               false,
               false,
               false,
               false,
               false,
               false,
               false,
               false,
               false,
               false,
               false,
               false,
               false,
               false,
               false,
               false,
               false,
               false,
               false,
               false,
               false,
               false,
               false,
               false,
               false,
               true,
               true,
               false,
               false,
               false,
               false,
               false,
               false,
               false,
               false,
               false,
               false,
               false,
               false
              ]
             }
            ],
            "label": "121",
            "method": "update"
           },
           {
            "args": [
             {
              "visible": [
               false,
               false,
               false,
               false,
               false,
               false,
               false,
               false,
               false,
               false,
               false,
               false,
               false,
               false,
               false,
               false,
               false,
               false,
               false,
               false,
               false,
               false,
               false,
               false,
               false,
               false,
               false,
               false,
               false,
               false,
               false,
               false,
               false,
               false,
               false,
               false,
               false,
               false,
               false,
               false,
               false,
               false,
               false,
               false,
               true,
               true,
               false,
               false,
               false,
               false,
               false,
               false,
               false,
               false,
               false,
               false
              ]
             }
            ],
            "label": "122",
            "method": "update"
           },
           {
            "args": [
             {
              "visible": [
               false,
               false,
               false,
               false,
               false,
               false,
               false,
               false,
               false,
               false,
               false,
               false,
               false,
               false,
               false,
               false,
               false,
               false,
               false,
               false,
               false,
               false,
               false,
               false,
               false,
               false,
               false,
               false,
               false,
               false,
               false,
               false,
               false,
               false,
               false,
               false,
               false,
               false,
               false,
               false,
               false,
               false,
               false,
               false,
               false,
               false,
               true,
               true,
               false,
               false,
               false,
               false,
               false,
               false,
               false,
               false
              ]
             }
            ],
            "label": "123",
            "method": "update"
           },
           {
            "args": [
             {
              "visible": [
               false,
               false,
               false,
               false,
               false,
               false,
               false,
               false,
               false,
               false,
               false,
               false,
               false,
               false,
               false,
               false,
               false,
               false,
               false,
               false,
               false,
               false,
               false,
               false,
               false,
               false,
               false,
               false,
               false,
               false,
               false,
               false,
               false,
               false,
               false,
               false,
               false,
               false,
               false,
               false,
               false,
               false,
               false,
               false,
               false,
               false,
               false,
               false,
               true,
               true,
               false,
               false,
               false,
               false,
               false,
               false
              ]
             }
            ],
            "label": "124",
            "method": "update"
           },
           {
            "args": [
             {
              "visible": [
               false,
               false,
               false,
               false,
               false,
               false,
               false,
               false,
               false,
               false,
               false,
               false,
               false,
               false,
               false,
               false,
               false,
               false,
               false,
               false,
               false,
               false,
               false,
               false,
               false,
               false,
               false,
               false,
               false,
               false,
               false,
               false,
               false,
               false,
               false,
               false,
               false,
               false,
               false,
               false,
               false,
               false,
               false,
               false,
               false,
               false,
               false,
               false,
               false,
               false,
               true,
               true,
               false,
               false,
               false,
               false
              ]
             }
            ],
            "label": "125",
            "method": "update"
           },
           {
            "args": [
             {
              "visible": [
               false,
               false,
               false,
               false,
               false,
               false,
               false,
               false,
               false,
               false,
               false,
               false,
               false,
               false,
               false,
               false,
               false,
               false,
               false,
               false,
               false,
               false,
               false,
               false,
               false,
               false,
               false,
               false,
               false,
               false,
               false,
               false,
               false,
               false,
               false,
               false,
               false,
               false,
               false,
               false,
               false,
               false,
               false,
               false,
               false,
               false,
               false,
               false,
               false,
               false,
               false,
               false,
               true,
               true,
               false,
               false
              ]
             }
            ],
            "label": "126",
            "method": "update"
           },
           {
            "args": [
             {
              "visible": [
               false,
               false,
               false,
               false,
               false,
               false,
               false,
               false,
               false,
               false,
               false,
               false,
               false,
               false,
               false,
               false,
               false,
               false,
               false,
               false,
               false,
               false,
               false,
               false,
               false,
               false,
               false,
               false,
               false,
               false,
               false,
               false,
               false,
               false,
               false,
               false,
               false,
               false,
               false,
               false,
               false,
               false,
               false,
               false,
               false,
               false,
               false,
               false,
               false,
               false,
               false,
               false,
               false,
               false,
               true,
               true
              ]
             }
            ],
            "label": "127",
            "method": "update"
           }
          ]
         }
        ],
        "template": {
         "data": {
          "bar": [
           {
            "error_x": {
             "color": "#2a3f5f"
            },
            "error_y": {
             "color": "#2a3f5f"
            },
            "marker": {
             "line": {
              "color": "#E5ECF6",
              "width": 0.5
             },
             "pattern": {
              "fillmode": "overlay",
              "size": 10,
              "solidity": 0.2
             }
            },
            "type": "bar"
           }
          ],
          "barpolar": [
           {
            "marker": {
             "line": {
              "color": "#E5ECF6",
              "width": 0.5
             },
             "pattern": {
              "fillmode": "overlay",
              "size": 10,
              "solidity": 0.2
             }
            },
            "type": "barpolar"
           }
          ],
          "carpet": [
           {
            "aaxis": {
             "endlinecolor": "#2a3f5f",
             "gridcolor": "white",
             "linecolor": "white",
             "minorgridcolor": "white",
             "startlinecolor": "#2a3f5f"
            },
            "baxis": {
             "endlinecolor": "#2a3f5f",
             "gridcolor": "white",
             "linecolor": "white",
             "minorgridcolor": "white",
             "startlinecolor": "#2a3f5f"
            },
            "type": "carpet"
           }
          ],
          "choropleth": [
           {
            "colorbar": {
             "outlinewidth": 0,
             "ticks": ""
            },
            "type": "choropleth"
           }
          ],
          "contour": [
           {
            "colorbar": {
             "outlinewidth": 0,
             "ticks": ""
            },
            "colorscale": [
             [
              0,
              "#0d0887"
             ],
             [
              0.1111111111111111,
              "#46039f"
             ],
             [
              0.2222222222222222,
              "#7201a8"
             ],
             [
              0.3333333333333333,
              "#9c179e"
             ],
             [
              0.4444444444444444,
              "#bd3786"
             ],
             [
              0.5555555555555556,
              "#d8576b"
             ],
             [
              0.6666666666666666,
              "#ed7953"
             ],
             [
              0.7777777777777778,
              "#fb9f3a"
             ],
             [
              0.8888888888888888,
              "#fdca26"
             ],
             [
              1,
              "#f0f921"
             ]
            ],
            "type": "contour"
           }
          ],
          "contourcarpet": [
           {
            "colorbar": {
             "outlinewidth": 0,
             "ticks": ""
            },
            "type": "contourcarpet"
           }
          ],
          "heatmap": [
           {
            "colorbar": {
             "outlinewidth": 0,
             "ticks": ""
            },
            "colorscale": [
             [
              0,
              "#0d0887"
             ],
             [
              0.1111111111111111,
              "#46039f"
             ],
             [
              0.2222222222222222,
              "#7201a8"
             ],
             [
              0.3333333333333333,
              "#9c179e"
             ],
             [
              0.4444444444444444,
              "#bd3786"
             ],
             [
              0.5555555555555556,
              "#d8576b"
             ],
             [
              0.6666666666666666,
              "#ed7953"
             ],
             [
              0.7777777777777778,
              "#fb9f3a"
             ],
             [
              0.8888888888888888,
              "#fdca26"
             ],
             [
              1,
              "#f0f921"
             ]
            ],
            "type": "heatmap"
           }
          ],
          "heatmapgl": [
           {
            "colorbar": {
             "outlinewidth": 0,
             "ticks": ""
            },
            "colorscale": [
             [
              0,
              "#0d0887"
             ],
             [
              0.1111111111111111,
              "#46039f"
             ],
             [
              0.2222222222222222,
              "#7201a8"
             ],
             [
              0.3333333333333333,
              "#9c179e"
             ],
             [
              0.4444444444444444,
              "#bd3786"
             ],
             [
              0.5555555555555556,
              "#d8576b"
             ],
             [
              0.6666666666666666,
              "#ed7953"
             ],
             [
              0.7777777777777778,
              "#fb9f3a"
             ],
             [
              0.8888888888888888,
              "#fdca26"
             ],
             [
              1,
              "#f0f921"
             ]
            ],
            "type": "heatmapgl"
           }
          ],
          "histogram": [
           {
            "marker": {
             "pattern": {
              "fillmode": "overlay",
              "size": 10,
              "solidity": 0.2
             }
            },
            "type": "histogram"
           }
          ],
          "histogram2d": [
           {
            "colorbar": {
             "outlinewidth": 0,
             "ticks": ""
            },
            "colorscale": [
             [
              0,
              "#0d0887"
             ],
             [
              0.1111111111111111,
              "#46039f"
             ],
             [
              0.2222222222222222,
              "#7201a8"
             ],
             [
              0.3333333333333333,
              "#9c179e"
             ],
             [
              0.4444444444444444,
              "#bd3786"
             ],
             [
              0.5555555555555556,
              "#d8576b"
             ],
             [
              0.6666666666666666,
              "#ed7953"
             ],
             [
              0.7777777777777778,
              "#fb9f3a"
             ],
             [
              0.8888888888888888,
              "#fdca26"
             ],
             [
              1,
              "#f0f921"
             ]
            ],
            "type": "histogram2d"
           }
          ],
          "histogram2dcontour": [
           {
            "colorbar": {
             "outlinewidth": 0,
             "ticks": ""
            },
            "colorscale": [
             [
              0,
              "#0d0887"
             ],
             [
              0.1111111111111111,
              "#46039f"
             ],
             [
              0.2222222222222222,
              "#7201a8"
             ],
             [
              0.3333333333333333,
              "#9c179e"
             ],
             [
              0.4444444444444444,
              "#bd3786"
             ],
             [
              0.5555555555555556,
              "#d8576b"
             ],
             [
              0.6666666666666666,
              "#ed7953"
             ],
             [
              0.7777777777777778,
              "#fb9f3a"
             ],
             [
              0.8888888888888888,
              "#fdca26"
             ],
             [
              1,
              "#f0f921"
             ]
            ],
            "type": "histogram2dcontour"
           }
          ],
          "mesh3d": [
           {
            "colorbar": {
             "outlinewidth": 0,
             "ticks": ""
            },
            "type": "mesh3d"
           }
          ],
          "parcoords": [
           {
            "line": {
             "colorbar": {
              "outlinewidth": 0,
              "ticks": ""
             }
            },
            "type": "parcoords"
           }
          ],
          "pie": [
           {
            "automargin": true,
            "type": "pie"
           }
          ],
          "scatter": [
           {
            "fillpattern": {
             "fillmode": "overlay",
             "size": 10,
             "solidity": 0.2
            },
            "type": "scatter"
           }
          ],
          "scatter3d": [
           {
            "line": {
             "colorbar": {
              "outlinewidth": 0,
              "ticks": ""
             }
            },
            "marker": {
             "colorbar": {
              "outlinewidth": 0,
              "ticks": ""
             }
            },
            "type": "scatter3d"
           }
          ],
          "scattercarpet": [
           {
            "marker": {
             "colorbar": {
              "outlinewidth": 0,
              "ticks": ""
             }
            },
            "type": "scattercarpet"
           }
          ],
          "scattergeo": [
           {
            "marker": {
             "colorbar": {
              "outlinewidth": 0,
              "ticks": ""
             }
            },
            "type": "scattergeo"
           }
          ],
          "scattergl": [
           {
            "marker": {
             "colorbar": {
              "outlinewidth": 0,
              "ticks": ""
             }
            },
            "type": "scattergl"
           }
          ],
          "scattermapbox": [
           {
            "marker": {
             "colorbar": {
              "outlinewidth": 0,
              "ticks": ""
             }
            },
            "type": "scattermapbox"
           }
          ],
          "scatterpolar": [
           {
            "marker": {
             "colorbar": {
              "outlinewidth": 0,
              "ticks": ""
             }
            },
            "type": "scatterpolar"
           }
          ],
          "scatterpolargl": [
           {
            "marker": {
             "colorbar": {
              "outlinewidth": 0,
              "ticks": ""
             }
            },
            "type": "scatterpolargl"
           }
          ],
          "scatterternary": [
           {
            "marker": {
             "colorbar": {
              "outlinewidth": 0,
              "ticks": ""
             }
            },
            "type": "scatterternary"
           }
          ],
          "surface": [
           {
            "colorbar": {
             "outlinewidth": 0,
             "ticks": ""
            },
            "colorscale": [
             [
              0,
              "#0d0887"
             ],
             [
              0.1111111111111111,
              "#46039f"
             ],
             [
              0.2222222222222222,
              "#7201a8"
             ],
             [
              0.3333333333333333,
              "#9c179e"
             ],
             [
              0.4444444444444444,
              "#bd3786"
             ],
             [
              0.5555555555555556,
              "#d8576b"
             ],
             [
              0.6666666666666666,
              "#ed7953"
             ],
             [
              0.7777777777777778,
              "#fb9f3a"
             ],
             [
              0.8888888888888888,
              "#fdca26"
             ],
             [
              1,
              "#f0f921"
             ]
            ],
            "type": "surface"
           }
          ],
          "table": [
           {
            "cells": {
             "fill": {
              "color": "#EBF0F8"
             },
             "line": {
              "color": "white"
             }
            },
            "header": {
             "fill": {
              "color": "#C8D4E3"
             },
             "line": {
              "color": "white"
             }
            },
            "type": "table"
           }
          ]
         },
         "layout": {
          "annotationdefaults": {
           "arrowcolor": "#2a3f5f",
           "arrowhead": 0,
           "arrowwidth": 1
          },
          "autotypenumbers": "strict",
          "coloraxis": {
           "colorbar": {
            "outlinewidth": 0,
            "ticks": ""
           }
          },
          "colorscale": {
           "diverging": [
            [
             0,
             "#8e0152"
            ],
            [
             0.1,
             "#c51b7d"
            ],
            [
             0.2,
             "#de77ae"
            ],
            [
             0.3,
             "#f1b6da"
            ],
            [
             0.4,
             "#fde0ef"
            ],
            [
             0.5,
             "#f7f7f7"
            ],
            [
             0.6,
             "#e6f5d0"
            ],
            [
             0.7,
             "#b8e186"
            ],
            [
             0.8,
             "#7fbc41"
            ],
            [
             0.9,
             "#4d9221"
            ],
            [
             1,
             "#276419"
            ]
           ],
           "sequential": [
            [
             0,
             "#0d0887"
            ],
            [
             0.1111111111111111,
             "#46039f"
            ],
            [
             0.2222222222222222,
             "#7201a8"
            ],
            [
             0.3333333333333333,
             "#9c179e"
            ],
            [
             0.4444444444444444,
             "#bd3786"
            ],
            [
             0.5555555555555556,
             "#d8576b"
            ],
            [
             0.6666666666666666,
             "#ed7953"
            ],
            [
             0.7777777777777778,
             "#fb9f3a"
            ],
            [
             0.8888888888888888,
             "#fdca26"
            ],
            [
             1,
             "#f0f921"
            ]
           ],
           "sequentialminus": [
            [
             0,
             "#0d0887"
            ],
            [
             0.1111111111111111,
             "#46039f"
            ],
            [
             0.2222222222222222,
             "#7201a8"
            ],
            [
             0.3333333333333333,
             "#9c179e"
            ],
            [
             0.4444444444444444,
             "#bd3786"
            ],
            [
             0.5555555555555556,
             "#d8576b"
            ],
            [
             0.6666666666666666,
             "#ed7953"
            ],
            [
             0.7777777777777778,
             "#fb9f3a"
            ],
            [
             0.8888888888888888,
             "#fdca26"
            ],
            [
             1,
             "#f0f921"
            ]
           ]
          },
          "colorway": [
           "#636efa",
           "#EF553B",
           "#00cc96",
           "#ab63fa",
           "#FFA15A",
           "#19d3f3",
           "#FF6692",
           "#B6E880",
           "#FF97FF",
           "#FECB52"
          ],
          "font": {
           "color": "#2a3f5f"
          },
          "geo": {
           "bgcolor": "white",
           "lakecolor": "white",
           "landcolor": "#E5ECF6",
           "showlakes": true,
           "showland": true,
           "subunitcolor": "white"
          },
          "hoverlabel": {
           "align": "left"
          },
          "hovermode": "closest",
          "mapbox": {
           "style": "light"
          },
          "paper_bgcolor": "white",
          "plot_bgcolor": "#E5ECF6",
          "polar": {
           "angularaxis": {
            "gridcolor": "white",
            "linecolor": "white",
            "ticks": ""
           },
           "bgcolor": "#E5ECF6",
           "radialaxis": {
            "gridcolor": "white",
            "linecolor": "white",
            "ticks": ""
           }
          },
          "scene": {
           "xaxis": {
            "backgroundcolor": "#E5ECF6",
            "gridcolor": "white",
            "gridwidth": 2,
            "linecolor": "white",
            "showbackground": true,
            "ticks": "",
            "zerolinecolor": "white"
           },
           "yaxis": {
            "backgroundcolor": "#E5ECF6",
            "gridcolor": "white",
            "gridwidth": 2,
            "linecolor": "white",
            "showbackground": true,
            "ticks": "",
            "zerolinecolor": "white"
           },
           "zaxis": {
            "backgroundcolor": "#E5ECF6",
            "gridcolor": "white",
            "gridwidth": 2,
            "linecolor": "white",
            "showbackground": true,
            "ticks": "",
            "zerolinecolor": "white"
           }
          },
          "shapedefaults": {
           "line": {
            "color": "#2a3f5f"
           }
          },
          "ternary": {
           "aaxis": {
            "gridcolor": "white",
            "linecolor": "white",
            "ticks": ""
           },
           "baxis": {
            "gridcolor": "white",
            "linecolor": "white",
            "ticks": ""
           },
           "bgcolor": "#E5ECF6",
           "caxis": {
            "gridcolor": "white",
            "linecolor": "white",
            "ticks": ""
           }
          },
          "title": {
           "x": 0.05
          },
          "xaxis": {
           "automargin": true,
           "gridcolor": "white",
           "linecolor": "white",
           "ticks": "",
           "title": {
            "standoff": 15
           },
           "zerolinecolor": "white",
           "zerolinewidth": 2
          },
          "yaxis": {
           "automargin": true,
           "gridcolor": "white",
           "linecolor": "white",
           "ticks": "",
           "title": {
            "standoff": 15
           },
           "zerolinecolor": "white",
           "zerolinewidth": 2
          }
         }
        },
        "width": 920,
        "xaxis": {
         "constrain": "domain",
         "domain": [
          0.031707317073170704,
          0.9682926829268292
         ],
         "range": [
          -55.5,
          55.5
         ],
         "showgrid": false,
         "showticklabels": false,
         "type": "linear",
         "zeroline": false
        },
        "yaxis": {
         "domain": [
          0,
          1
         ],
         "range": [
          -37,
          37
         ],
         "scaleanchor": "x",
         "scaleratio": 1,
         "showgrid": false,
         "showticklabels": false,
         "type": "linear",
         "zeroline": false
        }
       }
      },
      "image/png": "[encoded data removed]",
      "text/html": [
       "<div>                            <div id=\"434f82e5-27ca-457e-8f17-faf3ab530ea6\" class=\"plotly-graph-div\" style=\"height:600px; width:920px;\"></div>            <script type=\"text/javascript\">                require([\"plotly\"], function(Plotly) {                    window.PLOTLYENV=window.PLOTLYENV || {};                                    if (document.getElementById(\"434f82e5-27ca-457e-8f17-faf3ab530ea6\")) {                    Plotly.newPlot(                        \"434f82e5-27ca-457e-8f17-faf3ab530ea6\",                        [{\"hovertext\":[\"Daphne van Domselaar\",\"Anna Patten\",\"Rachel Corsie\",\"Sarah Emma Mayling\",\"Danielle Turner\",\"Lucy Staniforth\",\"Lucy Parker\",\"Laura Madison Blindkilde Brown\",\"Alisha Lehmann\",\"Kirsty Hanson\",\"Rachel Daly\",\"Mary Earps\",\"Maya Le Tissier\",\"Millie Turner\",\"Hannah Blundell\",\"Gabrielle George\",\"Katie Zelem\",\"Ella Toone\",\"Hayley Ladd\",\"Lucía García Córdoba\",\"Leah Galton\",\" Geyse\"],\"marker\":{\"color\":[\"steelblue\",\"steelblue\",\"steelblue\",\"steelblue\",\"steelblue\",\"steelblue\",\"steelblue\",\"steelblue\",\"steelblue\",\"steelblue\",\"steelblue\",\"tan\",\"tan\",\"tan\",\"tan\",\"tan\",\"tan\",\"tan\",\"tan\",\"tan\",\"tan\",\"tan\"]},\"mode\":\"markers\",\"showlegend\":false,\"visible\":true,\"x\":[-39.9,-14.97,-15.68,-15.12,-19.48,-9.8,-11.06,-0.66,-8.86,-9.37,0.11,37.94,16.42,17.46,12.27,14.1,9.88,0.44,-0.98,0.08,-8.52,0.0],\"y\":[-0.87,-6.89,1.55,-18.11,13.4,0.98,-9.06,-9.75,-18.23,13.77,9.3,-0.08,3.98,-5.92,18.12,-21.7,-2.29,-17.87,-0.02,22.05,-15.39,-9.16],\"type\":\"scatter\"},{\"marker\":{\"color\":\"black\"},\"mode\":\"markers\",\"showlegend\":false,\"visible\":true,\"x\":[-0.91],\"y\":[-1.02],\"type\":\"scatter\"},{\"hovertext\":[\"Daphne van Domselaar\",\"Anna Patten\",\"Rachel Corsie\",\"Sarah Emma Mayling\",\"Danielle Turner\",\"Lucy Staniforth\",\"Lucy Parker\",\"Laura Madison Blindkilde Brown\",\"Alisha Lehmann\",\"Kirsty Hanson\",\"Rachel Daly\",\"Mary Earps\",\"Maya Le Tissier\",\"Millie Turner\",\"Hannah Blundell\",\"Gabrielle George\",\"Katie Zelem\",\"Ella Toone\",\"Hayley Ladd\",\"Lucía García Córdoba\",\"Leah Galton\",\" Geyse\"],\"marker\":{\"color\":[\"steelblue\",\"steelblue\",\"steelblue\",\"steelblue\",\"steelblue\",\"steelblue\",\"steelblue\",\"steelblue\",\"steelblue\",\"steelblue\",\"steelblue\",\"tan\",\"tan\",\"tan\",\"tan\",\"tan\",\"tan\",\"tan\",\"tan\",\"tan\",\"tan\",\"tan\"]},\"mode\":\"markers\",\"showlegend\":false,\"visible\":false,\"x\":[-40.06,-15.0,-15.8,-15.25,-19.44,-9.79,-11.06,-0.62,-8.92,-9.44,0.09,38.01,16.52,17.47,12.29,14.23,9.81,0.46,-0.93,0.08,-8.7,-0.02],\"y\":[-0.87,-6.91,1.6,-17.98,13.43,0.95,-9.07,-9.72,-18.26,13.71,9.28,-0.07,4.04,-6.04,18.2,-21.66,-2.22,-17.95,0.15,22.18,-15.88,-9.19],\"type\":\"scatter\"},{\"marker\":{\"color\":\"black\"},\"mode\":\"markers\",\"showlegend\":false,\"visible\":false,\"x\":[-0.61],\"y\":[-0.91],\"type\":\"scatter\"},{\"hovertext\":[\"Daphne van Domselaar\",\"Anna Patten\",\"Rachel Corsie\",\"Sarah Emma Mayling\",\"Danielle Turner\",\"Lucy Staniforth\",\"Lucy Parker\",\"Laura Madison Blindkilde Brown\",\"Alisha Lehmann\",\"Kirsty Hanson\",\"Rachel Daly\",\"Mary Earps\",\"Maya Le Tissier\",\"Millie Turner\",\"Hannah Blundell\",\"Gabrielle George\",\"Katie Zelem\",\"Ella Toone\",\"Hayley Ladd\",\"Lucía García Córdoba\",\"Leah Galton\",\" Geyse\"],\"marker\":{\"color\":[\"steelblue\",\"steelblue\",\"steelblue\",\"steelblue\",\"steelblue\",\"steelblue\",\"steelblue\",\"steelblue\",\"steelblue\",\"steelblue\",\"steelblue\",\"tan\",\"tan\",\"tan\",\"tan\",\"tan\",\"tan\",\"tan\",\"tan\",\"tan\",\"tan\",\"tan\"]},\"mode\":\"markers\",\"showlegend\":false,\"visible\":false,\"x\":[-40.2,-15.04,-15.91,-15.37,-19.4,-9.76,-11.07,-0.58,-8.98,-9.51,0.1,38.06,16.61,17.5,12.3,14.35,9.74,0.49,-0.89,0.07,-8.89,-0.04],\"y\":[-0.87,-6.93,1.64,-17.86,13.46,0.92,-9.08,-9.69,-18.28,13.65,9.25,-0.06,4.09,-6.15,18.28,-21.64,-2.16,-18.03,0.3,22.3,-16.34,-9.21],\"type\":\"scatter\"},{\"marker\":{\"color\":\"black\"},\"mode\":\"markers\",\"showlegend\":false,\"visible\":false,\"x\":[-0.44],\"y\":[-0.86],\"type\":\"scatter\"},{\"hovertext\":[\"Daphne van Domselaar\",\"Anna Patten\",\"Rachel Corsie\",\"Sarah Emma Mayling\",\"Danielle Turner\",\"Lucy Staniforth\",\"Lucy Parker\",\"Laura Madison Blindkilde Brown\",\"Alisha Lehmann\",\"Kirsty Hanson\",\"Rachel Daly\",\"Mary Earps\",\"Maya Le Tissier\",\"Millie Turner\",\"Hannah Blundell\",\"Gabrielle George\",\"Katie Zelem\",\"Ella Toone\",\"Hayley Ladd\",\"Lucía García Córdoba\",\"Leah Galton\",\" Geyse\"],\"marker\":{\"color\":[\"steelblue\",\"steelblue\",\"steelblue\",\"steelblue\",\"steelblue\",\"steelblue\",\"steelblue\",\"steelblue\",\"steelblue\",\"steelblue\",\"steelblue\",\"tan\",\"tan\",\"tan\",\"tan\",\"tan\",\"tan\",\"tan\",\"tan\",\"tan\",\"tan\",\"tan\"]},\"mode\":\"markers\",\"showlegend\":false,\"visible\":false,\"x\":[-40.34,-15.08,-16.01,-15.48,-19.38,-9.72,-11.07,-0.56,-9.02,-9.57,0.14,38.09,16.7,17.52,12.31,14.47,9.68,0.53,-0.86,0.05,-9.07,-0.08],\"y\":[-0.86,-6.96,1.68,-17.75,13.51,0.9,-9.09,-9.65,-18.31,13.6,9.19,-0.06,4.13,-6.25,18.34,-21.63,-2.11,-18.09,0.44,22.42,-16.75,-9.21],\"type\":\"scatter\"},{\"marker\":{\"color\":\"black\"},\"mode\":\"markers\",\"showlegend\":false,\"visible\":false,\"x\":[-0.37],\"y\":[-0.86],\"type\":\"scatter\"},{\"hovertext\":[\"Daphne van Domselaar\",\"Anna Patten\",\"Rachel Corsie\",\"Sarah Emma Mayling\",\"Danielle Turner\",\"Lucy Staniforth\",\"Lucy Parker\",\"Laura Madison Blindkilde Brown\",\"Alisha Lehmann\",\"Kirsty Hanson\",\"Rachel Daly\",\"Mary Earps\",\"Maya Le Tissier\",\"Millie Turner\",\"Hannah Blundell\",\"Gabrielle George\",\"Katie Zelem\",\"Ella Toone\",\"Hayley Ladd\",\"Lucía García Córdoba\",\"Leah Galton\",\" Geyse\"],\"marker\":{\"color\":[\"steelblue\",\"steelblue\",\"steelblue\",\"steelblue\",\"steelblue\",\"steelblue\",\"steelblue\",\"steelblue\",\"steelblue\",\"steelblue\",\"steelblue\",\"tan\",\"tan\",\"tan\",\"tan\",\"tan\",\"tan\",\"tan\",\"tan\",\"tan\",\"tan\",\"tan\"]},\"mode\":\"markers\",\"showlegend\":false,\"visible\":false,\"x\":[-40.46,-15.12,-16.11,-15.59,-19.37,-9.66,-11.07,-0.55,-9.05,-9.62,0.19,38.12,16.78,17.56,12.32,14.58,9.62,0.59,-0.83,0.03,-9.26,-0.12],\"y\":[-0.85,-6.98,1.72,-17.64,13.55,0.88,-9.1,-9.61,-18.33,13.54,9.12,-0.06,4.17,-6.34,18.39,-21.65,-2.06,-18.15,0.56,22.53,-17.13,-9.19],\"type\":\"scatter\"},{\"marker\":{\"color\":\"black\"},\"mode\":\"markers\",\"showlegend\":false,\"visible\":false,\"x\":[-0.32],\"y\":[-0.79],\"type\":\"scatter\"},{\"hovertext\":[\"Daphne van Domselaar\",\"Anna Patten\",\"Rachel Corsie\",\"Sarah Emma Mayling\",\"Danielle Turner\",\"Lucy Staniforth\",\"Lucy Parker\",\"Laura Madison Blindkilde Brown\",\"Alisha Lehmann\",\"Kirsty Hanson\",\"Rachel Daly\",\"Mary Earps\",\"Maya Le Tissier\",\"Millie Turner\",\"Hannah Blundell\",\"Gabrielle George\",\"Katie Zelem\",\"Ella Toone\",\"Hayley Ladd\",\"Lucía García Córdoba\",\"Leah Galton\",\" Geyse\"],\"marker\":{\"color\":[\"steelblue\",\"steelblue\",\"steelblue\",\"steelblue\",\"steelblue\",\"steelblue\",\"steelblue\",\"steelblue\",\"steelblue\",\"steelblue\",\"steelblue\",\"tan\",\"tan\",\"tan\",\"tan\",\"tan\",\"tan\",\"tan\",\"tan\",\"tan\",\"tan\",\"tan\"]},\"mode\":\"markers\",\"showlegend\":false,\"visible\":false,\"x\":[-40.57,-15.16,-16.21,-15.69,-19.37,-9.6,-11.07,-0.54,-9.07,-9.66,0.27,38.12,16.85,17.61,12.33,14.69,9.57,0.65,-0.81,-0.01,-9.45,-0.18],\"y\":[-0.84,-7.0,1.75,-17.54,13.61,0.86,-9.12,-9.56,-18.36,13.49,9.03,-0.06,4.2,-6.42,18.43,-21.67,-2.02,-18.19,0.66,22.65,-17.46,-9.17],\"type\":\"scatter\"},{\"marker\":{\"color\":\"black\"},\"mode\":\"markers\",\"showlegend\":false,\"visible\":false,\"x\":[-0.23],\"y\":[-0.7],\"type\":\"scatter\"},{\"hovertext\":[\"Daphne van Domselaar\",\"Anna Patten\",\"Rachel Corsie\",\"Sarah Emma Mayling\",\"Danielle Turner\",\"Lucy Staniforth\",\"Lucy Parker\",\"Laura Madison Blindkilde Brown\",\"Alisha Lehmann\",\"Kirsty Hanson\",\"Rachel Daly\",\"Mary Earps\",\"Maya Le Tissier\",\"Millie Turner\",\"Hannah Blundell\",\"Gabrielle George\",\"Katie Zelem\",\"Ella Toone\",\"Hayley Ladd\",\"Lucía García Córdoba\",\"Leah Galton\",\" Geyse\"],\"marker\":{\"color\":[\"steelblue\",\"steelblue\",\"steelblue\",\"steelblue\",\"steelblue\",\"steelblue\",\"steelblue\",\"steelblue\",\"steelblue\",\"steelblue\",\"steelblue\",\"tan\",\"tan\",\"tan\",\"tan\",\"tan\",\"tan\",\"tan\",\"tan\",\"tan\",\"tan\",\"tan\"]},\"mode\":\"markers\",\"showlegend\":false,\"visible\":false,\"x\":[-40.67,-15.21,-16.3,-15.78,-19.38,-9.51,-11.06,-0.54,-9.07,-9.7,0.37,38.11,16.92,17.66,12.33,14.79,9.53,0.72,-0.8,-0.06,-9.64,-0.24],\"y\":[-0.82,-7.02,1.78,-17.45,13.67,0.84,-9.14,-9.51,-18.38,13.44,8.92,-0.06,4.22,-6.49,18.46,-21.71,-1.98,-18.22,0.75,22.76,-17.75,-9.13],\"type\":\"scatter\"},{\"marker\":{\"color\":\"black\"},\"mode\":\"markers\",\"showlegend\":false,\"visible\":false,\"x\":[-0.08],\"y\":[-0.66],\"type\":\"scatter\"},{\"hovertext\":[\"Daphne van Domselaar\",\"Anna Patten\",\"Rachel Corsie\",\"Sarah Emma Mayling\",\"Danielle Turner\",\"Lucy Staniforth\",\"Lucy Parker\",\"Laura Madison Blindkilde Brown\",\"Alisha Lehmann\",\"Kirsty Hanson\",\"Rachel Daly\",\"Mary Earps\",\"Maya Le Tissier\",\"Millie Turner\",\"Hannah Blundell\",\"Gabrielle George\",\"Katie Zelem\",\"Ella Toone\",\"Hayley Ladd\",\"Lucía García Córdoba\",\"Leah Galton\",\" Geyse\"],\"marker\":{\"color\":[\"steelblue\",\"steelblue\",\"steelblue\",\"steelblue\",\"steelblue\",\"steelblue\",\"steelblue\",\"steelblue\",\"steelblue\",\"steelblue\",\"steelblue\",\"tan\",\"tan\",\"tan\",\"tan\",\"tan\",\"tan\",\"tan\",\"tan\",\"tan\",\"tan\",\"tan\"]},\"mode\":\"markers\",\"showlegend\":false,\"visible\":false,\"x\":[-40.76,-15.27,-16.39,-15.87,-19.4,-9.42,-11.06,-0.55,-9.06,-9.73,0.5,38.09,16.98,17.73,12.33,14.89,9.5,0.81,-0.8,-0.11,-9.83,-0.32],\"y\":[-0.81,-7.04,1.81,-17.36,13.74,0.83,-9.16,-9.45,-18.4,13.4,8.8,-0.07,4.23,-6.54,18.48,-21.77,-1.95,-18.23,0.82,22.88,-18.0,-9.07],\"type\":\"scatter\"},{\"marker\":{\"color\":\"black\"},\"mode\":\"markers\",\"showlegend\":false,\"visible\":false,\"x\":[0.29],\"y\":[-0.63],\"type\":\"scatter\"},{\"hovertext\":[\"Daphne van Domselaar\",\"Anna Patten\",\"Rachel Corsie\",\"Sarah Emma Mayling\",\"Danielle Turner\",\"Lucy Staniforth\",\"Lucy Parker\",\"Laura Madison Blindkilde Brown\",\"Alisha Lehmann\",\"Kirsty Hanson\",\"Rachel Daly\",\"Mary Earps\",\"Maya Le Tissier\",\"Millie Turner\",\"Hannah Blundell\",\"Gabrielle George\",\"Katie Zelem\",\"Ella Toone\",\"Hayley Ladd\",\"Lucía García Córdoba\",\"Leah Galton\",\" Geyse\"],\"marker\":{\"color\":[\"steelblue\",\"steelblue\",\"steelblue\",\"steelblue\",\"steelblue\",\"steelblue\",\"steelblue\",\"steelblue\",\"steelblue\",\"steelblue\",\"steelblue\",\"tan\",\"tan\",\"tan\",\"tan\",\"tan\",\"tan\",\"tan\",\"tan\",\"tan\",\"tan\",\"tan\"]},\"mode\":\"markers\",\"showlegend\":false,\"visible\":false,\"x\":[-40.84,-15.35,-16.52,-15.96,-19.46,-9.34,-11.03,-0.58,-9.04,-9.75,0.65,38.02,17.02,17.79,12.32,14.97,9.49,0.91,-0.79,-0.17,-10.08,-0.39],\"y\":[-0.77,-7.06,1.82,-17.24,13.84,0.83,-9.18,-9.39,-18.44,13.38,8.64,-0.07,4.22,-6.58,18.47,-21.88,-1.93,-18.23,0.84,22.96,-18.13,-8.99],\"type\":\"scatter\"},{\"marker\":{\"color\":\"black\"},\"mode\":\"markers\",\"showlegend\":false,\"visible\":false,\"x\":[0.91],\"y\":[-0.74],\"type\":\"scatter\"},{\"hovertext\":[\"Daphne van Domselaar\",\"Anna Patten\",\"Rachel Corsie\",\"Sarah Emma Mayling\",\"Danielle Turner\",\"Lucy Staniforth\",\"Lucy Parker\",\"Laura Madison Blindkilde Brown\",\"Alisha Lehmann\",\"Kirsty Hanson\",\"Rachel Daly\",\"Mary Earps\",\"Maya Le Tissier\",\"Millie Turner\",\"Hannah Blundell\",\"Gabrielle George\",\"Katie Zelem\",\"Ella Toone\",\"Hayley Ladd\",\"Lucía García Córdoba\",\"Leah Galton\",\" Geyse\"],\"marker\":{\"color\":[\"steelblue\",\"steelblue\",\"steelblue\",\"steelblue\",\"steelblue\",\"steelblue\",\"steelblue\",\"steelblue\",\"steelblue\",\"steelblue\",\"steelblue\",\"tan\",\"tan\",\"tan\",\"tan\",\"tan\",\"tan\",\"tan\",\"tan\",\"tan\",\"tan\",\"tan\"]},\"mode\":\"markers\",\"showlegend\":false,\"visible\":false,\"x\":[-40.89,-15.42,-16.61,-16.02,-19.51,-9.23,-10.99,-0.62,-9.01,-9.78,0.83,37.92,17.07,17.86,12.3,15.05,9.47,1.02,-0.8,-0.25,-10.3,-0.49],\"y\":[-0.73,-7.08,1.85,-17.14,13.95,0.83,-9.19,-9.32,-18.47,13.35,8.48,-0.08,4.2,-6.59,18.45,-22.0,-1.91,-18.21,0.85,23.07,-18.26,-8.88],\"type\":\"scatter\"},{\"marker\":{\"color\":\"black\"},\"mode\":\"markers\",\"showlegend\":false,\"visible\":false,\"x\":[1.72],\"y\":[-1.02],\"type\":\"scatter\"},{\"hovertext\":[\"Daphne van Domselaar\",\"Anna Patten\",\"Rachel Corsie\",\"Sarah Emma Mayling\",\"Danielle Turner\",\"Lucy Staniforth\",\"Lucy Parker\",\"Laura Madison Blindkilde Brown\",\"Alisha Lehmann\",\"Kirsty Hanson\",\"Rachel Daly\",\"Mary Earps\",\"Maya Le Tissier\",\"Millie Turner\",\"Hannah Blundell\",\"Gabrielle George\",\"Katie Zelem\",\"Ella Toone\",\"Hayley Ladd\",\"Lucía García Córdoba\",\"Leah Galton\",\" Geyse\"],\"marker\":{\"color\":[\"steelblue\",\"steelblue\",\"steelblue\",\"steelblue\",\"steelblue\",\"steelblue\",\"steelblue\",\"steelblue\",\"steelblue\",\"steelblue\",\"steelblue\",\"tan\",\"tan\",\"tan\",\"tan\",\"tan\",\"tan\",\"tan\",\"tan\",\"tan\",\"tan\",\"tan\"]},\"mode\":\"markers\",\"showlegend\":false,\"visible\":false,\"x\":[-40.94,-15.49,-16.69,-16.09,-19.56,-9.09,-10.97,-0.66,-8.96,-9.8,1.03,37.84,17.11,17.95,12.29,15.12,9.45,1.13,-0.82,-0.34,-10.5,-0.6],\"y\":[-0.7,-7.09,1.86,-17.09,14.04,0.83,-9.22,-9.26,-18.49,13.31,8.3,-0.09,4.2,-6.61,18.43,-22.12,-1.89,-18.18,0.87,23.18,-18.38,-8.77],\"type\":\"scatter\"},{\"marker\":{\"color\":\"black\"},\"mode\":\"markers\",\"showlegend\":false,\"visible\":false,\"x\":[2.68],\"y\":[-1.37],\"type\":\"scatter\"},{\"hovertext\":[\"Daphne van Domselaar\",\"Anna Patten\",\"Rachel Corsie\",\"Sarah Emma Mayling\",\"Danielle Turner\",\"Lucy Staniforth\",\"Lucy Parker\",\"Laura Madison Blindkilde Brown\",\"Alisha Lehmann\",\"Kirsty Hanson\",\"Rachel Daly\",\"Mary Earps\",\"Maya Le Tissier\",\"Millie Turner\",\"Hannah Blundell\",\"Gabrielle George\",\"Katie Zelem\",\"Ella Toone\",\"Hayley Ladd\",\"Lucía García Córdoba\",\"Leah Galton\",\" Geyse\"],\"marker\":{\"color\":[\"steelblue\",\"steelblue\",\"steelblue\",\"steelblue\",\"steelblue\",\"steelblue\",\"steelblue\",\"steelblue\",\"steelblue\",\"steelblue\",\"steelblue\",\"tan\",\"tan\",\"tan\",\"tan\",\"tan\",\"tan\",\"tan\",\"tan\",\"tan\",\"tan\",\"tan\"]},\"mode\":\"markers\",\"showlegend\":false,\"visible\":false,\"x\":[-40.99,-15.55,-16.74,-16.15,-19.62,-8.92,-10.97,-0.7,-8.89,-9.8,1.25,37.77,17.15,18.05,12.28,15.19,9.43,1.25,-0.86,-0.43,-10.68,-0.72],\"y\":[-0.68,-7.11,1.87,-17.06,14.12,0.83,-9.25,-9.18,-18.5,13.27,8.1,-0.11,4.19,-6.61,18.41,-22.23,-1.87,-18.16,0.89,23.3,-18.49,-8.67],\"type\":\"scatter\"},{\"marker\":{\"color\":\"black\"},\"mode\":\"markers\",\"showlegend\":false,\"visible\":false,\"x\":[3.7],\"y\":[-1.73],\"type\":\"scatter\"},{\"hovertext\":[\"Daphne van Domselaar\",\"Anna Patten\",\"Rachel Corsie\",\"Sarah Emma Mayling\",\"Danielle Turner\",\"Lucy Staniforth\",\"Lucy Parker\",\"Laura Madison Blindkilde Brown\",\"Alisha Lehmann\",\"Kirsty Hanson\",\"Rachel Daly\",\"Mary Earps\",\"Maya Le Tissier\",\"Millie Turner\",\"Hannah Blundell\",\"Gabrielle George\",\"Katie Zelem\",\"Ella Toone\",\"Hayley Ladd\",\"Lucía García Córdoba\",\"Leah Galton\",\" Geyse\"],\"marker\":{\"color\":[\"steelblue\",\"steelblue\",\"steelblue\",\"steelblue\",\"steelblue\",\"steelblue\",\"steelblue\",\"steelblue\",\"steelblue\",\"steelblue\",\"steelblue\",\"tan\",\"tan\",\"tan\",\"tan\",\"tan\",\"tan\",\"tan\",\"tan\",\"tan\",\"tan\",\"tan\"]},\"mode\":\"markers\",\"showlegend\":false,\"visible\":false,\"x\":[-41.02,-15.6,-16.78,-16.19,-19.67,-8.73,-10.99,-0.75,-8.79,-9.77,1.49,37.72,17.19,18.16,12.27,15.26,9.41,1.38,-0.89,-0.53,-10.85,-0.85],\"y\":[-0.66,-7.13,1.87,-17.04,14.19,0.83,-9.3,-9.1,-18.51,13.21,7.88,-0.13,4.18,-6.62,18.4,-22.33,-1.85,-18.13,0.92,23.41,-18.6,-8.56],\"type\":\"scatter\"},{\"marker\":{\"color\":\"black\"},\"mode\":\"markers\",\"showlegend\":false,\"visible\":false,\"x\":[4.73],\"y\":[-2.03],\"type\":\"scatter\"},{\"hovertext\":[\"Daphne van Domselaar\",\"Anna Patten\",\"Rachel Corsie\",\"Sarah Emma Mayling\",\"Danielle Turner\",\"Lucy Staniforth\",\"Lucy Parker\",\"Laura Madison Blindkilde Brown\",\"Alisha Lehmann\",\"Kirsty Hanson\",\"Rachel Daly\",\"Mary Earps\",\"Maya Le Tissier\",\"Millie Turner\",\"Hannah Blundell\",\"Gabrielle George\",\"Katie Zelem\",\"Ella Toone\",\"Hayley Ladd\",\"Lucía García Córdoba\",\"Leah Galton\",\" Geyse\"],\"marker\":{\"color\":[\"steelblue\",\"steelblue\",\"steelblue\",\"steelblue\",\"steelblue\",\"steelblue\",\"steelblue\",\"steelblue\",\"steelblue\",\"steelblue\",\"steelblue\",\"tan\",\"tan\",\"tan\",\"tan\",\"tan\",\"tan\",\"tan\",\"tan\",\"tan\",\"tan\",\"tan\"]},\"mode\":\"markers\",\"showlegend\":false,\"visible\":false,\"x\":[-41.05,-15.63,-16.8,-16.23,-19.72,-8.51,-11.03,-0.81,-8.68,-9.73,1.74,37.67,17.24,18.27,12.28,15.34,9.39,1.53,-0.94,-0.64,-10.99,-1.0],\"y\":[-0.65,-7.15,1.87,-17.02,14.23,0.83,-9.36,-9.0,-18.51,13.14,7.65,-0.14,4.17,-6.63,18.4,-22.44,-1.84,-18.11,0.95,23.53,-18.7,-8.44],\"type\":\"scatter\"},{\"marker\":{\"color\":\"black\"},\"mode\":\"markers\",\"showlegend\":false,\"visible\":false,\"x\":[5.75],\"y\":[-2.26],\"type\":\"scatter\"},{\"hovertext\":[\"Daphne van Domselaar\",\"Anna Patten\",\"Rachel Corsie\",\"Sarah Emma Mayling\",\"Danielle Turner\",\"Lucy Staniforth\",\"Lucy Parker\",\"Laura Madison Blindkilde Brown\",\"Alisha Lehmann\",\"Kirsty Hanson\",\"Rachel Daly\",\"Mary Earps\",\"Maya Le Tissier\",\"Millie Turner\",\"Hannah Blundell\",\"Gabrielle George\",\"Katie Zelem\",\"Ella Toone\",\"Hayley Ladd\",\"Lucía García Córdoba\",\"Leah Galton\",\" Geyse\"],\"marker\":{\"color\":[\"steelblue\",\"steelblue\",\"steelblue\",\"steelblue\",\"steelblue\",\"steelblue\",\"steelblue\",\"steelblue\",\"steelblue\",\"steelblue\",\"steelblue\",\"tan\",\"tan\",\"tan\",\"tan\",\"tan\",\"tan\",\"tan\",\"tan\",\"tan\",\"tan\",\"tan\"]},\"mode\":\"markers\",\"showlegend\":false,\"visible\":false,\"x\":[-41.07,-15.65,-16.81,-16.24,-19.76,-8.28,-11.08,-0.89,-8.56,-9.68,2.01,37.64,17.29,18.41,12.29,15.41,9.37,1.69,-0.99,-0.74,-11.13,-1.16],\"y\":[-0.64,-7.16,1.87,-17.01,14.25,0.83,-9.44,-8.9,-18.52,13.06,7.4,-0.15,4.17,-6.65,18.4,-22.54,-1.84,-18.08,0.99,23.64,-18.78,-8.33],\"type\":\"scatter\"},{\"marker\":{\"color\":\"black\"},\"mode\":\"markers\",\"showlegend\":false,\"visible\":false,\"x\":[6.71],\"y\":[-2.42],\"type\":\"scatter\"},{\"hovertext\":[\"Daphne van Domselaar\",\"Anna Patten\",\"Rachel Corsie\",\"Sarah Emma Mayling\",\"Danielle Turner\",\"Lucy Staniforth\",\"Lucy Parker\",\"Laura Madison Blindkilde Brown\",\"Alisha Lehmann\",\"Kirsty Hanson\",\"Rachel Daly\",\"Mary Earps\",\"Maya Le Tissier\",\"Millie Turner\",\"Hannah Blundell\",\"Gabrielle George\",\"Katie Zelem\",\"Ella Toone\",\"Hayley Ladd\",\"Lucía García Córdoba\",\"Leah Galton\",\" Geyse\"],\"marker\":{\"color\":[\"steelblue\",\"steelblue\",\"steelblue\",\"steelblue\",\"steelblue\",\"steelblue\",\"steelblue\",\"steelblue\",\"steelblue\",\"steelblue\",\"steelblue\",\"tan\",\"tan\",\"tan\",\"tan\",\"tan\",\"tan\",\"tan\",\"tan\",\"tan\",\"tan\",\"tan\"]},\"mode\":\"markers\",\"showlegend\":false,\"visible\":false,\"x\":[-41.09,-15.66,-16.8,-16.25,-19.78,-8.02,-11.16,-0.97,-8.43,-9.6,2.28,37.62,17.35,18.54,12.3,15.47,9.35,1.87,-1.05,-0.86,-11.25,-1.33],\"y\":[-0.64,-7.17,1.86,-17.0,14.24,0.83,-9.52,-8.8,-18.53,12.98,7.12,-0.16,4.18,-6.67,18.41,-22.63,-1.86,-18.04,1.05,23.73,-18.87,-8.23],\"type\":\"scatter\"},{\"marker\":{\"color\":\"black\"},\"mode\":\"markers\",\"showlegend\":false,\"visible\":false,\"x\":[7.51],\"y\":[-2.62],\"type\":\"scatter\"},{\"hovertext\":[\"Daphne van Domselaar\",\"Anna Patten\",\"Rachel Corsie\",\"Sarah Emma Mayling\",\"Danielle Turner\",\"Lucy Staniforth\",\"Lucy Parker\",\"Laura Madison Blindkilde Brown\",\"Alisha Lehmann\",\"Kirsty Hanson\",\"Rachel Daly\",\"Mary Earps\",\"Maya Le Tissier\",\"Millie Turner\",\"Hannah Blundell\",\"Gabrielle George\",\"Katie Zelem\",\"Ella Toone\",\"Hayley Ladd\",\"Lucía García Córdoba\",\"Leah Galton\",\" Geyse\"],\"marker\":{\"color\":[\"steelblue\",\"steelblue\",\"steelblue\",\"steelblue\",\"steelblue\",\"steelblue\",\"steelblue\",\"steelblue\",\"steelblue\",\"steelblue\",\"steelblue\",\"tan\",\"tan\",\"tan\",\"tan\",\"tan\",\"tan\",\"tan\",\"tan\",\"tan\",\"tan\",\"tan\"]},\"mode\":\"markers\",\"showlegend\":false,\"visible\":false,\"x\":[-41.1,-15.67,-16.78,-16.25,-19.78,-7.75,-11.24,-1.06,-8.3,-9.5,2.57,37.62,17.41,18.69,12.31,15.54,9.34,2.06,-1.11,-0.98,-11.37,-1.53],\"y\":[-0.64,-7.18,1.85,-16.99,14.21,0.82,-9.6,-8.69,-18.54,12.88,6.81,-0.17,4.19,-6.69,18.42,-22.72,-1.89,-18.0,1.12,23.82,-18.96,-8.12],\"type\":\"scatter\"},{\"marker\":{\"color\":\"black\"},\"mode\":\"markers\",\"showlegend\":false,\"visible\":false,\"x\":[8.12],\"y\":[-2.78],\"type\":\"scatter\"},{\"hovertext\":[\"Daphne van Domselaar\",\"Anna Patten\",\"Rachel Corsie\",\"Sarah Emma Mayling\",\"Danielle Turner\",\"Lucy Staniforth\",\"Lucy Parker\",\"Laura Madison Blindkilde Brown\",\"Alisha Lehmann\",\"Kirsty Hanson\",\"Rachel Daly\",\"Mary Earps\",\"Maya Le Tissier\",\"Millie Turner\",\"Hannah Blundell\",\"Gabrielle George\",\"Katie Zelem\",\"Ella Toone\",\"Hayley Ladd\",\"Lucía García Córdoba\",\"Leah Galton\",\" Geyse\"],\"marker\":{\"color\":[\"steelblue\",\"steelblue\",\"steelblue\",\"steelblue\",\"steelblue\",\"steelblue\",\"steelblue\",\"steelblue\",\"steelblue\",\"steelblue\",\"steelblue\",\"tan\",\"tan\",\"tan\",\"tan\",\"tan\",\"tan\",\"tan\",\"tan\",\"tan\",\"tan\",\"tan\"]},\"mode\":\"markers\",\"showlegend\":false,\"visible\":false,\"x\":[-41.1,-15.68,-16.76,-16.25,-19.76,-7.47,-11.33,-1.14,-8.17,-9.4,2.85,37.61,17.48,18.84,12.32,15.62,9.34,2.27,-1.17,-1.1,-11.48,-1.74],\"y\":[-0.65,-7.19,1.83,-16.98,14.18,0.8,-9.69,-8.58,-18.57,12.78,6.48,-0.18,4.2,-6.73,18.43,-22.81,-1.94,-17.94,1.21,23.91,-19.03,-8.02],\"type\":\"scatter\"},{\"marker\":{\"color\":\"black\"},\"mode\":\"markers\",\"showlegend\":false,\"visible\":false,\"x\":[8.52],\"y\":[-2.94],\"type\":\"scatter\"},{\"hovertext\":[\"Daphne van Domselaar\",\"Anna Patten\",\"Rachel Corsie\",\"Sarah Emma Mayling\",\"Danielle Turner\",\"Lucy Staniforth\",\"Lucy Parker\",\"Laura Madison Blindkilde Brown\",\"Alisha Lehmann\",\"Kirsty Hanson\",\"Rachel Daly\",\"Mary Earps\",\"Maya Le Tissier\",\"Millie Turner\",\"Hannah Blundell\",\"Gabrielle George\",\"Katie Zelem\",\"Ella Toone\",\"Hayley Ladd\",\"Lucía García Córdoba\",\"Leah Galton\",\" Geyse\"],\"marker\":{\"color\":[\"steelblue\",\"steelblue\",\"steelblue\",\"steelblue\",\"steelblue\",\"steelblue\",\"steelblue\",\"steelblue\",\"steelblue\",\"steelblue\",\"steelblue\",\"tan\",\"tan\",\"tan\",\"tan\",\"tan\",\"tan\",\"tan\",\"tan\",\"tan\",\"tan\",\"tan\"]},\"mode\":\"markers\",\"showlegend\":false,\"visible\":false,\"x\":[-41.1,-15.68,-16.73,-16.24,-19.72,-7.19,-11.39,-1.2,-8.05,-9.28,3.14,37.62,17.56,19.0,12.33,15.7,9.35,2.48,-1.22,-1.22,-11.58,-1.97],\"y\":[-0.66,-7.19,1.81,-16.97,14.14,0.78,-9.78,-8.48,-18.6,12.66,6.13,-0.18,4.21,-6.77,18.44,-22.89,-2.01,-17.88,1.3,23.98,-19.1,-7.92],\"type\":\"scatter\"},{\"marker\":{\"color\":\"black\"},\"mode\":\"markers\",\"showlegend\":false,\"visible\":false,\"x\":[8.77],\"y\":[-3.11],\"type\":\"scatter\"},{\"hovertext\":[\"Daphne van Domselaar\",\"Anna Patten\",\"Rachel Corsie\",\"Sarah Emma Mayling\",\"Danielle Turner\",\"Lucy Staniforth\",\"Lucy Parker\",\"Laura Madison Blindkilde Brown\",\"Alisha Lehmann\",\"Kirsty Hanson\",\"Rachel Daly\",\"Mary Earps\",\"Maya Le Tissier\",\"Millie Turner\",\"Hannah Blundell\",\"Gabrielle George\",\"Katie Zelem\",\"Ella Toone\",\"Hayley Ladd\",\"Lucía García Córdoba\",\"Leah Galton\",\" Geyse\"],\"marker\":{\"color\":[\"steelblue\",\"steelblue\",\"steelblue\",\"steelblue\",\"steelblue\",\"steelblue\",\"steelblue\",\"steelblue\",\"steelblue\",\"steelblue\",\"steelblue\",\"tan\",\"tan\",\"tan\",\"tan\",\"tan\",\"tan\",\"tan\",\"tan\",\"tan\",\"tan\",\"tan\"]},\"mode\":\"markers\",\"showlegend\":false,\"visible\":false,\"x\":[-41.09,-15.68,-16.7,-16.22,-19.66,-6.89,-11.41,-1.25,-7.93,-9.16,3.41,37.63,17.65,19.16,12.34,15.8,9.38,2.69,-1.27,-1.34,-11.68,-2.22],\"y\":[-0.67,-7.2,1.78,-16.97,14.11,0.75,-9.88,-8.38,-18.66,12.53,5.75,-0.19,4.22,-6.82,18.45,-22.98,-2.1,-17.82,1.42,24.04,-19.18,-7.82],\"type\":\"scatter\"},{\"marker\":{\"color\":\"black\"},\"mode\":\"markers\",\"showlegend\":false,\"visible\":false,\"x\":[8.91],\"y\":[-3.3],\"type\":\"scatter\"},{\"hovertext\":[\"Daphne van Domselaar\",\"Anna Patten\",\"Rachel Corsie\",\"Sarah Emma Mayling\",\"Danielle Turner\",\"Lucy Staniforth\",\"Lucy Parker\",\"Laura Madison Blindkilde Brown\",\"Alisha Lehmann\",\"Kirsty Hanson\",\"Rachel Daly\",\"Mary Earps\",\"Maya Le Tissier\",\"Millie Turner\",\"Hannah Blundell\",\"Gabrielle George\",\"Katie Zelem\",\"Ella Toone\",\"Hayley Ladd\",\"Lucía García Córdoba\",\"Leah Galton\",\" Geyse\"],\"marker\":{\"color\":[\"steelblue\",\"steelblue\",\"steelblue\",\"steelblue\",\"steelblue\",\"steelblue\",\"steelblue\",\"steelblue\",\"steelblue\",\"steelblue\",\"steelblue\",\"tan\",\"tan\",\"tan\",\"tan\",\"tan\",\"tan\",\"tan\",\"tan\",\"tan\",\"tan\",\"tan\"]},\"mode\":\"markers\",\"showlegend\":false,\"visible\":false,\"x\":[-41.08,-15.68,-16.67,-16.19,-19.6,-6.59,-11.39,-1.27,-7.81,-9.03,3.68,37.64,17.74,19.32,12.35,15.91,9.42,2.89,-1.31,-1.47,-11.78,-2.48],\"y\":[-0.68,-7.21,1.76,-16.98,14.09,0.71,-9.96,-8.29,-18.73,12.39,5.35,-0.2,4.23,-6.89,18.45,-23.07,-2.21,-17.74,1.54,24.09,-19.27,-7.72],\"type\":\"scatter\"},{\"marker\":{\"color\":\"black\"},\"mode\":\"markers\",\"showlegend\":false,\"visible\":false,\"x\":[8.99],\"y\":[-3.51],\"type\":\"scatter\"},{\"hovertext\":[\"Daphne van Domselaar\",\"Anna Patten\",\"Rachel Corsie\",\"Sarah Emma Mayling\",\"Danielle Turner\",\"Lucy Staniforth\",\"Lucy Parker\",\"Laura Madison Blindkilde Brown\",\"Alisha Lehmann\",\"Kirsty Hanson\",\"Rachel Daly\",\"Mary Earps\",\"Maya Le Tissier\",\"Millie Turner\",\"Hannah Blundell\",\"Gabrielle George\",\"Katie Zelem\",\"Ella Toone\",\"Hayley Ladd\",\"Lucía García Córdoba\",\"Leah Galton\",\" Geyse\"],\"marker\":{\"color\":[\"steelblue\",\"steelblue\",\"steelblue\",\"steelblue\",\"steelblue\",\"steelblue\",\"steelblue\",\"steelblue\",\"steelblue\",\"steelblue\",\"steelblue\",\"tan\",\"tan\",\"tan\",\"tan\",\"tan\",\"tan\",\"tan\",\"tan\",\"tan\",\"tan\",\"tan\"]},\"mode\":\"markers\",\"showlegend\":false,\"visible\":false,\"x\":[-41.06,-15.67,-16.63,-16.15,-19.52,-6.28,-11.36,-1.26,-7.71,-8.9,3.92,37.66,17.84,19.49,12.36,16.03,9.46,3.09,-1.36,-1.6,-11.88,-2.77],\"y\":[-0.69,-7.22,1.72,-17.0,14.07,0.65,-10.05,-8.22,-18.81,12.22,4.93,-0.21,4.25,-6.96,18.45,-23.17,-2.35,-17.66,1.67,24.15,-19.36,-7.63],\"type\":\"scatter\"},{\"marker\":{\"color\":\"black\"},\"mode\":\"markers\",\"showlegend\":false,\"visible\":false,\"x\":[9.04],\"y\":[-3.73],\"type\":\"scatter\"},{\"hovertext\":[\"Daphne van Domselaar\",\"Anna Patten\",\"Rachel Corsie\",\"Sarah Emma Mayling\",\"Danielle Turner\",\"Lucy Staniforth\",\"Lucy Parker\",\"Laura Madison Blindkilde Brown\",\"Alisha Lehmann\",\"Kirsty Hanson\",\"Rachel Daly\",\"Mary Earps\",\"Maya Le Tissier\",\"Millie Turner\",\"Hannah Blundell\",\"Gabrielle George\",\"Katie Zelem\",\"Ella Toone\",\"Hayley Ladd\",\"Lucía García Córdoba\",\"Leah Galton\",\" Geyse\"],\"marker\":{\"color\":[\"steelblue\",\"steelblue\",\"steelblue\",\"steelblue\",\"steelblue\",\"steelblue\",\"steelblue\",\"steelblue\",\"steelblue\",\"steelblue\",\"steelblue\",\"tan\",\"tan\",\"tan\",\"tan\",\"tan\",\"tan\",\"tan\",\"tan\",\"tan\",\"tan\",\"tan\"]},\"mode\":\"markers\",\"showlegend\":false,\"visible\":false,\"x\":[-41.03,-15.65,-16.59,-16.09,-19.44,-5.98,-11.31,-1.21,-7.62,-8.77,4.15,37.67,17.95,19.67,12.37,16.14,9.5,3.27,-1.41,-1.74,-11.97,-3.08],\"y\":[-0.71,-7.24,1.67,-17.04,14.06,0.58,-10.13,-8.17,-18.9,12.03,4.49,-0.23,4.26,-7.05,18.44,-23.27,-2.5,-17.58,1.8,24.2,-19.46,-7.55],\"type\":\"scatter\"},{\"marker\":{\"color\":\"black\"},\"mode\":\"markers\",\"showlegend\":false,\"visible\":false,\"x\":[9.07],\"y\":[-3.92],\"type\":\"scatter\"},{\"hovertext\":[\"Daphne van Domselaar\",\"Anna Patten\",\"Rachel Corsie\",\"Sarah Emma Mayling\",\"Danielle Turner\",\"Lucy Staniforth\",\"Lucy Parker\",\"Laura Madison Blindkilde Brown\",\"Alisha Lehmann\",\"Kirsty Hanson\",\"Rachel Daly\",\"Mary Earps\",\"Maya Le Tissier\",\"Millie Turner\",\"Hannah Blundell\",\"Gabrielle George\",\"Katie Zelem\",\"Ella Toone\",\"Hayley Ladd\",\"Lucía García Córdoba\",\"Leah Galton\",\" Geyse\"],\"marker\":{\"color\":[\"steelblue\",\"steelblue\",\"steelblue\",\"steelblue\",\"steelblue\",\"steelblue\",\"steelblue\",\"steelblue\",\"steelblue\",\"steelblue\",\"steelblue\",\"tan\",\"tan\",\"tan\",\"tan\",\"tan\",\"tan\",\"tan\",\"tan\",\"tan\",\"tan\",\"tan\"]},\"mode\":\"markers\",\"showlegend\":false,\"visible\":false,\"x\":[-40.99,-15.61,-16.53,-16.03,-19.35,-5.68,-11.25,-1.12,-7.55,-8.64,4.36,37.67,18.05,19.84,12.38,16.25,9.54,3.44,-1.46,-1.89,-12.05,-3.4],\"y\":[-0.73,-7.26,1.62,-17.08,14.05,0.49,-10.21,-8.14,-19.0,11.81,4.05,-0.25,4.28,-7.15,18.43,-23.39,-2.66,-17.49,1.93,24.25,-19.56,-7.48],\"type\":\"scatter\"},{\"marker\":{\"color\":\"black\"},\"mode\":\"markers\",\"showlegend\":false,\"visible\":false,\"x\":[9.09],\"y\":[-4.04],\"type\":\"scatter\"},{\"hovertext\":[\"Daphne van Domselaar\",\"Anna Patten\",\"Rachel Corsie\",\"Sarah Emma Mayling\",\"Danielle Turner\",\"Lucy Staniforth\",\"Lucy Parker\",\"Laura Madison Blindkilde Brown\",\"Alisha Lehmann\",\"Kirsty Hanson\",\"Rachel Daly\",\"Mary Earps\",\"Maya Le Tissier\",\"Millie Turner\",\"Hannah Blundell\",\"Gabrielle George\",\"Katie Zelem\",\"Ella Toone\",\"Hayley Ladd\",\"Lucía García Córdoba\",\"Leah Galton\",\" Geyse\"],\"marker\":{\"color\":[\"steelblue\",\"steelblue\",\"steelblue\",\"steelblue\",\"steelblue\",\"steelblue\",\"steelblue\",\"steelblue\",\"steelblue\",\"steelblue\",\"steelblue\",\"tan\",\"tan\",\"tan\",\"tan\",\"tan\",\"tan\",\"tan\",\"tan\",\"tan\",\"tan\",\"tan\"]},\"mode\":\"markers\",\"showlegend\":false,\"visible\":false,\"x\":[-40.94,-15.57,-16.47,-15.96,-19.26,-5.38,-11.18,-0.99,-7.48,-8.51,4.56,37.67,18.16,20.01,12.38,16.35,9.58,3.6,-1.52,-2.04,-12.12,-3.74],\"y\":[-0.75,-7.29,1.56,-17.14,14.05,0.39,-10.29,-8.13,-19.11,11.58,3.6,-0.28,4.31,-7.27,18.42,-23.53,-2.83,-17.41,2.05,24.31,-19.65,-7.42],\"type\":\"scatter\"},{\"marker\":{\"color\":\"black\"},\"mode\":\"markers\",\"showlegend\":false,\"visible\":false,\"x\":[9.14],\"y\":[-4.12],\"type\":\"scatter\"},{\"hovertext\":[\"Daphne van Domselaar\",\"Anna Patten\",\"Rachel Corsie\",\"Sarah Emma Mayling\",\"Danielle Turner\",\"Lucy Staniforth\",\"Lucy Parker\",\"Laura Madison Blindkilde Brown\",\"Alisha Lehmann\",\"Kirsty Hanson\",\"Rachel Daly\",\"Mary Earps\",\"Maya Le Tissier\",\"Millie Turner\",\"Hannah Blundell\",\"Gabrielle George\",\"Katie Zelem\",\"Ella Toone\",\"Hayley Ladd\",\"Lucía García Córdoba\",\"Leah Galton\",\" Geyse\"],\"marker\":{\"color\":[\"steelblue\",\"steelblue\",\"steelblue\",\"steelblue\",\"steelblue\",\"steelblue\",\"steelblue\",\"steelblue\",\"steelblue\",\"steelblue\",\"steelblue\",\"tan\",\"tan\",\"tan\",\"tan\",\"tan\",\"tan\",\"tan\",\"tan\",\"tan\",\"tan\",\"tan\"]},\"mode\":\"markers\",\"showlegend\":false,\"visible\":false,\"x\":[-40.88,-15.52,-16.4,-15.88,-19.16,-5.09,-11.11,-0.81,-7.44,-8.37,4.76,37.67,18.27,20.17,12.39,16.45,9.62,3.74,-1.59,-2.2,-12.18,-4.1],\"y\":[-0.78,-7.33,1.51,-17.2,14.05,0.27,-10.37,-8.14,-19.24,11.33,3.15,-0.32,4.34,-7.4,18.41,-23.66,-3.01,-17.33,2.18,24.35,-19.76,-7.38],\"type\":\"scatter\"},{\"marker\":{\"color\":\"black\"},\"mode\":\"markers\",\"showlegend\":false,\"visible\":false,\"x\":[9.22],\"y\":[-4.28],\"type\":\"scatter\"},{\"hovertext\":[\"Daphne van Domselaar\",\"Anna Patten\",\"Rachel Corsie\",\"Sarah Emma Mayling\",\"Danielle Turner\",\"Lucy Staniforth\",\"Lucy Parker\",\"Laura Madison Blindkilde Brown\",\"Alisha Lehmann\",\"Kirsty Hanson\",\"Rachel Daly\",\"Mary Earps\",\"Maya Le Tissier\",\"Millie Turner\",\"Hannah Blundell\",\"Gabrielle George\",\"Katie Zelem\",\"Ella Toone\",\"Hayley Ladd\",\"Lucía García Córdoba\",\"Leah Galton\",\" Geyse\"],\"marker\":{\"color\":[\"steelblue\",\"steelblue\",\"steelblue\",\"steelblue\",\"steelblue\",\"steelblue\",\"steelblue\",\"steelblue\",\"steelblue\",\"steelblue\",\"steelblue\",\"tan\",\"tan\",\"tan\",\"tan\",\"tan\",\"tan\",\"tan\",\"tan\",\"tan\",\"tan\",\"tan\"]},\"mode\":\"markers\",\"showlegend\":false,\"visible\":false,\"x\":[-40.82,-15.46,-16.32,-15.8,-19.06,-4.81,-11.02,-0.58,-7.4,-8.22,4.95,37.65,18.38,20.34,12.39,16.54,9.66,3.86,-1.65,-2.36,-12.22,-4.46],\"y\":[-0.81,-7.37,1.45,-17.27,14.06,0.13,-10.46,-8.17,-19.39,11.07,2.7,-0.36,4.38,-7.54,18.4,-23.81,-3.19,-17.27,2.3,24.4,-19.86,-7.34],\"type\":\"scatter\"},{\"marker\":{\"color\":\"black\"},\"mode\":\"markers\",\"showlegend\":false,\"visible\":false,\"x\":[9.37],\"y\":[-4.8],\"type\":\"scatter\"},{\"hovertext\":[\"Daphne van Domselaar\",\"Anna Patten\",\"Rachel Corsie\",\"Sarah Emma Mayling\",\"Danielle Turner\",\"Lucy Staniforth\",\"Lucy Parker\",\"Laura Madison Blindkilde Brown\",\"Alisha Lehmann\",\"Kirsty Hanson\",\"Rachel Daly\",\"Mary Earps\",\"Maya Le Tissier\",\"Millie Turner\",\"Hannah Blundell\",\"Gabrielle George\",\"Katie Zelem\",\"Ella Toone\",\"Hayley Ladd\",\"Lucía García Córdoba\",\"Leah Galton\",\" Geyse\"],\"marker\":{\"color\":[\"steelblue\",\"steelblue\",\"steelblue\",\"steelblue\",\"steelblue\",\"steelblue\",\"steelblue\",\"steelblue\",\"steelblue\",\"steelblue\",\"steelblue\",\"tan\",\"tan\",\"tan\",\"tan\",\"tan\",\"tan\",\"tan\",\"tan\",\"tan\",\"tan\",\"tan\"]},\"mode\":\"markers\",\"showlegend\":false,\"visible\":false,\"x\":[-40.77,-15.39,-16.23,-15.72,-18.95,-4.53,-10.93,-0.32,-7.37,-8.06,5.16,37.64,18.48,20.5,12.39,16.62,9.7,3.97,-1.71,-2.51,-12.25,-4.82],\"y\":[-0.85,-7.42,1.39,-17.34,14.06,-0.01,-10.55,-8.22,-19.54,10.78,2.26,-0.4,4.42,-7.71,18.39,-23.95,-3.36,-17.21,2.41,24.43,-19.96,-7.31],\"type\":\"scatter\"},{\"marker\":{\"color\":\"black\"},\"mode\":\"markers\",\"showlegend\":false,\"visible\":false,\"x\":[9.61],\"y\":[-5.82],\"type\":\"scatter\"}],                        {\"shapes\":[{\"fillcolor\":\"rgba(0, 0, 0, 0)\",\"line\":{\"color\":\"darkgrey\",\"dash\":\"solid\",\"width\":1},\"type\":\"rect\",\"x0\":-52.5,\"x1\":52.5,\"y0\":-34.0,\"y1\":34.0},{\"line\":{\"color\":\"darkgrey\",\"dash\":\"solid\",\"width\":0.5},\"type\":\"line\",\"x0\":0,\"x1\":0,\"y0\":-34.0,\"y1\":34.0},{\"fillcolor\":\"rgba(0, 0, 0, 0)\",\"line\":{\"color\":\"darkgrey\",\"dash\":\"solid\",\"width\":0.6},\"type\":\"rect\",\"x0\":-52.5,\"x1\":-36.0,\"y0\":-20.16,\"y1\":20.16},{\"fillcolor\":\"rgba(0, 0, 0, 0)\",\"line\":{\"color\":\"darkgrey\",\"dash\":\"solid\",\"width\":0.6},\"type\":\"rect\",\"x0\":36.0,\"x1\":52.5,\"y0\":-20.16,\"y1\":20.16},{\"fillcolor\":\"rgba(0, 0, 0, 0)\",\"line\":{\"color\":\"darkgrey\",\"dash\":\"solid\",\"width\":0.5},\"type\":\"rect\",\"x0\":-52.5,\"x1\":-47.0,\"y0\":-9.16,\"y1\":9.16},{\"fillcolor\":\"rgba(0, 0, 0, 0)\",\"line\":{\"color\":\"darkgrey\",\"dash\":\"solid\",\"width\":0.5},\"type\":\"rect\",\"x0\":47.0,\"x1\":52.5,\"y0\":-9.16,\"y1\":9.16},{\"fillcolor\":\"rgba(0, 0, 0, 0)\",\"line\":{\"color\":\"darkgrey\",\"dash\":\"solid\",\"width\":0.5},\"type\":\"circle\",\"x0\":-9.15,\"x1\":9.15,\"y0\":-9.15,\"y1\":9.15},{\"fillcolor\":\"rgba(0, 0, 0, 0)\",\"line\":{\"color\":\"darkgrey\",\"dash\":\"solid\",\"width\":0.5},\"path\":\"M -36.0,7.312489316231511 L-36.0,7.312489316231511 L-35.8641854977216,7.208335098752586 L-35.730342911557,7.101658755655575 L-35.59851907171191,6.992497611944673 L-35.46876010205251,6.880889862031386 L-35.34111140396719,6.76687455637069 L-35.215617640481085,6.650491587797662 L-35.09232272062886,6.531781677569364 L-34.971269784091405,6.410786361116876 L-34.8525011861017,6.287547973512462 L-34.736058482625076,6.162109634656936 L-34.62198241581927,6.034515234192441 L-34.51031289977907,5.904809416145888 L-34.40108900657082,5.773037563308453 L-34.29434895256147,5.63924578135658 L-34.19013008504702,5.503480882720067 L-34.0884688691851,5.365790370202848 L-33.98940087523617,5.226222420362231 L-33.892960766117824,5.084825866652396 L-33.79918228527656,4.941650182338049 L-33.70809824488131,4.796745463184206 L-33.619740514342766,4.650162409928193 L-33.53414000916259,4.501952310539936 L-33.451326680116395,4.352167022276822 L-33.371329502774245,4.200858953539342 L-33.2941764673624,4.048081045533913 L-33.21989456896979,3.8938867537492694 L-33.14850979810274,3.7383300292529107 L-33.08004713159111,3.5814652998141527 L-33.01453052384916,3.4233474508603905 L-32.95198289849414,3.2640318062732225 L-32.89242614032552,3.1035741090311677 L-32.83588108766777,2.942030501705747 L-32.78236752507916,2.7794575068177507 L-32.73190417642939,2.6159120070605604 L-32.68450869834827,2.4514512253974563 L-32.64019767404785,2.286132705039859 L-32.598986607520104,2.1200142893135365 L-32.56088991811226,1.9531541014197809 L-32.525920935481565,1.7856105240986793 L-32.49409189493143,1.6174421792015639 L-32.46541393313038,1.4487079071798 L-32.439897084215424,1.2794667464970952 L-32.417550276281276,1.109777912972518 L-32.39838132825643,0.9397007790614653 L-32.38239694716743,0.7692948530818233 L-32.369602725792156,0.598619758392593 L-32.36000314070294,0.4277352125322592 L-32.35360155070029,0.2567010063242161 L-32.35040019563762,0.08557698295654208 L-32.35040019563762,-0.08557698295654309 L-32.35360155070029,-0.2567010063242161 L-32.36000314070294,-0.4277352125322592 L-32.369602725792156,-0.598619758392593 L-32.38239694716743,-0.7692948530818243 L-32.39838132825643,-0.9397007790614653 L-32.417550276281276,-1.1097779129725192 L-32.439897084215424,-1.2794667464970952 L-32.46541393313038,-1.448707907179801 L-32.49409189493143,-1.6174421792015639 L-32.525920935481565,-1.7856105240986793 L-32.56088991811226,-1.953154101419782 L-32.598986607520104,-2.1200142893135365 L-32.64019767404785,-2.2861327050398605 L-32.68450869834827,-2.4514512253974563 L-32.73190417642939,-2.6159120070605604 L-32.78236752507916,-2.7794575068177516 L-32.83588108766777,-2.942030501705747 L-32.892426140325526,-3.1035741090311686 L-32.95198289849414,-3.2640318062732225 L-33.01453052384916,-3.4233474508603905 L-33.08004713159111,-3.5814652998141536 L-33.14850979810274,-3.7383300292529107 L-33.21989456896979,-3.8938867537492707 L-33.2941764673624,-4.048081045533913 L-33.371329502774245,-4.200858953539341 L-33.451326680116395,-4.352167022276822 L-33.53414000916259,-4.501952310539936 L-33.619740514342766,-4.6501624099281935 L-33.70809824488131,-4.796745463184206 L-33.79918228527656,-4.941650182338048 L-33.892960766117824,-5.084825866652397 L-33.98940087523617,-5.226222420362231 L-34.0884688691851,-5.365790370202849 L-34.19013008504702,-5.503480882720067 L-34.29434895256147,-5.639245781356581 L-34.40108900657082,-5.773037563308453 L-34.51031289977907,-5.904809416145888 L-34.62198241581927,-6.034515234192442 L-34.736058482625076,-6.162109634656936 L-34.8525011861017,-6.287547973512463 L-34.971269784091405,-6.410786361116877 L-35.09232272062886,-6.531781677569364 L-35.215617640481085,-6.650491587797662 L-35.34111140396719,-6.76687455637069 L-35.46876010205251,-6.8808898620313865 L-35.59851907171191,-6.992497611944673 L-35.730342911557,-7.101658755655575 L-35.8641854977216,-7.208335098752586 L-36.0,-7.312489316231511 L -36.0,-7.312489316231511\",\"type\":\"path\"},{\"fillcolor\":\"rgba(0, 0, 0, 0)\",\"line\":{\"color\":\"darkgrey\",\"dash\":\"solid\",\"width\":0.5},\"path\":\"M 36.0,7.312489316231511 L36.0,7.312489316231511 L35.8641854977216,7.208335098752586 L35.730342911557,7.101658755655575 L35.59851907171191,6.992497611944673 L35.46876010205251,6.880889862031386 L35.34111140396719,6.76687455637069 L35.215617640481085,6.650491587797662 L35.09232272062886,6.531781677569364 L34.971269784091405,6.410786361116876 L34.8525011861017,6.287547973512462 L34.736058482625076,6.162109634656936 L34.62198241581927,6.034515234192441 L34.51031289977907,5.904809416145888 L34.40108900657082,5.773037563308453 L34.29434895256147,5.63924578135658 L34.19013008504702,5.503480882720067 L34.0884688691851,5.365790370202848 L33.98940087523617,5.226222420362231 L33.892960766117824,5.084825866652396 L33.79918228527656,4.941650182338049 L33.70809824488131,4.796745463184206 L33.619740514342766,4.650162409928193 L33.53414000916259,4.501952310539936 L33.451326680116395,4.352167022276822 L33.371329502774245,4.200858953539342 L33.2941764673624,4.048081045533913 L33.21989456896979,3.8938867537492694 L33.14850979810274,3.7383300292529107 L33.08004713159111,3.5814652998141527 L33.01453052384916,3.4233474508603905 L32.95198289849414,3.2640318062732225 L32.89242614032552,3.1035741090311677 L32.83588108766777,2.942030501705747 L32.78236752507916,2.7794575068177507 L32.73190417642939,2.6159120070605604 L32.68450869834827,2.4514512253974563 L32.64019767404785,2.286132705039859 L32.598986607520104,2.1200142893135365 L32.56088991811226,1.9531541014197809 L32.525920935481565,1.7856105240986793 L32.49409189493143,1.6174421792015639 L32.46541393313038,1.4487079071798 L32.439897084215424,1.2794667464970952 L32.417550276281276,1.109777912972518 L32.39838132825643,0.9397007790614653 L32.38239694716743,0.7692948530818233 L32.369602725792156,0.598619758392593 L32.36000314070294,0.4277352125322592 L32.35360155070029,0.2567010063242161 L32.35040019563762,0.08557698295654208 L32.35040019563762,-0.08557698295654309 L32.35360155070029,-0.2567010063242161 L32.36000314070294,-0.4277352125322592 L32.369602725792156,-0.598619758392593 L32.38239694716743,-0.7692948530818243 L32.39838132825643,-0.9397007790614653 L32.417550276281276,-1.1097779129725192 L32.439897084215424,-1.2794667464970952 L32.46541393313038,-1.448707907179801 L32.49409189493143,-1.6174421792015639 L32.525920935481565,-1.7856105240986793 L32.56088991811226,-1.953154101419782 L32.598986607520104,-2.1200142893135365 L32.64019767404785,-2.2861327050398605 L32.68450869834827,-2.4514512253974563 L32.73190417642939,-2.6159120070605604 L32.78236752507916,-2.7794575068177516 L32.83588108766777,-2.942030501705747 L32.892426140325526,-3.1035741090311686 L32.95198289849414,-3.2640318062732225 L33.01453052384916,-3.4233474508603905 L33.08004713159111,-3.5814652998141536 L33.14850979810274,-3.7383300292529107 L33.21989456896979,-3.8938867537492707 L33.2941764673624,-4.048081045533913 L33.371329502774245,-4.200858953539341 L33.451326680116395,-4.352167022276822 L33.53414000916259,-4.501952310539936 L33.619740514342766,-4.6501624099281935 L33.70809824488131,-4.796745463184206 L33.79918228527656,-4.941650182338048 L33.892960766117824,-5.084825866652397 L33.98940087523617,-5.226222420362231 L34.0884688691851,-5.365790370202849 L34.19013008504702,-5.503480882720067 L34.29434895256147,-5.639245781356581 L34.40108900657082,-5.773037563308453 L34.51031289977907,-5.904809416145888 L34.62198241581927,-6.034515234192442 L34.736058482625076,-6.162109634656936 L34.8525011861017,-6.287547973512463 L34.971269784091405,-6.410786361116877 L35.09232272062886,-6.531781677569364 L35.215617640481085,-6.650491587797662 L35.34111140396719,-6.76687455637069 L35.46876010205251,-6.8808898620313865 L35.59851907171191,-6.992497611944673 L35.730342911557,-7.101658755655575 L35.8641854977216,-7.208335098752586 L36.0,-7.312489316231511 L 36.0,-7.312489316231511\",\"type\":\"path\"},{\"fillcolor\":\"rgba(0, 0, 0, 0)\",\"line\":{\"color\":\"darkgrey\",\"dash\":\"solid\",\"width\":0.5},\"type\":\"rect\",\"x0\":-54.5,\"x1\":-52.5,\"y0\":-3.66,\"y1\":3.66},{\"fillcolor\":\"rgba(0, 0, 0, 0)\",\"line\":{\"color\":\"darkgrey\",\"dash\":\"solid\",\"width\":0.5},\"type\":\"rect\",\"x0\":52.5,\"x1\":54.5,\"y0\":-3.66,\"y1\":3.66}],\"xaxis\":{\"constrain\":\"domain\",\"range\":[-55.5,55.5],\"showticklabels\":false,\"showgrid\":false,\"zeroline\":false},\"yaxis\":{\"range\":[-37.0,37.0],\"scaleanchor\":\"x\",\"scaleratio\":1,\"showticklabels\":false,\"showgrid\":false,\"zeroline\":false},\"template\":{\"data\":{\"histogram2dcontour\":[{\"type\":\"histogram2dcontour\",\"colorbar\":{\"outlinewidth\":0,\"ticks\":\"\"},\"colorscale\":[[0.0,\"#0d0887\"],[0.1111111111111111,\"#46039f\"],[0.2222222222222222,\"#7201a8\"],[0.3333333333333333,\"#9c179e\"],[0.4444444444444444,\"#bd3786\"],[0.5555555555555556,\"#d8576b\"],[0.6666666666666666,\"#ed7953\"],[0.7777777777777778,\"#fb9f3a\"],[0.8888888888888888,\"#fdca26\"],[1.0,\"#f0f921\"]]}],\"choropleth\":[{\"type\":\"choropleth\",\"colorbar\":{\"outlinewidth\":0,\"ticks\":\"\"}}],\"histogram2d\":[{\"type\":\"histogram2d\",\"colorbar\":{\"outlinewidth\":0,\"ticks\":\"\"},\"colorscale\":[[0.0,\"#0d0887\"],[0.1111111111111111,\"#46039f\"],[0.2222222222222222,\"#7201a8\"],[0.3333333333333333,\"#9c179e\"],[0.4444444444444444,\"#bd3786\"],[0.5555555555555556,\"#d8576b\"],[0.6666666666666666,\"#ed7953\"],[0.7777777777777778,\"#fb9f3a\"],[0.8888888888888888,\"#fdca26\"],[1.0,\"#f0f921\"]]}],\"heatmap\":[{\"type\":\"heatmap\",\"colorbar\":{\"outlinewidth\":0,\"ticks\":\"\"},\"colorscale\":[[0.0,\"#0d0887\"],[0.1111111111111111,\"#46039f\"],[0.2222222222222222,\"#7201a8\"],[0.3333333333333333,\"#9c179e\"],[0.4444444444444444,\"#bd3786\"],[0.5555555555555556,\"#d8576b\"],[0.6666666666666666,\"#ed7953\"],[0.7777777777777778,\"#fb9f3a\"],[0.8888888888888888,\"#fdca26\"],[1.0,\"#f0f921\"]]}],\"heatmapgl\":[{\"type\":\"heatmapgl\",\"colorbar\":{\"outlinewidth\":0,\"ticks\":\"\"},\"colorscale\":[[0.0,\"#0d0887\"],[0.1111111111111111,\"#46039f\"],[0.2222222222222222,\"#7201a8\"],[0.3333333333333333,\"#9c179e\"],[0.4444444444444444,\"#bd3786\"],[0.5555555555555556,\"#d8576b\"],[0.6666666666666666,\"#ed7953\"],[0.7777777777777778,\"#fb9f3a\"],[0.8888888888888888,\"#fdca26\"],[1.0,\"#f0f921\"]]}],\"contourcarpet\":[{\"type\":\"contourcarpet\",\"colorbar\":{\"outlinewidth\":0,\"ticks\":\"\"}}],\"contour\":[{\"type\":\"contour\",\"colorbar\":{\"outlinewidth\":0,\"ticks\":\"\"},\"colorscale\":[[0.0,\"#0d0887\"],[0.1111111111111111,\"#46039f\"],[0.2222222222222222,\"#7201a8\"],[0.3333333333333333,\"#9c179e\"],[0.4444444444444444,\"#bd3786\"],[0.5555555555555556,\"#d8576b\"],[0.6666666666666666,\"#ed7953\"],[0.7777777777777778,\"#fb9f3a\"],[0.8888888888888888,\"#fdca26\"],[1.0,\"#f0f921\"]]}],\"surface\":[{\"type\":\"surface\",\"colorbar\":{\"outlinewidth\":0,\"ticks\":\"\"},\"colorscale\":[[0.0,\"#0d0887\"],[0.1111111111111111,\"#46039f\"],[0.2222222222222222,\"#7201a8\"],[0.3333333333333333,\"#9c179e\"],[0.4444444444444444,\"#bd3786\"],[0.5555555555555556,\"#d8576b\"],[0.6666666666666666,\"#ed7953\"],[0.7777777777777778,\"#fb9f3a\"],[0.8888888888888888,\"#fdca26\"],[1.0,\"#f0f921\"]]}],\"mesh3d\":[{\"type\":\"mesh3d\",\"colorbar\":{\"outlinewidth\":0,\"ticks\":\"\"}}],\"scatter\":[{\"fillpattern\":{\"fillmode\":\"overlay\",\"size\":10,\"solidity\":0.2},\"type\":\"scatter\"}],\"parcoords\":[{\"type\":\"parcoords\",\"line\":{\"colorbar\":{\"outlinewidth\":0,\"ticks\":\"\"}}}],\"scatterpolargl\":[{\"type\":\"scatterpolargl\",\"marker\":{\"colorbar\":{\"outlinewidth\":0,\"ticks\":\"\"}}}],\"bar\":[{\"error_x\":{\"color\":\"#2a3f5f\"},\"error_y\":{\"color\":\"#2a3f5f\"},\"marker\":{\"line\":{\"color\":\"#E5ECF6\",\"width\":0.5},\"pattern\":{\"fillmode\":\"overlay\",\"size\":10,\"solidity\":0.2}},\"type\":\"bar\"}],\"scattergeo\":[{\"type\":\"scattergeo\",\"marker\":{\"colorbar\":{\"outlinewidth\":0,\"ticks\":\"\"}}}],\"scatterpolar\":[{\"type\":\"scatterpolar\",\"marker\":{\"colorbar\":{\"outlinewidth\":0,\"ticks\":\"\"}}}],\"histogram\":[{\"marker\":{\"pattern\":{\"fillmode\":\"overlay\",\"size\":10,\"solidity\":0.2}},\"type\":\"histogram\"}],\"scattergl\":[{\"type\":\"scattergl\",\"marker\":{\"colorbar\":{\"outlinewidth\":0,\"ticks\":\"\"}}}],\"scatter3d\":[{\"type\":\"scatter3d\",\"line\":{\"colorbar\":{\"outlinewidth\":0,\"ticks\":\"\"}},\"marker\":{\"colorbar\":{\"outlinewidth\":0,\"ticks\":\"\"}}}],\"scattermapbox\":[{\"type\":\"scattermapbox\",\"marker\":{\"colorbar\":{\"outlinewidth\":0,\"ticks\":\"\"}}}],\"scatterternary\":[{\"type\":\"scatterternary\",\"marker\":{\"colorbar\":{\"outlinewidth\":0,\"ticks\":\"\"}}}],\"scattercarpet\":[{\"type\":\"scattercarpet\",\"marker\":{\"colorbar\":{\"outlinewidth\":0,\"ticks\":\"\"}}}],\"carpet\":[{\"aaxis\":{\"endlinecolor\":\"#2a3f5f\",\"gridcolor\":\"white\",\"linecolor\":\"white\",\"minorgridcolor\":\"white\",\"startlinecolor\":\"#2a3f5f\"},\"baxis\":{\"endlinecolor\":\"#2a3f5f\",\"gridcolor\":\"white\",\"linecolor\":\"white\",\"minorgridcolor\":\"white\",\"startlinecolor\":\"#2a3f5f\"},\"type\":\"carpet\"}],\"table\":[{\"cells\":{\"fill\":{\"color\":\"#EBF0F8\"},\"line\":{\"color\":\"white\"}},\"header\":{\"fill\":{\"color\":\"#C8D4E3\"},\"line\":{\"color\":\"white\"}},\"type\":\"table\"}],\"barpolar\":[{\"marker\":{\"line\":{\"color\":\"#E5ECF6\",\"width\":0.5},\"pattern\":{\"fillmode\":\"overlay\",\"size\":10,\"solidity\":0.2}},\"type\":\"barpolar\"}],\"pie\":[{\"automargin\":true,\"type\":\"pie\"}]},\"layout\":{\"autotypenumbers\":\"strict\",\"colorway\":[\"#636efa\",\"#EF553B\",\"#00cc96\",\"#ab63fa\",\"#FFA15A\",\"#19d3f3\",\"#FF6692\",\"#B6E880\",\"#FF97FF\",\"#FECB52\"],\"font\":{\"color\":\"#2a3f5f\"},\"hovermode\":\"closest\",\"hoverlabel\":{\"align\":\"left\"},\"paper_bgcolor\":\"white\",\"plot_bgcolor\":\"#E5ECF6\",\"polar\":{\"bgcolor\":\"#E5ECF6\",\"angularaxis\":{\"gridcolor\":\"white\",\"linecolor\":\"white\",\"ticks\":\"\"},\"radialaxis\":{\"gridcolor\":\"white\",\"linecolor\":\"white\",\"ticks\":\"\"}},\"ternary\":{\"bgcolor\":\"#E5ECF6\",\"aaxis\":{\"gridcolor\":\"white\",\"linecolor\":\"white\",\"ticks\":\"\"},\"baxis\":{\"gridcolor\":\"white\",\"linecolor\":\"white\",\"ticks\":\"\"},\"caxis\":{\"gridcolor\":\"white\",\"linecolor\":\"white\",\"ticks\":\"\"}},\"coloraxis\":{\"colorbar\":{\"outlinewidth\":0,\"ticks\":\"\"}},\"colorscale\":{\"sequential\":[[0.0,\"#0d0887\"],[0.1111111111111111,\"#46039f\"],[0.2222222222222222,\"#7201a8\"],[0.3333333333333333,\"#9c179e\"],[0.4444444444444444,\"#bd3786\"],[0.5555555555555556,\"#d8576b\"],[0.6666666666666666,\"#ed7953\"],[0.7777777777777778,\"#fb9f3a\"],[0.8888888888888888,\"#fdca26\"],[1.0,\"#f0f921\"]],\"sequentialminus\":[[0.0,\"#0d0887\"],[0.1111111111111111,\"#46039f\"],[0.2222222222222222,\"#7201a8\"],[0.3333333333333333,\"#9c179e\"],[0.4444444444444444,\"#bd3786\"],[0.5555555555555556,\"#d8576b\"],[0.6666666666666666,\"#ed7953\"],[0.7777777777777778,\"#fb9f3a\"],[0.8888888888888888,\"#fdca26\"],[1.0,\"#f0f921\"]],\"diverging\":[[0,\"#8e0152\"],[0.1,\"#c51b7d\"],[0.2,\"#de77ae\"],[0.3,\"#f1b6da\"],[0.4,\"#fde0ef\"],[0.5,\"#f7f7f7\"],[0.6,\"#e6f5d0\"],[0.7,\"#b8e186\"],[0.8,\"#7fbc41\"],[0.9,\"#4d9221\"],[1,\"#276419\"]]},\"xaxis\":{\"gridcolor\":\"white\",\"linecolor\":\"white\",\"ticks\":\"\",\"title\":{\"standoff\":15},\"zerolinecolor\":\"white\",\"automargin\":true,\"zerolinewidth\":2},\"yaxis\":{\"gridcolor\":\"white\",\"linecolor\":\"white\",\"ticks\":\"\",\"title\":{\"standoff\":15},\"zerolinecolor\":\"white\",\"automargin\":true,\"zerolinewidth\":2},\"scene\":{\"xaxis\":{\"backgroundcolor\":\"#E5ECF6\",\"gridcolor\":\"white\",\"linecolor\":\"white\",\"showbackground\":true,\"ticks\":\"\",\"zerolinecolor\":\"white\",\"gridwidth\":2},\"yaxis\":{\"backgroundcolor\":\"#E5ECF6\",\"gridcolor\":\"white\",\"linecolor\":\"white\",\"showbackground\":true,\"ticks\":\"\",\"zerolinecolor\":\"white\",\"gridwidth\":2},\"zaxis\":{\"backgroundcolor\":\"#E5ECF6\",\"gridcolor\":\"white\",\"linecolor\":\"white\",\"showbackground\":true,\"ticks\":\"\",\"zerolinecolor\":\"white\",\"gridwidth\":2}},\"shapedefaults\":{\"line\":{\"color\":\"#2a3f5f\"}},\"annotationdefaults\":{\"arrowcolor\":\"#2a3f5f\",\"arrowhead\":0,\"arrowwidth\":1},\"geo\":{\"bgcolor\":\"white\",\"landcolor\":\"#E5ECF6\",\"subunitcolor\":\"white\",\"showland\":true,\"showlakes\":true,\"lakecolor\":\"white\"},\"title\":{\"x\":0.05},\"mapbox\":{\"style\":\"light\"}}},\"margin\":{\"l\":0,\"r\":100,\"t\":0,\"b\":0},\"legend\":{\"font\":{\"family\":\"Roboto, sans-serif\",\"size\":14},\"xanchor\":\"left\",\"x\":1,\"y\":0.85},\"width\":920,\"height\":600,\"paper_bgcolor\":\"rgba(0,0,0,0)\",\"plot_bgcolor\":\"rgba(0,0,0,0)\",\"dragmode\":false,\"sliders\":[{\"active\":0,\"font\":{\"size\":10},\"steps\":[{\"args\":[{\"visible\":[true,true,false,false,false,false,false,false,false,false,false,false,false,false,false,false,false,false,false,false,false,false,false,false,false,false,false,false,false,false,false,false,false,false,false,false,false,false,false,false,false,false,false,false,false,false,false,false,false,false,false,false,false,false,false,false]}],\"label\":\"100\",\"method\":\"update\"},{\"args\":[{\"visible\":[false,false,true,true,false,false,false,false,false,false,false,false,false,false,false,false,false,false,false,false,false,false,false,false,false,false,false,false,false,false,false,false,false,false,false,false,false,false,false,false,false,false,false,false,false,false,false,false,false,false,false,false,false,false,false,false]}],\"label\":\"101\",\"method\":\"update\"},{\"args\":[{\"visible\":[false,false,false,false,true,true,false,false,false,false,false,false,false,false,false,false,false,false,false,false,false,false,false,false,false,false,false,false,false,false,false,false,false,false,false,false,false,false,false,false,false,false,false,false,false,false,false,false,false,false,false,false,false,false,false,false]}],\"label\":\"102\",\"method\":\"update\"},{\"args\":[{\"visible\":[false,false,false,false,false,false,true,true,false,false,false,false,false,false,false,false,false,false,false,false,false,false,false,false,false,false,false,false,false,false,false,false,false,false,false,false,false,false,false,false,false,false,false,false,false,false,false,false,false,false,false,false,false,false,false,false]}],\"label\":\"103\",\"method\":\"update\"},{\"args\":[{\"visible\":[false,false,false,false,false,false,false,false,true,true,false,false,false,false,false,false,false,false,false,false,false,false,false,false,false,false,false,false,false,false,false,false,false,false,false,false,false,false,false,false,false,false,false,false,false,false,false,false,false,false,false,false,false,false,false,false]}],\"label\":\"104\",\"method\":\"update\"},{\"args\":[{\"visible\":[false,false,false,false,false,false,false,false,false,false,true,true,false,false,false,false,false,false,false,false,false,false,false,false,false,false,false,false,false,false,false,false,false,false,false,false,false,false,false,false,false,false,false,false,false,false,false,false,false,false,false,false,false,false,false,false]}],\"label\":\"105\",\"method\":\"update\"},{\"args\":[{\"visible\":[false,false,false,false,false,false,false,false,false,false,false,false,true,true,false,false,false,false,false,false,false,false,false,false,false,false,false,false,false,false,false,false,false,false,false,false,false,false,false,false,false,false,false,false,false,false,false,false,false,false,false,false,false,false,false,false]}],\"label\":\"106\",\"method\":\"update\"},{\"args\":[{\"visible\":[false,false,false,false,false,false,false,false,false,false,false,false,false,false,true,true,false,false,false,false,false,false,false,false,false,false,false,false,false,false,false,false,false,false,false,false,false,false,false,false,false,false,false,false,false,false,false,false,false,false,false,false,false,false,false,false]}],\"label\":\"107\",\"method\":\"update\"},{\"args\":[{\"visible\":[false,false,false,false,false,false,false,false,false,false,false,false,false,false,false,false,true,true,false,false,false,false,false,false,false,false,false,false,false,false,false,false,false,false,false,false,false,false,false,false,false,false,false,false,false,false,false,false,false,false,false,false,false,false,false,false]}],\"label\":\"108\",\"method\":\"update\"},{\"args\":[{\"visible\":[false,false,false,false,false,false,false,false,false,false,false,false,false,false,false,false,false,false,true,true,false,false,false,false,false,false,false,false,false,false,false,false,false,false,false,false,false,false,false,false,false,false,false,false,false,false,false,false,false,false,false,false,false,false,false,false]}],\"label\":\"109\",\"method\":\"update\"},{\"args\":[{\"visible\":[false,false,false,false,false,false,false,false,false,false,false,false,false,false,false,false,false,false,false,false,true,true,false,false,false,false,false,false,false,false,false,false,false,false,false,false,false,false,false,false,false,false,false,false,false,false,false,false,false,false,false,false,false,false,false,false]}],\"label\":\"110\",\"method\":\"update\"},{\"args\":[{\"visible\":[false,false,false,false,false,false,false,false,false,false,false,false,false,false,false,false,false,false,false,false,false,false,true,true,false,false,false,false,false,false,false,false,false,false,false,false,false,false,false,false,false,false,false,false,false,false,false,false,false,false,false,false,false,false,false,false]}],\"label\":\"111\",\"method\":\"update\"},{\"args\":[{\"visible\":[false,false,false,false,false,false,false,false,false,false,false,false,false,false,false,false,false,false,false,false,false,false,false,false,true,true,false,false,false,false,false,false,false,false,false,false,false,false,false,false,false,false,false,false,false,false,false,false,false,false,false,false,false,false,false,false]}],\"label\":\"112\",\"method\":\"update\"},{\"args\":[{\"visible\":[false,false,false,false,false,false,false,false,false,false,false,false,false,false,false,false,false,false,false,false,false,false,false,false,false,false,true,true,false,false,false,false,false,false,false,false,false,false,false,false,false,false,false,false,false,false,false,false,false,false,false,false,false,false,false,false]}],\"label\":\"113\",\"method\":\"update\"},{\"args\":[{\"visible\":[false,false,false,false,false,false,false,false,false,false,false,false,false,false,false,false,false,false,false,false,false,false,false,false,false,false,false,false,true,true,false,false,false,false,false,false,false,false,false,false,false,false,false,false,false,false,false,false,false,false,false,false,false,false,false,false]}],\"label\":\"114\",\"method\":\"update\"},{\"args\":[{\"visible\":[false,false,false,false,false,false,false,false,false,false,false,false,false,false,false,false,false,false,false,false,false,false,false,false,false,false,false,false,false,false,true,true,false,false,false,false,false,false,false,false,false,false,false,false,false,false,false,false,false,false,false,false,false,false,false,false]}],\"label\":\"115\",\"method\":\"update\"},{\"args\":[{\"visible\":[false,false,false,false,false,false,false,false,false,false,false,false,false,false,false,false,false,false,false,false,false,false,false,false,false,false,false,false,false,false,false,false,true,true,false,false,false,false,false,false,false,false,false,false,false,false,false,false,false,false,false,false,false,false,false,false]}],\"label\":\"116\",\"method\":\"update\"},{\"args\":[{\"visible\":[false,false,false,false,false,false,false,false,false,false,false,false,false,false,false,false,false,false,false,false,false,false,false,false,false,false,false,false,false,false,false,false,false,false,true,true,false,false,false,false,false,false,false,false,false,false,false,false,false,false,false,false,false,false,false,false]}],\"label\":\"117\",\"method\":\"update\"},{\"args\":[{\"visible\":[false,false,false,false,false,false,false,false,false,false,false,false,false,false,false,false,false,false,false,false,false,false,false,false,false,false,false,false,false,false,false,false,false,false,false,false,true,true,false,false,false,false,false,false,false,false,false,false,false,false,false,false,false,false,false,false]}],\"label\":\"118\",\"method\":\"update\"},{\"args\":[{\"visible\":[false,false,false,false,false,false,false,false,false,false,false,false,false,false,false,false,false,false,false,false,false,false,false,false,false,false,false,false,false,false,false,false,false,false,false,false,false,false,true,true,false,false,false,false,false,false,false,false,false,false,false,false,false,false,false,false]}],\"label\":\"119\",\"method\":\"update\"},{\"args\":[{\"visible\":[false,false,false,false,false,false,false,false,false,false,false,false,false,false,false,false,false,false,false,false,false,false,false,false,false,false,false,false,false,false,false,false,false,false,false,false,false,false,false,false,true,true,false,false,false,false,false,false,false,false,false,false,false,false,false,false]}],\"label\":\"120\",\"method\":\"update\"},{\"args\":[{\"visible\":[false,false,false,false,false,false,false,false,false,false,false,false,false,false,false,false,false,false,false,false,false,false,false,false,false,false,false,false,false,false,false,false,false,false,false,false,false,false,false,false,false,false,true,true,false,false,false,false,false,false,false,false,false,false,false,false]}],\"label\":\"121\",\"method\":\"update\"},{\"args\":[{\"visible\":[false,false,false,false,false,false,false,false,false,false,false,false,false,false,false,false,false,false,false,false,false,false,false,false,false,false,false,false,false,false,false,false,false,false,false,false,false,false,false,false,false,false,false,false,true,true,false,false,false,false,false,false,false,false,false,false]}],\"label\":\"122\",\"method\":\"update\"},{\"args\":[{\"visible\":[false,false,false,false,false,false,false,false,false,false,false,false,false,false,false,false,false,false,false,false,false,false,false,false,false,false,false,false,false,false,false,false,false,false,false,false,false,false,false,false,false,false,false,false,false,false,true,true,false,false,false,false,false,false,false,false]}],\"label\":\"123\",\"method\":\"update\"},{\"args\":[{\"visible\":[false,false,false,false,false,false,false,false,false,false,false,false,false,false,false,false,false,false,false,false,false,false,false,false,false,false,false,false,false,false,false,false,false,false,false,false,false,false,false,false,false,false,false,false,false,false,false,false,true,true,false,false,false,false,false,false]}],\"label\":\"124\",\"method\":\"update\"},{\"args\":[{\"visible\":[false,false,false,false,false,false,false,false,false,false,false,false,false,false,false,false,false,false,false,false,false,false,false,false,false,false,false,false,false,false,false,false,false,false,false,false,false,false,false,false,false,false,false,false,false,false,false,false,false,false,true,true,false,false,false,false]}],\"label\":\"125\",\"method\":\"update\"},{\"args\":[{\"visible\":[false,false,false,false,false,false,false,false,false,false,false,false,false,false,false,false,false,false,false,false,false,false,false,false,false,false,false,false,false,false,false,false,false,false,false,false,false,false,false,false,false,false,false,false,false,false,false,false,false,false,false,false,true,true,false,false]}],\"label\":\"126\",\"method\":\"update\"},{\"args\":[{\"visible\":[false,false,false,false,false,false,false,false,false,false,false,false,false,false,false,false,false,false,false,false,false,false,false,false,false,false,false,false,false,false,false,false,false,false,false,false,false,false,false,false,false,false,false,false,false,false,false,false,false,false,false,false,false,false,true,true]}],\"label\":\"127\",\"method\":\"update\"}]}]},                        {\"responsive\": true}                    ).then(function(){\n",
       "                            \n",
       "var gd = document.getElementById('434f82e5-27ca-457e-8f17-faf3ab530ea6');\n",
       "var x = new MutationObserver(function (mutations, observer) {{\n",
       "        var display = window.getComputedStyle(gd).display;\n",
       "        if (!display || display === 'none') {{\n",
       "            console.log([gd, 'removed!']);\n",
       "            Plotly.purge(gd);\n",
       "            observer.disconnect();\n",
       "        }}\n",
       "}});\n",
       "\n",
       "// Listen for the removal of the full notebook cells\n",
       "var notebookContainer = gd.closest('#notebook-container');\n",
       "if (notebookContainer) {{\n",
       "    x.observe(notebookContainer, {childList: true});\n",
       "}}\n",
       "\n",
       "// Listen for the clearing of the current output cell\n",
       "var outputEl = gd.closest('.output');\n",
       "if (outputEl) {{\n",
       "    x.observe(outputEl, {childList: true});\n",
       "}}\n",
       "\n",
       "                        })                };                });            </script>        </div>"
      ]
     },
     "metadata": {},
     "output_type": "display_data"
    }
   ],
   "source": [
    "color_map = {'H': 'steelblue', 'A': 'tan'}\n",
    "field_layout = soccerfield.get_layout(105, 68)\n",
    "\n",
    "fig = go.Figure(layout=field_layout)\n",
    "fig.update_layout(width=920, height=600, paper_bgcolor=\"rgba(0,0,0,0)\", plot_bgcolor='rgba(0,0,0,0)',\n",
    "                  margin=dict(l=0, r=100, t=0, b=0),\n",
    "                  xaxis=dict(showgrid=False, zeroline=False), yaxis=dict(showgrid=False, zeroline=False),\n",
    "                  legend=dict(xanchor=\"left\", x=1, y=0.85,\n",
    "                              font = dict(family = \"Roboto, sans-serif\", size = 14))\n",
    "                  )\n",
    "\n",
    "fig.update_layout(dragmode= False)\n",
    "\n",
    "\n",
    "for idx, row in frames_df.iterrows():        \n",
    "    colors = [color_map[value] for value in row['team']]\n",
    "    fig.add_trace(\n",
    "        go.Scatter(\n",
    "            visible=False,\n",
    "            x=row['p_x'], y=row['p_y'], mode='markers', marker=dict(color=colors), showlegend = False,\n",
    "            hovertext = row['name']\n",
    "        ))\n",
    "    fig.add_trace(\n",
    "        go.Scatter(\n",
    "            visible=False,\n",
    "            x=[row['ball_x']], y=[row['ball_y']], mode='markers', marker=dict(color='black'), showlegend = False   \n",
    "        ))\n",
    "fig.data[0].visible = True\n",
    "fig.data[1].visible = True\n",
    "\n",
    "visibility = []\n",
    "fame_number = frames_df['frame'].to_list()\n",
    "for i in range(len(frames)):\n",
    "    frame_viz = dict(\n",
    "        method=\"update\",\n",
    "        args=[{\"visible\": [False] * len(fig.data)}],\n",
    "        label = fame_number[i]\n",
    "    )\n",
    "    frame_viz[\"args\"][0][\"visible\"][i*2] = True\n",
    "    frame_viz[\"args\"][0][\"visible\"][i*2+1] = True\n",
    "    visibility.append(frame_viz)\n",
    "    \n",
    "sliders = [dict(\n",
    "        active=0, steps=visibility, font=dict(size=10)\n",
    "    )]\n",
    "\n",
    "fig.update_layout(\n",
    "        sliders=sliders\n",
    "    )"
   ]
  },
  {
   "cell_type": "code",
   "execution_count": null,
   "id": "309266b5-0ce7-4704-9821-74b969c2fddc",
   "metadata": {},
   "outputs": [],
   "source": []
  }
 ],
 "metadata": {
  "kernelspec": {
   "display_name": "asi12",
   "language": "python",
   "name": "asi12"
  },
  "language_info": {
   "codemirror_mode": {
    "name": "ipython",
    "version": 3
   },
   "file_extension": ".py",
   "mimetype": "text/x-python",
   "name": "python",
   "nbconvert_exporter": "python",
   "pygments_lexer": "ipython3",
   "version": "3.12.8"
  }
 },
 "nbformat": 4,
 "nbformat_minor": 5
}
